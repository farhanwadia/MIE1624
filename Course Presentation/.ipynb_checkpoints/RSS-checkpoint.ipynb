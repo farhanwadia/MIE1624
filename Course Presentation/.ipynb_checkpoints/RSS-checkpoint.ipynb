{
 "cells": [
  {
   "cell_type": "markdown",
   "metadata": {
    "colab_type": "text",
    "id": "view-in-github"
   },
   "source": [
    "<a href=\"https://colab.research.google.com/github/farhanwadia/MIE1624/blob/master/Course%20Presentation/RSS.ipynb\" target=\"_parent\"><img src=\"https://colab.research.google.com/assets/colab-badge.svg\" alt=\"Open In Colab\"/></a>"
   ]
  },
  {
   "cell_type": "markdown",
   "metadata": {
    "id": "BlJ95R6pGLJy"
   },
   "source": [
    "# Web Scraping with RSS Feeds\n",
    "\n",
    "Prepared by Group 14"
   ]
  },
  {
   "cell_type": "markdown",
   "metadata": {
    "id": "9ajIYc9PGdVh"
   },
   "source": [
    "The purpose of this notebook is to show how to scrape news articles from the RSS feeds of various news sources, and perform text processing techniques. This notebook can be accessed at https://github.com/farhanwadia/MIE1624/blob/master/Course%20Presentation/RSS.ipynb"
   ]
  },
  {
   "cell_type": "markdown",
   "metadata": {
    "id": "afBKHWEBGtra"
   },
   "source": [
    "## 1. Installation"
   ]
  },
  {
   "cell_type": "code",
   "execution_count": 1,
   "metadata": {
    "id": "vPbf5VVhlJI1"
   },
   "outputs": [],
   "source": [
    "# !git clone https://github.com/farhanwadia/MIE1624.git"
   ]
  },
  {
   "cell_type": "code",
   "execution_count": 2,
   "metadata": {
    "id": "8fU-LFYgqYmj"
   },
   "outputs": [],
   "source": [
    "# %cd MIE1624\n",
    "# %cd 'Course Presentation'"
   ]
  },
  {
   "cell_type": "code",
   "execution_count": 3,
   "metadata": {
    "id": "QCVxisDlnBNU"
   },
   "outputs": [],
   "source": [
    "# !ls"
   ]
  },
  {
   "cell_type": "code",
   "execution_count": 4,
   "metadata": {
    "colab": {
     "base_uri": "https://localhost:8080/"
    },
    "id": "PkXjAYSzocN8",
    "outputId": "6869a7e3-9edc-4075-dd96-ce20bede66cc"
   },
   "outputs": [
    {
     "name": "stdout",
     "output_type": "stream",
     "text": [
      "Collecting feedparser\n",
      "  Downloading feedparser-6.0.10-py3-none-any.whl (81 kB)\n",
      "\u001b[2K     \u001b[90m━━━━━━━━━━━━━━━━━━━━━━━━━━━━━━━━━━━━━━━━\u001b[0m \u001b[32m81.1/81.1 kB\u001b[0m \u001b[31m2.4 MB/s\u001b[0m eta \u001b[36m0:00:00\u001b[0m\n",
      "\u001b[?25hCollecting sgmllib3k\n",
      "  Downloading sgmllib3k-1.0.0.tar.gz (5.8 kB)\n",
      "  Preparing metadata (setup.py) ... \u001b[?25ldone\n",
      "\u001b[?25hBuilding wheels for collected packages: sgmllib3k\n",
      "  Building wheel for sgmllib3k (setup.py) ... \u001b[?25ldone\n",
      "\u001b[?25h  Created wheel for sgmllib3k: filename=sgmllib3k-1.0.0-py3-none-any.whl size=6065 sha256=8c3d4a1175cb160a05ed1774546aec727f3105f15b9957278de672b8111cd0a8\n",
      "  Stored in directory: /Users/dhairyaparmar/Library/Caches/pip/wheels/00/a1/4a/3aaa30857be3b96a4a11fccfa1336686def7d898b8be2509dd\n",
      "Successfully built sgmllib3k\n",
      "Installing collected packages: sgmllib3k, feedparser\n",
      "Successfully installed feedparser-6.0.10 sgmllib3k-1.0.0\n",
      "\n",
      "\u001b[1m[\u001b[0m\u001b[34;49mnotice\u001b[0m\u001b[1;39;49m]\u001b[0m\u001b[39;49m A new release of pip available: \u001b[0m\u001b[31;49m22.3.1\u001b[0m\u001b[39;49m -> \u001b[0m\u001b[32;49m23.0.1\u001b[0m\n",
      "\u001b[1m[\u001b[0m\u001b[34;49mnotice\u001b[0m\u001b[1;39;49m]\u001b[0m\u001b[39;49m To update, run: \u001b[0m\u001b[32;49mpip install --upgrade pip\u001b[0m\n",
      "Collecting newspaper3k\n",
      "  Downloading newspaper3k-0.2.8-py3-none-any.whl (211 kB)\n",
      "\u001b[2K     \u001b[90m━━━━━━━━━━━━━━━━━━━━━━━━━━━━━━━━━━━━━━━\u001b[0m \u001b[32m211.1/211.1 kB\u001b[0m \u001b[31m5.8 MB/s\u001b[0m eta \u001b[36m0:00:00\u001b[0m\n",
      "\u001b[?25hCollecting cssselect>=0.9.2\n",
      "  Downloading cssselect-1.2.0-py2.py3-none-any.whl (18 kB)\n",
      "Requirement already satisfied: Pillow>=3.3.0 in /Users/dhairyaparmar/anaconda3/lib/python3.9/site-packages (from newspaper3k) (8.4.0)\n",
      "Collecting tldextract>=2.0.1\n",
      "  Downloading tldextract-3.4.0-py3-none-any.whl (93 kB)\n",
      "\u001b[2K     \u001b[90m━━━━━━━━━━━━━━━━━━━━━━━━━━━━━━━━━━━━━━━━\u001b[0m \u001b[32m93.9/93.9 kB\u001b[0m \u001b[31m3.2 MB/s\u001b[0m eta \u001b[36m0:00:00\u001b[0m\n",
      "\u001b[?25hCollecting tinysegmenter==0.3\n",
      "  Downloading tinysegmenter-0.3.tar.gz (16 kB)\n",
      "  Preparing metadata (setup.py) ... \u001b[?25ldone\n",
      "\u001b[?25hRequirement already satisfied: PyYAML>=3.11 in /Users/dhairyaparmar/anaconda3/lib/python3.9/site-packages (from newspaper3k) (6.0)\n",
      "Requirement already satisfied: python-dateutil>=2.5.3 in /Users/dhairyaparmar/anaconda3/lib/python3.9/site-packages (from newspaper3k) (2.8.2)\n",
      "Requirement already satisfied: feedparser>=5.2.1 in /Users/dhairyaparmar/anaconda3/lib/python3.9/site-packages (from newspaper3k) (6.0.10)\n",
      "Collecting jieba3k>=0.35.1\n",
      "  Downloading jieba3k-0.35.1.zip (7.4 MB)\n",
      "\u001b[2K     \u001b[90m━━━━━━━━━━━━━━━━━━━━━━━━━━━━━━━━━━━━━━━━\u001b[0m \u001b[32m7.4/7.4 MB\u001b[0m \u001b[31m15.6 MB/s\u001b[0m eta \u001b[36m0:00:00\u001b[0m00:01\u001b[0m00:01\u001b[0m\n",
      "\u001b[?25h  Preparing metadata (setup.py) ... \u001b[?25ldone\n",
      "\u001b[?25hRequirement already satisfied: lxml>=3.6.0 in /Users/dhairyaparmar/anaconda3/lib/python3.9/site-packages (from newspaper3k) (4.9.2)\n",
      "Collecting feedfinder2>=0.0.4\n",
      "  Downloading feedfinder2-0.0.4.tar.gz (3.3 kB)\n",
      "  Preparing metadata (setup.py) ... \u001b[?25ldone\n",
      "\u001b[?25hRequirement already satisfied: nltk>=3.2.1 in /Users/dhairyaparmar/anaconda3/lib/python3.9/site-packages (from newspaper3k) (3.6.5)\n",
      "Requirement already satisfied: requests>=2.10.0 in /Users/dhairyaparmar/anaconda3/lib/python3.9/site-packages (from newspaper3k) (2.26.0)\n",
      "Requirement already satisfied: beautifulsoup4>=4.4.1 in /Users/dhairyaparmar/anaconda3/lib/python3.9/site-packages (from newspaper3k) (4.11.1)\n",
      "Requirement already satisfied: soupsieve>1.2 in /Users/dhairyaparmar/anaconda3/lib/python3.9/site-packages (from beautifulsoup4>=4.4.1->newspaper3k) (2.2.1)\n",
      "Requirement already satisfied: six in /Users/dhairyaparmar/anaconda3/lib/python3.9/site-packages (from feedfinder2>=0.0.4->newspaper3k) (1.16.0)\n",
      "Requirement already satisfied: sgmllib3k in /Users/dhairyaparmar/anaconda3/lib/python3.9/site-packages (from feedparser>=5.2.1->newspaper3k) (1.0.0)\n",
      "Requirement already satisfied: click in /Users/dhairyaparmar/anaconda3/lib/python3.9/site-packages (from nltk>=3.2.1->newspaper3k) (8.0.3)\n",
      "Requirement already satisfied: joblib in /Users/dhairyaparmar/anaconda3/lib/python3.9/site-packages (from nltk>=3.2.1->newspaper3k) (1.1.0)\n",
      "Requirement already satisfied: regex>=2021.8.3 in /Users/dhairyaparmar/anaconda3/lib/python3.9/site-packages (from nltk>=3.2.1->newspaper3k) (2021.8.3)\n",
      "Requirement already satisfied: tqdm in /Users/dhairyaparmar/anaconda3/lib/python3.9/site-packages (from nltk>=3.2.1->newspaper3k) (4.62.3)\n",
      "Requirement already satisfied: charset-normalizer~=2.0.0 in /Users/dhairyaparmar/anaconda3/lib/python3.9/site-packages (from requests>=2.10.0->newspaper3k) (2.0.4)\n",
      "Requirement already satisfied: certifi>=2017.4.17 in /Users/dhairyaparmar/anaconda3/lib/python3.9/site-packages (from requests>=2.10.0->newspaper3k) (2021.10.8)\n",
      "Requirement already satisfied: idna<4,>=2.5 in /Users/dhairyaparmar/anaconda3/lib/python3.9/site-packages (from requests>=2.10.0->newspaper3k) (3.2)\n",
      "Requirement already satisfied: urllib3<1.27,>=1.21.1 in /Users/dhairyaparmar/anaconda3/lib/python3.9/site-packages (from requests>=2.10.0->newspaper3k) (1.26.7)\n",
      "Collecting requests-file>=1.4\n",
      "  Downloading requests_file-1.5.1-py2.py3-none-any.whl (3.7 kB)\n",
      "Requirement already satisfied: filelock>=3.0.8 in /Users/dhairyaparmar/anaconda3/lib/python3.9/site-packages (from tldextract>=2.0.1->newspaper3k) (3.3.1)\n",
      "Building wheels for collected packages: tinysegmenter, feedfinder2, jieba3k\n",
      "  Building wheel for tinysegmenter (setup.py) ... \u001b[?25ldone\n",
      "\u001b[?25h  Created wheel for tinysegmenter: filename=tinysegmenter-0.3-py3-none-any.whl size=13552 sha256=9f3cad91f12f0eb17e557582f2aeb4a78b377ee1446db0c17cb19a150e48ef5e\n",
      "  Stored in directory: /Users/dhairyaparmar/Library/Caches/pip/wheels/e9/bd/bc/775f8c348e77199b81c54f0eae203ec3328c3ff6678199af53\n",
      "  Building wheel for feedfinder2 (setup.py) ... \u001b[?25ldone\n",
      "\u001b[?25h  Created wheel for feedfinder2: filename=feedfinder2-0.0.4-py3-none-any.whl size=3356 sha256=d04adb9836e679fa8d3e8207d98fc4811d8a3d888ceefc3eb2d997a9021e09a2\n",
      "  Stored in directory: /Users/dhairyaparmar/Library/Caches/pip/wheels/c4/ef/21/80dce75dfac58c5d3afbbd56093cd9aaf16aebacea63ed478e\n",
      "  Building wheel for jieba3k (setup.py) ... \u001b[?25ldone\n",
      "\u001b[?25h  Created wheel for jieba3k: filename=jieba3k-0.35.1-py3-none-any.whl size=7398405 sha256=8f9393007244f9a3cebc484b1f9402a6654138b2dbbffd77abb9de4f75d3840a\n",
      "  Stored in directory: /Users/dhairyaparmar/Library/Caches/pip/wheels/7e/90/13/9595f17d4f8a6ce036a2fc15457a3d99642b2e16886f161d43\n",
      "Successfully built tinysegmenter feedfinder2 jieba3k\n",
      "Installing collected packages: tinysegmenter, jieba3k, cssselect, requests-file, feedfinder2, tldextract, newspaper3k\n",
      "Successfully installed cssselect-1.2.0 feedfinder2-0.0.4 jieba3k-0.35.1 newspaper3k-0.2.8 requests-file-1.5.1 tinysegmenter-0.3 tldextract-3.4.0\n",
      "\n",
      "\u001b[1m[\u001b[0m\u001b[34;49mnotice\u001b[0m\u001b[1;39;49m]\u001b[0m\u001b[39;49m A new release of pip available: \u001b[0m\u001b[31;49m22.3.1\u001b[0m\u001b[39;49m -> \u001b[0m\u001b[32;49m23.0.1\u001b[0m\n",
      "\u001b[1m[\u001b[0m\u001b[34;49mnotice\u001b[0m\u001b[1;39;49m]\u001b[0m\u001b[39;49m To update, run: \u001b[0m\u001b[32;49mpip install --upgrade pip\u001b[0m\n"
     ]
    }
   ],
   "source": [
    "!pip install feedparser\n",
    "!pip install newspaper3k"
   ]
  },
  {
   "cell_type": "markdown",
   "metadata": {
    "id": "cpvppjDLHGbK"
   },
   "source": [
    "## 2. Working with RSS Feeds"
   ]
  },
  {
   "cell_type": "markdown",
   "metadata": {
    "id": "jzkNAHj7IyP6"
   },
   "source": [
    "### New York Times"
   ]
  },
  {
   "cell_type": "markdown",
   "metadata": {
    "id": "JpFeGBqBn0eq"
   },
   "source": [
    "A list of all RSS feeds from the New York Times can be accessed at https://www.nytimes.com/rss.\n",
    "\n",
    "Let's use the World feed from https://rss.nytimes.com/services/xml/rss/nyt/World.xml as an example:"
   ]
  },
  {
   "cell_type": "markdown",
   "metadata": {
    "id": "v-nM_TMvHhiZ"
   },
   "source": [
    "#### Form the dataframe"
   ]
  },
  {
   "cell_type": "code",
   "execution_count": 5,
   "metadata": {
    "id": "ghRi7Db3obkC"
   },
   "outputs": [],
   "source": [
    "import feedparser\n",
    "\n",
    "d = feedparser.parse('https://rss.nytimes.com/services/xml/rss/nyt/World.xml')"
   ]
  },
  {
   "cell_type": "code",
   "execution_count": 6,
   "metadata": {
    "colab": {
     "base_uri": "https://localhost:8080/"
    },
    "id": "u8cuEPVdABx9",
    "outputId": "5b2bbc33-f7a4-40eb-d00a-62cd3e07dadd"
   },
   "outputs": [
    {
     "name": "stdout",
     "output_type": "stream",
     "text": [
      "['title', 'title_detail', 'links', 'link', 'id', 'guidislink', 'summary', 'summary_detail', 'authors', 'author', 'author_detail', 'published', 'published_parsed', 'tags']\n"
     ]
    }
   ],
   "source": [
    "# Get a list of all possible fields from the RSS\n",
    "all_fields = []\n",
    "for field in d.entries[0]:\n",
    "    all_fields.append(field)\n",
    "\n",
    "print(all_fields)"
   ]
  },
  {
   "cell_type": "code",
   "execution_count": 7,
   "metadata": {
    "id": "M4EwL-JFBahF"
   },
   "outputs": [],
   "source": [
    "# Define the fields of interest that we want to obtain from the RSS\n",
    "fields = ['title', 'published', 'summary', 'author', 'link']"
   ]
  },
  {
   "cell_type": "code",
   "execution_count": 8,
   "metadata": {
    "id": "TEM6wHwXCKeO"
   },
   "outputs": [],
   "source": [
    "import pandas as pd\n",
    "\n",
    "# Create a list of lists to hold the required RSS data from each entry\n",
    "data = []\n",
    "for i, entry in enumerate(d.entries):\n",
    "    row = []\n",
    "    for field in fields:\n",
    "        row.append(d.entries[i][field])\n",
    "    data.append(row)\n",
    "\n",
    "# Convert the list of lists to a df\n",
    "df = pd.DataFrame(data, columns = fields)"
   ]
  },
  {
   "cell_type": "code",
   "execution_count": 9,
   "metadata": {
    "colab": {
     "base_uri": "https://localhost:8080/",
     "height": 337
    },
    "id": "D8yamIhIC2M2",
    "outputId": "43d87d95-f92a-4d6c-fcf4-73b0b338f2a6"
   },
   "outputs": [
    {
     "data": {
      "text/html": [
       "<div>\n",
       "<style scoped>\n",
       "    .dataframe tbody tr th:only-of-type {\n",
       "        vertical-align: middle;\n",
       "    }\n",
       "\n",
       "    .dataframe tbody tr th {\n",
       "        vertical-align: top;\n",
       "    }\n",
       "\n",
       "    .dataframe thead th {\n",
       "        text-align: right;\n",
       "    }\n",
       "</style>\n",
       "<table border=\"1\" class=\"dataframe\">\n",
       "  <thead>\n",
       "    <tr style=\"text-align: right;\">\n",
       "      <th></th>\n",
       "      <th>title</th>\n",
       "      <th>published</th>\n",
       "      <th>summary</th>\n",
       "      <th>author</th>\n",
       "      <th>link</th>\n",
       "    </tr>\n",
       "  </thead>\n",
       "  <tbody>\n",
       "    <tr>\n",
       "      <th>0</th>\n",
       "      <td>Whirring Into Action in Ukraine’s Skies</td>\n",
       "      <td>Sat, 04 Mar 2023 16:55:04 +0000</td>\n",
       "      <td>Against the odds, Ukraine’s helicopter brigade...</td>\n",
       "      <td>Carlotta Gall and Daniel Berehulak</td>\n",
       "      <td>https://www.nytimes.com/2023/03/04/world/europ...</td>\n",
       "    </tr>\n",
       "    <tr>\n",
       "      <th>1</th>\n",
       "      <td>They Shared Erotic Images in a Group Chat. The...</td>\n",
       "      <td>Sat, 04 Mar 2023 18:55:16 +0000</td>\n",
       "      <td>A couple in Singapore created a Telegram accou...</td>\n",
       "      <td>Sui-Lee Wee</td>\n",
       "      <td>https://www.nytimes.com/2023/03/04/world/asia/...</td>\n",
       "    </tr>\n",
       "    <tr>\n",
       "      <th>2</th>\n",
       "      <td>In West Bank, New Armed Groups Emerge, and Dor...</td>\n",
       "      <td>Sat, 04 Mar 2023 15:33:25 +0000</td>\n",
       "      <td>The small but influential Lions’ Den network h...</td>\n",
       "      <td>Patrick Kingsley and Hiba Yazbek</td>\n",
       "      <td>https://www.nytimes.com/2023/03/04/world/middl...</td>\n",
       "    </tr>\n",
       "    <tr>\n",
       "      <th>3</th>\n",
       "      <td>A Massacre That Rippled Through Generations in...</td>\n",
       "      <td>Sat, 04 Mar 2023 13:35:31 +0000</td>\n",
       "      <td>For the parents and the grandparents of the ch...</td>\n",
       "      <td>Ryn Jirenuwat and Sui-Lee Wee</td>\n",
       "      <td>https://www.nytimes.com/2023/03/04/world/asia/...</td>\n",
       "    </tr>\n",
       "    <tr>\n",
       "      <th>4</th>\n",
       "      <td>The Woman Shaking Up Italian Politics (No, Not...</td>\n",
       "      <td>Sat, 04 Mar 2023 08:00:11 +0000</td>\n",
       "      <td>Daughter of Italian and Jewish American parent...</td>\n",
       "      <td>Jason Horowitz</td>\n",
       "      <td>https://www.nytimes.com/2023/03/04/world/europ...</td>\n",
       "    </tr>\n",
       "  </tbody>\n",
       "</table>\n",
       "</div>"
      ],
      "text/plain": [
       "                                               title  \\\n",
       "0            Whirring Into Action in Ukraine’s Skies   \n",
       "1  They Shared Erotic Images in a Group Chat. The...   \n",
       "2  In West Bank, New Armed Groups Emerge, and Dor...   \n",
       "3  A Massacre That Rippled Through Generations in...   \n",
       "4  The Woman Shaking Up Italian Politics (No, Not...   \n",
       "\n",
       "                         published  \\\n",
       "0  Sat, 04 Mar 2023 16:55:04 +0000   \n",
       "1  Sat, 04 Mar 2023 18:55:16 +0000   \n",
       "2  Sat, 04 Mar 2023 15:33:25 +0000   \n",
       "3  Sat, 04 Mar 2023 13:35:31 +0000   \n",
       "4  Sat, 04 Mar 2023 08:00:11 +0000   \n",
       "\n",
       "                                             summary  \\\n",
       "0  Against the odds, Ukraine’s helicopter brigade...   \n",
       "1  A couple in Singapore created a Telegram accou...   \n",
       "2  The small but influential Lions’ Den network h...   \n",
       "3  For the parents and the grandparents of the ch...   \n",
       "4  Daughter of Italian and Jewish American parent...   \n",
       "\n",
       "                               author  \\\n",
       "0  Carlotta Gall and Daniel Berehulak   \n",
       "1                         Sui-Lee Wee   \n",
       "2    Patrick Kingsley and Hiba Yazbek   \n",
       "3       Ryn Jirenuwat and Sui-Lee Wee   \n",
       "4                      Jason Horowitz   \n",
       "\n",
       "                                                link  \n",
       "0  https://www.nytimes.com/2023/03/04/world/europ...  \n",
       "1  https://www.nytimes.com/2023/03/04/world/asia/...  \n",
       "2  https://www.nytimes.com/2023/03/04/world/middl...  \n",
       "3  https://www.nytimes.com/2023/03/04/world/asia/...  \n",
       "4  https://www.nytimes.com/2023/03/04/world/europ...  "
      ]
     },
     "execution_count": 9,
     "metadata": {},
     "output_type": "execute_result"
    }
   ],
   "source": [
    "df.head()"
   ]
  },
  {
   "cell_type": "code",
   "execution_count": 10,
   "metadata": {
    "colab": {
     "base_uri": "https://localhost:8080/"
    },
    "id": "TarmjPabDaSO",
    "outputId": "0ec8dc66-7a3d-4204-cbdc-3486e7b7c83e"
   },
   "outputs": [
    {
     "name": "stdout",
     "output_type": "stream",
     "text": [
      "The shape of the dataframe is (61, 5)\n"
     ]
    }
   ],
   "source": [
    "print(\"The shape of the dataframe is\", df.shape)"
   ]
  },
  {
   "cell_type": "markdown",
   "metadata": {
    "id": "nwEL8O2xZtU1"
   },
   "source": [
    "#### Add full texts for the corresponding articles to the dataframe"
   ]
  },
  {
   "cell_type": "code",
   "execution_count": 11,
   "metadata": {
    "colab": {
     "base_uri": "https://localhost:8080/"
    },
    "id": "15GxUmL6bByw",
    "outputId": "ea2f6068-7e9b-4f8c-eb90-546b3296eae9"
   },
   "outputs": [
    {
     "name": "stderr",
     "output_type": "stream",
     "text": [
      "[nltk_data] Downloading package punkt to\n",
      "[nltk_data]     /Users/dhairyaparmar/nltk_data...\n",
      "[nltk_data]   Unzipping tokenizers/punkt.zip.\n"
     ]
    },
    {
     "data": {
      "text/plain": [
       "True"
      ]
     },
     "execution_count": 11,
     "metadata": {},
     "output_type": "execute_result"
    }
   ],
   "source": [
    "import nltk\n",
    "nltk.download('punkt')"
   ]
  },
  {
   "cell_type": "code",
   "execution_count": 12,
   "metadata": {
    "id": "cpntE-BcZ3QU"
   },
   "outputs": [],
   "source": [
    "from newspaper import Article\n",
    "\n",
    "links = df[\"link\"]\n",
    "\n",
    "article_text_dict = {}\n",
    "for link in links:\n",
    "  article = Article(link)\n",
    "  article.download()\n",
    "  article.parse()\n",
    "  article.nlp()\n",
    "  article_text_dict[link] = article.text\n",
    "  \n",
    "df['text'] = list(article_text_dict.values())"
   ]
  },
  {
   "cell_type": "code",
   "execution_count": 13,
   "metadata": {
    "colab": {
     "base_uri": "https://localhost:8080/",
     "height": 354
    },
    "id": "Tkabh3qca9Ud",
    "outputId": "456f1035-85ec-486b-e105-bd5e9fbe0a61"
   },
   "outputs": [
    {
     "data": {
      "text/html": [
       "<div>\n",
       "<style scoped>\n",
       "    .dataframe tbody tr th:only-of-type {\n",
       "        vertical-align: middle;\n",
       "    }\n",
       "\n",
       "    .dataframe tbody tr th {\n",
       "        vertical-align: top;\n",
       "    }\n",
       "\n",
       "    .dataframe thead th {\n",
       "        text-align: right;\n",
       "    }\n",
       "</style>\n",
       "<table border=\"1\" class=\"dataframe\">\n",
       "  <thead>\n",
       "    <tr style=\"text-align: right;\">\n",
       "      <th></th>\n",
       "      <th>title</th>\n",
       "      <th>published</th>\n",
       "      <th>summary</th>\n",
       "      <th>author</th>\n",
       "      <th>link</th>\n",
       "      <th>text</th>\n",
       "    </tr>\n",
       "  </thead>\n",
       "  <tbody>\n",
       "    <tr>\n",
       "      <th>0</th>\n",
       "      <td>Whirring Into Action in Ukraine’s Skies</td>\n",
       "      <td>Sat, 04 Mar 2023 16:55:04 +0000</td>\n",
       "      <td>Against the odds, Ukraine’s helicopter brigade...</td>\n",
       "      <td>Carlotta Gall and Daniel Berehulak</td>\n",
       "      <td>https://www.nytimes.com/2023/03/04/world/europ...</td>\n",
       "      <td>On a snowbound field, three Soviet-era helicop...</td>\n",
       "    </tr>\n",
       "    <tr>\n",
       "      <th>1</th>\n",
       "      <td>They Shared Erotic Images in a Group Chat. The...</td>\n",
       "      <td>Sat, 04 Mar 2023 18:55:16 +0000</td>\n",
       "      <td>A couple in Singapore created a Telegram accou...</td>\n",
       "      <td>Sui-Lee Wee</td>\n",
       "      <td>https://www.nytimes.com/2023/03/04/world/asia/...</td>\n",
       "      <td>The video shows the woman in a spaghetti strap...</td>\n",
       "    </tr>\n",
       "    <tr>\n",
       "      <th>2</th>\n",
       "      <td>In West Bank, New Armed Groups Emerge, and Dor...</td>\n",
       "      <td>Sat, 04 Mar 2023 15:33:25 +0000</td>\n",
       "      <td>The small but influential Lions’ Den network h...</td>\n",
       "      <td>Patrick Kingsley and Hiba Yazbek</td>\n",
       "      <td>https://www.nytimes.com/2023/03/04/world/middl...</td>\n",
       "      <td>After a violent uprising by Palestinians again...</td>\n",
       "    </tr>\n",
       "    <tr>\n",
       "      <th>3</th>\n",
       "      <td>A Massacre That Rippled Through Generations in...</td>\n",
       "      <td>Sat, 04 Mar 2023 13:35:31 +0000</td>\n",
       "      <td>For the parents and the grandparents of the ch...</td>\n",
       "      <td>Ryn Jirenuwat and Sui-Lee Wee</td>\n",
       "      <td>https://www.nytimes.com/2023/03/04/world/asia/...</td>\n",
       "      <td>When a former police officer in rural Thailand...</td>\n",
       "    </tr>\n",
       "    <tr>\n",
       "      <th>4</th>\n",
       "      <td>The Woman Shaking Up Italian Politics (No, Not...</td>\n",
       "      <td>Sat, 04 Mar 2023 08:00:11 +0000</td>\n",
       "      <td>Daughter of Italian and Jewish American parent...</td>\n",
       "      <td>Jason Horowitz</td>\n",
       "      <td>https://www.nytimes.com/2023/03/04/world/europ...</td>\n",
       "      <td>ROME — Growing up in Switzerland, Elly Schlein...</td>\n",
       "    </tr>\n",
       "  </tbody>\n",
       "</table>\n",
       "</div>"
      ],
      "text/plain": [
       "                                               title  \\\n",
       "0            Whirring Into Action in Ukraine’s Skies   \n",
       "1  They Shared Erotic Images in a Group Chat. The...   \n",
       "2  In West Bank, New Armed Groups Emerge, and Dor...   \n",
       "3  A Massacre That Rippled Through Generations in...   \n",
       "4  The Woman Shaking Up Italian Politics (No, Not...   \n",
       "\n",
       "                         published  \\\n",
       "0  Sat, 04 Mar 2023 16:55:04 +0000   \n",
       "1  Sat, 04 Mar 2023 18:55:16 +0000   \n",
       "2  Sat, 04 Mar 2023 15:33:25 +0000   \n",
       "3  Sat, 04 Mar 2023 13:35:31 +0000   \n",
       "4  Sat, 04 Mar 2023 08:00:11 +0000   \n",
       "\n",
       "                                             summary  \\\n",
       "0  Against the odds, Ukraine’s helicopter brigade...   \n",
       "1  A couple in Singapore created a Telegram accou...   \n",
       "2  The small but influential Lions’ Den network h...   \n",
       "3  For the parents and the grandparents of the ch...   \n",
       "4  Daughter of Italian and Jewish American parent...   \n",
       "\n",
       "                               author  \\\n",
       "0  Carlotta Gall and Daniel Berehulak   \n",
       "1                         Sui-Lee Wee   \n",
       "2    Patrick Kingsley and Hiba Yazbek   \n",
       "3       Ryn Jirenuwat and Sui-Lee Wee   \n",
       "4                      Jason Horowitz   \n",
       "\n",
       "                                                link  \\\n",
       "0  https://www.nytimes.com/2023/03/04/world/europ...   \n",
       "1  https://www.nytimes.com/2023/03/04/world/asia/...   \n",
       "2  https://www.nytimes.com/2023/03/04/world/middl...   \n",
       "3  https://www.nytimes.com/2023/03/04/world/asia/...   \n",
       "4  https://www.nytimes.com/2023/03/04/world/europ...   \n",
       "\n",
       "                                                text  \n",
       "0  On a snowbound field, three Soviet-era helicop...  \n",
       "1  The video shows the woman in a spaghetti strap...  \n",
       "2  After a violent uprising by Palestinians again...  \n",
       "3  When a former police officer in rural Thailand...  \n",
       "4  ROME — Growing up in Switzerland, Elly Schlein...  "
      ]
     },
     "execution_count": 13,
     "metadata": {},
     "output_type": "execute_result"
    }
   ],
   "source": [
    "df.head()"
   ]
  },
  {
   "cell_type": "code",
   "execution_count": 14,
   "metadata": {
    "id": "AmEL9DywITbT"
   },
   "outputs": [],
   "source": [
    "df.to_csv(\"new_york_times.csv\", encoding='utf-8', index=False)"
   ]
  },
  {
   "cell_type": "markdown",
   "metadata": {
    "id": "790zR5n3I17x"
   },
   "source": [
    "### Toronto Star"
   ]
  },
  {
   "cell_type": "markdown",
   "metadata": {
    "id": "z7cVdObbI5SJ"
   },
   "source": [
    "#### Function Development\n",
    "Create a function to assist with the scraping process"
   ]
  },
  {
   "cell_type": "code",
   "execution_count": 15,
   "metadata": {
    "id": "ceaIjELaI9YB"
   },
   "outputs": [],
   "source": [
    "def print_RSS_fields(rss_link):\n",
    "    \n",
    "    d = feedparser.parse(rss_link)\n",
    "\n",
    "    all_fields = []\n",
    "    for field in d.entries[0]:\n",
    "        all_fields.append(field)\n",
    "    print(all_fields)\n",
    "\n",
    "def df_from_RSS(rss_link, fields):\n",
    "    \n",
    "    d = feedparser.parse(rss_link)\n",
    "    \n",
    "    # Create a list of lists to hold the required RSS data from each entry\n",
    "    data = []\n",
    "    for i, entry in enumerate(d.entries):\n",
    "        row = []\n",
    "        for field in fields:\n",
    "            row.append(d.entries[i][field])\n",
    "        data.append(row)\n",
    "\n",
    "    # Convert the list of lists to a df\n",
    "    df = pd.DataFrame(data, columns = fields)\n",
    "\n",
    "    links = df[\"link\"]\n",
    "\n",
    "    article_text_dict = {}\n",
    "    for link in links:\n",
    "        article = Article(link)\n",
    "        article.download()\n",
    "        article.parse()\n",
    "        article.nlp()\n",
    "        article_text_dict[link] = article.text\n",
    "    \n",
    "    df['text'] = list(article_text_dict.values())\n",
    "\n",
    "    return df"
   ]
  },
  {
   "cell_type": "markdown",
   "metadata": {
    "id": "93GYkwB2LVSq"
   },
   "source": [
    "A list of RSS feeds for the Toronto Star can be found here: https://www.thestar.com/about/rssfeeds.html\n",
    "\n",
    "Let's use the Top Stories RSS feed."
   ]
  },
  {
   "cell_type": "code",
   "execution_count": 16,
   "metadata": {
    "colab": {
     "base_uri": "https://localhost:8080/"
    },
    "id": "32dR0Pp-MzSK",
    "outputId": "27b73f34-7d70-4102-e242-0cfdd7dc32cf"
   },
   "outputs": [
    {
     "name": "stdout",
     "output_type": "stream",
     "text": [
      "['title', 'title_detail', 'links', 'link', 'id', 'guidislink', 'authors', 'author', 'author_detail', 'published', 'published_parsed', 'summary', 'summary_detail', 'media_content', 'media_thumbnail', 'href', 'content', 'media_credit', 'credit']\n"
     ]
    }
   ],
   "source": [
    "print_RSS_fields('https://www.thestar.com/content/thestar/feed.RSSManagerServlet.articles.topstories.rss')"
   ]
  },
  {
   "cell_type": "code",
   "execution_count": 17,
   "metadata": {
    "colab": {
     "base_uri": "https://localhost:8080/",
     "height": 337
    },
    "id": "S0lgrgZ0JnSq",
    "outputId": "45dbab4f-b036-4553-f3f6-ea36628e120e"
   },
   "outputs": [
    {
     "data": {
      "text/html": [
       "<div>\n",
       "<style scoped>\n",
       "    .dataframe tbody tr th:only-of-type {\n",
       "        vertical-align: middle;\n",
       "    }\n",
       "\n",
       "    .dataframe tbody tr th {\n",
       "        vertical-align: top;\n",
       "    }\n",
       "\n",
       "    .dataframe thead th {\n",
       "        text-align: right;\n",
       "    }\n",
       "</style>\n",
       "<table border=\"1\" class=\"dataframe\">\n",
       "  <thead>\n",
       "    <tr style=\"text-align: right;\">\n",
       "      <th></th>\n",
       "      <th>title</th>\n",
       "      <th>published</th>\n",
       "      <th>author</th>\n",
       "      <th>link</th>\n",
       "      <th>text</th>\n",
       "    </tr>\n",
       "  </thead>\n",
       "  <tbody>\n",
       "    <tr>\n",
       "      <th>0</th>\n",
       "      <td>Toronto to ban parking on major snow routes as...</td>\n",
       "      <td>Sat, 4 Mar 2023 10:02:00 EST</td>\n",
       "      <td>Jennifer Pagliaro - Crime Reporter</td>\n",
       "      <td>https://www.thestar.com/news/gta/2023/03/04/to...</td>\n",
       "      <td>Toronto crews are working to dig out the city ...</td>\n",
       "    </tr>\n",
       "    <tr>\n",
       "      <th>1</th>\n",
       "      <td>Winter storm updates: Toronto declares ‘major ...</td>\n",
       "      <td>Sat, 4 Mar 2023 07:27:00 EST</td>\n",
       "      <td>Star staff</td>\n",
       "      <td>https://www.thestar.com/news/gta/2023/03/04/wi...</td>\n",
       "      <td>KEY FACTS Snow removal process to go into next...</td>\n",
       "    </tr>\n",
       "    <tr>\n",
       "      <th>2</th>\n",
       "      <td>What will the weather be like this spring? Ont...</td>\n",
       "      <td>Fri, 3 Mar 2023 11:09:31 EST</td>\n",
       "      <td>Joshua Chong - Staff Reporter</td>\n",
       "      <td>https://www.thestar.com/news/gta/2023/03/03/wh...</td>\n",
       "      <td>As southern Ontario braces for yet another sno...</td>\n",
       "    </tr>\n",
       "    <tr>\n",
       "      <th>3</th>\n",
       "      <td>‘Gotta love nature.’ Toronto residents react t...</td>\n",
       "      <td>Sat, 4 Mar 2023 07:56:00 EST</td>\n",
       "      <td>Thea Gribilas - Staff Reporter</td>\n",
       "      <td>https://www.thestar.com/news/gta/2023/03/04/go...</td>\n",
       "      <td>As Toronto was dumped with 20 to 30 cm of snow...</td>\n",
       "    </tr>\n",
       "    <tr>\n",
       "      <th>4</th>\n",
       "      <td>Why this town is ground zero of Canada’s risin...</td>\n",
       "      <td>Sat, 4 Mar 2023 06:00:00 EST</td>\n",
       "      <td>May Warren - Housing Reporter</td>\n",
       "      <td>https://www.thestar.com/news/gta/2023/03/04/wh...</td>\n",
       "      <td>Turning down a yet-to-be-paved road, local cou...</td>\n",
       "    </tr>\n",
       "  </tbody>\n",
       "</table>\n",
       "</div>"
      ],
      "text/plain": [
       "                                               title  \\\n",
       "0  Toronto to ban parking on major snow routes as...   \n",
       "1  Winter storm updates: Toronto declares ‘major ...   \n",
       "2  What will the weather be like this spring? Ont...   \n",
       "3  ‘Gotta love nature.’ Toronto residents react t...   \n",
       "4  Why this town is ground zero of Canada’s risin...   \n",
       "\n",
       "                      published                              author  \\\n",
       "0  Sat, 4 Mar 2023 10:02:00 EST  Jennifer Pagliaro - Crime Reporter   \n",
       "1  Sat, 4 Mar 2023 07:27:00 EST                          Star staff   \n",
       "2  Fri, 3 Mar 2023 11:09:31 EST       Joshua Chong - Staff Reporter   \n",
       "3  Sat, 4 Mar 2023 07:56:00 EST      Thea Gribilas - Staff Reporter   \n",
       "4  Sat, 4 Mar 2023 06:00:00 EST       May Warren - Housing Reporter   \n",
       "\n",
       "                                                link  \\\n",
       "0  https://www.thestar.com/news/gta/2023/03/04/to...   \n",
       "1  https://www.thestar.com/news/gta/2023/03/04/wi...   \n",
       "2  https://www.thestar.com/news/gta/2023/03/03/wh...   \n",
       "3  https://www.thestar.com/news/gta/2023/03/04/go...   \n",
       "4  https://www.thestar.com/news/gta/2023/03/04/wh...   \n",
       "\n",
       "                                                text  \n",
       "0  Toronto crews are working to dig out the city ...  \n",
       "1  KEY FACTS Snow removal process to go into next...  \n",
       "2  As southern Ontario braces for yet another sno...  \n",
       "3  As Toronto was dumped with 20 to 30 cm of snow...  \n",
       "4  Turning down a yet-to-be-paved road, local cou...  "
      ]
     },
     "execution_count": 17,
     "metadata": {},
     "output_type": "execute_result"
    }
   ],
   "source": [
    "fields = ['title', 'published', 'author', 'link']\n",
    "\n",
    "df = df_from_RSS('https://www.thestar.com/content/thestar/feed.RSSManagerServlet.articles.topstories.rss', fields)\n",
    "\n",
    "df.head()"
   ]
  },
  {
   "cell_type": "code",
   "execution_count": 18,
   "metadata": {
    "id": "ysphkXWCLBMd"
   },
   "outputs": [],
   "source": [
    "df.to_csv(\"toronto_star.csv\", encoding='utf-8', index=False)"
   ]
  },
  {
   "cell_type": "markdown",
   "metadata": {
    "id": "uM9VGfkqLLMK"
   },
   "source": [
    "### Le Devoir"
   ]
  },
  {
   "cell_type": "markdown",
   "metadata": {
    "id": "PuWOBLUILiYK"
   },
   "source": [
    "A list of RSS feeds for Le Devoir can be found here: https://www.ledevoir.com/flux-rss\n",
    "\n",
    "Let's use the World (le Monde) RSS feed."
   ]
  },
  {
   "cell_type": "code",
   "execution_count": 19,
   "metadata": {
    "colab": {
     "base_uri": "https://localhost:8080/"
    },
    "id": "Vo6mYJV6MopS",
    "outputId": "4f3be029-28b4-45cc-a2cd-95f2c8c2cb5b"
   },
   "outputs": [
    {
     "name": "stdout",
     "output_type": "stream",
     "text": [
      "['surtitle', 'title', 'title_detail', 'published', 'published_parsed', 'links', 'link', 'id', 'guidislink', 'tags', 'summary', 'summary_detail', 'authors', 'author', 'author_detail']\n"
     ]
    }
   ],
   "source": [
    "print_RSS_fields('https://www.ledevoir.com/rss/section/monde.xml?id=76')"
   ]
  },
  {
   "cell_type": "code",
   "execution_count": 20,
   "metadata": {
    "colab": {
     "base_uri": "https://localhost:8080/",
     "height": 337
    },
    "id": "Etk7Mpf2LOKb",
    "outputId": "9e706ef1-6c3f-466d-82f4-8b3388dfa0fc"
   },
   "outputs": [
    {
     "data": {
      "text/html": [
       "<div>\n",
       "<style scoped>\n",
       "    .dataframe tbody tr th:only-of-type {\n",
       "        vertical-align: middle;\n",
       "    }\n",
       "\n",
       "    .dataframe tbody tr th {\n",
       "        vertical-align: top;\n",
       "    }\n",
       "\n",
       "    .dataframe thead th {\n",
       "        text-align: right;\n",
       "    }\n",
       "</style>\n",
       "<table border=\"1\" class=\"dataframe\">\n",
       "  <thead>\n",
       "    <tr style=\"text-align: right;\">\n",
       "      <th></th>\n",
       "      <th>title</th>\n",
       "      <th>published</th>\n",
       "      <th>author</th>\n",
       "      <th>link</th>\n",
       "      <th>text</th>\n",
       "    </tr>\n",
       "  </thead>\n",
       "  <tbody>\n",
       "    <tr>\n",
       "      <th>0</th>\n",
       "      <td>Des histoires de sécheresse</td>\n",
       "      <td>Sat, 04 Mar 2023 15:15:23 -0500</td>\n",
       "      <td>aprovost@ledevoir.com (Anne-Marie Provost)</td>\n",
       "      <td>https://www.ledevoir.com/monde/afrique/784006/...</td>\n",
       "      <td>6 Shake Guyo, 72 ans, Malabot | Les éleveurs p...</td>\n",
       "    </tr>\n",
       "    <tr>\n",
       "      <th>1</th>\n",
       "      <td>Dernière ligne droite pour éviter un naufrage ...</td>\n",
       "      <td>Sat, 04 Mar 2023 15:01:55 -0500</td>\n",
       "      <td>webmestre@ledevoir.com (Amélie Bottollier-Depois)</td>\n",
       "      <td>https://www.ledevoir.com/monde/784115/-dernier...</td>\n",
       "      <td>Les États membres de l’ONU tentaient toujours ...</td>\n",
       "    </tr>\n",
       "    <tr>\n",
       "      <th>2</th>\n",
       "      <td>Le Canada interpellé alors que le nombre de ré...</td>\n",
       "      <td>Sat, 04 Mar 2023 12:29:47 -0500</td>\n",
       "      <td>webmestre@ledevoir.com (Dylan Robertson)</td>\n",
       "      <td>https://www.ledevoir.com/monde/784107/-le-cana...</td>\n",
       "      <td>Les Nations Unies se préparent à une nouvelle ...</td>\n",
       "    </tr>\n",
       "    <tr>\n",
       "      <th>3</th>\n",
       "      <td>Combats acharnés à Bakhmout, visite du ministr...</td>\n",
       "      <td>Sat, 04 Mar 2023 10:33:26 -0500</td>\n",
       "      <td>webmestre@ledevoir.com (Agence France-Presse)</td>\n",
       "      <td>https://www.ledevoir.com/monde/europe/784100/-...</td>\n",
       "      <td>Le ministre russe de la Défense a mené une ins...</td>\n",
       "    </tr>\n",
       "    <tr>\n",
       "      <th>4</th>\n",
       "      <td>La solidarité de l’OTAN mise à l’épreuve</td>\n",
       "      <td>Sat, 04 Mar 2023 04:09:41 -0500</td>\n",
       "      <td>mvastel@ledevoir.com (Marie Vastel)</td>\n",
       "      <td>https://www.ledevoir.com/monde/784053/un-an-de...</td>\n",
       "      <td>Un an après que la Russie a lancé son invasion...</td>\n",
       "    </tr>\n",
       "  </tbody>\n",
       "</table>\n",
       "</div>"
      ],
      "text/plain": [
       "                                               title  \\\n",
       "0                        Des histoires de sécheresse   \n",
       "1  Dernière ligne droite pour éviter un naufrage ...   \n",
       "2  Le Canada interpellé alors que le nombre de ré...   \n",
       "3  Combats acharnés à Bakhmout, visite du ministr...   \n",
       "4           La solidarité de l’OTAN mise à l’épreuve   \n",
       "\n",
       "                         published  \\\n",
       "0  Sat, 04 Mar 2023 15:15:23 -0500   \n",
       "1  Sat, 04 Mar 2023 15:01:55 -0500   \n",
       "2  Sat, 04 Mar 2023 12:29:47 -0500   \n",
       "3  Sat, 04 Mar 2023 10:33:26 -0500   \n",
       "4  Sat, 04 Mar 2023 04:09:41 -0500   \n",
       "\n",
       "                                              author  \\\n",
       "0         aprovost@ledevoir.com (Anne-Marie Provost)   \n",
       "1  webmestre@ledevoir.com (Amélie Bottollier-Depois)   \n",
       "2           webmestre@ledevoir.com (Dylan Robertson)   \n",
       "3      webmestre@ledevoir.com (Agence France-Presse)   \n",
       "4                mvastel@ledevoir.com (Marie Vastel)   \n",
       "\n",
       "                                                link  \\\n",
       "0  https://www.ledevoir.com/monde/afrique/784006/...   \n",
       "1  https://www.ledevoir.com/monde/784115/-dernier...   \n",
       "2  https://www.ledevoir.com/monde/784107/-le-cana...   \n",
       "3  https://www.ledevoir.com/monde/europe/784100/-...   \n",
       "4  https://www.ledevoir.com/monde/784053/un-an-de...   \n",
       "\n",
       "                                                text  \n",
       "0  6 Shake Guyo, 72 ans, Malabot | Les éleveurs p...  \n",
       "1  Les États membres de l’ONU tentaient toujours ...  \n",
       "2  Les Nations Unies se préparent à une nouvelle ...  \n",
       "3  Le ministre russe de la Défense a mené une ins...  \n",
       "4  Un an après que la Russie a lancé son invasion...  "
      ]
     },
     "execution_count": 20,
     "metadata": {},
     "output_type": "execute_result"
    }
   ],
   "source": [
    "fields = ['title', 'published', 'author', 'link']\n",
    "\n",
    "df = df_from_RSS('https://www.ledevoir.com/rss/section/monde.xml?id=76', fields)\n",
    "\n",
    "df.head()"
   ]
  },
  {
   "cell_type": "code",
   "execution_count": 21,
   "metadata": {
    "id": "fldkt7rQOyYT"
   },
   "outputs": [],
   "source": [
    "df.to_csv(\"le_devoir.csv\", encoding='utf-8-sig', index=False)"
   ]
  },
  {
   "cell_type": "markdown",
   "metadata": {
    "id": "XFBqhdKTO1Yb"
   },
   "source": [
    "### CBC"
   ]
  },
  {
   "cell_type": "markdown",
   "metadata": {
    "id": "tYXETSS1O7Mj"
   },
   "source": [
    "A list of RSS feeds for the CBCs can be found here: https://www.cbc.ca/rss/\n",
    "\n",
    "Let's use the World RSS feed."
   ]
  },
  {
   "cell_type": "code",
   "execution_count": 22,
   "metadata": {
    "colab": {
     "base_uri": "https://localhost:8080/"
    },
    "id": "FxSh5dlfPD3z",
    "outputId": "f1f7a99c-199c-48e5-eb42-b8d272652ac2"
   },
   "outputs": [
    {
     "name": "stdout",
     "output_type": "stream",
     "text": [
      "['title', 'title_detail', 'links', 'link', 'id', 'guidislink', 'published', 'published_parsed', 'authors', 'author', 'author_detail', 'tags', 'summary', 'summary_detail']\n"
     ]
    }
   ],
   "source": [
    "print_RSS_fields('https://rss.cbc.ca/lineup/world.xml')"
   ]
  },
  {
   "cell_type": "code",
   "execution_count": 23,
   "metadata": {
    "colab": {
     "base_uri": "https://localhost:8080/",
     "height": 337
    },
    "id": "oupaTMfEPMFD",
    "outputId": "e3345c76-efc3-41d9-c702-01ee93badab1"
   },
   "outputs": [
    {
     "ename": "ValueError",
     "evalue": "Length of values (19) does not match length of index (20)",
     "output_type": "error",
     "traceback": [
      "\u001b[0;31m---------------------------------------------------------------------------\u001b[0m",
      "\u001b[0;31mValueError\u001b[0m                                Traceback (most recent call last)",
      "\u001b[0;32m/var/folders/x_/gv_25j4x4yv_w8_mmgvv_2th0000gn/T/ipykernel_67390/3210764504.py\u001b[0m in \u001b[0;36m<module>\u001b[0;34m\u001b[0m\n\u001b[1;32m      1\u001b[0m \u001b[0mfields\u001b[0m \u001b[0;34m=\u001b[0m \u001b[0;34m[\u001b[0m\u001b[0;34m'title'\u001b[0m\u001b[0;34m,\u001b[0m \u001b[0;34m'published'\u001b[0m\u001b[0;34m,\u001b[0m \u001b[0;34m'author'\u001b[0m\u001b[0;34m,\u001b[0m \u001b[0;34m'link'\u001b[0m\u001b[0;34m]\u001b[0m\u001b[0;34m\u001b[0m\u001b[0;34m\u001b[0m\u001b[0m\n\u001b[1;32m      2\u001b[0m \u001b[0;34m\u001b[0m\u001b[0m\n\u001b[0;32m----> 3\u001b[0;31m \u001b[0mdf\u001b[0m \u001b[0;34m=\u001b[0m \u001b[0mdf_from_RSS\u001b[0m\u001b[0;34m(\u001b[0m\u001b[0;34m'https://rss.cbc.ca/lineup/world.xml'\u001b[0m\u001b[0;34m,\u001b[0m \u001b[0mfields\u001b[0m\u001b[0;34m)\u001b[0m\u001b[0;34m\u001b[0m\u001b[0;34m\u001b[0m\u001b[0m\n\u001b[0m\u001b[1;32m      4\u001b[0m \u001b[0;34m\u001b[0m\u001b[0m\n\u001b[1;32m      5\u001b[0m \u001b[0mdf\u001b[0m\u001b[0;34m.\u001b[0m\u001b[0mhead\u001b[0m\u001b[0;34m(\u001b[0m\u001b[0;34m)\u001b[0m\u001b[0;34m\u001b[0m\u001b[0;34m\u001b[0m\u001b[0m\n",
      "\u001b[0;32m/var/folders/x_/gv_25j4x4yv_w8_mmgvv_2th0000gn/T/ipykernel_67390/1213730808.py\u001b[0m in \u001b[0;36mdf_from_RSS\u001b[0;34m(rss_link, fields)\u001b[0m\n\u001b[1;32m     33\u001b[0m         \u001b[0marticle_text_dict\u001b[0m\u001b[0;34m[\u001b[0m\u001b[0mlink\u001b[0m\u001b[0;34m]\u001b[0m \u001b[0;34m=\u001b[0m \u001b[0marticle\u001b[0m\u001b[0;34m.\u001b[0m\u001b[0mtext\u001b[0m\u001b[0;34m\u001b[0m\u001b[0;34m\u001b[0m\u001b[0m\n\u001b[1;32m     34\u001b[0m \u001b[0;34m\u001b[0m\u001b[0m\n\u001b[0;32m---> 35\u001b[0;31m     \u001b[0mdf\u001b[0m\u001b[0;34m[\u001b[0m\u001b[0;34m'text'\u001b[0m\u001b[0;34m]\u001b[0m \u001b[0;34m=\u001b[0m \u001b[0mlist\u001b[0m\u001b[0;34m(\u001b[0m\u001b[0marticle_text_dict\u001b[0m\u001b[0;34m.\u001b[0m\u001b[0mvalues\u001b[0m\u001b[0;34m(\u001b[0m\u001b[0;34m)\u001b[0m\u001b[0;34m)\u001b[0m\u001b[0;34m\u001b[0m\u001b[0;34m\u001b[0m\u001b[0m\n\u001b[0m\u001b[1;32m     36\u001b[0m \u001b[0;34m\u001b[0m\u001b[0m\n\u001b[1;32m     37\u001b[0m     \u001b[0;32mreturn\u001b[0m \u001b[0mdf\u001b[0m\u001b[0;34m\u001b[0m\u001b[0;34m\u001b[0m\u001b[0m\n",
      "\u001b[0;32m~/anaconda3/lib/python3.9/site-packages/pandas/core/frame.py\u001b[0m in \u001b[0;36m__setitem__\u001b[0;34m(self, key, value)\u001b[0m\n\u001b[1;32m   3610\u001b[0m         \u001b[0;32melse\u001b[0m\u001b[0;34m:\u001b[0m\u001b[0;34m\u001b[0m\u001b[0;34m\u001b[0m\u001b[0m\n\u001b[1;32m   3611\u001b[0m             \u001b[0;31m# set column\u001b[0m\u001b[0;34m\u001b[0m\u001b[0;34m\u001b[0m\u001b[0m\n\u001b[0;32m-> 3612\u001b[0;31m             \u001b[0mself\u001b[0m\u001b[0;34m.\u001b[0m\u001b[0m_set_item\u001b[0m\u001b[0;34m(\u001b[0m\u001b[0mkey\u001b[0m\u001b[0;34m,\u001b[0m \u001b[0mvalue\u001b[0m\u001b[0;34m)\u001b[0m\u001b[0;34m\u001b[0m\u001b[0;34m\u001b[0m\u001b[0m\n\u001b[0m\u001b[1;32m   3613\u001b[0m \u001b[0;34m\u001b[0m\u001b[0m\n\u001b[1;32m   3614\u001b[0m     \u001b[0;32mdef\u001b[0m \u001b[0m_setitem_slice\u001b[0m\u001b[0;34m(\u001b[0m\u001b[0mself\u001b[0m\u001b[0;34m,\u001b[0m \u001b[0mkey\u001b[0m\u001b[0;34m:\u001b[0m \u001b[0mslice\u001b[0m\u001b[0;34m,\u001b[0m \u001b[0mvalue\u001b[0m\u001b[0;34m)\u001b[0m\u001b[0;34m:\u001b[0m\u001b[0;34m\u001b[0m\u001b[0;34m\u001b[0m\u001b[0m\n",
      "\u001b[0;32m~/anaconda3/lib/python3.9/site-packages/pandas/core/frame.py\u001b[0m in \u001b[0;36m_set_item\u001b[0;34m(self, key, value)\u001b[0m\n\u001b[1;32m   3782\u001b[0m         \u001b[0mensure\u001b[0m \u001b[0mhomogeneity\u001b[0m\u001b[0;34m.\u001b[0m\u001b[0;34m\u001b[0m\u001b[0;34m\u001b[0m\u001b[0m\n\u001b[1;32m   3783\u001b[0m         \"\"\"\n\u001b[0;32m-> 3784\u001b[0;31m         \u001b[0mvalue\u001b[0m \u001b[0;34m=\u001b[0m \u001b[0mself\u001b[0m\u001b[0;34m.\u001b[0m\u001b[0m_sanitize_column\u001b[0m\u001b[0;34m(\u001b[0m\u001b[0mvalue\u001b[0m\u001b[0;34m)\u001b[0m\u001b[0;34m\u001b[0m\u001b[0;34m\u001b[0m\u001b[0m\n\u001b[0m\u001b[1;32m   3785\u001b[0m \u001b[0;34m\u001b[0m\u001b[0m\n\u001b[1;32m   3786\u001b[0m         if (\n",
      "\u001b[0;32m~/anaconda3/lib/python3.9/site-packages/pandas/core/frame.py\u001b[0m in \u001b[0;36m_sanitize_column\u001b[0;34m(self, value)\u001b[0m\n\u001b[1;32m   4507\u001b[0m \u001b[0;34m\u001b[0m\u001b[0m\n\u001b[1;32m   4508\u001b[0m         \u001b[0;32mif\u001b[0m \u001b[0mis_list_like\u001b[0m\u001b[0;34m(\u001b[0m\u001b[0mvalue\u001b[0m\u001b[0;34m)\u001b[0m\u001b[0;34m:\u001b[0m\u001b[0;34m\u001b[0m\u001b[0;34m\u001b[0m\u001b[0m\n\u001b[0;32m-> 4509\u001b[0;31m             \u001b[0mcom\u001b[0m\u001b[0;34m.\u001b[0m\u001b[0mrequire_length_match\u001b[0m\u001b[0;34m(\u001b[0m\u001b[0mvalue\u001b[0m\u001b[0;34m,\u001b[0m \u001b[0mself\u001b[0m\u001b[0;34m.\u001b[0m\u001b[0mindex\u001b[0m\u001b[0;34m)\u001b[0m\u001b[0;34m\u001b[0m\u001b[0;34m\u001b[0m\u001b[0m\n\u001b[0m\u001b[1;32m   4510\u001b[0m         \u001b[0;32mreturn\u001b[0m \u001b[0msanitize_array\u001b[0m\u001b[0;34m(\u001b[0m\u001b[0mvalue\u001b[0m\u001b[0;34m,\u001b[0m \u001b[0mself\u001b[0m\u001b[0;34m.\u001b[0m\u001b[0mindex\u001b[0m\u001b[0;34m,\u001b[0m \u001b[0mcopy\u001b[0m\u001b[0;34m=\u001b[0m\u001b[0;32mTrue\u001b[0m\u001b[0;34m,\u001b[0m \u001b[0mallow_2d\u001b[0m\u001b[0;34m=\u001b[0m\u001b[0;32mTrue\u001b[0m\u001b[0;34m)\u001b[0m\u001b[0;34m\u001b[0m\u001b[0;34m\u001b[0m\u001b[0m\n\u001b[1;32m   4511\u001b[0m \u001b[0;34m\u001b[0m\u001b[0m\n",
      "\u001b[0;32m~/anaconda3/lib/python3.9/site-packages/pandas/core/common.py\u001b[0m in \u001b[0;36mrequire_length_match\u001b[0;34m(data, index)\u001b[0m\n\u001b[1;32m    529\u001b[0m     \"\"\"\n\u001b[1;32m    530\u001b[0m     \u001b[0;32mif\u001b[0m \u001b[0mlen\u001b[0m\u001b[0;34m(\u001b[0m\u001b[0mdata\u001b[0m\u001b[0;34m)\u001b[0m \u001b[0;34m!=\u001b[0m \u001b[0mlen\u001b[0m\u001b[0;34m(\u001b[0m\u001b[0mindex\u001b[0m\u001b[0;34m)\u001b[0m\u001b[0;34m:\u001b[0m\u001b[0;34m\u001b[0m\u001b[0;34m\u001b[0m\u001b[0m\n\u001b[0;32m--> 531\u001b[0;31m         raise ValueError(\n\u001b[0m\u001b[1;32m    532\u001b[0m             \u001b[0;34m\"Length of values \"\u001b[0m\u001b[0;34m\u001b[0m\u001b[0;34m\u001b[0m\u001b[0m\n\u001b[1;32m    533\u001b[0m             \u001b[0;34mf\"({len(data)}) \"\u001b[0m\u001b[0;34m\u001b[0m\u001b[0;34m\u001b[0m\u001b[0m\n",
      "\u001b[0;31mValueError\u001b[0m: Length of values (19) does not match length of index (20)"
     ]
    }
   ],
   "source": [
    "fields = ['title', 'published', 'author', 'link']\n",
    "\n",
    "df = df_from_RSS('https://rss.cbc.ca/lineup/world.xml', fields)\n",
    "\n",
    "df.head()"
   ]
  },
  {
   "cell_type": "code",
   "execution_count": null,
   "metadata": {
    "id": "-SSqmuVcQHLs"
   },
   "outputs": [],
   "source": [
    "df.to_csv(\"cbc.csv\", encoding='utf-8', index=False)"
   ]
  },
  {
   "cell_type": "markdown",
   "metadata": {
    "id": "ce7yR5s9QjRi"
   },
   "source": [
    "## 3. Text Processing"
   ]
  },
  {
   "cell_type": "code",
   "execution_count": null,
   "metadata": {
    "id": "nZ-dhGHiR7yd"
   },
   "outputs": [],
   "source": []
  }
 ],
 "metadata": {
  "colab": {
   "include_colab_link": true,
   "provenance": []
  },
  "kernelspec": {
   "display_name": "Python 3 (ipykernel)",
   "language": "python",
   "name": "python3"
  },
  "language_info": {
   "codemirror_mode": {
    "name": "ipython",
    "version": 3
   },
   "file_extension": ".py",
   "mimetype": "text/x-python",
   "name": "python",
   "nbconvert_exporter": "python",
   "pygments_lexer": "ipython3",
   "version": "3.9.7"
  }
 },
 "nbformat": 4,
 "nbformat_minor": 1
}
