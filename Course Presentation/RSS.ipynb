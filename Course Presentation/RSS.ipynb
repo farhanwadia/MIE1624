{
  "nbformat": 4,
  "nbformat_minor": 0,
  "metadata": {
    "colab": {
      "provenance": [],
      "include_colab_link": true
    },
    "kernelspec": {
      "name": "python3",
      "display_name": "Python 3"
    },
    "language_info": {
      "name": "python"
    }
  },
  "cells": [
    {
      "cell_type": "markdown",
      "metadata": {
        "id": "view-in-github",
        "colab_type": "text"
      },
      "source": [
        "<a href=\"https://colab.research.google.com/github/farhanwadia/MIE1624/blob/master/Course%20Presentation/RSS.ipynb\" target=\"_parent\"><img src=\"https://colab.research.google.com/assets/colab-badge.svg\" alt=\"Open In Colab\"/></a>"
      ]
    },
    {
      "cell_type": "markdown",
      "source": [
        "# Web Scraping with RSS Feeds\n",
        "\n",
        "Prepared by Group 14"
      ],
      "metadata": {
        "id": "BlJ95R6pGLJy"
      }
    },
    {
      "cell_type": "markdown",
      "source": [
        "The purpose of this notebook is to show how to scrape news articles from the RSS feeds of various news sources, and perform text processing techniques. This notebook can be accessed at https://github.com/farhanwadia/MIE1624/blob/master/Course%20Presentation/RSS.ipynb"
      ],
      "metadata": {
        "id": "9ajIYc9PGdVh"
      }
    },
    {
      "cell_type": "markdown",
      "source": [
        "## 1. Installation"
      ],
      "metadata": {
        "id": "afBKHWEBGtra"
      }
    },
    {
      "cell_type": "code",
      "execution_count": 1,
      "metadata": {
        "id": "vPbf5VVhlJI1"
      },
      "outputs": [],
      "source": [
        "# !git clone https://github.com/farhanwadia/MIE1624.git"
      ]
    },
    {
      "cell_type": "code",
      "source": [
        "# %cd MIE1624\n",
        "# %cd 'Course Presentation'"
      ],
      "metadata": {
        "id": "8fU-LFYgqYmj"
      },
      "execution_count": 2,
      "outputs": []
    },
    {
      "cell_type": "code",
      "source": [
        "# !ls"
      ],
      "metadata": {
        "id": "QCVxisDlnBNU"
      },
      "execution_count": 3,
      "outputs": []
    },
    {
      "cell_type": "code",
      "source": [
        "!pip install feedparser\n",
        "!pip install newspaper3k"
      ],
      "metadata": {
        "colab": {
          "base_uri": "https://localhost:8080/"
        },
        "id": "PkXjAYSzocN8",
        "outputId": "6869a7e3-9edc-4075-dd96-ce20bede66cc"
      },
      "execution_count": 4,
      "outputs": [
        {
          "output_type": "stream",
          "name": "stdout",
          "text": [
            "Looking in indexes: https://pypi.org/simple, https://us-python.pkg.dev/colab-wheels/public/simple/\n",
            "Collecting feedparser\n",
            "  Downloading feedparser-6.0.10-py3-none-any.whl (81 kB)\n",
            "\u001b[2K     \u001b[90m━━━━━━━━━━━━━━━━━━━━━━━━━━━━━━━━━━━━━━━━\u001b[0m \u001b[32m81.1/81.1 KB\u001b[0m \u001b[31m4.1 MB/s\u001b[0m eta \u001b[36m0:00:00\u001b[0m\n",
            "\u001b[?25hCollecting sgmllib3k\n",
            "  Downloading sgmllib3k-1.0.0.tar.gz (5.8 kB)\n",
            "  Preparing metadata (setup.py) ... \u001b[?25l\u001b[?25hdone\n",
            "Building wheels for collected packages: sgmllib3k\n",
            "  Building wheel for sgmllib3k (setup.py) ... \u001b[?25l\u001b[?25hdone\n",
            "  Created wheel for sgmllib3k: filename=sgmllib3k-1.0.0-py3-none-any.whl size=6066 sha256=de3a62d687d634653f6776905047bfd13ee24610529d07bc6d42859d0ca34ea1\n",
            "  Stored in directory: /root/.cache/pip/wheels/83/63/2f/117884c3b19d46b64d3d61690333aa80c88dc14050e269c546\n",
            "Successfully built sgmllib3k\n",
            "Installing collected packages: sgmllib3k, feedparser\n",
            "Successfully installed feedparser-6.0.10 sgmllib3k-1.0.0\n",
            "Looking in indexes: https://pypi.org/simple, https://us-python.pkg.dev/colab-wheels/public/simple/\n",
            "Collecting newspaper3k\n",
            "  Downloading newspaper3k-0.2.8-py3-none-any.whl (211 kB)\n",
            "\u001b[2K     \u001b[90m━━━━━━━━━━━━━━━━━━━━━━━━━━━━━━━━━━━━━━━\u001b[0m \u001b[32m211.1/211.1 KB\u001b[0m \u001b[31m2.0 MB/s\u001b[0m eta \u001b[36m0:00:00\u001b[0m\n",
            "\u001b[?25hCollecting tinysegmenter==0.3\n",
            "  Downloading tinysegmenter-0.3.tar.gz (16 kB)\n",
            "  Preparing metadata (setup.py) ... \u001b[?25l\u001b[?25hdone\n",
            "Requirement already satisfied: requests>=2.10.0 in /usr/local/lib/python3.8/dist-packages (from newspaper3k) (2.25.1)\n",
            "Requirement already satisfied: nltk>=3.2.1 in /usr/local/lib/python3.8/dist-packages (from newspaper3k) (3.7)\n",
            "Collecting cssselect>=0.9.2\n",
            "  Downloading cssselect-1.2.0-py2.py3-none-any.whl (18 kB)\n",
            "Requirement already satisfied: python-dateutil>=2.5.3 in /usr/local/lib/python3.8/dist-packages (from newspaper3k) (2.8.2)\n",
            "Collecting tldextract>=2.0.1\n",
            "  Downloading tldextract-3.4.0-py3-none-any.whl (93 kB)\n",
            "\u001b[2K     \u001b[90m━━━━━━━━━━━━━━━━━━━━━━━━━━━━━━━━━━━━━━━━\u001b[0m \u001b[32m93.9/93.9 KB\u001b[0m \u001b[31m4.0 MB/s\u001b[0m eta \u001b[36m0:00:00\u001b[0m\n",
            "\u001b[?25hRequirement already satisfied: feedparser>=5.2.1 in /usr/local/lib/python3.8/dist-packages (from newspaper3k) (6.0.10)\n",
            "Requirement already satisfied: PyYAML>=3.11 in /usr/local/lib/python3.8/dist-packages (from newspaper3k) (6.0)\n",
            "Requirement already satisfied: beautifulsoup4>=4.4.1 in /usr/local/lib/python3.8/dist-packages (from newspaper3k) (4.6.3)\n",
            "Requirement already satisfied: lxml>=3.6.0 in /usr/local/lib/python3.8/dist-packages (from newspaper3k) (4.9.2)\n",
            "Collecting jieba3k>=0.35.1\n",
            "  Downloading jieba3k-0.35.1.zip (7.4 MB)\n",
            "\u001b[2K     \u001b[90m━━━━━━━━━━━━━━━━━━━━━━━━━━━━━━━━━━━━━━━━\u001b[0m \u001b[32m7.4/7.4 MB\u001b[0m \u001b[31m20.5 MB/s\u001b[0m eta \u001b[36m0:00:00\u001b[0m\n",
            "\u001b[?25h  Preparing metadata (setup.py) ... \u001b[?25l\u001b[?25hdone\n",
            "Requirement already satisfied: Pillow>=3.3.0 in /usr/local/lib/python3.8/dist-packages (from newspaper3k) (8.4.0)\n",
            "Collecting feedfinder2>=0.0.4\n",
            "  Downloading feedfinder2-0.0.4.tar.gz (3.3 kB)\n",
            "  Preparing metadata (setup.py) ... \u001b[?25l\u001b[?25hdone\n",
            "Requirement already satisfied: six in /usr/local/lib/python3.8/dist-packages (from feedfinder2>=0.0.4->newspaper3k) (1.15.0)\n",
            "Requirement already satisfied: sgmllib3k in /usr/local/lib/python3.8/dist-packages (from feedparser>=5.2.1->newspaper3k) (1.0.0)\n",
            "Requirement already satisfied: regex>=2021.8.3 in /usr/local/lib/python3.8/dist-packages (from nltk>=3.2.1->newspaper3k) (2022.6.2)\n",
            "Requirement already satisfied: click in /usr/local/lib/python3.8/dist-packages (from nltk>=3.2.1->newspaper3k) (8.1.3)\n",
            "Requirement already satisfied: tqdm in /usr/local/lib/python3.8/dist-packages (from nltk>=3.2.1->newspaper3k) (4.64.1)\n",
            "Requirement already satisfied: joblib in /usr/local/lib/python3.8/dist-packages (from nltk>=3.2.1->newspaper3k) (1.2.0)\n",
            "Requirement already satisfied: idna<3,>=2.5 in /usr/local/lib/python3.8/dist-packages (from requests>=2.10.0->newspaper3k) (2.10)\n",
            "Requirement already satisfied: urllib3<1.27,>=1.21.1 in /usr/local/lib/python3.8/dist-packages (from requests>=2.10.0->newspaper3k) (1.26.14)\n",
            "Requirement already satisfied: chardet<5,>=3.0.2 in /usr/local/lib/python3.8/dist-packages (from requests>=2.10.0->newspaper3k) (4.0.0)\n",
            "Requirement already satisfied: certifi>=2017.4.17 in /usr/local/lib/python3.8/dist-packages (from requests>=2.10.0->newspaper3k) (2022.12.7)\n",
            "Requirement already satisfied: filelock>=3.0.8 in /usr/local/lib/python3.8/dist-packages (from tldextract>=2.0.1->newspaper3k) (3.9.0)\n",
            "Collecting requests-file>=1.4\n",
            "  Downloading requests_file-1.5.1-py2.py3-none-any.whl (3.7 kB)\n",
            "Building wheels for collected packages: tinysegmenter, feedfinder2, jieba3k\n",
            "  Building wheel for tinysegmenter (setup.py) ... \u001b[?25l\u001b[?25hdone\n",
            "  Created wheel for tinysegmenter: filename=tinysegmenter-0.3-py3-none-any.whl size=13552 sha256=4473c0cc83b85dd20b60a290af3c83bc1a9ce041c7da35dbbbf6ac37f28a4f0d\n",
            "  Stored in directory: /root/.cache/pip/wheels/99/74/83/8fac1c8d9c648cfabebbbffe97a889f6624817f3aa0bbe6c09\n",
            "  Building wheel for feedfinder2 (setup.py) ... \u001b[?25l\u001b[?25hdone\n",
            "  Created wheel for feedfinder2: filename=feedfinder2-0.0.4-py3-none-any.whl size=3354 sha256=5cac01434cadb7fea80791d45a0b1bde6cf4a4247aca446578b5bdce83d2ea44\n",
            "  Stored in directory: /root/.cache/pip/wheels/b6/09/68/a9f15498ac02c23dde29f18745bc6a6f574ba4ab41861a3575\n",
            "  Building wheel for jieba3k (setup.py) ... \u001b[?25l\u001b[?25hdone\n",
            "  Created wheel for jieba3k: filename=jieba3k-0.35.1-py3-none-any.whl size=7398405 sha256=48a7302d25836a74c1293912a156321c58711af9e3590a5938485e06f70a54fa\n",
            "  Stored in directory: /root/.cache/pip/wheels/1f/7e/0c/54f3b0f5164278677899f2db08f2b07943ce2d024a3c862afb\n",
            "Successfully built tinysegmenter feedfinder2 jieba3k\n",
            "Installing collected packages: tinysegmenter, jieba3k, cssselect, requests-file, feedfinder2, tldextract, newspaper3k\n",
            "Successfully installed cssselect-1.2.0 feedfinder2-0.0.4 jieba3k-0.35.1 newspaper3k-0.2.8 requests-file-1.5.1 tinysegmenter-0.3 tldextract-3.4.0\n"
          ]
        }
      ]
    },
    {
      "cell_type": "markdown",
      "source": [
        "## 2. Working with RSS Feeds"
      ],
      "metadata": {
        "id": "cpvppjDLHGbK"
      }
    },
    {
      "cell_type": "markdown",
      "source": [
        "### New York Times"
      ],
      "metadata": {
        "id": "jzkNAHj7IyP6"
      }
    },
    {
      "cell_type": "markdown",
      "source": [
        "A list of all RSS feeds from the New York Times can be accessed at https://www.nytimes.com/rss.\n",
        "\n",
        "Let's use the World feed from https://rss.nytimes.com/services/xml/rss/nyt/World.xml as an example:"
      ],
      "metadata": {
        "id": "JpFeGBqBn0eq"
      }
    },
    {
      "cell_type": "markdown",
      "source": [
        "#### Form the dataframe"
      ],
      "metadata": {
        "id": "v-nM_TMvHhiZ"
      }
    },
    {
      "cell_type": "code",
      "source": [
        "import feedparser\n",
        "\n",
        "d = feedparser.parse('https://rss.nytimes.com/services/xml/rss/nyt/World.xml')"
      ],
      "metadata": {
        "id": "ghRi7Db3obkC"
      },
      "execution_count": 5,
      "outputs": []
    },
    {
      "cell_type": "code",
      "source": [
        "# Get a list of all possible fields from the RSS\n",
        "all_fields = []\n",
        "for field in d.entries[0]:\n",
        "    all_fields.append(field)\n",
        "\n",
        "print(all_fields)"
      ],
      "metadata": {
        "id": "u8cuEPVdABx9",
        "outputId": "5b2bbc33-f7a4-40eb-d00a-62cd3e07dadd",
        "colab": {
          "base_uri": "https://localhost:8080/"
        }
      },
      "execution_count": 6,
      "outputs": [
        {
          "output_type": "stream",
          "name": "stdout",
          "text": [
            "['title', 'title_detail', 'links', 'link', 'id', 'guidislink', 'summary', 'summary_detail', 'authors', 'author', 'author_detail', 'published', 'published_parsed', 'media_content', 'media_credit', 'credit']\n"
          ]
        }
      ]
    },
    {
      "cell_type": "code",
      "source": [
        "# Define the fields of interest that we want to obtain from the RSS\n",
        "fields = ['title', 'published', 'summary', 'author', 'link']"
      ],
      "metadata": {
        "id": "M4EwL-JFBahF"
      },
      "execution_count": 7,
      "outputs": []
    },
    {
      "cell_type": "code",
      "source": [
        "import pandas as pd\n",
        "\n",
        "# Create a list of lists to hold the required RSS data from each entry\n",
        "data = []\n",
        "for i, entry in enumerate(d.entries):\n",
        "    row = []\n",
        "    for field in fields:\n",
        "        row.append(d.entries[i][field])\n",
        "    data.append(row)\n",
        "\n",
        "# Convert the list of lists to a df\n",
        "df = pd.DataFrame(data, columns = fields)"
      ],
      "metadata": {
        "id": "TEM6wHwXCKeO"
      },
      "execution_count": 8,
      "outputs": []
    },
    {
      "cell_type": "code",
      "source": [
        "df.head()"
      ],
      "metadata": {
        "id": "D8yamIhIC2M2",
        "outputId": "43d87d95-f92a-4d6c-fcf4-73b0b338f2a6",
        "colab": {
          "base_uri": "https://localhost:8080/",
          "height": 337
        }
      },
      "execution_count": 9,
      "outputs": [
        {
          "output_type": "execute_result",
          "data": {
            "text/plain": [
              "                                               title  \\\n",
              "0  Belarus Sentences Nobel Peace Laureate to 10 Y...   \n",
              "1  The E.U. Offered to Embrace Ukraine, but Now W...   \n",
              "2  Rules to Curb Illicit Dollar Flows Create Unin...   \n",
              "3  They Sneaked Into a Derelict Arms Plant: Insta...   \n",
              "4  Search of Train Crash Site in Greece Nears an End   \n",
              "\n",
              "                         published  \\\n",
              "0  Fri, 03 Mar 2023 20:47:53 +0000   \n",
              "1  Fri, 03 Mar 2023 10:03:08 +0000   \n",
              "2  Fri, 03 Mar 2023 19:40:10 +0000   \n",
              "3  Fri, 03 Mar 2023 18:08:49 +0000   \n",
              "4  Fri, 03 Mar 2023 17:46:57 +0000   \n",
              "\n",
              "                                             summary              author  \\\n",
              "0  Ales Bialiatski was awarded the Nobel Peace Pr...  The New York Times   \n",
              "1  The European Union and NATO have promised a pa...     Steven Erlanger   \n",
              "2  The regulations were meant to prevent dollar t...     Alissa J. Rubin   \n",
              "3  Three people, including two Russians, arrested...      Andrew Higgins   \n",
              "4  The authorities were planning to start clearin...    Niki Kitsantonis   \n",
              "\n",
              "                                                link  \n",
              "0  https://www.nytimes.com/live/2023/03/03/world/...  \n",
              "1  https://www.nytimes.com/2023/03/03/world/europ...  \n",
              "2  https://www.nytimes.com/2023/03/03/world/middl...  \n",
              "3  https://www.nytimes.com/2023/03/03/world/europ...  \n",
              "4  https://www.nytimes.com/2023/03/03/world/europ...  "
            ],
            "text/html": [
              "\n",
              "  <div id=\"df-c51256ed-2cc4-460c-b277-338551ace85f\">\n",
              "    <div class=\"colab-df-container\">\n",
              "      <div>\n",
              "<style scoped>\n",
              "    .dataframe tbody tr th:only-of-type {\n",
              "        vertical-align: middle;\n",
              "    }\n",
              "\n",
              "    .dataframe tbody tr th {\n",
              "        vertical-align: top;\n",
              "    }\n",
              "\n",
              "    .dataframe thead th {\n",
              "        text-align: right;\n",
              "    }\n",
              "</style>\n",
              "<table border=\"1\" class=\"dataframe\">\n",
              "  <thead>\n",
              "    <tr style=\"text-align: right;\">\n",
              "      <th></th>\n",
              "      <th>title</th>\n",
              "      <th>published</th>\n",
              "      <th>summary</th>\n",
              "      <th>author</th>\n",
              "      <th>link</th>\n",
              "    </tr>\n",
              "  </thead>\n",
              "  <tbody>\n",
              "    <tr>\n",
              "      <th>0</th>\n",
              "      <td>Belarus Sentences Nobel Peace Laureate to 10 Y...</td>\n",
              "      <td>Fri, 03 Mar 2023 20:47:53 +0000</td>\n",
              "      <td>Ales Bialiatski was awarded the Nobel Peace Pr...</td>\n",
              "      <td>The New York Times</td>\n",
              "      <td>https://www.nytimes.com/live/2023/03/03/world/...</td>\n",
              "    </tr>\n",
              "    <tr>\n",
              "      <th>1</th>\n",
              "      <td>The E.U. Offered to Embrace Ukraine, but Now W...</td>\n",
              "      <td>Fri, 03 Mar 2023 10:03:08 +0000</td>\n",
              "      <td>The European Union and NATO have promised a pa...</td>\n",
              "      <td>Steven Erlanger</td>\n",
              "      <td>https://www.nytimes.com/2023/03/03/world/europ...</td>\n",
              "    </tr>\n",
              "    <tr>\n",
              "      <th>2</th>\n",
              "      <td>Rules to Curb Illicit Dollar Flows Create Unin...</td>\n",
              "      <td>Fri, 03 Mar 2023 19:40:10 +0000</td>\n",
              "      <td>The regulations were meant to prevent dollar t...</td>\n",
              "      <td>Alissa J. Rubin</td>\n",
              "      <td>https://www.nytimes.com/2023/03/03/world/middl...</td>\n",
              "    </tr>\n",
              "    <tr>\n",
              "      <th>3</th>\n",
              "      <td>They Sneaked Into a Derelict Arms Plant: Insta...</td>\n",
              "      <td>Fri, 03 Mar 2023 18:08:49 +0000</td>\n",
              "      <td>Three people, including two Russians, arrested...</td>\n",
              "      <td>Andrew Higgins</td>\n",
              "      <td>https://www.nytimes.com/2023/03/03/world/europ...</td>\n",
              "    </tr>\n",
              "    <tr>\n",
              "      <th>4</th>\n",
              "      <td>Search of Train Crash Site in Greece Nears an End</td>\n",
              "      <td>Fri, 03 Mar 2023 17:46:57 +0000</td>\n",
              "      <td>The authorities were planning to start clearin...</td>\n",
              "      <td>Niki Kitsantonis</td>\n",
              "      <td>https://www.nytimes.com/2023/03/03/world/europ...</td>\n",
              "    </tr>\n",
              "  </tbody>\n",
              "</table>\n",
              "</div>\n",
              "      <button class=\"colab-df-convert\" onclick=\"convertToInteractive('df-c51256ed-2cc4-460c-b277-338551ace85f')\"\n",
              "              title=\"Convert this dataframe to an interactive table.\"\n",
              "              style=\"display:none;\">\n",
              "        \n",
              "  <svg xmlns=\"http://www.w3.org/2000/svg\" height=\"24px\"viewBox=\"0 0 24 24\"\n",
              "       width=\"24px\">\n",
              "    <path d=\"M0 0h24v24H0V0z\" fill=\"none\"/>\n",
              "    <path d=\"M18.56 5.44l.94 2.06.94-2.06 2.06-.94-2.06-.94-.94-2.06-.94 2.06-2.06.94zm-11 1L8.5 8.5l.94-2.06 2.06-.94-2.06-.94L8.5 2.5l-.94 2.06-2.06.94zm10 10l.94 2.06.94-2.06 2.06-.94-2.06-.94-.94-2.06-.94 2.06-2.06.94z\"/><path d=\"M17.41 7.96l-1.37-1.37c-.4-.4-.92-.59-1.43-.59-.52 0-1.04.2-1.43.59L10.3 9.45l-7.72 7.72c-.78.78-.78 2.05 0 2.83L4 21.41c.39.39.9.59 1.41.59.51 0 1.02-.2 1.41-.59l7.78-7.78 2.81-2.81c.8-.78.8-2.07 0-2.86zM5.41 20L4 18.59l7.72-7.72 1.47 1.35L5.41 20z\"/>\n",
              "  </svg>\n",
              "      </button>\n",
              "      \n",
              "  <style>\n",
              "    .colab-df-container {\n",
              "      display:flex;\n",
              "      flex-wrap:wrap;\n",
              "      gap: 12px;\n",
              "    }\n",
              "\n",
              "    .colab-df-convert {\n",
              "      background-color: #E8F0FE;\n",
              "      border: none;\n",
              "      border-radius: 50%;\n",
              "      cursor: pointer;\n",
              "      display: none;\n",
              "      fill: #1967D2;\n",
              "      height: 32px;\n",
              "      padding: 0 0 0 0;\n",
              "      width: 32px;\n",
              "    }\n",
              "\n",
              "    .colab-df-convert:hover {\n",
              "      background-color: #E2EBFA;\n",
              "      box-shadow: 0px 1px 2px rgba(60, 64, 67, 0.3), 0px 1px 3px 1px rgba(60, 64, 67, 0.15);\n",
              "      fill: #174EA6;\n",
              "    }\n",
              "\n",
              "    [theme=dark] .colab-df-convert {\n",
              "      background-color: #3B4455;\n",
              "      fill: #D2E3FC;\n",
              "    }\n",
              "\n",
              "    [theme=dark] .colab-df-convert:hover {\n",
              "      background-color: #434B5C;\n",
              "      box-shadow: 0px 1px 3px 1px rgba(0, 0, 0, 0.15);\n",
              "      filter: drop-shadow(0px 1px 2px rgba(0, 0, 0, 0.3));\n",
              "      fill: #FFFFFF;\n",
              "    }\n",
              "  </style>\n",
              "\n",
              "      <script>\n",
              "        const buttonEl =\n",
              "          document.querySelector('#df-c51256ed-2cc4-460c-b277-338551ace85f button.colab-df-convert');\n",
              "        buttonEl.style.display =\n",
              "          google.colab.kernel.accessAllowed ? 'block' : 'none';\n",
              "\n",
              "        async function convertToInteractive(key) {\n",
              "          const element = document.querySelector('#df-c51256ed-2cc4-460c-b277-338551ace85f');\n",
              "          const dataTable =\n",
              "            await google.colab.kernel.invokeFunction('convertToInteractive',\n",
              "                                                     [key], {});\n",
              "          if (!dataTable) return;\n",
              "\n",
              "          const docLinkHtml = 'Like what you see? Visit the ' +\n",
              "            '<a target=\"_blank\" href=https://colab.research.google.com/notebooks/data_table.ipynb>data table notebook</a>'\n",
              "            + ' to learn more about interactive tables.';\n",
              "          element.innerHTML = '';\n",
              "          dataTable['output_type'] = 'display_data';\n",
              "          await google.colab.output.renderOutput(dataTable, element);\n",
              "          const docLink = document.createElement('div');\n",
              "          docLink.innerHTML = docLinkHtml;\n",
              "          element.appendChild(docLink);\n",
              "        }\n",
              "      </script>\n",
              "    </div>\n",
              "  </div>\n",
              "  "
            ]
          },
          "metadata": {},
          "execution_count": 9
        }
      ]
    },
    {
      "cell_type": "code",
      "source": [
        "print(\"The shape of the dataframe is\", df.shape)"
      ],
      "metadata": {
        "id": "TarmjPabDaSO",
        "outputId": "0ec8dc66-7a3d-4204-cbdc-3486e7b7c83e",
        "colab": {
          "base_uri": "https://localhost:8080/"
        }
      },
      "execution_count": 10,
      "outputs": [
        {
          "output_type": "stream",
          "name": "stdout",
          "text": [
            "The shape of the dataframe is (59, 5)\n"
          ]
        }
      ]
    },
    {
      "cell_type": "markdown",
      "source": [
        "#### Add full texts for the corresponding articles to the dataframe"
      ],
      "metadata": {
        "id": "nwEL8O2xZtU1"
      }
    },
    {
      "cell_type": "code",
      "source": [
        "import nltk\n",
        "nltk.download('punkt')"
      ],
      "metadata": {
        "id": "15GxUmL6bByw",
        "outputId": "ea2f6068-7e9b-4f8c-eb90-546b3296eae9",
        "colab": {
          "base_uri": "https://localhost:8080/"
        }
      },
      "execution_count": 11,
      "outputs": [
        {
          "output_type": "stream",
          "name": "stderr",
          "text": [
            "[nltk_data] Downloading package punkt to /root/nltk_data...\n",
            "[nltk_data]   Unzipping tokenizers/punkt.zip.\n"
          ]
        },
        {
          "output_type": "execute_result",
          "data": {
            "text/plain": [
              "True"
            ]
          },
          "metadata": {},
          "execution_count": 11
        }
      ]
    },
    {
      "cell_type": "code",
      "source": [
        "from newspaper import Article\n",
        "\n",
        "links = df[\"link\"]\n",
        "\n",
        "article_text_dict = {}\n",
        "for link in links:\n",
        "  article = Article(link)\n",
        "  article.download()\n",
        "  article.parse()\n",
        "  article.nlp()\n",
        "  article_text_dict[link] = article.text\n",
        "  \n",
        "df['text'] = list(article_text_dict.values())"
      ],
      "metadata": {
        "id": "cpntE-BcZ3QU"
      },
      "execution_count": 12,
      "outputs": []
    },
    {
      "cell_type": "code",
      "source": [
        "df.head()"
      ],
      "metadata": {
        "id": "Tkabh3qca9Ud",
        "outputId": "456f1035-85ec-486b-e105-bd5e9fbe0a61",
        "colab": {
          "base_uri": "https://localhost:8080/",
          "height": 354
        }
      },
      "execution_count": 13,
      "outputs": [
        {
          "output_type": "execute_result",
          "data": {
            "text/plain": [
              "                                               title  \\\n",
              "0  Belarus Sentences Nobel Peace Laureate to 10 Y...   \n",
              "1  The E.U. Offered to Embrace Ukraine, but Now W...   \n",
              "2  Rules to Curb Illicit Dollar Flows Create Unin...   \n",
              "3  They Sneaked Into a Derelict Arms Plant: Insta...   \n",
              "4  Search of Train Crash Site in Greece Nears an End   \n",
              "\n",
              "                         published  \\\n",
              "0  Fri, 03 Mar 2023 20:47:53 +0000   \n",
              "1  Fri, 03 Mar 2023 10:03:08 +0000   \n",
              "2  Fri, 03 Mar 2023 19:40:10 +0000   \n",
              "3  Fri, 03 Mar 2023 18:08:49 +0000   \n",
              "4  Fri, 03 Mar 2023 17:46:57 +0000   \n",
              "\n",
              "                                             summary              author  \\\n",
              "0  Ales Bialiatski was awarded the Nobel Peace Pr...  The New York Times   \n",
              "1  The European Union and NATO have promised a pa...     Steven Erlanger   \n",
              "2  The regulations were meant to prevent dollar t...     Alissa J. Rubin   \n",
              "3  Three people, including two Russians, arrested...      Andrew Higgins   \n",
              "4  The authorities were planning to start clearin...    Niki Kitsantonis   \n",
              "\n",
              "                                                link  \\\n",
              "0  https://www.nytimes.com/live/2023/03/03/world/...   \n",
              "1  https://www.nytimes.com/2023/03/03/world/europ...   \n",
              "2  https://www.nytimes.com/2023/03/03/world/middl...   \n",
              "3  https://www.nytimes.com/2023/03/03/world/europ...   \n",
              "4  https://www.nytimes.com/2023/03/03/world/europ...   \n",
              "\n",
              "                                                text  \n",
              "0  Ales Bialiatski in the defendants’ cage in a M...  \n",
              "1  BRUSSELS — When the European Union offered Ukr...  \n",
              "2  Separately, a sum in cash is sent to the Iraqi...  \n",
              "3  Spiro Lasi, a construction worker whose house ...  \n",
              "4  The crash left rail cars strewn about the trac...  "
            ],
            "text/html": [
              "\n",
              "  <div id=\"df-d2f0e352-dafe-4eb2-b7d0-dba70123be47\">\n",
              "    <div class=\"colab-df-container\">\n",
              "      <div>\n",
              "<style scoped>\n",
              "    .dataframe tbody tr th:only-of-type {\n",
              "        vertical-align: middle;\n",
              "    }\n",
              "\n",
              "    .dataframe tbody tr th {\n",
              "        vertical-align: top;\n",
              "    }\n",
              "\n",
              "    .dataframe thead th {\n",
              "        text-align: right;\n",
              "    }\n",
              "</style>\n",
              "<table border=\"1\" class=\"dataframe\">\n",
              "  <thead>\n",
              "    <tr style=\"text-align: right;\">\n",
              "      <th></th>\n",
              "      <th>title</th>\n",
              "      <th>published</th>\n",
              "      <th>summary</th>\n",
              "      <th>author</th>\n",
              "      <th>link</th>\n",
              "      <th>text</th>\n",
              "    </tr>\n",
              "  </thead>\n",
              "  <tbody>\n",
              "    <tr>\n",
              "      <th>0</th>\n",
              "      <td>Belarus Sentences Nobel Peace Laureate to 10 Y...</td>\n",
              "      <td>Fri, 03 Mar 2023 20:47:53 +0000</td>\n",
              "      <td>Ales Bialiatski was awarded the Nobel Peace Pr...</td>\n",
              "      <td>The New York Times</td>\n",
              "      <td>https://www.nytimes.com/live/2023/03/03/world/...</td>\n",
              "      <td>Ales Bialiatski in the defendants’ cage in a M...</td>\n",
              "    </tr>\n",
              "    <tr>\n",
              "      <th>1</th>\n",
              "      <td>The E.U. Offered to Embrace Ukraine, but Now W...</td>\n",
              "      <td>Fri, 03 Mar 2023 10:03:08 +0000</td>\n",
              "      <td>The European Union and NATO have promised a pa...</td>\n",
              "      <td>Steven Erlanger</td>\n",
              "      <td>https://www.nytimes.com/2023/03/03/world/europ...</td>\n",
              "      <td>BRUSSELS — When the European Union offered Ukr...</td>\n",
              "    </tr>\n",
              "    <tr>\n",
              "      <th>2</th>\n",
              "      <td>Rules to Curb Illicit Dollar Flows Create Unin...</td>\n",
              "      <td>Fri, 03 Mar 2023 19:40:10 +0000</td>\n",
              "      <td>The regulations were meant to prevent dollar t...</td>\n",
              "      <td>Alissa J. Rubin</td>\n",
              "      <td>https://www.nytimes.com/2023/03/03/world/middl...</td>\n",
              "      <td>Separately, a sum in cash is sent to the Iraqi...</td>\n",
              "    </tr>\n",
              "    <tr>\n",
              "      <th>3</th>\n",
              "      <td>They Sneaked Into a Derelict Arms Plant: Insta...</td>\n",
              "      <td>Fri, 03 Mar 2023 18:08:49 +0000</td>\n",
              "      <td>Three people, including two Russians, arrested...</td>\n",
              "      <td>Andrew Higgins</td>\n",
              "      <td>https://www.nytimes.com/2023/03/03/world/europ...</td>\n",
              "      <td>Spiro Lasi, a construction worker whose house ...</td>\n",
              "    </tr>\n",
              "    <tr>\n",
              "      <th>4</th>\n",
              "      <td>Search of Train Crash Site in Greece Nears an End</td>\n",
              "      <td>Fri, 03 Mar 2023 17:46:57 +0000</td>\n",
              "      <td>The authorities were planning to start clearin...</td>\n",
              "      <td>Niki Kitsantonis</td>\n",
              "      <td>https://www.nytimes.com/2023/03/03/world/europ...</td>\n",
              "      <td>The crash left rail cars strewn about the trac...</td>\n",
              "    </tr>\n",
              "  </tbody>\n",
              "</table>\n",
              "</div>\n",
              "      <button class=\"colab-df-convert\" onclick=\"convertToInteractive('df-d2f0e352-dafe-4eb2-b7d0-dba70123be47')\"\n",
              "              title=\"Convert this dataframe to an interactive table.\"\n",
              "              style=\"display:none;\">\n",
              "        \n",
              "  <svg xmlns=\"http://www.w3.org/2000/svg\" height=\"24px\"viewBox=\"0 0 24 24\"\n",
              "       width=\"24px\">\n",
              "    <path d=\"M0 0h24v24H0V0z\" fill=\"none\"/>\n",
              "    <path d=\"M18.56 5.44l.94 2.06.94-2.06 2.06-.94-2.06-.94-.94-2.06-.94 2.06-2.06.94zm-11 1L8.5 8.5l.94-2.06 2.06-.94-2.06-.94L8.5 2.5l-.94 2.06-2.06.94zm10 10l.94 2.06.94-2.06 2.06-.94-2.06-.94-.94-2.06-.94 2.06-2.06.94z\"/><path d=\"M17.41 7.96l-1.37-1.37c-.4-.4-.92-.59-1.43-.59-.52 0-1.04.2-1.43.59L10.3 9.45l-7.72 7.72c-.78.78-.78 2.05 0 2.83L4 21.41c.39.39.9.59 1.41.59.51 0 1.02-.2 1.41-.59l7.78-7.78 2.81-2.81c.8-.78.8-2.07 0-2.86zM5.41 20L4 18.59l7.72-7.72 1.47 1.35L5.41 20z\"/>\n",
              "  </svg>\n",
              "      </button>\n",
              "      \n",
              "  <style>\n",
              "    .colab-df-container {\n",
              "      display:flex;\n",
              "      flex-wrap:wrap;\n",
              "      gap: 12px;\n",
              "    }\n",
              "\n",
              "    .colab-df-convert {\n",
              "      background-color: #E8F0FE;\n",
              "      border: none;\n",
              "      border-radius: 50%;\n",
              "      cursor: pointer;\n",
              "      display: none;\n",
              "      fill: #1967D2;\n",
              "      height: 32px;\n",
              "      padding: 0 0 0 0;\n",
              "      width: 32px;\n",
              "    }\n",
              "\n",
              "    .colab-df-convert:hover {\n",
              "      background-color: #E2EBFA;\n",
              "      box-shadow: 0px 1px 2px rgba(60, 64, 67, 0.3), 0px 1px 3px 1px rgba(60, 64, 67, 0.15);\n",
              "      fill: #174EA6;\n",
              "    }\n",
              "\n",
              "    [theme=dark] .colab-df-convert {\n",
              "      background-color: #3B4455;\n",
              "      fill: #D2E3FC;\n",
              "    }\n",
              "\n",
              "    [theme=dark] .colab-df-convert:hover {\n",
              "      background-color: #434B5C;\n",
              "      box-shadow: 0px 1px 3px 1px rgba(0, 0, 0, 0.15);\n",
              "      filter: drop-shadow(0px 1px 2px rgba(0, 0, 0, 0.3));\n",
              "      fill: #FFFFFF;\n",
              "    }\n",
              "  </style>\n",
              "\n",
              "      <script>\n",
              "        const buttonEl =\n",
              "          document.querySelector('#df-d2f0e352-dafe-4eb2-b7d0-dba70123be47 button.colab-df-convert');\n",
              "        buttonEl.style.display =\n",
              "          google.colab.kernel.accessAllowed ? 'block' : 'none';\n",
              "\n",
              "        async function convertToInteractive(key) {\n",
              "          const element = document.querySelector('#df-d2f0e352-dafe-4eb2-b7d0-dba70123be47');\n",
              "          const dataTable =\n",
              "            await google.colab.kernel.invokeFunction('convertToInteractive',\n",
              "                                                     [key], {});\n",
              "          if (!dataTable) return;\n",
              "\n",
              "          const docLinkHtml = 'Like what you see? Visit the ' +\n",
              "            '<a target=\"_blank\" href=https://colab.research.google.com/notebooks/data_table.ipynb>data table notebook</a>'\n",
              "            + ' to learn more about interactive tables.';\n",
              "          element.innerHTML = '';\n",
              "          dataTable['output_type'] = 'display_data';\n",
              "          await google.colab.output.renderOutput(dataTable, element);\n",
              "          const docLink = document.createElement('div');\n",
              "          docLink.innerHTML = docLinkHtml;\n",
              "          element.appendChild(docLink);\n",
              "        }\n",
              "      </script>\n",
              "    </div>\n",
              "  </div>\n",
              "  "
            ]
          },
          "metadata": {},
          "execution_count": 13
        }
      ]
    },
    {
      "cell_type": "code",
      "source": [
        "df.to_csv(\"new_york_times.csv\", encoding='utf-8', index=False)"
      ],
      "metadata": {
        "id": "AmEL9DywITbT"
      },
      "execution_count": 14,
      "outputs": []
    },
    {
      "cell_type": "markdown",
      "source": [
        "### Toronto Star"
      ],
      "metadata": {
        "id": "790zR5n3I17x"
      }
    },
    {
      "cell_type": "markdown",
      "source": [
        "#### Function Development\n",
        "Create a function to assist with the scraping process"
      ],
      "metadata": {
        "id": "z7cVdObbI5SJ"
      }
    },
    {
      "cell_type": "code",
      "source": [
        "def print_RSS_fields(rss_link):\n",
        "    \n",
        "    d = feedparser.parse(rss_link)\n",
        "\n",
        "    all_fields = []\n",
        "    for field in d.entries[0]:\n",
        "        all_fields.append(field)\n",
        "    print(all_fields)\n",
        "\n",
        "def df_from_RSS(rss_link, fields):\n",
        "    \n",
        "    d = feedparser.parse(rss_link)\n",
        "    \n",
        "    # Create a list of lists to hold the required RSS data from each entry\n",
        "    data = []\n",
        "    for i, entry in enumerate(d.entries):\n",
        "        row = []\n",
        "        for field in fields:\n",
        "            row.append(d.entries[i][field])\n",
        "        data.append(row)\n",
        "\n",
        "    # Convert the list of lists to a df\n",
        "    df = pd.DataFrame(data, columns = fields)\n",
        "\n",
        "    links = df[\"link\"]\n",
        "\n",
        "    article_text_dict = {}\n",
        "    for link in links:\n",
        "        article = Article(link)\n",
        "        article.download()\n",
        "        article.parse()\n",
        "        article.nlp()\n",
        "        article_text_dict[link] = article.text\n",
        "    \n",
        "    df['text'] = list(article_text_dict.values())\n",
        "\n",
        "    return df"
      ],
      "metadata": {
        "id": "ceaIjELaI9YB"
      },
      "execution_count": 15,
      "outputs": []
    },
    {
      "cell_type": "markdown",
      "source": [
        "A list of RSS feeds for the Toronto Star can be found here: https://www.thestar.com/about/rssfeeds.html\n",
        "\n",
        "Let's use the Top Stories RSS feed."
      ],
      "metadata": {
        "id": "93GYkwB2LVSq"
      }
    },
    {
      "cell_type": "code",
      "source": [
        "print_RSS_fields('https://www.thestar.com/content/thestar/feed.RSSManagerServlet.articles.topstories.rss')"
      ],
      "metadata": {
        "id": "32dR0Pp-MzSK",
        "outputId": "27b73f34-7d70-4102-e242-0cfdd7dc32cf",
        "colab": {
          "base_uri": "https://localhost:8080/"
        }
      },
      "execution_count": 16,
      "outputs": [
        {
          "output_type": "stream",
          "name": "stdout",
          "text": [
            "['title', 'title_detail', 'links', 'link', 'id', 'guidislink', 'authors', 'author', 'author_detail', 'published', 'published_parsed', 'summary', 'summary_detail', 'media_content', 'media_thumbnail', 'href', 'content', 'media_credit', 'credit']\n"
          ]
        }
      ]
    },
    {
      "cell_type": "code",
      "source": [
        "fields = ['title', 'published', 'author', 'link']\n",
        "\n",
        "df = df_from_RSS('https://www.thestar.com/content/thestar/feed.RSSManagerServlet.articles.topstories.rss', fields)\n",
        "\n",
        "df.head()"
      ],
      "metadata": {
        "id": "S0lgrgZ0JnSq",
        "outputId": "45dbab4f-b036-4553-f3f6-ea36628e120e",
        "colab": {
          "base_uri": "https://localhost:8080/",
          "height": 337
        }
      },
      "execution_count": 17,
      "outputs": [
        {
          "output_type": "execute_result",
          "data": {
            "text/plain": [
              "                                               title  \\\n",
              "0  Canada’s biggest banks set aside $2.5 billion ...   \n",
              "1  One year after the housing peak, a record drop...   \n",
              "2  ‘We were not equipped to handle a mass shootin...   \n",
              "3  Canadians should be cautious about claims of f...   \n",
              "4  Snow predicted to hit Toronto around 5 or 6 p....   \n",
              "\n",
              "                      published                                  author  \\\n",
              "0  Fri, 3 Mar 2023 05:00:00 EST     Christine Dobby - Business Reporter   \n",
              "1  Fri, 3 Mar 2023 05:00:00 EST  Tess Kalinowski - Real Estate Reporter   \n",
              "2  Fri, 3 Mar 2023 05:00:00 EST             Noor Javed - Staff Reporter   \n",
              "3  Thu, 2 Mar 2023 10:50:00 EST        Stephanie Levitz - Ottawa Bureau   \n",
              "4  Fri, 3 Mar 2023 07:50:00 EST                Star staff,wire services   \n",
              "\n",
              "                                                link  \\\n",
              "0  https://www.thestar.com/business/2023/03/03/ca...   \n",
              "1  https://www.thestar.com/news/gta/2023/03/03/on...   \n",
              "2  https://www.thestar.com/news/gta/2023/03/03/do...   \n",
              "3  https://www.thestar.com/politics/federal/2023/...   \n",
              "4  https://www.thestar.com/news/gta/2023/03/03/to...   \n",
              "\n",
              "                                                text  \n",
              "0  Canada’s largest banks have set aside almost $...  \n",
              "1  Exactly one year after the real estate market ...  \n",
              "2  Jack Rozdilsky vividly remembers the night one...  \n",
              "3  OTTAWA — No criminal charges laid. No diplomat...  \n",
              "4  Toronto can expect to see a dumping of snow Fr...  "
            ],
            "text/html": [
              "\n",
              "  <div id=\"df-84c61697-6dd4-4c0b-81ba-8166bcd11216\">\n",
              "    <div class=\"colab-df-container\">\n",
              "      <div>\n",
              "<style scoped>\n",
              "    .dataframe tbody tr th:only-of-type {\n",
              "        vertical-align: middle;\n",
              "    }\n",
              "\n",
              "    .dataframe tbody tr th {\n",
              "        vertical-align: top;\n",
              "    }\n",
              "\n",
              "    .dataframe thead th {\n",
              "        text-align: right;\n",
              "    }\n",
              "</style>\n",
              "<table border=\"1\" class=\"dataframe\">\n",
              "  <thead>\n",
              "    <tr style=\"text-align: right;\">\n",
              "      <th></th>\n",
              "      <th>title</th>\n",
              "      <th>published</th>\n",
              "      <th>author</th>\n",
              "      <th>link</th>\n",
              "      <th>text</th>\n",
              "    </tr>\n",
              "  </thead>\n",
              "  <tbody>\n",
              "    <tr>\n",
              "      <th>0</th>\n",
              "      <td>Canada’s biggest banks set aside $2.5 billion ...</td>\n",
              "      <td>Fri, 3 Mar 2023 05:00:00 EST</td>\n",
              "      <td>Christine Dobby - Business Reporter</td>\n",
              "      <td>https://www.thestar.com/business/2023/03/03/ca...</td>\n",
              "      <td>Canada’s largest banks have set aside almost $...</td>\n",
              "    </tr>\n",
              "    <tr>\n",
              "      <th>1</th>\n",
              "      <td>One year after the housing peak, a record drop...</td>\n",
              "      <td>Fri, 3 Mar 2023 05:00:00 EST</td>\n",
              "      <td>Tess Kalinowski - Real Estate Reporter</td>\n",
              "      <td>https://www.thestar.com/news/gta/2023/03/03/on...</td>\n",
              "      <td>Exactly one year after the real estate market ...</td>\n",
              "    </tr>\n",
              "    <tr>\n",
              "      <th>2</th>\n",
              "      <td>‘We were not equipped to handle a mass shootin...</td>\n",
              "      <td>Fri, 3 Mar 2023 05:00:00 EST</td>\n",
              "      <td>Noor Javed - Staff Reporter</td>\n",
              "      <td>https://www.thestar.com/news/gta/2023/03/03/do...</td>\n",
              "      <td>Jack Rozdilsky vividly remembers the night one...</td>\n",
              "    </tr>\n",
              "    <tr>\n",
              "      <th>3</th>\n",
              "      <td>Canadians should be cautious about claims of f...</td>\n",
              "      <td>Thu, 2 Mar 2023 10:50:00 EST</td>\n",
              "      <td>Stephanie Levitz - Ottawa Bureau</td>\n",
              "      <td>https://www.thestar.com/politics/federal/2023/...</td>\n",
              "      <td>OTTAWA — No criminal charges laid. No diplomat...</td>\n",
              "    </tr>\n",
              "    <tr>\n",
              "      <th>4</th>\n",
              "      <td>Snow predicted to hit Toronto around 5 or 6 p....</td>\n",
              "      <td>Fri, 3 Mar 2023 07:50:00 EST</td>\n",
              "      <td>Star staff,wire services</td>\n",
              "      <td>https://www.thestar.com/news/gta/2023/03/03/to...</td>\n",
              "      <td>Toronto can expect to see a dumping of snow Fr...</td>\n",
              "    </tr>\n",
              "  </tbody>\n",
              "</table>\n",
              "</div>\n",
              "      <button class=\"colab-df-convert\" onclick=\"convertToInteractive('df-84c61697-6dd4-4c0b-81ba-8166bcd11216')\"\n",
              "              title=\"Convert this dataframe to an interactive table.\"\n",
              "              style=\"display:none;\">\n",
              "        \n",
              "  <svg xmlns=\"http://www.w3.org/2000/svg\" height=\"24px\"viewBox=\"0 0 24 24\"\n",
              "       width=\"24px\">\n",
              "    <path d=\"M0 0h24v24H0V0z\" fill=\"none\"/>\n",
              "    <path d=\"M18.56 5.44l.94 2.06.94-2.06 2.06-.94-2.06-.94-.94-2.06-.94 2.06-2.06.94zm-11 1L8.5 8.5l.94-2.06 2.06-.94-2.06-.94L8.5 2.5l-.94 2.06-2.06.94zm10 10l.94 2.06.94-2.06 2.06-.94-2.06-.94-.94-2.06-.94 2.06-2.06.94z\"/><path d=\"M17.41 7.96l-1.37-1.37c-.4-.4-.92-.59-1.43-.59-.52 0-1.04.2-1.43.59L10.3 9.45l-7.72 7.72c-.78.78-.78 2.05 0 2.83L4 21.41c.39.39.9.59 1.41.59.51 0 1.02-.2 1.41-.59l7.78-7.78 2.81-2.81c.8-.78.8-2.07 0-2.86zM5.41 20L4 18.59l7.72-7.72 1.47 1.35L5.41 20z\"/>\n",
              "  </svg>\n",
              "      </button>\n",
              "      \n",
              "  <style>\n",
              "    .colab-df-container {\n",
              "      display:flex;\n",
              "      flex-wrap:wrap;\n",
              "      gap: 12px;\n",
              "    }\n",
              "\n",
              "    .colab-df-convert {\n",
              "      background-color: #E8F0FE;\n",
              "      border: none;\n",
              "      border-radius: 50%;\n",
              "      cursor: pointer;\n",
              "      display: none;\n",
              "      fill: #1967D2;\n",
              "      height: 32px;\n",
              "      padding: 0 0 0 0;\n",
              "      width: 32px;\n",
              "    }\n",
              "\n",
              "    .colab-df-convert:hover {\n",
              "      background-color: #E2EBFA;\n",
              "      box-shadow: 0px 1px 2px rgba(60, 64, 67, 0.3), 0px 1px 3px 1px rgba(60, 64, 67, 0.15);\n",
              "      fill: #174EA6;\n",
              "    }\n",
              "\n",
              "    [theme=dark] .colab-df-convert {\n",
              "      background-color: #3B4455;\n",
              "      fill: #D2E3FC;\n",
              "    }\n",
              "\n",
              "    [theme=dark] .colab-df-convert:hover {\n",
              "      background-color: #434B5C;\n",
              "      box-shadow: 0px 1px 3px 1px rgba(0, 0, 0, 0.15);\n",
              "      filter: drop-shadow(0px 1px 2px rgba(0, 0, 0, 0.3));\n",
              "      fill: #FFFFFF;\n",
              "    }\n",
              "  </style>\n",
              "\n",
              "      <script>\n",
              "        const buttonEl =\n",
              "          document.querySelector('#df-84c61697-6dd4-4c0b-81ba-8166bcd11216 button.colab-df-convert');\n",
              "        buttonEl.style.display =\n",
              "          google.colab.kernel.accessAllowed ? 'block' : 'none';\n",
              "\n",
              "        async function convertToInteractive(key) {\n",
              "          const element = document.querySelector('#df-84c61697-6dd4-4c0b-81ba-8166bcd11216');\n",
              "          const dataTable =\n",
              "            await google.colab.kernel.invokeFunction('convertToInteractive',\n",
              "                                                     [key], {});\n",
              "          if (!dataTable) return;\n",
              "\n",
              "          const docLinkHtml = 'Like what you see? Visit the ' +\n",
              "            '<a target=\"_blank\" href=https://colab.research.google.com/notebooks/data_table.ipynb>data table notebook</a>'\n",
              "            + ' to learn more about interactive tables.';\n",
              "          element.innerHTML = '';\n",
              "          dataTable['output_type'] = 'display_data';\n",
              "          await google.colab.output.renderOutput(dataTable, element);\n",
              "          const docLink = document.createElement('div');\n",
              "          docLink.innerHTML = docLinkHtml;\n",
              "          element.appendChild(docLink);\n",
              "        }\n",
              "      </script>\n",
              "    </div>\n",
              "  </div>\n",
              "  "
            ]
          },
          "metadata": {},
          "execution_count": 17
        }
      ]
    },
    {
      "cell_type": "code",
      "source": [
        "df.to_csv(\"toronto_star.csv\", encoding='utf-8', index=False)"
      ],
      "metadata": {
        "id": "ysphkXWCLBMd"
      },
      "execution_count": 18,
      "outputs": []
    },
    {
      "cell_type": "markdown",
      "source": [
        "### Le Devoir"
      ],
      "metadata": {
        "id": "uM9VGfkqLLMK"
      }
    },
    {
      "cell_type": "markdown",
      "source": [
        "A list of RSS feeds for Le Devoir can be found here: https://www.ledevoir.com/flux-rss\n",
        "\n",
        "Let's use the World (le Monde) RSS feed."
      ],
      "metadata": {
        "id": "PuWOBLUILiYK"
      }
    },
    {
      "cell_type": "code",
      "source": [
        "print_RSS_fields('https://www.ledevoir.com/rss/section/monde.xml?id=76')"
      ],
      "metadata": {
        "id": "Vo6mYJV6MopS",
        "outputId": "4f3be029-28b4-45cc-a2cd-95f2c8c2cb5b",
        "colab": {
          "base_uri": "https://localhost:8080/"
        }
      },
      "execution_count": 19,
      "outputs": [
        {
          "output_type": "stream",
          "name": "stdout",
          "text": [
            "['surtitle', 'title', 'title_detail', 'published', 'published_parsed', 'links', 'link', 'id', 'guidislink', 'tags', 'summary', 'summary_detail', 'authors', 'author', 'author_detail']\n"
          ]
        }
      ]
    },
    {
      "cell_type": "code",
      "source": [
        "fields = ['title', 'published', 'author', 'link']\n",
        "\n",
        "df = df_from_RSS('https://www.ledevoir.com/rss/section/monde.xml?id=76', fields)\n",
        "\n",
        "df.head()"
      ],
      "metadata": {
        "id": "Etk7Mpf2LOKb",
        "outputId": "9e706ef1-6c3f-466d-82f4-8b3388dfa0fc",
        "colab": {
          "base_uri": "https://localhost:8080/",
          "height": 337
        }
      },
      "execution_count": 26,
      "outputs": [
        {
          "output_type": "execute_result",
          "data": {
            "text/plain": [
              "                                               title  \\\n",
              "0  Au congrès des conservateurs américains, Nikki...   \n",
              "1  En Grèce, la colère engendrée par la catastrop...   \n",
              "2  Au Liban, l’inquiétant effondrement des instit...   \n",
              "3  Bakhmout «pratiquement encerclée», selon le gr...   \n",
              "4  Ales Bialiatski, colauréat du Nobel de la paix...   \n",
              "\n",
              "                         published  \\\n",
              "0  Fri, 03 Mar 2023 15:10:07 -0500   \n",
              "1  Fri, 03 Mar 2023 14:35:58 -0500   \n",
              "2  Fri, 03 Mar 2023 12:28:29 -0500   \n",
              "3  Fri, 03 Mar 2023 08:03:34 -0500   \n",
              "4  Fri, 03 Mar 2023 07:15:43 -0500   \n",
              "\n",
              "                                           author  \\\n",
              "0   webmestre@ledevoir.com (Agence France-Presse)   \n",
              "1  webmestre@ledevoir.com (Vassilis  Kyriakoulis)   \n",
              "2          webmestre@ledevoir.com (Acil  Tabbara)   \n",
              "3      webmestre@ledevoir.com (Daria Andriievska)   \n",
              "4   webmestre@ledevoir.com (Agence France-Presse)   \n",
              "\n",
              "                                                link  \\\n",
              "0  https://www.ledevoir.com/monde/etats-unis/7840...   \n",
              "1  https://www.ledevoir.com/monde/europe/783964/-...   \n",
              "2  https://www.ledevoir.com/monde/moyen-orient/78...   \n",
              "3  https://www.ledevoir.com/monde/europe/783954/-...   \n",
              "4  https://www.ledevoir.com/monde/europe/783952/-...   \n",
              "\n",
              "                                                text  \n",
              "0  Sans jamais le nommer directement, la candidat...  \n",
              "1  « Assassins », « crime » : des milliers de per...  \n",
              "2  Le chef de l’un des principaux organes de sécu...  \n",
              "3  Le groupe paramilitaire russe Wagner, dont les...  \n",
              "4  Un tribunal de Minsk a condamné vendredi à 10 ...  "
            ],
            "text/html": [
              "\n",
              "  <div id=\"df-1db75bc3-9728-4089-b4e6-5318e90c6872\">\n",
              "    <div class=\"colab-df-container\">\n",
              "      <div>\n",
              "<style scoped>\n",
              "    .dataframe tbody tr th:only-of-type {\n",
              "        vertical-align: middle;\n",
              "    }\n",
              "\n",
              "    .dataframe tbody tr th {\n",
              "        vertical-align: top;\n",
              "    }\n",
              "\n",
              "    .dataframe thead th {\n",
              "        text-align: right;\n",
              "    }\n",
              "</style>\n",
              "<table border=\"1\" class=\"dataframe\">\n",
              "  <thead>\n",
              "    <tr style=\"text-align: right;\">\n",
              "      <th></th>\n",
              "      <th>title</th>\n",
              "      <th>published</th>\n",
              "      <th>author</th>\n",
              "      <th>link</th>\n",
              "      <th>text</th>\n",
              "    </tr>\n",
              "  </thead>\n",
              "  <tbody>\n",
              "    <tr>\n",
              "      <th>0</th>\n",
              "      <td>Au congrès des conservateurs américains, Nikki...</td>\n",
              "      <td>Fri, 03 Mar 2023 15:10:07 -0500</td>\n",
              "      <td>webmestre@ledevoir.com (Agence France-Presse)</td>\n",
              "      <td>https://www.ledevoir.com/monde/etats-unis/7840...</td>\n",
              "      <td>Sans jamais le nommer directement, la candidat...</td>\n",
              "    </tr>\n",
              "    <tr>\n",
              "      <th>1</th>\n",
              "      <td>En Grèce, la colère engendrée par la catastrop...</td>\n",
              "      <td>Fri, 03 Mar 2023 14:35:58 -0500</td>\n",
              "      <td>webmestre@ledevoir.com (Vassilis  Kyriakoulis)</td>\n",
              "      <td>https://www.ledevoir.com/monde/europe/783964/-...</td>\n",
              "      <td>« Assassins », « crime » : des milliers de per...</td>\n",
              "    </tr>\n",
              "    <tr>\n",
              "      <th>2</th>\n",
              "      <td>Au Liban, l’inquiétant effondrement des instit...</td>\n",
              "      <td>Fri, 03 Mar 2023 12:28:29 -0500</td>\n",
              "      <td>webmestre@ledevoir.com (Acil  Tabbara)</td>\n",
              "      <td>https://www.ledevoir.com/monde/moyen-orient/78...</td>\n",
              "      <td>Le chef de l’un des principaux organes de sécu...</td>\n",
              "    </tr>\n",
              "    <tr>\n",
              "      <th>3</th>\n",
              "      <td>Bakhmout «pratiquement encerclée», selon le gr...</td>\n",
              "      <td>Fri, 03 Mar 2023 08:03:34 -0500</td>\n",
              "      <td>webmestre@ledevoir.com (Daria Andriievska)</td>\n",
              "      <td>https://www.ledevoir.com/monde/europe/783954/-...</td>\n",
              "      <td>Le groupe paramilitaire russe Wagner, dont les...</td>\n",
              "    </tr>\n",
              "    <tr>\n",
              "      <th>4</th>\n",
              "      <td>Ales Bialiatski, colauréat du Nobel de la paix...</td>\n",
              "      <td>Fri, 03 Mar 2023 07:15:43 -0500</td>\n",
              "      <td>webmestre@ledevoir.com (Agence France-Presse)</td>\n",
              "      <td>https://www.ledevoir.com/monde/europe/783952/-...</td>\n",
              "      <td>Un tribunal de Minsk a condamné vendredi à 10 ...</td>\n",
              "    </tr>\n",
              "  </tbody>\n",
              "</table>\n",
              "</div>\n",
              "      <button class=\"colab-df-convert\" onclick=\"convertToInteractive('df-1db75bc3-9728-4089-b4e6-5318e90c6872')\"\n",
              "              title=\"Convert this dataframe to an interactive table.\"\n",
              "              style=\"display:none;\">\n",
              "        \n",
              "  <svg xmlns=\"http://www.w3.org/2000/svg\" height=\"24px\"viewBox=\"0 0 24 24\"\n",
              "       width=\"24px\">\n",
              "    <path d=\"M0 0h24v24H0V0z\" fill=\"none\"/>\n",
              "    <path d=\"M18.56 5.44l.94 2.06.94-2.06 2.06-.94-2.06-.94-.94-2.06-.94 2.06-2.06.94zm-11 1L8.5 8.5l.94-2.06 2.06-.94-2.06-.94L8.5 2.5l-.94 2.06-2.06.94zm10 10l.94 2.06.94-2.06 2.06-.94-2.06-.94-.94-2.06-.94 2.06-2.06.94z\"/><path d=\"M17.41 7.96l-1.37-1.37c-.4-.4-.92-.59-1.43-.59-.52 0-1.04.2-1.43.59L10.3 9.45l-7.72 7.72c-.78.78-.78 2.05 0 2.83L4 21.41c.39.39.9.59 1.41.59.51 0 1.02-.2 1.41-.59l7.78-7.78 2.81-2.81c.8-.78.8-2.07 0-2.86zM5.41 20L4 18.59l7.72-7.72 1.47 1.35L5.41 20z\"/>\n",
              "  </svg>\n",
              "      </button>\n",
              "      \n",
              "  <style>\n",
              "    .colab-df-container {\n",
              "      display:flex;\n",
              "      flex-wrap:wrap;\n",
              "      gap: 12px;\n",
              "    }\n",
              "\n",
              "    .colab-df-convert {\n",
              "      background-color: #E8F0FE;\n",
              "      border: none;\n",
              "      border-radius: 50%;\n",
              "      cursor: pointer;\n",
              "      display: none;\n",
              "      fill: #1967D2;\n",
              "      height: 32px;\n",
              "      padding: 0 0 0 0;\n",
              "      width: 32px;\n",
              "    }\n",
              "\n",
              "    .colab-df-convert:hover {\n",
              "      background-color: #E2EBFA;\n",
              "      box-shadow: 0px 1px 2px rgba(60, 64, 67, 0.3), 0px 1px 3px 1px rgba(60, 64, 67, 0.15);\n",
              "      fill: #174EA6;\n",
              "    }\n",
              "\n",
              "    [theme=dark] .colab-df-convert {\n",
              "      background-color: #3B4455;\n",
              "      fill: #D2E3FC;\n",
              "    }\n",
              "\n",
              "    [theme=dark] .colab-df-convert:hover {\n",
              "      background-color: #434B5C;\n",
              "      box-shadow: 0px 1px 3px 1px rgba(0, 0, 0, 0.15);\n",
              "      filter: drop-shadow(0px 1px 2px rgba(0, 0, 0, 0.3));\n",
              "      fill: #FFFFFF;\n",
              "    }\n",
              "  </style>\n",
              "\n",
              "      <script>\n",
              "        const buttonEl =\n",
              "          document.querySelector('#df-1db75bc3-9728-4089-b4e6-5318e90c6872 button.colab-df-convert');\n",
              "        buttonEl.style.display =\n",
              "          google.colab.kernel.accessAllowed ? 'block' : 'none';\n",
              "\n",
              "        async function convertToInteractive(key) {\n",
              "          const element = document.querySelector('#df-1db75bc3-9728-4089-b4e6-5318e90c6872');\n",
              "          const dataTable =\n",
              "            await google.colab.kernel.invokeFunction('convertToInteractive',\n",
              "                                                     [key], {});\n",
              "          if (!dataTable) return;\n",
              "\n",
              "          const docLinkHtml = 'Like what you see? Visit the ' +\n",
              "            '<a target=\"_blank\" href=https://colab.research.google.com/notebooks/data_table.ipynb>data table notebook</a>'\n",
              "            + ' to learn more about interactive tables.';\n",
              "          element.innerHTML = '';\n",
              "          dataTable['output_type'] = 'display_data';\n",
              "          await google.colab.output.renderOutput(dataTable, element);\n",
              "          const docLink = document.createElement('div');\n",
              "          docLink.innerHTML = docLinkHtml;\n",
              "          element.appendChild(docLink);\n",
              "        }\n",
              "      </script>\n",
              "    </div>\n",
              "  </div>\n",
              "  "
            ]
          },
          "metadata": {},
          "execution_count": 26
        }
      ]
    },
    {
      "cell_type": "code",
      "source": [
        "df.to_csv(\"le_devoir.csv\", encoding='utf-8-sig', index=False)"
      ],
      "metadata": {
        "id": "fldkt7rQOyYT"
      },
      "execution_count": 21,
      "outputs": []
    },
    {
      "cell_type": "markdown",
      "source": [
        "### CBC"
      ],
      "metadata": {
        "id": "XFBqhdKTO1Yb"
      }
    },
    {
      "cell_type": "markdown",
      "source": [
        "A list of RSS feeds for the CBCs can be found here: https://www.cbc.ca/rss/\n",
        "\n",
        "Let's use the World RSS feed."
      ],
      "metadata": {
        "id": "tYXETSS1O7Mj"
      }
    },
    {
      "cell_type": "code",
      "source": [
        "print_RSS_fields('https://rss.cbc.ca/lineup/world.xml')"
      ],
      "metadata": {
        "id": "FxSh5dlfPD3z",
        "outputId": "f1f7a99c-199c-48e5-eb42-b8d272652ac2",
        "colab": {
          "base_uri": "https://localhost:8080/"
        }
      },
      "execution_count": 22,
      "outputs": [
        {
          "output_type": "stream",
          "name": "stdout",
          "text": [
            "['title', 'title_detail', 'links', 'link', 'id', 'guidislink', 'published', 'published_parsed', 'authors', 'author', 'author_detail', 'tags', 'summary', 'summary_detail']\n"
          ]
        }
      ]
    },
    {
      "cell_type": "code",
      "source": [
        "fields = ['title', 'published', 'author', 'link']\n",
        "\n",
        "df = df_from_RSS('https://rss.cbc.ca/lineup/world.xml', fields)\n",
        "\n",
        "df.head()"
      ],
      "metadata": {
        "id": "oupaTMfEPMFD",
        "outputId": "e3345c76-efc3-41d9-c702-01ee93badab1",
        "colab": {
          "base_uri": "https://localhost:8080/",
          "height": 337
        }
      },
      "execution_count": 23,
      "outputs": [
        {
          "output_type": "execute_result",
          "data": {
            "text/plain": [
              "                                               title  \\\n",
              "0  Nobel Peace Prize winner Ales Bialiatski sente...   \n",
              "1  South Carolina lawyer Alex Murdaugh sentenced ...   \n",
              "2  King Charles to try to thaw post-Brexit relati...   \n",
              "3  Mexican man who died on U.S. border struggled ...   \n",
              "4  'Stop the bleeding,' Philippines health offici...   \n",
              "\n",
              "                       published                author  \\\n",
              "0   Fri, 3 Mar 2023 06:41:51 EST  The Associated Press   \n",
              "1   Fri, 3 Mar 2023 10:25:01 EST  The Associated Press   \n",
              "2   Fri, 3 Mar 2023 09:45:35 EST  The Associated Press   \n",
              "3  Fri, 10 Feb 2023 13:58:40 EST                         \n",
              "4   Fri, 3 Mar 2023 04:00:00 EST           Karen Pauls   \n",
              "\n",
              "                                                link  \\\n",
              "0  https://www.cbc.ca/news/world/belarus-bialiats...   \n",
              "1  https://www.cbc.ca/news/world/us-sc-murdaugh-s...   \n",
              "2  https://www.cbc.ca/news/world/king-charles-fir...   \n",
              "3  https://www.cbc.ca/news/canada/montreal/mexica...   \n",
              "4  https://www.cbc.ca/news/canada/manitoba/philip...   \n",
              "\n",
              "                                                text  \n",
              "0  The UN Human Rights Office said it was 'very d...  \n",
              "1  Disgraced South Carolina lawyer Alex Murdaugh ...  \n",
              "2  King Charles will travel to France and Germany...  \n",
              "3  The Mexican man who died Feb. 19 shortly after...  \n",
              "4  Rhea Patulay saw the shortage of Filipino nurs...  "
            ],
            "text/html": [
              "\n",
              "  <div id=\"df-4e83acd5-761b-466c-80a1-4cd49e0690c6\">\n",
              "    <div class=\"colab-df-container\">\n",
              "      <div>\n",
              "<style scoped>\n",
              "    .dataframe tbody tr th:only-of-type {\n",
              "        vertical-align: middle;\n",
              "    }\n",
              "\n",
              "    .dataframe tbody tr th {\n",
              "        vertical-align: top;\n",
              "    }\n",
              "\n",
              "    .dataframe thead th {\n",
              "        text-align: right;\n",
              "    }\n",
              "</style>\n",
              "<table border=\"1\" class=\"dataframe\">\n",
              "  <thead>\n",
              "    <tr style=\"text-align: right;\">\n",
              "      <th></th>\n",
              "      <th>title</th>\n",
              "      <th>published</th>\n",
              "      <th>author</th>\n",
              "      <th>link</th>\n",
              "      <th>text</th>\n",
              "    </tr>\n",
              "  </thead>\n",
              "  <tbody>\n",
              "    <tr>\n",
              "      <th>0</th>\n",
              "      <td>Nobel Peace Prize winner Ales Bialiatski sente...</td>\n",
              "      <td>Fri, 3 Mar 2023 06:41:51 EST</td>\n",
              "      <td>The Associated Press</td>\n",
              "      <td>https://www.cbc.ca/news/world/belarus-bialiats...</td>\n",
              "      <td>The UN Human Rights Office said it was 'very d...</td>\n",
              "    </tr>\n",
              "    <tr>\n",
              "      <th>1</th>\n",
              "      <td>South Carolina lawyer Alex Murdaugh sentenced ...</td>\n",
              "      <td>Fri, 3 Mar 2023 10:25:01 EST</td>\n",
              "      <td>The Associated Press</td>\n",
              "      <td>https://www.cbc.ca/news/world/us-sc-murdaugh-s...</td>\n",
              "      <td>Disgraced South Carolina lawyer Alex Murdaugh ...</td>\n",
              "    </tr>\n",
              "    <tr>\n",
              "      <th>2</th>\n",
              "      <td>King Charles to try to thaw post-Brexit relati...</td>\n",
              "      <td>Fri, 3 Mar 2023 09:45:35 EST</td>\n",
              "      <td>The Associated Press</td>\n",
              "      <td>https://www.cbc.ca/news/world/king-charles-fir...</td>\n",
              "      <td>King Charles will travel to France and Germany...</td>\n",
              "    </tr>\n",
              "    <tr>\n",
              "      <th>3</th>\n",
              "      <td>Mexican man who died on U.S. border struggled ...</td>\n",
              "      <td>Fri, 10 Feb 2023 13:58:40 EST</td>\n",
              "      <td></td>\n",
              "      <td>https://www.cbc.ca/news/canada/montreal/mexica...</td>\n",
              "      <td>The Mexican man who died Feb. 19 shortly after...</td>\n",
              "    </tr>\n",
              "    <tr>\n",
              "      <th>4</th>\n",
              "      <td>'Stop the bleeding,' Philippines health offici...</td>\n",
              "      <td>Fri, 3 Mar 2023 04:00:00 EST</td>\n",
              "      <td>Karen Pauls</td>\n",
              "      <td>https://www.cbc.ca/news/canada/manitoba/philip...</td>\n",
              "      <td>Rhea Patulay saw the shortage of Filipino nurs...</td>\n",
              "    </tr>\n",
              "  </tbody>\n",
              "</table>\n",
              "</div>\n",
              "      <button class=\"colab-df-convert\" onclick=\"convertToInteractive('df-4e83acd5-761b-466c-80a1-4cd49e0690c6')\"\n",
              "              title=\"Convert this dataframe to an interactive table.\"\n",
              "              style=\"display:none;\">\n",
              "        \n",
              "  <svg xmlns=\"http://www.w3.org/2000/svg\" height=\"24px\"viewBox=\"0 0 24 24\"\n",
              "       width=\"24px\">\n",
              "    <path d=\"M0 0h24v24H0V0z\" fill=\"none\"/>\n",
              "    <path d=\"M18.56 5.44l.94 2.06.94-2.06 2.06-.94-2.06-.94-.94-2.06-.94 2.06-2.06.94zm-11 1L8.5 8.5l.94-2.06 2.06-.94-2.06-.94L8.5 2.5l-.94 2.06-2.06.94zm10 10l.94 2.06.94-2.06 2.06-.94-2.06-.94-.94-2.06-.94 2.06-2.06.94z\"/><path d=\"M17.41 7.96l-1.37-1.37c-.4-.4-.92-.59-1.43-.59-.52 0-1.04.2-1.43.59L10.3 9.45l-7.72 7.72c-.78.78-.78 2.05 0 2.83L4 21.41c.39.39.9.59 1.41.59.51 0 1.02-.2 1.41-.59l7.78-7.78 2.81-2.81c.8-.78.8-2.07 0-2.86zM5.41 20L4 18.59l7.72-7.72 1.47 1.35L5.41 20z\"/>\n",
              "  </svg>\n",
              "      </button>\n",
              "      \n",
              "  <style>\n",
              "    .colab-df-container {\n",
              "      display:flex;\n",
              "      flex-wrap:wrap;\n",
              "      gap: 12px;\n",
              "    }\n",
              "\n",
              "    .colab-df-convert {\n",
              "      background-color: #E8F0FE;\n",
              "      border: none;\n",
              "      border-radius: 50%;\n",
              "      cursor: pointer;\n",
              "      display: none;\n",
              "      fill: #1967D2;\n",
              "      height: 32px;\n",
              "      padding: 0 0 0 0;\n",
              "      width: 32px;\n",
              "    }\n",
              "\n",
              "    .colab-df-convert:hover {\n",
              "      background-color: #E2EBFA;\n",
              "      box-shadow: 0px 1px 2px rgba(60, 64, 67, 0.3), 0px 1px 3px 1px rgba(60, 64, 67, 0.15);\n",
              "      fill: #174EA6;\n",
              "    }\n",
              "\n",
              "    [theme=dark] .colab-df-convert {\n",
              "      background-color: #3B4455;\n",
              "      fill: #D2E3FC;\n",
              "    }\n",
              "\n",
              "    [theme=dark] .colab-df-convert:hover {\n",
              "      background-color: #434B5C;\n",
              "      box-shadow: 0px 1px 3px 1px rgba(0, 0, 0, 0.15);\n",
              "      filter: drop-shadow(0px 1px 2px rgba(0, 0, 0, 0.3));\n",
              "      fill: #FFFFFF;\n",
              "    }\n",
              "  </style>\n",
              "\n",
              "      <script>\n",
              "        const buttonEl =\n",
              "          document.querySelector('#df-4e83acd5-761b-466c-80a1-4cd49e0690c6 button.colab-df-convert');\n",
              "        buttonEl.style.display =\n",
              "          google.colab.kernel.accessAllowed ? 'block' : 'none';\n",
              "\n",
              "        async function convertToInteractive(key) {\n",
              "          const element = document.querySelector('#df-4e83acd5-761b-466c-80a1-4cd49e0690c6');\n",
              "          const dataTable =\n",
              "            await google.colab.kernel.invokeFunction('convertToInteractive',\n",
              "                                                     [key], {});\n",
              "          if (!dataTable) return;\n",
              "\n",
              "          const docLinkHtml = 'Like what you see? Visit the ' +\n",
              "            '<a target=\"_blank\" href=https://colab.research.google.com/notebooks/data_table.ipynb>data table notebook</a>'\n",
              "            + ' to learn more about interactive tables.';\n",
              "          element.innerHTML = '';\n",
              "          dataTable['output_type'] = 'display_data';\n",
              "          await google.colab.output.renderOutput(dataTable, element);\n",
              "          const docLink = document.createElement('div');\n",
              "          docLink.innerHTML = docLinkHtml;\n",
              "          element.appendChild(docLink);\n",
              "        }\n",
              "      </script>\n",
              "    </div>\n",
              "  </div>\n",
              "  "
            ]
          },
          "metadata": {},
          "execution_count": 23
        }
      ]
    },
    {
      "cell_type": "code",
      "source": [
        "df.to_csv(\"cbc.csv\", encoding='utf-8', index=False)"
      ],
      "metadata": {
        "id": "-SSqmuVcQHLs"
      },
      "execution_count": 24,
      "outputs": []
    },
    {
      "cell_type": "markdown",
      "source": [
        "## 3. Text Processing"
      ],
      "metadata": {
        "id": "ce7yR5s9QjRi"
      }
    },
    {
      "cell_type": "code",
      "source": [],
      "metadata": {
        "id": "nZ-dhGHiR7yd"
      },
      "execution_count": null,
      "outputs": []
    }
  ]
}