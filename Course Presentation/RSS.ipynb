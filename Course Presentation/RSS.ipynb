{
  "nbformat": 4,
  "nbformat_minor": 0,
  "metadata": {
    "colab": {
      "provenance": [],
      "collapsed_sections": [
        "uM9VGfkqLLMK",
        "XFBqhdKTO1Yb"
      ],
      "machine_shape": "hm",
      "include_colab_link": true
    },
    "kernelspec": {
      "name": "python3",
      "display_name": "Python 3"
    },
    "language_info": {
      "name": "python"
    },
    "gpuClass": "standard"
  },
  "cells": [
    {
      "cell_type": "markdown",
      "metadata": {
        "id": "view-in-github",
        "colab_type": "text"
      },
      "source": [
        "<a href=\"https://colab.research.google.com/github/farhanwadia/MIE1624/blob/master/Course%20Presentation/RSS.ipynb\" target=\"_parent\"><img src=\"https://colab.research.google.com/assets/colab-badge.svg\" alt=\"Open In Colab\"/></a>"
      ]
    },
    {
      "cell_type": "markdown",
      "source": [
        "# Web Scraping with RSS Feeds\n",
        "\n",
        "Prepared by Group 14"
      ],
      "metadata": {
        "id": "BlJ95R6pGLJy"
      }
    },
    {
      "cell_type": "markdown",
      "source": [
        "The purpose of this notebook is to show how to scrape news articles from the RSS feeds of various news sources, and perform text processing techniques. This notebook can be accessed at https://github.com/farhanwadia/MIE1624/blob/master/Course%20Presentation/RSS.ipynb"
      ],
      "metadata": {
        "id": "9ajIYc9PGdVh"
      }
    },
    {
      "cell_type": "markdown",
      "source": [
        "## 1. Installation"
      ],
      "metadata": {
        "id": "afBKHWEBGtra"
      }
    },
    {
      "cell_type": "code",
      "execution_count": 1,
      "metadata": {
        "id": "vPbf5VVhlJI1",
        "colab": {
          "base_uri": "https://localhost:8080/"
        },
        "outputId": "989c2a26-2414-441f-88b2-c2bcb6e68604"
      },
      "outputs": [
        {
          "output_type": "stream",
          "name": "stdout",
          "text": [
            "Cloning into 'MIE1624'...\n",
            "remote: Enumerating objects: 48, done.\u001b[K\n",
            "remote: Counting objects: 100% (48/48), done.\u001b[K\n",
            "remote: Compressing objects: 100% (42/42), done.\u001b[K\n",
            "remote: Total 48 (delta 10), reused 20 (delta 3), pack-reused 0\u001b[K\n",
            "Unpacking objects: 100% (48/48), 270.61 KiB | 1.63 MiB/s, done.\n"
          ]
        }
      ],
      "source": [
        "!git clone https://github.com/farhanwadia/MIE1624.git"
      ]
    },
    {
      "cell_type": "code",
      "source": [
        "%cd MIE1624\n",
        "%cd 'Course Presentation'"
      ],
      "metadata": {
        "id": "8fU-LFYgqYmj",
        "colab": {
          "base_uri": "https://localhost:8080/"
        },
        "outputId": "73b90d89-a89c-4e05-fa56-a317dcbc4948"
      },
      "execution_count": 2,
      "outputs": [
        {
          "output_type": "stream",
          "name": "stdout",
          "text": [
            "/content/MIE1624\n",
            "/content/MIE1624/Course Presentation\n"
          ]
        }
      ]
    },
    {
      "cell_type": "code",
      "source": [
        "!ls"
      ],
      "metadata": {
        "id": "QCVxisDlnBNU",
        "colab": {
          "base_uri": "https://localhost:8080/"
        },
        "outputId": "38ffa32c-47c5-4d34-b171-61091c932dcf"
      },
      "execution_count": 3,
      "outputs": [
        {
          "output_type": "stream",
          "name": "stdout",
          "text": [
            " GP.ipynb\t\t\t\t\t    new_york_times.csv\n",
            "'In-class presentation assignment - Group 14.pdf'   RSS.ipynb\n",
            " le_devoir.csv\t\t\t\t\t    toronto_star.csv\n"
          ]
        }
      ]
    },
    {
      "cell_type": "code",
      "source": [
        "!pip install feedparser\n",
        "!pip install newspaper3k"
      ],
      "metadata": {
        "colab": {
          "base_uri": "https://localhost:8080/"
        },
        "id": "PkXjAYSzocN8",
        "outputId": "cec66815-bc0e-44ab-811a-aa67c3cab791"
      },
      "execution_count": 4,
      "outputs": [
        {
          "output_type": "stream",
          "name": "stdout",
          "text": [
            "Looking in indexes: https://pypi.org/simple, https://us-python.pkg.dev/colab-wheels/public/simple/\n",
            "Collecting feedparser\n",
            "  Downloading feedparser-6.0.10-py3-none-any.whl (81 kB)\n",
            "\u001b[2K     \u001b[90m━━━━━━━━━━━━━━━━━━━━━━━━━━━━━━━━━━━━━━━━\u001b[0m \u001b[32m81.1/81.1 KB\u001b[0m \u001b[31m1.4 MB/s\u001b[0m eta \u001b[36m0:00:00\u001b[0m\n",
            "\u001b[?25hCollecting sgmllib3k\n",
            "  Downloading sgmllib3k-1.0.0.tar.gz (5.8 kB)\n",
            "  Preparing metadata (setup.py) ... \u001b[?25l\u001b[?25hdone\n",
            "Building wheels for collected packages: sgmllib3k\n",
            "  Building wheel for sgmllib3k (setup.py) ... \u001b[?25l\u001b[?25hdone\n",
            "  Created wheel for sgmllib3k: filename=sgmllib3k-1.0.0-py3-none-any.whl size=6066 sha256=7dab0cbf388b8c7ced3725d3745bafb3991e19c28f9b2c3cfb918e4a86434130\n",
            "  Stored in directory: /root/.cache/pip/wheels/83/63/2f/117884c3b19d46b64d3d61690333aa80c88dc14050e269c546\n",
            "Successfully built sgmllib3k\n",
            "Installing collected packages: sgmllib3k, feedparser\n",
            "Successfully installed feedparser-6.0.10 sgmllib3k-1.0.0\n",
            "Looking in indexes: https://pypi.org/simple, https://us-python.pkg.dev/colab-wheels/public/simple/\n",
            "Collecting newspaper3k\n",
            "  Downloading newspaper3k-0.2.8-py3-none-any.whl (211 kB)\n",
            "\u001b[2K     \u001b[90m━━━━━━━━━━━━━━━━━━━━━━━━━━━━━━━━━━━━━━━\u001b[0m \u001b[32m211.1/211.1 KB\u001b[0m \u001b[31m3.3 MB/s\u001b[0m eta \u001b[36m0:00:00\u001b[0m\n",
            "\u001b[?25hRequirement already satisfied: requests>=2.10.0 in /usr/local/lib/python3.8/dist-packages (from newspaper3k) (2.25.1)\n",
            "Requirement already satisfied: Pillow>=3.3.0 in /usr/local/lib/python3.8/dist-packages (from newspaper3k) (8.4.0)\n",
            "Collecting tldextract>=2.0.1\n",
            "  Downloading tldextract-3.4.0-py3-none-any.whl (93 kB)\n",
            "\u001b[2K     \u001b[90m━━━━━━━━━━━━━━━━━━━━━━━━━━━━━━━━━━━━━━━━\u001b[0m \u001b[32m93.9/93.9 KB\u001b[0m \u001b[31m4.2 MB/s\u001b[0m eta \u001b[36m0:00:00\u001b[0m\n",
            "\u001b[?25hRequirement already satisfied: beautifulsoup4>=4.4.1 in /usr/local/lib/python3.8/dist-packages (from newspaper3k) (4.6.3)\n",
            "Requirement already satisfied: PyYAML>=3.11 in /usr/local/lib/python3.8/dist-packages (from newspaper3k) (6.0)\n",
            "Requirement already satisfied: nltk>=3.2.1 in /usr/local/lib/python3.8/dist-packages (from newspaper3k) (3.7)\n",
            "Requirement already satisfied: python-dateutil>=2.5.3 in /usr/local/lib/python3.8/dist-packages (from newspaper3k) (2.8.2)\n",
            "Collecting jieba3k>=0.35.1\n",
            "  Downloading jieba3k-0.35.1.zip (7.4 MB)\n",
            "\u001b[2K     \u001b[90m━━━━━━━━━━━━━━━━━━━━━━━━━━━━━━━━━━━━━━━━\u001b[0m \u001b[32m7.4/7.4 MB\u001b[0m \u001b[31m40.1 MB/s\u001b[0m eta \u001b[36m0:00:00\u001b[0m\n",
            "\u001b[?25h  Preparing metadata (setup.py) ... \u001b[?25l\u001b[?25hdone\n",
            "Collecting feedfinder2>=0.0.4\n",
            "  Downloading feedfinder2-0.0.4.tar.gz (3.3 kB)\n",
            "  Preparing metadata (setup.py) ... \u001b[?25l\u001b[?25hdone\n",
            "Requirement already satisfied: feedparser>=5.2.1 in /usr/local/lib/python3.8/dist-packages (from newspaper3k) (6.0.10)\n",
            "Collecting tinysegmenter==0.3\n",
            "  Downloading tinysegmenter-0.3.tar.gz (16 kB)\n",
            "  Preparing metadata (setup.py) ... \u001b[?25l\u001b[?25hdone\n",
            "Requirement already satisfied: lxml>=3.6.0 in /usr/local/lib/python3.8/dist-packages (from newspaper3k) (4.9.2)\n",
            "Collecting cssselect>=0.9.2\n",
            "  Downloading cssselect-1.2.0-py2.py3-none-any.whl (18 kB)\n",
            "Requirement already satisfied: six in /usr/local/lib/python3.8/dist-packages (from feedfinder2>=0.0.4->newspaper3k) (1.15.0)\n",
            "Requirement already satisfied: sgmllib3k in /usr/local/lib/python3.8/dist-packages (from feedparser>=5.2.1->newspaper3k) (1.0.0)\n",
            "Requirement already satisfied: click in /usr/local/lib/python3.8/dist-packages (from nltk>=3.2.1->newspaper3k) (8.1.3)\n",
            "Requirement already satisfied: tqdm in /usr/local/lib/python3.8/dist-packages (from nltk>=3.2.1->newspaper3k) (4.64.1)\n",
            "Requirement already satisfied: joblib in /usr/local/lib/python3.8/dist-packages (from nltk>=3.2.1->newspaper3k) (1.2.0)\n",
            "Requirement already satisfied: regex>=2021.8.3 in /usr/local/lib/python3.8/dist-packages (from nltk>=3.2.1->newspaper3k) (2022.6.2)\n",
            "Requirement already satisfied: certifi>=2017.4.17 in /usr/local/lib/python3.8/dist-packages (from requests>=2.10.0->newspaper3k) (2022.12.7)\n",
            "Requirement already satisfied: chardet<5,>=3.0.2 in /usr/local/lib/python3.8/dist-packages (from requests>=2.10.0->newspaper3k) (4.0.0)\n",
            "Requirement already satisfied: urllib3<1.27,>=1.21.1 in /usr/local/lib/python3.8/dist-packages (from requests>=2.10.0->newspaper3k) (1.26.14)\n",
            "Requirement already satisfied: idna<3,>=2.5 in /usr/local/lib/python3.8/dist-packages (from requests>=2.10.0->newspaper3k) (2.10)\n",
            "Requirement already satisfied: filelock>=3.0.8 in /usr/local/lib/python3.8/dist-packages (from tldextract>=2.0.1->newspaper3k) (3.9.0)\n",
            "Collecting requests-file>=1.4\n",
            "  Downloading requests_file-1.5.1-py2.py3-none-any.whl (3.7 kB)\n",
            "Building wheels for collected packages: tinysegmenter, feedfinder2, jieba3k\n",
            "  Building wheel for tinysegmenter (setup.py) ... \u001b[?25l\u001b[?25hdone\n",
            "  Created wheel for tinysegmenter: filename=tinysegmenter-0.3-py3-none-any.whl size=13552 sha256=5616a9747994619352eb8a8ceaa13f7821d07dad048972ee0c6830a63fffde35\n",
            "  Stored in directory: /root/.cache/pip/wheels/99/74/83/8fac1c8d9c648cfabebbbffe97a889f6624817f3aa0bbe6c09\n",
            "  Building wheel for feedfinder2 (setup.py) ... \u001b[?25l\u001b[?25hdone\n",
            "  Created wheel for feedfinder2: filename=feedfinder2-0.0.4-py3-none-any.whl size=3354 sha256=6a9dbc156b7b42fb5adbb1809d68c1a467b6d01f2dbdc01386b80f88c4e083e3\n",
            "  Stored in directory: /root/.cache/pip/wheels/b6/09/68/a9f15498ac02c23dde29f18745bc6a6f574ba4ab41861a3575\n",
            "  Building wheel for jieba3k (setup.py) ... \u001b[?25l\u001b[?25hdone\n",
            "  Created wheel for jieba3k: filename=jieba3k-0.35.1-py3-none-any.whl size=7398405 sha256=fce30bca3bf2936e272239d59b12a93eb0820c6d2429918dc1d485b4d0e23b92\n",
            "  Stored in directory: /root/.cache/pip/wheels/1f/7e/0c/54f3b0f5164278677899f2db08f2b07943ce2d024a3c862afb\n",
            "Successfully built tinysegmenter feedfinder2 jieba3k\n",
            "Installing collected packages: tinysegmenter, jieba3k, cssselect, requests-file, feedfinder2, tldextract, newspaper3k\n",
            "Successfully installed cssselect-1.2.0 feedfinder2-0.0.4 jieba3k-0.35.1 newspaper3k-0.2.8 requests-file-1.5.1 tinysegmenter-0.3 tldextract-3.4.0\n"
          ]
        }
      ]
    },
    {
      "cell_type": "markdown",
      "source": [
        "## 2. Working with RSS Feeds"
      ],
      "metadata": {
        "id": "cpvppjDLHGbK"
      }
    },
    {
      "cell_type": "markdown",
      "source": [
        "### New York Times"
      ],
      "metadata": {
        "id": "jzkNAHj7IyP6"
      }
    },
    {
      "cell_type": "markdown",
      "source": [
        "A list of all RSS feeds from the New York Times can be accessed at https://www.nytimes.com/rss.\n",
        "\n",
        "Let's use the World feed from https://rss.nytimes.com/services/xml/rss/nyt/World.xml as an example:"
      ],
      "metadata": {
        "id": "JpFeGBqBn0eq"
      }
    },
    {
      "cell_type": "markdown",
      "source": [
        "#### Form the dataframe"
      ],
      "metadata": {
        "id": "v-nM_TMvHhiZ"
      }
    },
    {
      "cell_type": "code",
      "source": [
        "import feedparser\n",
        "\n",
        "d = feedparser.parse('https://rss.nytimes.com/services/xml/rss/nyt/World.xml')"
      ],
      "metadata": {
        "id": "ghRi7Db3obkC"
      },
      "execution_count": 5,
      "outputs": []
    },
    {
      "cell_type": "code",
      "source": [
        "# Get a list of all possible fields from the RSS\n",
        "all_fields = []\n",
        "for field in d.entries[0]:\n",
        "    all_fields.append(field)\n",
        "\n",
        "print(all_fields)"
      ],
      "metadata": {
        "id": "u8cuEPVdABx9",
        "outputId": "364c9bb3-48ce-4b63-ea7b-d2e335e4a047",
        "colab": {
          "base_uri": "https://localhost:8080/"
        }
      },
      "execution_count": 6,
      "outputs": [
        {
          "output_type": "stream",
          "name": "stdout",
          "text": [
            "['title', 'title_detail', 'links', 'link', 'id', 'guidislink', 'summary', 'summary_detail', 'authors', 'author', 'author_detail', 'published', 'published_parsed', 'media_content', 'media_credit', 'credit']\n"
          ]
        }
      ]
    },
    {
      "cell_type": "code",
      "source": [
        "# Define the fields of interest that we want to obtain from the RSS\n",
        "fields = ['title', 'published', 'summary', 'author', 'link']"
      ],
      "metadata": {
        "id": "M4EwL-JFBahF"
      },
      "execution_count": 7,
      "outputs": []
    },
    {
      "cell_type": "code",
      "source": [
        "import pandas as pd\n",
        "\n",
        "# Create a list of lists to hold the required RSS data from each entry\n",
        "data = []\n",
        "for i, entry in enumerate(d.entries):\n",
        "    row = []\n",
        "    for field in fields:\n",
        "        row.append(d.entries[i][field])\n",
        "    data.append(row)\n",
        "\n",
        "# Convert the list of lists to a df\n",
        "df = pd.DataFrame(data, columns = fields)"
      ],
      "metadata": {
        "id": "TEM6wHwXCKeO"
      },
      "execution_count": 8,
      "outputs": []
    },
    {
      "cell_type": "code",
      "source": [
        "df.head()"
      ],
      "metadata": {
        "id": "D8yamIhIC2M2",
        "outputId": "6b84b412-330a-4770-eec9-f83415eb9dbe",
        "colab": {
          "base_uri": "https://localhost:8080/",
          "height": 337
        }
      },
      "execution_count": 9,
      "outputs": [
        {
          "output_type": "execute_result",
          "data": {
            "text/plain": [
              "                                               title  \\\n",
              "0  Ukraine’s Top Generals Want to Keep Fighting f...   \n",
              "1  Protests Over Netanyahu’s Judiciary Overhaul S...   \n",
              "2  Iran’s Rulers, Shaken by Protests, Now Face Cu...   \n",
              "3  Ukrainian Soldiers, Nearly Encircled in Bakhmu...   \n",
              "4  The Story of Multicultural Canada, Told in Hum...   \n",
              "\n",
              "                         published  \\\n",
              "0  Tue, 07 Mar 2023 00:48:52 +0000   \n",
              "1  Mon, 06 Mar 2023 23:00:38 +0000   \n",
              "2  Mon, 06 Mar 2023 22:30:53 +0000   \n",
              "3  Mon, 06 Mar 2023 08:00:19 +0000   \n",
              "4  Mon, 06 Mar 2023 22:11:00 +0000   \n",
              "\n",
              "                                             summary  \\\n",
              "0  Military commanders told President Volodymyr Z...   \n",
              "1  The military leadership is concerned that ange...   \n",
              "2  Years of Western sanctions are partly to blame...   \n",
              "3  The battle for Bakhmut is not over — at least ...   \n",
              "4  Some of Toronto’s best dining options are mom-...   \n",
              "\n",
              "                               author  \\\n",
              "0                  The New York Times   \n",
              "1  Ronen Bergman and Patrick Kingsley   \n",
              "2                          Vivian Yee   \n",
              "3  Carlotta Gall and Daniel Berehulak   \n",
              "4                    Norimitsu Onishi   \n",
              "\n",
              "                                                link  \n",
              "0  https://www.nytimes.com/live/2023/03/06/world/...  \n",
              "1  https://www.nytimes.com/2023/03/06/world/middl...  \n",
              "2  https://www.nytimes.com/2023/03/06/world/middl...  \n",
              "3  https://www.nytimes.com/2023/03/06/world/europ...  \n",
              "4  https://www.nytimes.com/2023/03/05/world/canad...  "
            ],
            "text/html": [
              "\n",
              "  <div id=\"df-3a3543af-c725-4541-b475-764f6acfe5c7\">\n",
              "    <div class=\"colab-df-container\">\n",
              "      <div>\n",
              "<style scoped>\n",
              "    .dataframe tbody tr th:only-of-type {\n",
              "        vertical-align: middle;\n",
              "    }\n",
              "\n",
              "    .dataframe tbody tr th {\n",
              "        vertical-align: top;\n",
              "    }\n",
              "\n",
              "    .dataframe thead th {\n",
              "        text-align: right;\n",
              "    }\n",
              "</style>\n",
              "<table border=\"1\" class=\"dataframe\">\n",
              "  <thead>\n",
              "    <tr style=\"text-align: right;\">\n",
              "      <th></th>\n",
              "      <th>title</th>\n",
              "      <th>published</th>\n",
              "      <th>summary</th>\n",
              "      <th>author</th>\n",
              "      <th>link</th>\n",
              "    </tr>\n",
              "  </thead>\n",
              "  <tbody>\n",
              "    <tr>\n",
              "      <th>0</th>\n",
              "      <td>Ukraine’s Top Generals Want to Keep Fighting f...</td>\n",
              "      <td>Tue, 07 Mar 2023 00:48:52 +0000</td>\n",
              "      <td>Military commanders told President Volodymyr Z...</td>\n",
              "      <td>The New York Times</td>\n",
              "      <td>https://www.nytimes.com/live/2023/03/06/world/...</td>\n",
              "    </tr>\n",
              "    <tr>\n",
              "      <th>1</th>\n",
              "      <td>Protests Over Netanyahu’s Judiciary Overhaul S...</td>\n",
              "      <td>Mon, 06 Mar 2023 23:00:38 +0000</td>\n",
              "      <td>The military leadership is concerned that ange...</td>\n",
              "      <td>Ronen Bergman and Patrick Kingsley</td>\n",
              "      <td>https://www.nytimes.com/2023/03/06/world/middl...</td>\n",
              "    </tr>\n",
              "    <tr>\n",
              "      <th>2</th>\n",
              "      <td>Iran’s Rulers, Shaken by Protests, Now Face Cu...</td>\n",
              "      <td>Mon, 06 Mar 2023 22:30:53 +0000</td>\n",
              "      <td>Years of Western sanctions are partly to blame...</td>\n",
              "      <td>Vivian Yee</td>\n",
              "      <td>https://www.nytimes.com/2023/03/06/world/middl...</td>\n",
              "    </tr>\n",
              "    <tr>\n",
              "      <th>3</th>\n",
              "      <td>Ukrainian Soldiers, Nearly Encircled in Bakhmu...</td>\n",
              "      <td>Mon, 06 Mar 2023 08:00:19 +0000</td>\n",
              "      <td>The battle for Bakhmut is not over — at least ...</td>\n",
              "      <td>Carlotta Gall and Daniel Berehulak</td>\n",
              "      <td>https://www.nytimes.com/2023/03/06/world/europ...</td>\n",
              "    </tr>\n",
              "    <tr>\n",
              "      <th>4</th>\n",
              "      <td>The Story of Multicultural Canada, Told in Hum...</td>\n",
              "      <td>Mon, 06 Mar 2023 22:11:00 +0000</td>\n",
              "      <td>Some of Toronto’s best dining options are mom-...</td>\n",
              "      <td>Norimitsu Onishi</td>\n",
              "      <td>https://www.nytimes.com/2023/03/05/world/canad...</td>\n",
              "    </tr>\n",
              "  </tbody>\n",
              "</table>\n",
              "</div>\n",
              "      <button class=\"colab-df-convert\" onclick=\"convertToInteractive('df-3a3543af-c725-4541-b475-764f6acfe5c7')\"\n",
              "              title=\"Convert this dataframe to an interactive table.\"\n",
              "              style=\"display:none;\">\n",
              "        \n",
              "  <svg xmlns=\"http://www.w3.org/2000/svg\" height=\"24px\"viewBox=\"0 0 24 24\"\n",
              "       width=\"24px\">\n",
              "    <path d=\"M0 0h24v24H0V0z\" fill=\"none\"/>\n",
              "    <path d=\"M18.56 5.44l.94 2.06.94-2.06 2.06-.94-2.06-.94-.94-2.06-.94 2.06-2.06.94zm-11 1L8.5 8.5l.94-2.06 2.06-.94-2.06-.94L8.5 2.5l-.94 2.06-2.06.94zm10 10l.94 2.06.94-2.06 2.06-.94-2.06-.94-.94-2.06-.94 2.06-2.06.94z\"/><path d=\"M17.41 7.96l-1.37-1.37c-.4-.4-.92-.59-1.43-.59-.52 0-1.04.2-1.43.59L10.3 9.45l-7.72 7.72c-.78.78-.78 2.05 0 2.83L4 21.41c.39.39.9.59 1.41.59.51 0 1.02-.2 1.41-.59l7.78-7.78 2.81-2.81c.8-.78.8-2.07 0-2.86zM5.41 20L4 18.59l7.72-7.72 1.47 1.35L5.41 20z\"/>\n",
              "  </svg>\n",
              "      </button>\n",
              "      \n",
              "  <style>\n",
              "    .colab-df-container {\n",
              "      display:flex;\n",
              "      flex-wrap:wrap;\n",
              "      gap: 12px;\n",
              "    }\n",
              "\n",
              "    .colab-df-convert {\n",
              "      background-color: #E8F0FE;\n",
              "      border: none;\n",
              "      border-radius: 50%;\n",
              "      cursor: pointer;\n",
              "      display: none;\n",
              "      fill: #1967D2;\n",
              "      height: 32px;\n",
              "      padding: 0 0 0 0;\n",
              "      width: 32px;\n",
              "    }\n",
              "\n",
              "    .colab-df-convert:hover {\n",
              "      background-color: #E2EBFA;\n",
              "      box-shadow: 0px 1px 2px rgba(60, 64, 67, 0.3), 0px 1px 3px 1px rgba(60, 64, 67, 0.15);\n",
              "      fill: #174EA6;\n",
              "    }\n",
              "\n",
              "    [theme=dark] .colab-df-convert {\n",
              "      background-color: #3B4455;\n",
              "      fill: #D2E3FC;\n",
              "    }\n",
              "\n",
              "    [theme=dark] .colab-df-convert:hover {\n",
              "      background-color: #434B5C;\n",
              "      box-shadow: 0px 1px 3px 1px rgba(0, 0, 0, 0.15);\n",
              "      filter: drop-shadow(0px 1px 2px rgba(0, 0, 0, 0.3));\n",
              "      fill: #FFFFFF;\n",
              "    }\n",
              "  </style>\n",
              "\n",
              "      <script>\n",
              "        const buttonEl =\n",
              "          document.querySelector('#df-3a3543af-c725-4541-b475-764f6acfe5c7 button.colab-df-convert');\n",
              "        buttonEl.style.display =\n",
              "          google.colab.kernel.accessAllowed ? 'block' : 'none';\n",
              "\n",
              "        async function convertToInteractive(key) {\n",
              "          const element = document.querySelector('#df-3a3543af-c725-4541-b475-764f6acfe5c7');\n",
              "          const dataTable =\n",
              "            await google.colab.kernel.invokeFunction('convertToInteractive',\n",
              "                                                     [key], {});\n",
              "          if (!dataTable) return;\n",
              "\n",
              "          const docLinkHtml = 'Like what you see? Visit the ' +\n",
              "            '<a target=\"_blank\" href=https://colab.research.google.com/notebooks/data_table.ipynb>data table notebook</a>'\n",
              "            + ' to learn more about interactive tables.';\n",
              "          element.innerHTML = '';\n",
              "          dataTable['output_type'] = 'display_data';\n",
              "          await google.colab.output.renderOutput(dataTable, element);\n",
              "          const docLink = document.createElement('div');\n",
              "          docLink.innerHTML = docLinkHtml;\n",
              "          element.appendChild(docLink);\n",
              "        }\n",
              "      </script>\n",
              "    </div>\n",
              "  </div>\n",
              "  "
            ]
          },
          "metadata": {},
          "execution_count": 9
        }
      ]
    },
    {
      "cell_type": "code",
      "source": [
        "print(\"The shape of the dataframe is\", df.shape)"
      ],
      "metadata": {
        "id": "TarmjPabDaSO",
        "outputId": "5d403e3a-c246-47c3-c923-89705fdb7d28",
        "colab": {
          "base_uri": "https://localhost:8080/"
        }
      },
      "execution_count": 10,
      "outputs": [
        {
          "output_type": "stream",
          "name": "stdout",
          "text": [
            "The shape of the dataframe is (61, 5)\n"
          ]
        }
      ]
    },
    {
      "cell_type": "markdown",
      "source": [
        "#### Retrieving the texts for the corresponding articles to the Dataframe"
      ],
      "metadata": {
        "id": "nwEL8O2xZtU1"
      }
    },
    {
      "cell_type": "code",
      "source": [
        "import nltk\n",
        "nltk.download('punkt')"
      ],
      "metadata": {
        "id": "15GxUmL6bByw",
        "outputId": "6d4dfda1-b728-4c17-c49e-06774113818a",
        "colab": {
          "base_uri": "https://localhost:8080/"
        }
      },
      "execution_count": 11,
      "outputs": [
        {
          "output_type": "stream",
          "name": "stderr",
          "text": [
            "[nltk_data] Downloading package punkt to /root/nltk_data...\n",
            "[nltk_data]   Unzipping tokenizers/punkt.zip.\n"
          ]
        },
        {
          "output_type": "execute_result",
          "data": {
            "text/plain": [
              "True"
            ]
          },
          "metadata": {},
          "execution_count": 11
        }
      ]
    },
    {
      "cell_type": "code",
      "source": [
        "from newspaper import Article\n",
        "\n",
        "links = df[\"link\"]\n",
        "\n",
        "article_text_dict = {}\n",
        "for link in links:\n",
        "  article = Article(link)\n",
        "  article.download()\n",
        "  article.parse()\n",
        "  article.nlp()\n",
        "  article_text_dict[link] = article.text\n",
        "  \n",
        "df['text'] = list(article_text_dict.values())"
      ],
      "metadata": {
        "id": "cpntE-BcZ3QU"
      },
      "execution_count": 12,
      "outputs": []
    },
    {
      "cell_type": "code",
      "source": [
        "df.head()"
      ],
      "metadata": {
        "id": "Tkabh3qca9Ud",
        "outputId": "34accb59-080a-4321-cb1c-5d269e0981d4",
        "colab": {
          "base_uri": "https://localhost:8080/",
          "height": 371
        }
      },
      "execution_count": 13,
      "outputs": [
        {
          "output_type": "execute_result",
          "data": {
            "text/plain": [
              "                                               title  \\\n",
              "0  Ukraine’s Top Generals Want to Keep Fighting f...   \n",
              "1  Protests Over Netanyahu’s Judiciary Overhaul S...   \n",
              "2  Iran’s Rulers, Shaken by Protests, Now Face Cu...   \n",
              "3  Ukrainian Soldiers, Nearly Encircled in Bakhmu...   \n",
              "4  The Story of Multicultural Canada, Told in Hum...   \n",
              "\n",
              "                         published  \\\n",
              "0  Tue, 07 Mar 2023 00:48:52 +0000   \n",
              "1  Mon, 06 Mar 2023 23:00:38 +0000   \n",
              "2  Mon, 06 Mar 2023 22:30:53 +0000   \n",
              "3  Mon, 06 Mar 2023 08:00:19 +0000   \n",
              "4  Mon, 06 Mar 2023 22:11:00 +0000   \n",
              "\n",
              "                                             summary  \\\n",
              "0  Military commanders told President Volodymyr Z...   \n",
              "1  The military leadership is concerned that ange...   \n",
              "2  Years of Western sanctions are partly to blame...   \n",
              "3  The battle for Bakhmut is not over — at least ...   \n",
              "4  Some of Toronto’s best dining options are mom-...   \n",
              "\n",
              "                               author  \\\n",
              "0                  The New York Times   \n",
              "1  Ronen Bergman and Patrick Kingsley   \n",
              "2                          Vivian Yee   \n",
              "3  Carlotta Gall and Daniel Berehulak   \n",
              "4                    Norimitsu Onishi   \n",
              "\n",
              "                                                link  \\\n",
              "0  https://www.nytimes.com/live/2023/03/06/world/...   \n",
              "1  https://www.nytimes.com/2023/03/06/world/middl...   \n",
              "2  https://www.nytimes.com/2023/03/06/world/middl...   \n",
              "3  https://www.nytimes.com/2023/03/06/world/europ...   \n",
              "4  https://www.nytimes.com/2023/03/05/world/canad...   \n",
              "\n",
              "                                                text  \n",
              "0  Ukrainian forces continue to defend the easter...  \n",
              "1  A plan by Prime Minister Benjamin Netanyahu to...  \n",
              "2  As their currency plunged to new lows recently...  \n",
              "3  CHASIV YAR, Ukraine — Lined up in the dark in ...  \n",
              "4  SCARBOROUGH, Ontario — At a tiny strip mall wh...  "
            ],
            "text/html": [
              "\n",
              "  <div id=\"df-8d095334-17a1-495b-9766-e3d22578ecf7\">\n",
              "    <div class=\"colab-df-container\">\n",
              "      <div>\n",
              "<style scoped>\n",
              "    .dataframe tbody tr th:only-of-type {\n",
              "        vertical-align: middle;\n",
              "    }\n",
              "\n",
              "    .dataframe tbody tr th {\n",
              "        vertical-align: top;\n",
              "    }\n",
              "\n",
              "    .dataframe thead th {\n",
              "        text-align: right;\n",
              "    }\n",
              "</style>\n",
              "<table border=\"1\" class=\"dataframe\">\n",
              "  <thead>\n",
              "    <tr style=\"text-align: right;\">\n",
              "      <th></th>\n",
              "      <th>title</th>\n",
              "      <th>published</th>\n",
              "      <th>summary</th>\n",
              "      <th>author</th>\n",
              "      <th>link</th>\n",
              "      <th>text</th>\n",
              "    </tr>\n",
              "  </thead>\n",
              "  <tbody>\n",
              "    <tr>\n",
              "      <th>0</th>\n",
              "      <td>Ukraine’s Top Generals Want to Keep Fighting f...</td>\n",
              "      <td>Tue, 07 Mar 2023 00:48:52 +0000</td>\n",
              "      <td>Military commanders told President Volodymyr Z...</td>\n",
              "      <td>The New York Times</td>\n",
              "      <td>https://www.nytimes.com/live/2023/03/06/world/...</td>\n",
              "      <td>Ukrainian forces continue to defend the easter...</td>\n",
              "    </tr>\n",
              "    <tr>\n",
              "      <th>1</th>\n",
              "      <td>Protests Over Netanyahu’s Judiciary Overhaul S...</td>\n",
              "      <td>Mon, 06 Mar 2023 23:00:38 +0000</td>\n",
              "      <td>The military leadership is concerned that ange...</td>\n",
              "      <td>Ronen Bergman and Patrick Kingsley</td>\n",
              "      <td>https://www.nytimes.com/2023/03/06/world/middl...</td>\n",
              "      <td>A plan by Prime Minister Benjamin Netanyahu to...</td>\n",
              "    </tr>\n",
              "    <tr>\n",
              "      <th>2</th>\n",
              "      <td>Iran’s Rulers, Shaken by Protests, Now Face Cu...</td>\n",
              "      <td>Mon, 06 Mar 2023 22:30:53 +0000</td>\n",
              "      <td>Years of Western sanctions are partly to blame...</td>\n",
              "      <td>Vivian Yee</td>\n",
              "      <td>https://www.nytimes.com/2023/03/06/world/middl...</td>\n",
              "      <td>As their currency plunged to new lows recently...</td>\n",
              "    </tr>\n",
              "    <tr>\n",
              "      <th>3</th>\n",
              "      <td>Ukrainian Soldiers, Nearly Encircled in Bakhmu...</td>\n",
              "      <td>Mon, 06 Mar 2023 08:00:19 +0000</td>\n",
              "      <td>The battle for Bakhmut is not over — at least ...</td>\n",
              "      <td>Carlotta Gall and Daniel Berehulak</td>\n",
              "      <td>https://www.nytimes.com/2023/03/06/world/europ...</td>\n",
              "      <td>CHASIV YAR, Ukraine — Lined up in the dark in ...</td>\n",
              "    </tr>\n",
              "    <tr>\n",
              "      <th>4</th>\n",
              "      <td>The Story of Multicultural Canada, Told in Hum...</td>\n",
              "      <td>Mon, 06 Mar 2023 22:11:00 +0000</td>\n",
              "      <td>Some of Toronto’s best dining options are mom-...</td>\n",
              "      <td>Norimitsu Onishi</td>\n",
              "      <td>https://www.nytimes.com/2023/03/05/world/canad...</td>\n",
              "      <td>SCARBOROUGH, Ontario — At a tiny strip mall wh...</td>\n",
              "    </tr>\n",
              "  </tbody>\n",
              "</table>\n",
              "</div>\n",
              "      <button class=\"colab-df-convert\" onclick=\"convertToInteractive('df-8d095334-17a1-495b-9766-e3d22578ecf7')\"\n",
              "              title=\"Convert this dataframe to an interactive table.\"\n",
              "              style=\"display:none;\">\n",
              "        \n",
              "  <svg xmlns=\"http://www.w3.org/2000/svg\" height=\"24px\"viewBox=\"0 0 24 24\"\n",
              "       width=\"24px\">\n",
              "    <path d=\"M0 0h24v24H0V0z\" fill=\"none\"/>\n",
              "    <path d=\"M18.56 5.44l.94 2.06.94-2.06 2.06-.94-2.06-.94-.94-2.06-.94 2.06-2.06.94zm-11 1L8.5 8.5l.94-2.06 2.06-.94-2.06-.94L8.5 2.5l-.94 2.06-2.06.94zm10 10l.94 2.06.94-2.06 2.06-.94-2.06-.94-.94-2.06-.94 2.06-2.06.94z\"/><path d=\"M17.41 7.96l-1.37-1.37c-.4-.4-.92-.59-1.43-.59-.52 0-1.04.2-1.43.59L10.3 9.45l-7.72 7.72c-.78.78-.78 2.05 0 2.83L4 21.41c.39.39.9.59 1.41.59.51 0 1.02-.2 1.41-.59l7.78-7.78 2.81-2.81c.8-.78.8-2.07 0-2.86zM5.41 20L4 18.59l7.72-7.72 1.47 1.35L5.41 20z\"/>\n",
              "  </svg>\n",
              "      </button>\n",
              "      \n",
              "  <style>\n",
              "    .colab-df-container {\n",
              "      display:flex;\n",
              "      flex-wrap:wrap;\n",
              "      gap: 12px;\n",
              "    }\n",
              "\n",
              "    .colab-df-convert {\n",
              "      background-color: #E8F0FE;\n",
              "      border: none;\n",
              "      border-radius: 50%;\n",
              "      cursor: pointer;\n",
              "      display: none;\n",
              "      fill: #1967D2;\n",
              "      height: 32px;\n",
              "      padding: 0 0 0 0;\n",
              "      width: 32px;\n",
              "    }\n",
              "\n",
              "    .colab-df-convert:hover {\n",
              "      background-color: #E2EBFA;\n",
              "      box-shadow: 0px 1px 2px rgba(60, 64, 67, 0.3), 0px 1px 3px 1px rgba(60, 64, 67, 0.15);\n",
              "      fill: #174EA6;\n",
              "    }\n",
              "\n",
              "    [theme=dark] .colab-df-convert {\n",
              "      background-color: #3B4455;\n",
              "      fill: #D2E3FC;\n",
              "    }\n",
              "\n",
              "    [theme=dark] .colab-df-convert:hover {\n",
              "      background-color: #434B5C;\n",
              "      box-shadow: 0px 1px 3px 1px rgba(0, 0, 0, 0.15);\n",
              "      filter: drop-shadow(0px 1px 2px rgba(0, 0, 0, 0.3));\n",
              "      fill: #FFFFFF;\n",
              "    }\n",
              "  </style>\n",
              "\n",
              "      <script>\n",
              "        const buttonEl =\n",
              "          document.querySelector('#df-8d095334-17a1-495b-9766-e3d22578ecf7 button.colab-df-convert');\n",
              "        buttonEl.style.display =\n",
              "          google.colab.kernel.accessAllowed ? 'block' : 'none';\n",
              "\n",
              "        async function convertToInteractive(key) {\n",
              "          const element = document.querySelector('#df-8d095334-17a1-495b-9766-e3d22578ecf7');\n",
              "          const dataTable =\n",
              "            await google.colab.kernel.invokeFunction('convertToInteractive',\n",
              "                                                     [key], {});\n",
              "          if (!dataTable) return;\n",
              "\n",
              "          const docLinkHtml = 'Like what you see? Visit the ' +\n",
              "            '<a target=\"_blank\" href=https://colab.research.google.com/notebooks/data_table.ipynb>data table notebook</a>'\n",
              "            + ' to learn more about interactive tables.';\n",
              "          element.innerHTML = '';\n",
              "          dataTable['output_type'] = 'display_data';\n",
              "          await google.colab.output.renderOutput(dataTable, element);\n",
              "          const docLink = document.createElement('div');\n",
              "          docLink.innerHTML = docLinkHtml;\n",
              "          element.appendChild(docLink);\n",
              "        }\n",
              "      </script>\n",
              "    </div>\n",
              "  </div>\n",
              "  "
            ]
          },
          "metadata": {},
          "execution_count": 13
        }
      ]
    },
    {
      "cell_type": "code",
      "source": [
        "df.to_csv(\"new_york_times.csv\", encoding='utf-8', index=False)"
      ],
      "metadata": {
        "id": "AmEL9DywITbT"
      },
      "execution_count": 14,
      "outputs": []
    },
    {
      "cell_type": "markdown",
      "source": [
        "### Toronto Star"
      ],
      "metadata": {
        "id": "790zR5n3I17x"
      }
    },
    {
      "cell_type": "markdown",
      "source": [
        "#### Function Development\n",
        "Create a function to assist with the scraping process"
      ],
      "metadata": {
        "id": "z7cVdObbI5SJ"
      }
    },
    {
      "cell_type": "code",
      "source": [
        "def print_RSS_fields(rss_link):\n",
        "    \n",
        "    d = feedparser.parse(rss_link)\n",
        "\n",
        "    all_fields = []\n",
        "    for field in d.entries[0]:\n",
        "        all_fields.append(field)\n",
        "    print(all_fields)\n",
        "\n",
        "def df_from_RSS(rss_link, fields):\n",
        "    \n",
        "    d = feedparser.parse(rss_link)\n",
        "    \n",
        "    # Create a list of lists to hold the required RSS data from each entry\n",
        "    data = []\n",
        "    for i, entry in enumerate(d.entries):\n",
        "        row = []\n",
        "        for field in fields:\n",
        "            row.append(d.entries[i][field])\n",
        "        data.append(row)\n",
        "\n",
        "    # Convert the list of lists to a df\n",
        "    df = pd.DataFrame(data, columns = fields)\n",
        "\n",
        "    links = df[\"link\"]\n",
        "\n",
        "    article_text_dict = {}\n",
        "    for link in links:\n",
        "        article = Article(link)\n",
        "        article.download()\n",
        "        article.parse()\n",
        "        article.nlp()\n",
        "        article_text_dict[link] = article.text\n",
        "    \n",
        "    df['text'] = list(article_text_dict.values())\n",
        "\n",
        "    return df"
      ],
      "metadata": {
        "id": "ceaIjELaI9YB"
      },
      "execution_count": 15,
      "outputs": []
    },
    {
      "cell_type": "markdown",
      "source": [
        "A list of RSS feeds for the Toronto Star can be found here: https://www.thestar.com/about/rssfeeds.html\n",
        "\n",
        "Let's use the Top Stories RSS feed."
      ],
      "metadata": {
        "id": "93GYkwB2LVSq"
      }
    },
    {
      "cell_type": "code",
      "source": [
        "print_RSS_fields('https://www.thestar.com/content/thestar/feed.RSSManagerServlet.articles.topstories.rss')"
      ],
      "metadata": {
        "id": "32dR0Pp-MzSK",
        "outputId": "6ba3f12a-e6fc-4889-fffb-833fc3776f95",
        "colab": {
          "base_uri": "https://localhost:8080/"
        }
      },
      "execution_count": 16,
      "outputs": [
        {
          "output_type": "stream",
          "name": "stdout",
          "text": [
            "['title', 'title_detail', 'links', 'link', 'id', 'guidislink', 'authors', 'author', 'author_detail', 'published', 'published_parsed', 'summary', 'summary_detail', 'media_content', 'media_thumbnail', 'href', 'content', 'media_credit', 'credit']\n"
          ]
        }
      ]
    },
    {
      "cell_type": "code",
      "source": [
        "fields = ['title', 'published', 'author', 'link']\n",
        "\n",
        "df = df_from_RSS('https://www.thestar.com/content/thestar/feed.RSSManagerServlet.articles.topstories.rss', fields)\n",
        "\n",
        "df.head()"
      ],
      "metadata": {
        "id": "S0lgrgZ0JnSq",
        "outputId": "f5ad5119-137d-4b0b-8233-bfa8ceacadf2",
        "colab": {
          "base_uri": "https://localhost:8080/",
          "height": 337
        }
      },
      "execution_count": 17,
      "outputs": [
        {
          "output_type": "execute_result",
          "data": {
            "text/plain": [
              "                                               title  \\\n",
              "0  Chinese interference in Canada? Chinese Canadi...   \n",
              "1  Justin Trudeau to appoint special rapporteur t...   \n",
              "2  This hospital’s deal with a corporation of sur...   \n",
              "3  These five cities have seen home prices fall b...   \n",
              "4  Largest cross-border drug case in Toronto poli...   \n",
              "\n",
              "                      published  \\\n",
              "0  Mon, 6 Mar 2023 17:30:00 EST   \n",
              "1  Mon, 6 Mar 2023 14:41:00 EST   \n",
              "2  Mon, 6 Mar 2023 19:02:00 EST   \n",
              "3  Mon, 6 Mar 2023 06:00:00 EST   \n",
              "4  Mon, 6 Mar 2023 20:05:00 EST   \n",
              "\n",
              "                                              author  \\\n",
              "0                       Joanna Chiu - Staff Reporter   \n",
              "1                   Tonda MacCharles - Ottawa Bureau   \n",
              "2  Kenyon Wallace - Investigative Reporter,Megan ...   \n",
              "3              Clarrie Feinstein - Business Reporter   \n",
              "4  Wendy Gillis - Staff Reporter,Jason Miller - C...   \n",
              "\n",
              "                                                link  \\\n",
              "0  https://www.thestar.com/politics/federal/2023/...   \n",
              "1  https://www.thestar.com/politics/federal/2023/...   \n",
              "2  https://www.thestar.com/news/canada/2023/03/06...   \n",
              "3  https://www.thestar.com/business/2023/03/06/th...   \n",
              "4  https://www.thestar.com/news/gta/2023/03/06/la...   \n",
              "\n",
              "                                                text  \n",
              "0  The first time Cheuk Kwan and Sheng Xue testif...  \n",
              "1  OTTAWA — Amid rising political pressure, the L...  \n",
              "2  Members of the Ontario NDP are pressing the pr...  \n",
              "3  Some Ontario cities’ home prices have declined...  \n",
              "4  With fanfare that included tables piled high w...  "
            ],
            "text/html": [
              "\n",
              "  <div id=\"df-dbd0acb6-8acf-4572-8670-210351bb643b\">\n",
              "    <div class=\"colab-df-container\">\n",
              "      <div>\n",
              "<style scoped>\n",
              "    .dataframe tbody tr th:only-of-type {\n",
              "        vertical-align: middle;\n",
              "    }\n",
              "\n",
              "    .dataframe tbody tr th {\n",
              "        vertical-align: top;\n",
              "    }\n",
              "\n",
              "    .dataframe thead th {\n",
              "        text-align: right;\n",
              "    }\n",
              "</style>\n",
              "<table border=\"1\" class=\"dataframe\">\n",
              "  <thead>\n",
              "    <tr style=\"text-align: right;\">\n",
              "      <th></th>\n",
              "      <th>title</th>\n",
              "      <th>published</th>\n",
              "      <th>author</th>\n",
              "      <th>link</th>\n",
              "      <th>text</th>\n",
              "    </tr>\n",
              "  </thead>\n",
              "  <tbody>\n",
              "    <tr>\n",
              "      <th>0</th>\n",
              "      <td>Chinese interference in Canada? Chinese Canadi...</td>\n",
              "      <td>Mon, 6 Mar 2023 17:30:00 EST</td>\n",
              "      <td>Joanna Chiu - Staff Reporter</td>\n",
              "      <td>https://www.thestar.com/politics/federal/2023/...</td>\n",
              "      <td>The first time Cheuk Kwan and Sheng Xue testif...</td>\n",
              "    </tr>\n",
              "    <tr>\n",
              "      <th>1</th>\n",
              "      <td>Justin Trudeau to appoint special rapporteur t...</td>\n",
              "      <td>Mon, 6 Mar 2023 14:41:00 EST</td>\n",
              "      <td>Tonda MacCharles - Ottawa Bureau</td>\n",
              "      <td>https://www.thestar.com/politics/federal/2023/...</td>\n",
              "      <td>OTTAWA — Amid rising political pressure, the L...</td>\n",
              "    </tr>\n",
              "    <tr>\n",
              "      <th>2</th>\n",
              "      <td>This hospital’s deal with a corporation of sur...</td>\n",
              "      <td>Mon, 6 Mar 2023 19:02:00 EST</td>\n",
              "      <td>Kenyon Wallace - Investigative Reporter,Megan ...</td>\n",
              "      <td>https://www.thestar.com/news/canada/2023/03/06...</td>\n",
              "      <td>Members of the Ontario NDP are pressing the pr...</td>\n",
              "    </tr>\n",
              "    <tr>\n",
              "      <th>3</th>\n",
              "      <td>These five cities have seen home prices fall b...</td>\n",
              "      <td>Mon, 6 Mar 2023 06:00:00 EST</td>\n",
              "      <td>Clarrie Feinstein - Business Reporter</td>\n",
              "      <td>https://www.thestar.com/business/2023/03/06/th...</td>\n",
              "      <td>Some Ontario cities’ home prices have declined...</td>\n",
              "    </tr>\n",
              "    <tr>\n",
              "      <th>4</th>\n",
              "      <td>Largest cross-border drug case in Toronto poli...</td>\n",
              "      <td>Mon, 6 Mar 2023 20:05:00 EST</td>\n",
              "      <td>Wendy Gillis - Staff Reporter,Jason Miller - C...</td>\n",
              "      <td>https://www.thestar.com/news/gta/2023/03/06/la...</td>\n",
              "      <td>With fanfare that included tables piled high w...</td>\n",
              "    </tr>\n",
              "  </tbody>\n",
              "</table>\n",
              "</div>\n",
              "      <button class=\"colab-df-convert\" onclick=\"convertToInteractive('df-dbd0acb6-8acf-4572-8670-210351bb643b')\"\n",
              "              title=\"Convert this dataframe to an interactive table.\"\n",
              "              style=\"display:none;\">\n",
              "        \n",
              "  <svg xmlns=\"http://www.w3.org/2000/svg\" height=\"24px\"viewBox=\"0 0 24 24\"\n",
              "       width=\"24px\">\n",
              "    <path d=\"M0 0h24v24H0V0z\" fill=\"none\"/>\n",
              "    <path d=\"M18.56 5.44l.94 2.06.94-2.06 2.06-.94-2.06-.94-.94-2.06-.94 2.06-2.06.94zm-11 1L8.5 8.5l.94-2.06 2.06-.94-2.06-.94L8.5 2.5l-.94 2.06-2.06.94zm10 10l.94 2.06.94-2.06 2.06-.94-2.06-.94-.94-2.06-.94 2.06-2.06.94z\"/><path d=\"M17.41 7.96l-1.37-1.37c-.4-.4-.92-.59-1.43-.59-.52 0-1.04.2-1.43.59L10.3 9.45l-7.72 7.72c-.78.78-.78 2.05 0 2.83L4 21.41c.39.39.9.59 1.41.59.51 0 1.02-.2 1.41-.59l7.78-7.78 2.81-2.81c.8-.78.8-2.07 0-2.86zM5.41 20L4 18.59l7.72-7.72 1.47 1.35L5.41 20z\"/>\n",
              "  </svg>\n",
              "      </button>\n",
              "      \n",
              "  <style>\n",
              "    .colab-df-container {\n",
              "      display:flex;\n",
              "      flex-wrap:wrap;\n",
              "      gap: 12px;\n",
              "    }\n",
              "\n",
              "    .colab-df-convert {\n",
              "      background-color: #E8F0FE;\n",
              "      border: none;\n",
              "      border-radius: 50%;\n",
              "      cursor: pointer;\n",
              "      display: none;\n",
              "      fill: #1967D2;\n",
              "      height: 32px;\n",
              "      padding: 0 0 0 0;\n",
              "      width: 32px;\n",
              "    }\n",
              "\n",
              "    .colab-df-convert:hover {\n",
              "      background-color: #E2EBFA;\n",
              "      box-shadow: 0px 1px 2px rgba(60, 64, 67, 0.3), 0px 1px 3px 1px rgba(60, 64, 67, 0.15);\n",
              "      fill: #174EA6;\n",
              "    }\n",
              "\n",
              "    [theme=dark] .colab-df-convert {\n",
              "      background-color: #3B4455;\n",
              "      fill: #D2E3FC;\n",
              "    }\n",
              "\n",
              "    [theme=dark] .colab-df-convert:hover {\n",
              "      background-color: #434B5C;\n",
              "      box-shadow: 0px 1px 3px 1px rgba(0, 0, 0, 0.15);\n",
              "      filter: drop-shadow(0px 1px 2px rgba(0, 0, 0, 0.3));\n",
              "      fill: #FFFFFF;\n",
              "    }\n",
              "  </style>\n",
              "\n",
              "      <script>\n",
              "        const buttonEl =\n",
              "          document.querySelector('#df-dbd0acb6-8acf-4572-8670-210351bb643b button.colab-df-convert');\n",
              "        buttonEl.style.display =\n",
              "          google.colab.kernel.accessAllowed ? 'block' : 'none';\n",
              "\n",
              "        async function convertToInteractive(key) {\n",
              "          const element = document.querySelector('#df-dbd0acb6-8acf-4572-8670-210351bb643b');\n",
              "          const dataTable =\n",
              "            await google.colab.kernel.invokeFunction('convertToInteractive',\n",
              "                                                     [key], {});\n",
              "          if (!dataTable) return;\n",
              "\n",
              "          const docLinkHtml = 'Like what you see? Visit the ' +\n",
              "            '<a target=\"_blank\" href=https://colab.research.google.com/notebooks/data_table.ipynb>data table notebook</a>'\n",
              "            + ' to learn more about interactive tables.';\n",
              "          element.innerHTML = '';\n",
              "          dataTable['output_type'] = 'display_data';\n",
              "          await google.colab.output.renderOutput(dataTable, element);\n",
              "          const docLink = document.createElement('div');\n",
              "          docLink.innerHTML = docLinkHtml;\n",
              "          element.appendChild(docLink);\n",
              "        }\n",
              "      </script>\n",
              "    </div>\n",
              "  </div>\n",
              "  "
            ]
          },
          "metadata": {},
          "execution_count": 17
        }
      ]
    },
    {
      "cell_type": "code",
      "source": [
        "df.to_csv(\"toronto_star.csv\", encoding='utf-8', index=False)"
      ],
      "metadata": {
        "id": "ysphkXWCLBMd"
      },
      "execution_count": 18,
      "outputs": []
    },
    {
      "cell_type": "markdown",
      "source": [
        "### Le Devoir"
      ],
      "metadata": {
        "id": "uM9VGfkqLLMK"
      }
    },
    {
      "cell_type": "markdown",
      "source": [
        "A list of RSS feeds for Le Devoir can be found here: https://www.ledevoir.com/flux-rss\n",
        "\n",
        "Let's use the World (le Monde) RSS feed."
      ],
      "metadata": {
        "id": "PuWOBLUILiYK"
      }
    },
    {
      "cell_type": "code",
      "source": [
        "print_RSS_fields('https://www.ledevoir.com/rss/section/monde.xml?id=76')"
      ],
      "metadata": {
        "id": "Vo6mYJV6MopS",
        "outputId": "ec752ebc-660e-4f9f-d7d8-194827fc41b7",
        "colab": {
          "base_uri": "https://localhost:8080/"
        }
      },
      "execution_count": 19,
      "outputs": [
        {
          "output_type": "stream",
          "name": "stdout",
          "text": [
            "['surtitle', 'title', 'title_detail', 'published', 'published_parsed', 'links', 'link', 'id', 'guidislink', 'tags', 'summary', 'summary_detail', 'authors', 'author', 'author_detail']\n"
          ]
        }
      ]
    },
    {
      "cell_type": "code",
      "source": [
        "fields = ['title', 'published', 'author', 'link']\n",
        "\n",
        "df = df_from_RSS('https://www.ledevoir.com/rss/section/monde.xml?id=76', fields)\n",
        "\n",
        "df.head()"
      ],
      "metadata": {
        "id": "Etk7Mpf2LOKb",
        "outputId": "da86356b-cbcd-4fc7-9825-c9fc71407b1b",
        "colab": {
          "base_uri": "https://localhost:8080/",
          "height": 337
        }
      },
      "execution_count": 20,
      "outputs": [
        {
          "output_type": "execute_result",
          "data": {
            "text/plain": [
              "                                               title  \\\n",
              "0  Un mardi de «mise à l’arrêt» s’annonce en Fran...   \n",
              "1  L’armée ukrainienne refuse d’abandonner ses po...   \n",
              "2  En Afghanistan, les hommes sont de retour à l’...   \n",
              "3  Taïwan alarmé par la hausse du budget de la Dé...   \n",
              "4  L’opposante biélorusse Tikhanovskaïa condamnée...   \n",
              "\n",
              "                         published  \\\n",
              "0  Mon, 06 Mar 2023 20:48:42 -0500   \n",
              "1  Mon, 06 Mar 2023 20:46:08 -0500   \n",
              "2  Mon, 06 Mar 2023 20:43:04 -0500   \n",
              "3  Mon, 06 Mar 2023 10:52:30 -0500   \n",
              "4  Mon, 06 Mar 2023 09:03:50 -0500   \n",
              "\n",
              "                                          author  \\\n",
              "0      webmestre@ledevoir.com (Lucie Peytermann)   \n",
              "1      webmestre@ledevoir.com (Emmanuel Peuchot)   \n",
              "2        webmestre@ledevoir.com (Estelle Emonet)   \n",
              "3  webmestre@ledevoir.com (Agence France-Presse)   \n",
              "4  webmestre@ledevoir.com (Agence France-Presse)   \n",
              "\n",
              "                                                link  \\\n",
              "0  https://www.ledevoir.com/monde/europe/784249/-...   \n",
              "1  https://www.ledevoir.com/monde/europe/784240/-...   \n",
              "2  https://www.ledevoir.com/monde/asie/784228/-en...   \n",
              "3  https://www.ledevoir.com/monde/asie/784245/-ta...   \n",
              "4  https://www.ledevoir.com/monde/europe/784235/-...   \n",
              "\n",
              "                                                text  \n",
              "0  La France se prépare à une journée d’action dé...  \n",
              "1  Le président Volodymyr Zelensky a ordonné lund...  \n",
              "2  Les hommes ont repris les cours lundi dans les...  \n",
              "3  Le ministre taïwanais de la Défense, Chiu Kuo-...  \n",
              "4  Un tribunal biélorusse a condamné lundi par co...  "
            ],
            "text/html": [
              "\n",
              "  <div id=\"df-da33c82b-01e2-40a8-9a7c-c04f378d1bad\">\n",
              "    <div class=\"colab-df-container\">\n",
              "      <div>\n",
              "<style scoped>\n",
              "    .dataframe tbody tr th:only-of-type {\n",
              "        vertical-align: middle;\n",
              "    }\n",
              "\n",
              "    .dataframe tbody tr th {\n",
              "        vertical-align: top;\n",
              "    }\n",
              "\n",
              "    .dataframe thead th {\n",
              "        text-align: right;\n",
              "    }\n",
              "</style>\n",
              "<table border=\"1\" class=\"dataframe\">\n",
              "  <thead>\n",
              "    <tr style=\"text-align: right;\">\n",
              "      <th></th>\n",
              "      <th>title</th>\n",
              "      <th>published</th>\n",
              "      <th>author</th>\n",
              "      <th>link</th>\n",
              "      <th>text</th>\n",
              "    </tr>\n",
              "  </thead>\n",
              "  <tbody>\n",
              "    <tr>\n",
              "      <th>0</th>\n",
              "      <td>Un mardi de «mise à l’arrêt» s’annonce en Fran...</td>\n",
              "      <td>Mon, 06 Mar 2023 20:48:42 -0500</td>\n",
              "      <td>webmestre@ledevoir.com (Lucie Peytermann)</td>\n",
              "      <td>https://www.ledevoir.com/monde/europe/784249/-...</td>\n",
              "      <td>La France se prépare à une journée d’action dé...</td>\n",
              "    </tr>\n",
              "    <tr>\n",
              "      <th>1</th>\n",
              "      <td>L’armée ukrainienne refuse d’abandonner ses po...</td>\n",
              "      <td>Mon, 06 Mar 2023 20:46:08 -0500</td>\n",
              "      <td>webmestre@ledevoir.com (Emmanuel Peuchot)</td>\n",
              "      <td>https://www.ledevoir.com/monde/europe/784240/-...</td>\n",
              "      <td>Le président Volodymyr Zelensky a ordonné lund...</td>\n",
              "    </tr>\n",
              "    <tr>\n",
              "      <th>2</th>\n",
              "      <td>En Afghanistan, les hommes sont de retour à l’...</td>\n",
              "      <td>Mon, 06 Mar 2023 20:43:04 -0500</td>\n",
              "      <td>webmestre@ledevoir.com (Estelle Emonet)</td>\n",
              "      <td>https://www.ledevoir.com/monde/asie/784228/-en...</td>\n",
              "      <td>Les hommes ont repris les cours lundi dans les...</td>\n",
              "    </tr>\n",
              "    <tr>\n",
              "      <th>3</th>\n",
              "      <td>Taïwan alarmé par la hausse du budget de la Dé...</td>\n",
              "      <td>Mon, 06 Mar 2023 10:52:30 -0500</td>\n",
              "      <td>webmestre@ledevoir.com (Agence France-Presse)</td>\n",
              "      <td>https://www.ledevoir.com/monde/asie/784245/-ta...</td>\n",
              "      <td>Le ministre taïwanais de la Défense, Chiu Kuo-...</td>\n",
              "    </tr>\n",
              "    <tr>\n",
              "      <th>4</th>\n",
              "      <td>L’opposante biélorusse Tikhanovskaïa condamnée...</td>\n",
              "      <td>Mon, 06 Mar 2023 09:03:50 -0500</td>\n",
              "      <td>webmestre@ledevoir.com (Agence France-Presse)</td>\n",
              "      <td>https://www.ledevoir.com/monde/europe/784235/-...</td>\n",
              "      <td>Un tribunal biélorusse a condamné lundi par co...</td>\n",
              "    </tr>\n",
              "  </tbody>\n",
              "</table>\n",
              "</div>\n",
              "      <button class=\"colab-df-convert\" onclick=\"convertToInteractive('df-da33c82b-01e2-40a8-9a7c-c04f378d1bad')\"\n",
              "              title=\"Convert this dataframe to an interactive table.\"\n",
              "              style=\"display:none;\">\n",
              "        \n",
              "  <svg xmlns=\"http://www.w3.org/2000/svg\" height=\"24px\"viewBox=\"0 0 24 24\"\n",
              "       width=\"24px\">\n",
              "    <path d=\"M0 0h24v24H0V0z\" fill=\"none\"/>\n",
              "    <path d=\"M18.56 5.44l.94 2.06.94-2.06 2.06-.94-2.06-.94-.94-2.06-.94 2.06-2.06.94zm-11 1L8.5 8.5l.94-2.06 2.06-.94-2.06-.94L8.5 2.5l-.94 2.06-2.06.94zm10 10l.94 2.06.94-2.06 2.06-.94-2.06-.94-.94-2.06-.94 2.06-2.06.94z\"/><path d=\"M17.41 7.96l-1.37-1.37c-.4-.4-.92-.59-1.43-.59-.52 0-1.04.2-1.43.59L10.3 9.45l-7.72 7.72c-.78.78-.78 2.05 0 2.83L4 21.41c.39.39.9.59 1.41.59.51 0 1.02-.2 1.41-.59l7.78-7.78 2.81-2.81c.8-.78.8-2.07 0-2.86zM5.41 20L4 18.59l7.72-7.72 1.47 1.35L5.41 20z\"/>\n",
              "  </svg>\n",
              "      </button>\n",
              "      \n",
              "  <style>\n",
              "    .colab-df-container {\n",
              "      display:flex;\n",
              "      flex-wrap:wrap;\n",
              "      gap: 12px;\n",
              "    }\n",
              "\n",
              "    .colab-df-convert {\n",
              "      background-color: #E8F0FE;\n",
              "      border: none;\n",
              "      border-radius: 50%;\n",
              "      cursor: pointer;\n",
              "      display: none;\n",
              "      fill: #1967D2;\n",
              "      height: 32px;\n",
              "      padding: 0 0 0 0;\n",
              "      width: 32px;\n",
              "    }\n",
              "\n",
              "    .colab-df-convert:hover {\n",
              "      background-color: #E2EBFA;\n",
              "      box-shadow: 0px 1px 2px rgba(60, 64, 67, 0.3), 0px 1px 3px 1px rgba(60, 64, 67, 0.15);\n",
              "      fill: #174EA6;\n",
              "    }\n",
              "\n",
              "    [theme=dark] .colab-df-convert {\n",
              "      background-color: #3B4455;\n",
              "      fill: #D2E3FC;\n",
              "    }\n",
              "\n",
              "    [theme=dark] .colab-df-convert:hover {\n",
              "      background-color: #434B5C;\n",
              "      box-shadow: 0px 1px 3px 1px rgba(0, 0, 0, 0.15);\n",
              "      filter: drop-shadow(0px 1px 2px rgba(0, 0, 0, 0.3));\n",
              "      fill: #FFFFFF;\n",
              "    }\n",
              "  </style>\n",
              "\n",
              "      <script>\n",
              "        const buttonEl =\n",
              "          document.querySelector('#df-da33c82b-01e2-40a8-9a7c-c04f378d1bad button.colab-df-convert');\n",
              "        buttonEl.style.display =\n",
              "          google.colab.kernel.accessAllowed ? 'block' : 'none';\n",
              "\n",
              "        async function convertToInteractive(key) {\n",
              "          const element = document.querySelector('#df-da33c82b-01e2-40a8-9a7c-c04f378d1bad');\n",
              "          const dataTable =\n",
              "            await google.colab.kernel.invokeFunction('convertToInteractive',\n",
              "                                                     [key], {});\n",
              "          if (!dataTable) return;\n",
              "\n",
              "          const docLinkHtml = 'Like what you see? Visit the ' +\n",
              "            '<a target=\"_blank\" href=https://colab.research.google.com/notebooks/data_table.ipynb>data table notebook</a>'\n",
              "            + ' to learn more about interactive tables.';\n",
              "          element.innerHTML = '';\n",
              "          dataTable['output_type'] = 'display_data';\n",
              "          await google.colab.output.renderOutput(dataTable, element);\n",
              "          const docLink = document.createElement('div');\n",
              "          docLink.innerHTML = docLinkHtml;\n",
              "          element.appendChild(docLink);\n",
              "        }\n",
              "      </script>\n",
              "    </div>\n",
              "  </div>\n",
              "  "
            ]
          },
          "metadata": {},
          "execution_count": 20
        }
      ]
    },
    {
      "cell_type": "code",
      "source": [
        "df.to_csv(\"le_devoir.csv\", encoding='utf-8-sig', index=False)"
      ],
      "metadata": {
        "id": "fldkt7rQOyYT"
      },
      "execution_count": 21,
      "outputs": []
    },
    {
      "cell_type": "markdown",
      "source": [
        "### CBC"
      ],
      "metadata": {
        "id": "XFBqhdKTO1Yb"
      }
    },
    {
      "cell_type": "markdown",
      "source": [
        "A list of RSS feeds for the CBCs can be found here: https://www.cbc.ca/rss/\n",
        "\n",
        "Let's use the World RSS feed."
      ],
      "metadata": {
        "id": "tYXETSS1O7Mj"
      }
    },
    {
      "cell_type": "code",
      "source": [
        "print_RSS_fields('https://rss.cbc.ca/lineup/world.xml')"
      ],
      "metadata": {
        "id": "FxSh5dlfPD3z",
        "outputId": "edcf289b-9cec-4204-c5fb-d1542c6c913a",
        "colab": {
          "base_uri": "https://localhost:8080/"
        }
      },
      "execution_count": 22,
      "outputs": [
        {
          "output_type": "stream",
          "name": "stdout",
          "text": [
            "['title', 'title_detail', 'links', 'link', 'id', 'guidislink', 'published', 'published_parsed', 'authors', 'author', 'tags', 'summary', 'summary_detail']\n"
          ]
        }
      ]
    },
    {
      "cell_type": "code",
      "source": [
        "fields = ['title', 'published', 'author', 'link']\n",
        "\n",
        "df = df_from_RSS('https://rss.cbc.ca/lineup/world.xml', fields)\n",
        "\n",
        "df.head()"
      ],
      "metadata": {
        "id": "oupaTMfEPMFD",
        "outputId": "f635589f-1874-44a4-fdb6-96408b99b7d3",
        "colab": {
          "base_uri": "https://localhost:8080/",
          "height": 337
        }
      },
      "execution_count": 25,
      "outputs": [
        {
          "output_type": "execute_result",
          "data": {
            "text/plain": [
              "                                               title  \\\n",
              "0  Russia's Wagner group leader suggests Moscow h...   \n",
              "1  Twitter says things 'normal' again after exper...   \n",
              "2  As holidaying Canadians return to Cuba, Cubans...   \n",
              "3  Exiled opposition leader vows to fight on afte...   \n",
              "4  Toblerone chocolate maker drops iconic Matterh...   \n",
              "\n",
              "                       published                author  \\\n",
              "0  Sat, 12 Feb 2022 11:04:48 EST                         \n",
              "1   Mon, 6 Mar 2023 12:46:20 EST               Reuters   \n",
              "2   Mon, 6 Mar 2023 04:00:00 EST             Evan Dyer   \n",
              "3   Mon, 6 Mar 2023 15:57:38 EST               Reuters   \n",
              "4   Mon, 6 Mar 2023 15:38:13 EST  The Associated Press   \n",
              "\n",
              "                                                link  \\\n",
              "0  https://www.cbc.ca/news/world/ukraine-war-day-...   \n",
              "1  https://www.cbc.ca/news/business/twitter-issue...   \n",
              "2  https://www.cbc.ca/news/politics/cuba-nicaragu...   \n",
              "3  https://www.cbc.ca/news/world/belarus-oppositi...   \n",
              "4  https://www.cbc.ca/news/world/toblerone-chocol...   \n",
              "\n",
              "                                                text  \n",
              "0  The founder of Russia's Wagner mercenary force...  \n",
              "1  Thousands of Twitter users reported problems a...  \n",
              "2  Canadian tourists returned to Cuba in large nu...  \n",
              "3  Exiled Belarusian opposition leader Sviatlana ...  \n",
              "4  The makers of Toblerone are stripping images o...  "
            ],
            "text/html": [
              "\n",
              "  <div id=\"df-3606fc29-287c-4ca6-8207-da7ecf1ea44c\">\n",
              "    <div class=\"colab-df-container\">\n",
              "      <div>\n",
              "<style scoped>\n",
              "    .dataframe tbody tr th:only-of-type {\n",
              "        vertical-align: middle;\n",
              "    }\n",
              "\n",
              "    .dataframe tbody tr th {\n",
              "        vertical-align: top;\n",
              "    }\n",
              "\n",
              "    .dataframe thead th {\n",
              "        text-align: right;\n",
              "    }\n",
              "</style>\n",
              "<table border=\"1\" class=\"dataframe\">\n",
              "  <thead>\n",
              "    <tr style=\"text-align: right;\">\n",
              "      <th></th>\n",
              "      <th>title</th>\n",
              "      <th>published</th>\n",
              "      <th>author</th>\n",
              "      <th>link</th>\n",
              "      <th>text</th>\n",
              "    </tr>\n",
              "  </thead>\n",
              "  <tbody>\n",
              "    <tr>\n",
              "      <th>0</th>\n",
              "      <td>Russia's Wagner group leader suggests Moscow h...</td>\n",
              "      <td>Sat, 12 Feb 2022 11:04:48 EST</td>\n",
              "      <td></td>\n",
              "      <td>https://www.cbc.ca/news/world/ukraine-war-day-...</td>\n",
              "      <td>The founder of Russia's Wagner mercenary force...</td>\n",
              "    </tr>\n",
              "    <tr>\n",
              "      <th>1</th>\n",
              "      <td>Twitter says things 'normal' again after exper...</td>\n",
              "      <td>Mon, 6 Mar 2023 12:46:20 EST</td>\n",
              "      <td>Reuters</td>\n",
              "      <td>https://www.cbc.ca/news/business/twitter-issue...</td>\n",
              "      <td>Thousands of Twitter users reported problems a...</td>\n",
              "    </tr>\n",
              "    <tr>\n",
              "      <th>2</th>\n",
              "      <td>As holidaying Canadians return to Cuba, Cubans...</td>\n",
              "      <td>Mon, 6 Mar 2023 04:00:00 EST</td>\n",
              "      <td>Evan Dyer</td>\n",
              "      <td>https://www.cbc.ca/news/politics/cuba-nicaragu...</td>\n",
              "      <td>Canadian tourists returned to Cuba in large nu...</td>\n",
              "    </tr>\n",
              "    <tr>\n",
              "      <th>3</th>\n",
              "      <td>Exiled opposition leader vows to fight on afte...</td>\n",
              "      <td>Mon, 6 Mar 2023 15:57:38 EST</td>\n",
              "      <td>Reuters</td>\n",
              "      <td>https://www.cbc.ca/news/world/belarus-oppositi...</td>\n",
              "      <td>Exiled Belarusian opposition leader Sviatlana ...</td>\n",
              "    </tr>\n",
              "    <tr>\n",
              "      <th>4</th>\n",
              "      <td>Toblerone chocolate maker drops iconic Matterh...</td>\n",
              "      <td>Mon, 6 Mar 2023 15:38:13 EST</td>\n",
              "      <td>The Associated Press</td>\n",
              "      <td>https://www.cbc.ca/news/world/toblerone-chocol...</td>\n",
              "      <td>The makers of Toblerone are stripping images o...</td>\n",
              "    </tr>\n",
              "  </tbody>\n",
              "</table>\n",
              "</div>\n",
              "      <button class=\"colab-df-convert\" onclick=\"convertToInteractive('df-3606fc29-287c-4ca6-8207-da7ecf1ea44c')\"\n",
              "              title=\"Convert this dataframe to an interactive table.\"\n",
              "              style=\"display:none;\">\n",
              "        \n",
              "  <svg xmlns=\"http://www.w3.org/2000/svg\" height=\"24px\"viewBox=\"0 0 24 24\"\n",
              "       width=\"24px\">\n",
              "    <path d=\"M0 0h24v24H0V0z\" fill=\"none\"/>\n",
              "    <path d=\"M18.56 5.44l.94 2.06.94-2.06 2.06-.94-2.06-.94-.94-2.06-.94 2.06-2.06.94zm-11 1L8.5 8.5l.94-2.06 2.06-.94-2.06-.94L8.5 2.5l-.94 2.06-2.06.94zm10 10l.94 2.06.94-2.06 2.06-.94-2.06-.94-.94-2.06-.94 2.06-2.06.94z\"/><path d=\"M17.41 7.96l-1.37-1.37c-.4-.4-.92-.59-1.43-.59-.52 0-1.04.2-1.43.59L10.3 9.45l-7.72 7.72c-.78.78-.78 2.05 0 2.83L4 21.41c.39.39.9.59 1.41.59.51 0 1.02-.2 1.41-.59l7.78-7.78 2.81-2.81c.8-.78.8-2.07 0-2.86zM5.41 20L4 18.59l7.72-7.72 1.47 1.35L5.41 20z\"/>\n",
              "  </svg>\n",
              "      </button>\n",
              "      \n",
              "  <style>\n",
              "    .colab-df-container {\n",
              "      display:flex;\n",
              "      flex-wrap:wrap;\n",
              "      gap: 12px;\n",
              "    }\n",
              "\n",
              "    .colab-df-convert {\n",
              "      background-color: #E8F0FE;\n",
              "      border: none;\n",
              "      border-radius: 50%;\n",
              "      cursor: pointer;\n",
              "      display: none;\n",
              "      fill: #1967D2;\n",
              "      height: 32px;\n",
              "      padding: 0 0 0 0;\n",
              "      width: 32px;\n",
              "    }\n",
              "\n",
              "    .colab-df-convert:hover {\n",
              "      background-color: #E2EBFA;\n",
              "      box-shadow: 0px 1px 2px rgba(60, 64, 67, 0.3), 0px 1px 3px 1px rgba(60, 64, 67, 0.15);\n",
              "      fill: #174EA6;\n",
              "    }\n",
              "\n",
              "    [theme=dark] .colab-df-convert {\n",
              "      background-color: #3B4455;\n",
              "      fill: #D2E3FC;\n",
              "    }\n",
              "\n",
              "    [theme=dark] .colab-df-convert:hover {\n",
              "      background-color: #434B5C;\n",
              "      box-shadow: 0px 1px 3px 1px rgba(0, 0, 0, 0.15);\n",
              "      filter: drop-shadow(0px 1px 2px rgba(0, 0, 0, 0.3));\n",
              "      fill: #FFFFFF;\n",
              "    }\n",
              "  </style>\n",
              "\n",
              "      <script>\n",
              "        const buttonEl =\n",
              "          document.querySelector('#df-3606fc29-287c-4ca6-8207-da7ecf1ea44c button.colab-df-convert');\n",
              "        buttonEl.style.display =\n",
              "          google.colab.kernel.accessAllowed ? 'block' : 'none';\n",
              "\n",
              "        async function convertToInteractive(key) {\n",
              "          const element = document.querySelector('#df-3606fc29-287c-4ca6-8207-da7ecf1ea44c');\n",
              "          const dataTable =\n",
              "            await google.colab.kernel.invokeFunction('convertToInteractive',\n",
              "                                                     [key], {});\n",
              "          if (!dataTable) return;\n",
              "\n",
              "          const docLinkHtml = 'Like what you see? Visit the ' +\n",
              "            '<a target=\"_blank\" href=https://colab.research.google.com/notebooks/data_table.ipynb>data table notebook</a>'\n",
              "            + ' to learn more about interactive tables.';\n",
              "          element.innerHTML = '';\n",
              "          dataTable['output_type'] = 'display_data';\n",
              "          await google.colab.output.renderOutput(dataTable, element);\n",
              "          const docLink = document.createElement('div');\n",
              "          docLink.innerHTML = docLinkHtml;\n",
              "          element.appendChild(docLink);\n",
              "        }\n",
              "      </script>\n",
              "    </div>\n",
              "  </div>\n",
              "  "
            ]
          },
          "metadata": {},
          "execution_count": 25
        }
      ]
    },
    {
      "cell_type": "code",
      "source": [
        "df.to_csv(\"cbc.csv\", encoding='utf-8', index=False)"
      ],
      "metadata": {
        "id": "-SSqmuVcQHLs"
      },
      "execution_count": 26,
      "outputs": []
    },
    {
      "cell_type": "markdown",
      "source": [
        "## 3. Text Processing"
      ],
      "metadata": {
        "id": "ce7yR5s9QjRi"
      }
    },
    {
      "cell_type": "code",
      "source": [
        "# For the purpose of demonstrating text processing techniques, we will be using\n",
        "# the New York Times dataset as created above, let's start be importing the dataset first\n",
        "\n",
        "nytimes_df = pd.read_csv(\"new_york_times.csv\", encoding='utf-8')\n",
        "nytimes_df.head()"
      ],
      "metadata": {
        "id": "nZ-dhGHiR7yd",
        "colab": {
          "base_uri": "https://localhost:8080/",
          "height": 371
        },
        "outputId": "163020d0-2856-49b3-d849-bafa6a2f254d"
      },
      "execution_count": 27,
      "outputs": [
        {
          "output_type": "execute_result",
          "data": {
            "text/plain": [
              "                                               title  \\\n",
              "0  Ukraine’s Top Generals Want to Keep Fighting f...   \n",
              "1  Protests Over Netanyahu’s Judiciary Overhaul S...   \n",
              "2  Iran’s Rulers, Shaken by Protests, Now Face Cu...   \n",
              "3  Ukrainian Soldiers, Nearly Encircled in Bakhmu...   \n",
              "4  The Story of Multicultural Canada, Told in Hum...   \n",
              "\n",
              "                         published  \\\n",
              "0  Tue, 07 Mar 2023 00:48:52 +0000   \n",
              "1  Mon, 06 Mar 2023 23:00:38 +0000   \n",
              "2  Mon, 06 Mar 2023 22:30:53 +0000   \n",
              "3  Mon, 06 Mar 2023 08:00:19 +0000   \n",
              "4  Mon, 06 Mar 2023 22:11:00 +0000   \n",
              "\n",
              "                                             summary  \\\n",
              "0  Military commanders told President Volodymyr Z...   \n",
              "1  The military leadership is concerned that ange...   \n",
              "2  Years of Western sanctions are partly to blame...   \n",
              "3  The battle for Bakhmut is not over — at least ...   \n",
              "4  Some of Toronto’s best dining options are mom-...   \n",
              "\n",
              "                               author  \\\n",
              "0                  The New York Times   \n",
              "1  Ronen Bergman and Patrick Kingsley   \n",
              "2                          Vivian Yee   \n",
              "3  Carlotta Gall and Daniel Berehulak   \n",
              "4                    Norimitsu Onishi   \n",
              "\n",
              "                                                link  \\\n",
              "0  https://www.nytimes.com/live/2023/03/06/world/...   \n",
              "1  https://www.nytimes.com/2023/03/06/world/middl...   \n",
              "2  https://www.nytimes.com/2023/03/06/world/middl...   \n",
              "3  https://www.nytimes.com/2023/03/06/world/europ...   \n",
              "4  https://www.nytimes.com/2023/03/05/world/canad...   \n",
              "\n",
              "                                                text  \n",
              "0  Ukrainian forces continue to defend the easter...  \n",
              "1  A plan by Prime Minister Benjamin Netanyahu to...  \n",
              "2  As their currency plunged to new lows recently...  \n",
              "3  CHASIV YAR, Ukraine — Lined up in the dark in ...  \n",
              "4  SCARBOROUGH, Ontario — At a tiny strip mall wh...  "
            ],
            "text/html": [
              "\n",
              "  <div id=\"df-8504428b-868f-4cf4-9bbb-9805af8e4028\">\n",
              "    <div class=\"colab-df-container\">\n",
              "      <div>\n",
              "<style scoped>\n",
              "    .dataframe tbody tr th:only-of-type {\n",
              "        vertical-align: middle;\n",
              "    }\n",
              "\n",
              "    .dataframe tbody tr th {\n",
              "        vertical-align: top;\n",
              "    }\n",
              "\n",
              "    .dataframe thead th {\n",
              "        text-align: right;\n",
              "    }\n",
              "</style>\n",
              "<table border=\"1\" class=\"dataframe\">\n",
              "  <thead>\n",
              "    <tr style=\"text-align: right;\">\n",
              "      <th></th>\n",
              "      <th>title</th>\n",
              "      <th>published</th>\n",
              "      <th>summary</th>\n",
              "      <th>author</th>\n",
              "      <th>link</th>\n",
              "      <th>text</th>\n",
              "    </tr>\n",
              "  </thead>\n",
              "  <tbody>\n",
              "    <tr>\n",
              "      <th>0</th>\n",
              "      <td>Ukraine’s Top Generals Want to Keep Fighting f...</td>\n",
              "      <td>Tue, 07 Mar 2023 00:48:52 +0000</td>\n",
              "      <td>Military commanders told President Volodymyr Z...</td>\n",
              "      <td>The New York Times</td>\n",
              "      <td>https://www.nytimes.com/live/2023/03/06/world/...</td>\n",
              "      <td>Ukrainian forces continue to defend the easter...</td>\n",
              "    </tr>\n",
              "    <tr>\n",
              "      <th>1</th>\n",
              "      <td>Protests Over Netanyahu’s Judiciary Overhaul S...</td>\n",
              "      <td>Mon, 06 Mar 2023 23:00:38 +0000</td>\n",
              "      <td>The military leadership is concerned that ange...</td>\n",
              "      <td>Ronen Bergman and Patrick Kingsley</td>\n",
              "      <td>https://www.nytimes.com/2023/03/06/world/middl...</td>\n",
              "      <td>A plan by Prime Minister Benjamin Netanyahu to...</td>\n",
              "    </tr>\n",
              "    <tr>\n",
              "      <th>2</th>\n",
              "      <td>Iran’s Rulers, Shaken by Protests, Now Face Cu...</td>\n",
              "      <td>Mon, 06 Mar 2023 22:30:53 +0000</td>\n",
              "      <td>Years of Western sanctions are partly to blame...</td>\n",
              "      <td>Vivian Yee</td>\n",
              "      <td>https://www.nytimes.com/2023/03/06/world/middl...</td>\n",
              "      <td>As their currency plunged to new lows recently...</td>\n",
              "    </tr>\n",
              "    <tr>\n",
              "      <th>3</th>\n",
              "      <td>Ukrainian Soldiers, Nearly Encircled in Bakhmu...</td>\n",
              "      <td>Mon, 06 Mar 2023 08:00:19 +0000</td>\n",
              "      <td>The battle for Bakhmut is not over — at least ...</td>\n",
              "      <td>Carlotta Gall and Daniel Berehulak</td>\n",
              "      <td>https://www.nytimes.com/2023/03/06/world/europ...</td>\n",
              "      <td>CHASIV YAR, Ukraine — Lined up in the dark in ...</td>\n",
              "    </tr>\n",
              "    <tr>\n",
              "      <th>4</th>\n",
              "      <td>The Story of Multicultural Canada, Told in Hum...</td>\n",
              "      <td>Mon, 06 Mar 2023 22:11:00 +0000</td>\n",
              "      <td>Some of Toronto’s best dining options are mom-...</td>\n",
              "      <td>Norimitsu Onishi</td>\n",
              "      <td>https://www.nytimes.com/2023/03/05/world/canad...</td>\n",
              "      <td>SCARBOROUGH, Ontario — At a tiny strip mall wh...</td>\n",
              "    </tr>\n",
              "  </tbody>\n",
              "</table>\n",
              "</div>\n",
              "      <button class=\"colab-df-convert\" onclick=\"convertToInteractive('df-8504428b-868f-4cf4-9bbb-9805af8e4028')\"\n",
              "              title=\"Convert this dataframe to an interactive table.\"\n",
              "              style=\"display:none;\">\n",
              "        \n",
              "  <svg xmlns=\"http://www.w3.org/2000/svg\" height=\"24px\"viewBox=\"0 0 24 24\"\n",
              "       width=\"24px\">\n",
              "    <path d=\"M0 0h24v24H0V0z\" fill=\"none\"/>\n",
              "    <path d=\"M18.56 5.44l.94 2.06.94-2.06 2.06-.94-2.06-.94-.94-2.06-.94 2.06-2.06.94zm-11 1L8.5 8.5l.94-2.06 2.06-.94-2.06-.94L8.5 2.5l-.94 2.06-2.06.94zm10 10l.94 2.06.94-2.06 2.06-.94-2.06-.94-.94-2.06-.94 2.06-2.06.94z\"/><path d=\"M17.41 7.96l-1.37-1.37c-.4-.4-.92-.59-1.43-.59-.52 0-1.04.2-1.43.59L10.3 9.45l-7.72 7.72c-.78.78-.78 2.05 0 2.83L4 21.41c.39.39.9.59 1.41.59.51 0 1.02-.2 1.41-.59l7.78-7.78 2.81-2.81c.8-.78.8-2.07 0-2.86zM5.41 20L4 18.59l7.72-7.72 1.47 1.35L5.41 20z\"/>\n",
              "  </svg>\n",
              "      </button>\n",
              "      \n",
              "  <style>\n",
              "    .colab-df-container {\n",
              "      display:flex;\n",
              "      flex-wrap:wrap;\n",
              "      gap: 12px;\n",
              "    }\n",
              "\n",
              "    .colab-df-convert {\n",
              "      background-color: #E8F0FE;\n",
              "      border: none;\n",
              "      border-radius: 50%;\n",
              "      cursor: pointer;\n",
              "      display: none;\n",
              "      fill: #1967D2;\n",
              "      height: 32px;\n",
              "      padding: 0 0 0 0;\n",
              "      width: 32px;\n",
              "    }\n",
              "\n",
              "    .colab-df-convert:hover {\n",
              "      background-color: #E2EBFA;\n",
              "      box-shadow: 0px 1px 2px rgba(60, 64, 67, 0.3), 0px 1px 3px 1px rgba(60, 64, 67, 0.15);\n",
              "      fill: #174EA6;\n",
              "    }\n",
              "\n",
              "    [theme=dark] .colab-df-convert {\n",
              "      background-color: #3B4455;\n",
              "      fill: #D2E3FC;\n",
              "    }\n",
              "\n",
              "    [theme=dark] .colab-df-convert:hover {\n",
              "      background-color: #434B5C;\n",
              "      box-shadow: 0px 1px 3px 1px rgba(0, 0, 0, 0.15);\n",
              "      filter: drop-shadow(0px 1px 2px rgba(0, 0, 0, 0.3));\n",
              "      fill: #FFFFFF;\n",
              "    }\n",
              "  </style>\n",
              "\n",
              "      <script>\n",
              "        const buttonEl =\n",
              "          document.querySelector('#df-8504428b-868f-4cf4-9bbb-9805af8e4028 button.colab-df-convert');\n",
              "        buttonEl.style.display =\n",
              "          google.colab.kernel.accessAllowed ? 'block' : 'none';\n",
              "\n",
              "        async function convertToInteractive(key) {\n",
              "          const element = document.querySelector('#df-8504428b-868f-4cf4-9bbb-9805af8e4028');\n",
              "          const dataTable =\n",
              "            await google.colab.kernel.invokeFunction('convertToInteractive',\n",
              "                                                     [key], {});\n",
              "          if (!dataTable) return;\n",
              "\n",
              "          const docLinkHtml = 'Like what you see? Visit the ' +\n",
              "            '<a target=\"_blank\" href=https://colab.research.google.com/notebooks/data_table.ipynb>data table notebook</a>'\n",
              "            + ' to learn more about interactive tables.';\n",
              "          element.innerHTML = '';\n",
              "          dataTable['output_type'] = 'display_data';\n",
              "          await google.colab.output.renderOutput(dataTable, element);\n",
              "          const docLink = document.createElement('div');\n",
              "          docLink.innerHTML = docLinkHtml;\n",
              "          element.appendChild(docLink);\n",
              "        }\n",
              "      </script>\n",
              "    </div>\n",
              "  </div>\n",
              "  "
            ]
          },
          "metadata": {},
          "execution_count": 27
        }
      ]
    },
    {
      "cell_type": "code",
      "source": [
        "import nltk\n",
        "from nltk.corpus import stopwords\n",
        "nltk.download('stopwords')\n",
        "from nltk.stem import PorterStemmer\n",
        "from nltk.stem import WordNetLemmatizer\n",
        "nltk.download('wordnet')\n",
        "nltk.download('omw-1.4')\n",
        "from nltk.util import ngrams\n",
        "from nltk.probability import ConditionalFreqDist\n",
        "from collections import defaultdict\n",
        "import string\n",
        "import random"
      ],
      "metadata": {
        "colab": {
          "base_uri": "https://localhost:8080/"
        },
        "id": "QnZLdQTcmph5",
        "outputId": "f1c8273b-31f8-47c3-e42e-41d13be9efef"
      },
      "execution_count": 28,
      "outputs": [
        {
          "output_type": "stream",
          "name": "stderr",
          "text": [
            "[nltk_data] Downloading package stopwords to /root/nltk_data...\n",
            "[nltk_data]   Unzipping corpora/stopwords.zip.\n",
            "[nltk_data] Downloading package wordnet to /root/nltk_data...\n",
            "[nltk_data] Downloading package omw-1.4 to /root/nltk_data...\n"
          ]
        }
      ]
    },
    {
      "cell_type": "code",
      "source": [
        "# defining all the text processing techniques discussed in the presentation as \n",
        "# functions\n",
        "\n",
        "def number_of_words(text):\n",
        "  \"\"\"\n",
        "  Counts the total number of words in a text\n",
        "\n",
        "  'text': This argument strictly needs to be of type \"string\"\n",
        "  \"\"\"\n",
        "  return len(text.split())\n",
        "\n",
        "def number_of_characters(text):\n",
        "  \"\"\"\n",
        "  Counts the total number of characters in a text\n",
        "  \n",
        "  'text': This argument strictly needs to be of type \"string\"\n",
        "  \"\"\"\n",
        "  return len(text)\n",
        "\n",
        "def average_word_length(text):\n",
        "  \"\"\"\n",
        "  Returns the average word length of a text\n",
        "\n",
        "  'text': This argument strictly needs to be of type \"string\"\n",
        "  \"\"\"\n",
        "  words = text.split()\n",
        "  avg_word_len = sum(len(word) for word in words) / len(words)\n",
        "  return int(avg_word_len)\n",
        "\n",
        "def change_case(text, case_ = 'lower'):\n",
        "  \"\"\"\n",
        "  Returns the transformed text as specified by the case arguement\n",
        "\n",
        "  'text': This argument strictly needs to be of type \"string\"\n",
        "  'case_': can either be 'lower' or 'upper'\n",
        "  \"\"\"\n",
        "  if case_ == 'lower':\n",
        "    return text.lower()\n",
        "  elif case_ == 'upper':\n",
        "    return text.upper()\n",
        "\n",
        "def count_stopwords(text):\n",
        "  \"\"\"\n",
        "  Returns the total number of stopwords in a text.\n",
        "  Vocabulary for stopwords is from nltk module,\n",
        "\n",
        "  'text': This argument strictly needs to be of type \"string\"\n",
        "  \"\"\"\n",
        "  stop_words = set(stopwords.words('english'))\n",
        "  num_of_stopwords = len([word for word in text.split() if word.lower() in stop_words])\n",
        "  return num_of_stopwords\n",
        "\n",
        "\n",
        "def tokenize(text, how = 'word'):\n",
        "  \"\"\"\n",
        "  Tokenizes the text based on nltk module's basic tokenization techniques\n",
        "\n",
        "  'text': This argument strictly needs to be of type \"string\"\n",
        "  'how': This arguement caan be one of ['word', 'sentence', 'whitespace']\n",
        "         indicting the strategy for tokenizing\n",
        "  \"\"\"\n",
        "  if how == 'word':\n",
        "    return nltk.word_tokenize(text)\n",
        "  elif how == 'sentence':\n",
        "    return nltk.sent_tokenize(text)\n",
        "  elif how == 'whitespace':\n",
        "    return nltk.WhitespaceTokenizer(text)\n",
        "\n",
        "def remove_punct(text):\n",
        "  \"\"\"\n",
        "  Removes punctuation marks from a specified text\n",
        "\n",
        "  'text': This argument strictly needs to be of type \"string\"\n",
        "  \"\"\"\n",
        "  \n",
        "  # Tokenize the text into individual words\n",
        "  tokens = tokenize(text)\n",
        "\n",
        "  # Remove punctuation marks from each word\n",
        "  table = str.maketrans('', '', string.punctuation)\n",
        "  words = [word.translate(table) for word in tokens]\n",
        "\n",
        "  # Combine the words back into a single string\n",
        "  cleaned_text = ' '.join(words)\n",
        "\n",
        "  return cleaned_text\n",
        "\n",
        "def remove_stopwords(text):\n",
        "  \"\"\"\n",
        "  Performs stopwords removal on the specified text\n",
        "\n",
        "  'text': This argument strictly needs to be of type \"string\"\n",
        "  \"\"\"\n",
        "\n",
        "  # Tokenize the text\n",
        "  tokens = tokenize(text, how = 'word')\n",
        "    \n",
        "  # Remove stopwords\n",
        "  stopwords_list = stopwords.words('english')\n",
        "  filtered_tokens = [token for token in tokens if token.lower() not in stopwords_list]\n",
        "    \n",
        "  # Join the filtered tokens back into a string\n",
        "  filtered_text = ' '.join(filtered_tokens)\n",
        "    \n",
        "  return filtered_text\n",
        "\n",
        "def stem_text(text):\n",
        "  \"\"\"\n",
        "  Returns the stemmed text based on the \"PorterStemmer\" stemming strategy of\n",
        "  the nltk module. This is a widely used stemming algorithm that removes common \n",
        "  suffixes from English words. It is implemented in nltk as the PorterStemmer \n",
        "  class.\n",
        "\n",
        "  'text': This argument strictly needs to be of type \"string\"\n",
        "  \"\"\"\n",
        "  stemmer = PorterStemmer()\n",
        "  tokens = text.split()\n",
        "  stemmed_tokens = [stemmer.stem(token) for token in tokens]\n",
        "  stemmed_text = ' '.join(stemmed_tokens)\n",
        "  return stemmed_text\n",
        "\n",
        "def lemmatize_text(text):\n",
        "  \"\"\"\n",
        "  Lemmatizes text using the WordNetLemmatizer class from the nltk.stem module.\n",
        "\n",
        "  'text': This argument strictly needs to be of type \"string\"\n",
        "  \"\"\"\n",
        "  tokens = tokenize(text, how = 'word')\n",
        "  lemmatizer = WordNetLemmatizer()\n",
        "\n",
        "  lemmatized_tokens = []\n",
        "  for word in tokens:\n",
        "    lemmatized_tokens.append(lemmatizer.lemmatize(word))\n",
        "  \n",
        "  lemmatized_text = ' '.join(lemmatized_tokens)\n",
        "  \n",
        "  return lemmatized_text\n",
        "\n",
        "def normalize_text(text):\n",
        "  \"\"\"\n",
        "  This function acts like a pipeline for the function defined above, for the\n",
        "  purpose of normalizing the text\n",
        "\n",
        "  'text': This argument strictly needs to be of type \"string\"\n",
        "  \"\"\"\n",
        "  normalized_text = change_case(text, case_ = 'lower')\n",
        "  normalized_text = remove_punct(normalized_text)\n",
        "  # normalized_text = remove_stopwords(normalized_text)\n",
        "  normalized_text = lemmatize_text(normalized_text)\n",
        "\n",
        "  return normalized_text"
      ],
      "metadata": {
        "id": "VXpHTpY_fj8I"
      },
      "execution_count": 36,
      "outputs": []
    },
    {
      "cell_type": "code",
      "source": [
        "sample_text = \"\"\" The quick brown fox jumps over the lazy dog. The dog is not actually lazy, \n",
        "                  but rather quite active. He loves to run and play all day long, chasing after squirrels \n",
        "                  and rabbits in the park. Unfortunately, he sometimes gets into fights with other dogs, \n",
        "                  which can be quite dangerous. As his owner, it's my job to make sure he stays safe and healthy, \n",
        "                  both physically and emotionally.\n",
        "              \"\"\"\n",
        "\n",
        "print('# of Words:', number_of_words(sample_text), '\\n')\n",
        "print('# of Characters:', number_of_characters(sample_text), '\\n')\n",
        "print('Avg. word length:', average_word_length(sample_text), '\\n')"
      ],
      "metadata": {
        "colab": {
          "base_uri": "https://localhost:8080/"
        },
        "id": "jViyWkF6cFy8",
        "outputId": "765637f9-e1a0-4d39-d45a-1e86e6ddeae0"
      },
      "execution_count": 30,
      "outputs": [
        {
          "output_type": "stream",
          "name": "stdout",
          "text": [
            "# of Words: 68 \n",
            "\n",
            "# of Characters: 470 \n",
            "\n",
            "Avg. word length: 4 \n",
            "\n"
          ]
        }
      ]
    },
    {
      "cell_type": "code",
      "source": [
        "print('Normalized text:', normalize_text(sample_text), '\\n')"
      ],
      "metadata": {
        "colab": {
          "base_uri": "https://localhost:8080/"
        },
        "id": "7AR26DwvnPLS",
        "outputId": "8c55b1e6-f14e-48d0-a68d-a039c82098c6"
      },
      "execution_count": 31,
      "outputs": [
        {
          "output_type": "stream",
          "name": "stdout",
          "text": [
            "Normalized text: thequickbrownfoxjumpoverthelazydogthedogisnotactuallylazybutratherquiteactivehelovetorunandplayalldaylongchasingaftersquirrelandrabbitintheparkunfortunatelyhesometimesgetintofightwithotherdogwhichcanbequitedangerousahisowneritsmyjobtomakesurehestaysafeandhealthybothphysicallyandemotionally \n",
            "\n"
          ]
        }
      ]
    },
    {
      "cell_type": "markdown",
      "source": [
        "### Predicting the next word in a sentence using the N-grams model"
      ],
      "metadata": {
        "id": "6sCwc9RgVlIz"
      }
    },
    {
      "cell_type": "code",
      "source": [
        "def n_gram_model(text):\n",
        "  trigrams = list(nltk.ngrams(list(text.split()), 3, pad_left=True, pad_right=True, left_pad_symbol='<s>', right_pad_symbol='</s>'))\n",
        "\n",
        "  # make conditional frequencies dictionary  \n",
        "  cfdist = ConditionalFreqDist()\n",
        "  for w1, w2, w3 in trigrams:\n",
        "    cfdist[(w1, w2)][w3] += 1\n",
        "\n",
        "  # transform frequencies to probabilities\n",
        "  for w1_w2 in cfdist:\n",
        "    total_count = float(sum(cfdist[w1_w2].values()))\n",
        "    for w3 in cfdist[w1_w2]:\n",
        "      cfdist[w1_w2][w3] /= total_count\n",
        "\n",
        "  return cfdist\n",
        "\n",
        "def predict(model, user_input):\n",
        "  user_input = normalize_text(user_input)\n",
        "  user_input = user_input.split()\n",
        "\n",
        "  w1 = len(user_input) - 2\n",
        "  w2 = len(user_input)\n",
        "  prev_words = user_input[w1:w2]\n",
        "\n",
        "  # display prediction from highest to lowest maximum likelihood\n",
        "  prediction = sorted(dict(model[prev_words[0], prev_words[1]]), key=lambda x: dict(model[prev_words[0], prev_words[1]])[x], reverse=True)\n",
        "  print(\"Trigram model predictions: \", prediction)\n",
        "\n",
        "  word = []\n",
        "  weight = []\n",
        "  for key, prob in dict(model[prev_words[0], prev_words[1]]).items():\n",
        "    word.append(key)\n",
        "    weight.append(prob)\n",
        "\n",
        "  # pick from a weighted random probability of predictions\n",
        "  next_word = random.choices(word, weights=weight, k=1)\n",
        "  \n",
        "  # add predicted word to user input\n",
        "  user_input.append(next_word[0])\n",
        "  print(' '.join(user_input))\n",
        "\n",
        "  ask = input(\"Do you want to generate another word? (type 'y' for yes or 'n' for no): \")\n",
        "  if ask.lower() == 'y':\n",
        "        predict(model, str(user_input))\n",
        "  elif ask.lower() == 'n':\n",
        "        print(\"done\")"
      ],
      "metadata": {
        "id": "A59jjDUJlDho"
      },
      "execution_count": 37,
      "outputs": []
    },
    {
      "cell_type": "code",
      "source": [
        "normalized_text = normalize_text(sample_text)\n",
        "model = n_gram_model(normalized_text)\n",
        "predict(model, \"quick brown fox\")"
      ],
      "metadata": {
        "colab": {
          "base_uri": "https://localhost:8080/"
        },
        "id": "raav5TP7rGaG",
        "outputId": "d4cdbd9a-d471-400b-ba36-78769d4bb922"
      },
      "execution_count": 38,
      "outputs": [
        {
          "output_type": "stream",
          "name": "stdout",
          "text": [
            "Trigram model predictions:  ['jump']\n",
            "quick brown fox jump\n",
            "Do you want to generate another word? (type 'y' for yes or 'n' for no): y\n",
            "Trigram model predictions:  ['over']\n",
            "quick brown fox jump over\n",
            "Do you want to generate another word? (type 'y' for yes or 'n' for no): y\n",
            "Trigram model predictions:  ['the']\n",
            "quick brown fox jump over the\n",
            "Do you want to generate another word? (type 'y' for yes or 'n' for no): n\n",
            "done\n"
          ]
        }
      ]
    },
    {
      "cell_type": "code",
      "source": [
        "# using the New York Times data\n",
        "text = nytimes_df.loc[0, 'text']\n",
        "#print(text, '\\n')"
      ],
      "metadata": {
        "id": "P32TzEU0uAb9"
      },
      "execution_count": 40,
      "outputs": []
    },
    {
      "cell_type": "code",
      "source": [
        "normalized_text = normalize_text(text)\n",
        "model = n_gram_model(normalized_text)\n",
        "predict(model, \"with Russian forces\")"
      ],
      "metadata": {
        "colab": {
          "base_uri": "https://localhost:8080/"
        },
        "id": "KtPx8KpIub_Q",
        "outputId": "51968c6f-a198-4e1b-e3e0-a2b2c3bf3588"
      },
      "execution_count": 41,
      "outputs": [
        {
          "output_type": "stream",
          "name": "stdout",
          "text": [
            "Trigram model predictions:  ['and', 'have', 'russian', 'attacking', '“']\n",
            "with russian force russian\n",
            "Do you want to generate another word? (type 'y' for yes or 'n' for no): y\n",
            "Trigram model predictions:  ['force']\n",
            "with russian force russian force\n",
            "Do you want to generate another word? (type 'y' for yes or 'n' for no): n\n",
            "done\n"
          ]
        }
      ]
    },
    {
      "cell_type": "markdown",
      "source": [
        "### \"Bag of Words\" Document Representation using Term Frequency (TF)"
      ],
      "metadata": {
        "id": "fQCBzIbItmsi"
      }
    },
    {
      "cell_type": "markdown",
      "source": [
        "Bag of Words is a document representation technique used in natural language processing to convert a text document into a numerical vector that can be used for various machine learning tasks. In this technique, the text of a document is first preprocessed by tokenizing the words and removing any stop words and punctuation marks. The resulting set of words is then used to create a vocabulary, where each word is represented by a unique index.\n",
        "\n",
        "The Bag of Words model can then be represented using two methods: Term Frequency (TF) and Term Frequency-Inverse Document Frequency (TF-IDF).\n",
        "\n",
        "In the TF method, each document is represented by a vector where each entry corresponds to the frequency of the corresponding word in the document. For example, consider the following two sentences:\n",
        "\n",
        "The quick brown fox jumps over the lazy dog.\n",
        "\n",
        "The lazy dog sleeps all day.\n",
        "\n",
        "The corresponding Bag of Words representation using the TF method would be:\n",
        "\n",
        "```\n",
        "            quick brown fox  jumps over the   lazy  dog   sleeps all   day\n",
        "Sentence 1: 0.11  0.11  0.11 0.11  0.11 0.22  0.11  0.11  0      0     0  \n",
        "Sentence 2: 0     0     0    0     0    0.167 0.167 0.167 0.167  0.167 0.167  \n",
        "```\n",
        "The entry in each vector corresponds to the frequency of the corresponding word in the document. For example, the first sentence has a 1 in the \"quick\" column because the word \"quick\" appears once in the sentence.\n",
        "\n",
        "Sci-Kit Learn's TfidfVectorizer Class implements the above explained 'Bag of Words' representation, the only modification that needs to be made is setting the boolean arguement `use_idf` to **False**, which caan be seen below"
      ],
      "metadata": {
        "id": "Np03ghoHJwYG"
      }
    },
    {
      "cell_type": "code",
      "source": [
        "from sklearn.feature_extraction.text import TfidfVectorizer\n",
        "\n",
        "# Create a list of all articles\n",
        "texts = [article for article in nytimes_df['text'].to_list()]\n",
        "\n",
        "# Create an instance of the TfidfVectorizer class\n",
        "vectorizer = TfidfVectorizer(use_idf = False)\n",
        "\n",
        "# Fit the vectorizer on the documents\n",
        "vectorizer.fit(texts)\n",
        "\n",
        "# Transform the articles into a TF-IDF matrix\n",
        "tf_matrix = vectorizer.transform(texts)\n",
        "tf_matrix = tf_matrix.toarray()\n",
        "\n",
        "print(tf_matrix)"
      ],
      "metadata": {
        "colab": {
          "base_uri": "https://localhost:8080/"
        },
        "id": "8K0KgsHctJV6",
        "outputId": "45d98ec4-df10-4673-a0c0-9d34150e4af0"
      },
      "execution_count": 42,
      "outputs": [
        {
          "output_type": "stream",
          "name": "stdout",
          "text": [
            "[[0.         0.         0.         ... 0.         0.         0.        ]\n",
            " [0.         0.         0.         ... 0.         0.         0.        ]\n",
            " [0.         0.         0.         ... 0.         0.         0.        ]\n",
            " ...\n",
            " [0.         0.         0.         ... 0.         0.         0.        ]\n",
            " [0.         0.         0.         ... 0.         0.         0.03468962]\n",
            " [0.         0.         0.         ... 0.         0.         0.        ]]\n"
          ]
        }
      ]
    },
    {
      "cell_type": "code",
      "source": [
        "tf_matrix.shape"
      ],
      "metadata": {
        "colab": {
          "base_uri": "https://localhost:8080/"
        },
        "id": "8vyY2WqDNDs8",
        "outputId": "e3af3ff9-75ed-47c8-8d68-f885413c46fe"
      },
      "execution_count": 43,
      "outputs": [
        {
          "output_type": "execute_result",
          "data": {
            "text/plain": [
              "(61, 3597)"
            ]
          },
          "metadata": {},
          "execution_count": 43
        }
      ]
    },
    {
      "cell_type": "markdown",
      "source": [
        "This matrix is the **term frequency 'bag of words' representation** of the New York times articles, the shape of this matrix is (# of articles, # of unique words in the corpus). Let's add a column `bow_tf` to our New York times dataframe, which has the term frequency bag of words representation of the corresponding article,"
      ],
      "metadata": {
        "id": "EYP00bENMus8"
      }
    },
    {
      "cell_type": "code",
      "source": [
        "nytimes_df['bow_tf'] = pd.Series(list(tf_matrix))"
      ],
      "metadata": {
        "id": "Z1GcPt0hFxvM"
      },
      "execution_count": 44,
      "outputs": []
    },
    {
      "cell_type": "markdown",
      "source": [
        "### \"Bag of Words\" Document Representation using Term Frequency and Inverse Document Frequency (TF_IDF)"
      ],
      "metadata": {
        "id": "kykQJTy4IfLL"
      }
    },
    {
      "cell_type": "markdown",
      "source": [
        "In the TF-IDF method, each entry in the vector is the product of the term frequency and inverse document frequency of the corresponding word. This method gives more weight to words that are rare in the corpus and less weight to words that are common. The formula for calculating the TF-IDF weight of a word is:\n",
        "```\n",
        "TF-IDF(w, d) = TF(w, d) * IDF(w)\n",
        "```\n",
        "where TF(w, d) is the term frequency of word w in document d and IDF(w) is the inverse document frequency of word w across all documents in the corpus.\n",
        "\n",
        "Continuing with the same example, \n",
        "\n",
        "The quick brown fox jumps over the lazy dog.\n",
        "\n",
        "The lazy dog sleeps all day.\n",
        "\n",
        "the corresponding Bag of Words representation using the TF-IDF method would be:\n",
        "```\n",
        "            quick brown fox jumps over the   lazy  dog   sleeps all day\n",
        "Sentence 1: 0     0     0   0     0    0.089 0.045 0.045 0      0   0   \n",
        "Sentence 2: 0     0     0   0     0    0.067 0.067 0.067 0      0   0 \n",
        "```\n",
        "The entry in each vector corresponds to the TF-IDF weight of the corresponding word in the document. For example, the first sentence has a TF-IDF weight of 0.045 in the \"dog\" column because the word \"dog\" appears once in the sentence and has a relatively low IDF value."
      ],
      "metadata": {
        "id": "U707eqh4N4UD"
      }
    },
    {
      "cell_type": "code",
      "source": [
        "from sklearn.feature_extraction.text import TfidfVectorizer\n",
        "\n",
        "# Create a list of all articles\n",
        "texts = [article for article in nytimes_df['text'].to_list()]\n",
        "\n",
        "# Create an instance of the TfidfVectorizer class\n",
        "vectorizer = TfidfVectorizer(use_idf = True)\n",
        "\n",
        "# Fit the vectorizer on the documents\n",
        "vectorizer.fit(texts)\n",
        "\n",
        "# Transform the articles into a TF-IDF matrix\n",
        "tfidf_matrix = vectorizer.transform(texts)\n",
        "tfidf_matrix = tfidf_matrix.toarray()\n",
        "\n",
        "print(tfidf_matrix)"
      ],
      "metadata": {
        "colab": {
          "base_uri": "https://localhost:8080/"
        },
        "id": "w6dJjHpuHYEN",
        "outputId": "2f251309-02ec-4aff-8a00-d3a4166931b7"
      },
      "execution_count": 45,
      "outputs": [
        {
          "output_type": "stream",
          "name": "stdout",
          "text": [
            "[[0.         0.         0.         ... 0.         0.         0.        ]\n",
            " [0.         0.         0.         ... 0.         0.         0.        ]\n",
            " [0.         0.         0.         ... 0.         0.         0.        ]\n",
            " ...\n",
            " [0.         0.         0.         ... 0.         0.         0.        ]\n",
            " [0.         0.         0.         ... 0.         0.         0.06032222]\n",
            " [0.         0.         0.         ... 0.         0.         0.        ]]\n"
          ]
        }
      ]
    },
    {
      "cell_type": "markdown",
      "source": [
        "The column `bow-tfidf' is added to the new york times dataframe to show the **term frequency - inverse document frequency 'bag of words' representation** of the corresponding articles"
      ],
      "metadata": {
        "id": "SzJiwuECRn6f"
      }
    },
    {
      "cell_type": "code",
      "source": [
        "nytimes_df['bow_tfidf'] = pd.Series(list(tfidf_matrix))"
      ],
      "metadata": {
        "id": "JhOFVMSxIB1U"
      },
      "execution_count": 46,
      "outputs": []
    },
    {
      "cell_type": "markdown",
      "source": [
        "In summary, the Bag of Words model with the TF and TF-IDF methods represents a document as a numerical vector where each entry corresponds to the frequency or importance of the corresponding word in the document. These representations can then be used in various machine learning tasks such as classification, clustering, and information retrieval."
      ],
      "metadata": {
        "id": "p0kt9L5kRjR9"
      }
    },
    {
      "cell_type": "markdown",
      "source": [
        "## Word Embeddings\n",
        "\n",
        "Word embeddings are a type of vector representation used in natural language processing to capture the meaning of words in a way that can be easily processed by machine learning algorithms. Unlike Bag of Words representations, word embeddings are able to capture the semantic relationships between words and can represent the meaning of a word based on its context.\n",
        "\n",
        "Word embeddings are typically created using a technique called word2vec, which is a neural network-based approach. The basic idea behind word2vec is to train a neural network to predict the context of a word given its surrounding words. The context of a word refers to the words that appear in its vicinity, such as the words that come before and after it in a sentence or paragraph.\n",
        "\n",
        "The word2vec model consists of a shallow neural network with one input layer, one hidden layer, and one output layer. The input layer corresponds to the words in the vocabulary, and each word is represented by an embedding vector whose dimension can be a user-defined parameter. The output layer consists of a set of softmax nodes, each representing a word in the vocabulary. The objective of the network is to predict the probability distribution of the words in the vocabulary given the input word.\n",
        "\n",
        "During training, the network is fed with pairs of words and their context words, and the objective is to minimize the cross-entropy loss between the predicted probability distribution and the actual context words. The weights of the hidden layer are then used as the word embeddings for the corresponding words in the vocabulary.\n",
        "\n",
        "The resulting word embeddings are typically dense vectors of fixed dimensionality, where each element represents a latent feature or aspect of the corresponding word. These vectors can be used as input to various machine learning algorithms for various NLP tasks such as sentiment analysis, named entity recognition, and machine translation.\n",
        "\n",
        "For the purpose of this presentation, instead of writing the whole neural metwork model for implementing word2vec, we are using the `gensim.sklearn_api` module's `W2VTransformer` class, as shown below,"
      ],
      "metadata": {
        "id": "Mk061GaTTBlY"
      }
    },
    {
      "cell_type": "code",
      "source": [
        "from gensim.sklearn_api import W2VTransformer\n",
        "\n",
        "# creating a model to represent each word by a 10 dimensional embedding vector\n",
        "word2vec = W2VTransformer(size=10, min_count=1, seed=1)\n",
        "\n",
        "# transforming the collections of articel text to be compatible feeding into the model\n",
        "corpus = []\n",
        "for text in nytimes_df['text'].to_list():\n",
        "  corpus.append(list(text.split()))\n",
        "\n",
        "word2vec.fit(corpus)"
      ],
      "metadata": {
        "id": "dfWXQhmWRl_1",
        "outputId": "a5d9bdc9-d30d-4f2e-bfe1-5f1c184c9dbc",
        "colab": {
          "base_uri": "https://localhost:8080/",
          "height": 109
        }
      },
      "execution_count": 47,
      "outputs": [
        {
          "output_type": "stream",
          "name": "stderr",
          "text": [
            "WARNING:gensim.models.base_any2vec:consider setting layer size to a multiple of 4 for greater performance\n",
            "WARNING:gensim.models.base_any2vec:under 10 jobs per worker: consider setting a smaller `batch_words' for smoother alpha decay\n"
          ]
        },
        {
          "output_type": "execute_result",
          "data": {
            "text/plain": [
              "W2VTransformer(min_count=1, size=10)"
            ],
            "text/html": [
              "<style>#sk-container-id-1 {color: black;background-color: white;}#sk-container-id-1 pre{padding: 0;}#sk-container-id-1 div.sk-toggleable {background-color: white;}#sk-container-id-1 label.sk-toggleable__label {cursor: pointer;display: block;width: 100%;margin-bottom: 0;padding: 0.3em;box-sizing: border-box;text-align: center;}#sk-container-id-1 label.sk-toggleable__label-arrow:before {content: \"▸\";float: left;margin-right: 0.25em;color: #696969;}#sk-container-id-1 label.sk-toggleable__label-arrow:hover:before {color: black;}#sk-container-id-1 div.sk-estimator:hover label.sk-toggleable__label-arrow:before {color: black;}#sk-container-id-1 div.sk-toggleable__content {max-height: 0;max-width: 0;overflow: hidden;text-align: left;background-color: #f0f8ff;}#sk-container-id-1 div.sk-toggleable__content pre {margin: 0.2em;color: black;border-radius: 0.25em;background-color: #f0f8ff;}#sk-container-id-1 input.sk-toggleable__control:checked~div.sk-toggleable__content {max-height: 200px;max-width: 100%;overflow: auto;}#sk-container-id-1 input.sk-toggleable__control:checked~label.sk-toggleable__label-arrow:before {content: \"▾\";}#sk-container-id-1 div.sk-estimator input.sk-toggleable__control:checked~label.sk-toggleable__label {background-color: #d4ebff;}#sk-container-id-1 div.sk-label input.sk-toggleable__control:checked~label.sk-toggleable__label {background-color: #d4ebff;}#sk-container-id-1 input.sk-hidden--visually {border: 0;clip: rect(1px 1px 1px 1px);clip: rect(1px, 1px, 1px, 1px);height: 1px;margin: -1px;overflow: hidden;padding: 0;position: absolute;width: 1px;}#sk-container-id-1 div.sk-estimator {font-family: monospace;background-color: #f0f8ff;border: 1px dotted black;border-radius: 0.25em;box-sizing: border-box;margin-bottom: 0.5em;}#sk-container-id-1 div.sk-estimator:hover {background-color: #d4ebff;}#sk-container-id-1 div.sk-parallel-item::after {content: \"\";width: 100%;border-bottom: 1px solid gray;flex-grow: 1;}#sk-container-id-1 div.sk-label:hover label.sk-toggleable__label {background-color: #d4ebff;}#sk-container-id-1 div.sk-serial::before {content: \"\";position: absolute;border-left: 1px solid gray;box-sizing: border-box;top: 0;bottom: 0;left: 50%;z-index: 0;}#sk-container-id-1 div.sk-serial {display: flex;flex-direction: column;align-items: center;background-color: white;padding-right: 0.2em;padding-left: 0.2em;position: relative;}#sk-container-id-1 div.sk-item {position: relative;z-index: 1;}#sk-container-id-1 div.sk-parallel {display: flex;align-items: stretch;justify-content: center;background-color: white;position: relative;}#sk-container-id-1 div.sk-item::before, #sk-container-id-1 div.sk-parallel-item::before {content: \"\";position: absolute;border-left: 1px solid gray;box-sizing: border-box;top: 0;bottom: 0;left: 50%;z-index: -1;}#sk-container-id-1 div.sk-parallel-item {display: flex;flex-direction: column;z-index: 1;position: relative;background-color: white;}#sk-container-id-1 div.sk-parallel-item:first-child::after {align-self: flex-end;width: 50%;}#sk-container-id-1 div.sk-parallel-item:last-child::after {align-self: flex-start;width: 50%;}#sk-container-id-1 div.sk-parallel-item:only-child::after {width: 0;}#sk-container-id-1 div.sk-dashed-wrapped {border: 1px dashed gray;margin: 0 0.4em 0.5em 0.4em;box-sizing: border-box;padding-bottom: 0.4em;background-color: white;}#sk-container-id-1 div.sk-label label {font-family: monospace;font-weight: bold;display: inline-block;line-height: 1.2em;}#sk-container-id-1 div.sk-label-container {text-align: center;}#sk-container-id-1 div.sk-container {/* jupyter's `normalize.less` sets `[hidden] { display: none; }` but bootstrap.min.css set `[hidden] { display: none !important; }` so we also need the `!important` here to be able to override the default hidden behavior on the sphinx rendered scikit-learn.org. See: https://github.com/scikit-learn/scikit-learn/issues/21755 */display: inline-block !important;position: relative;}#sk-container-id-1 div.sk-text-repr-fallback {display: none;}</style><div id=\"sk-container-id-1\" class=\"sk-top-container\"><div class=\"sk-text-repr-fallback\"><pre>W2VTransformer(min_count=1, size=10)</pre><b>In a Jupyter environment, please rerun this cell to show the HTML representation or trust the notebook. <br />On GitHub, the HTML representation is unable to render, please try loading this page with nbviewer.org.</b></div><div class=\"sk-container\" hidden><div class=\"sk-item\"><div class=\"sk-estimator sk-toggleable\"><input class=\"sk-toggleable__control sk-hidden--visually\" id=\"sk-estimator-id-1\" type=\"checkbox\" checked><label for=\"sk-estimator-id-1\" class=\"sk-toggleable__label sk-toggleable__label-arrow\">W2VTransformer</label><div class=\"sk-toggleable__content\"><pre>W2VTransformer(min_count=1, size=10)</pre></div></div></div></div></div>"
            ]
          },
          "metadata": {},
          "execution_count": 47
        }
      ]
    },
    {
      "cell_type": "code",
      "source": [
        "## word embedding for the word \"country\"\n",
        "country_vec = word2vec.transform(\"country\")\n",
        "print(country_vec, '\\n', country_vec.shape)"
      ],
      "metadata": {
        "colab": {
          "base_uri": "https://localhost:8080/"
        },
        "id": "8g-7oHa8Zy9D",
        "outputId": "5b504ceb-869a-4212-bdd6-a4199c684713"
      },
      "execution_count": 48,
      "outputs": [
        {
          "output_type": "stream",
          "name": "stdout",
          "text": [
            "[[ 0.05276789 -0.04101641 -0.00537425  0.06918377  0.01668434 -0.02814205\n",
            "   0.01882263 -0.03083917 -0.06442052 -0.01823299]] \n",
            " (1, 10)\n"
          ]
        }
      ]
    },
    {
      "cell_type": "markdown",
      "source": [
        "Since we initialized the model with size = 10, word embedding or word vector for every word will be of dimension 10"
      ],
      "metadata": {
        "id": "Z4bcbnTVb4nL"
      }
    },
    {
      "cell_type": "code",
      "source": [
        "## word embedding for the word \"company\"\n",
        "country_vec = word2vec.transform(\"company\")\n",
        "print(country_vec, '\\n', country_vec.shape)"
      ],
      "metadata": {
        "colab": {
          "base_uri": "https://localhost:8080/"
        },
        "id": "TrECW5gdbKii",
        "outputId": "6ce5468c-699d-4ffa-c0a0-28005142add0"
      },
      "execution_count": 49,
      "outputs": [
        {
          "output_type": "stream",
          "name": "stdout",
          "text": [
            "[[ 0.04399081 -0.02204123 -0.02133559  0.06640895 -0.00159628  0.03069001\n",
            "   0.02628162 -0.02725606 -0.05027699 -0.03825242]] \n",
            " (1, 10)\n"
          ]
        }
      ]
    }
  ]
}