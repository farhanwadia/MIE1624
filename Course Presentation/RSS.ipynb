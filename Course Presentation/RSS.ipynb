{
  "nbformat": 4,
  "nbformat_minor": 0,
  "metadata": {
    "colab": {
      "provenance": [],
      "collapsed_sections": [
        "uM9VGfkqLLMK",
        "XFBqhdKTO1Yb"
      ],
      "machine_shape": "hm"
    },
    "kernelspec": {
      "name": "python3",
      "display_name": "Python 3"
    },
    "language_info": {
      "name": "python"
    },
    "gpuClass": "standard"
  },
  "cells": [
    {
      "cell_type": "markdown",
      "source": [
        "# Web Scraping with RSS Feeds\n",
        "\n",
        "Prepared by Group 14"
      ],
      "metadata": {
        "id": "BlJ95R6pGLJy"
      }
    },
    {
      "cell_type": "markdown",
      "source": [
        "The purpose of this notebook is to show how to scrape news articles from the RSS feeds of various news sources, and perform text processing techniques. This notebook can be accessed at https://github.com/farhanwadia/MIE1624/blob/master/Course%20Presentation/RSS.ipynb"
      ],
      "metadata": {
        "id": "9ajIYc9PGdVh"
      }
    },
    {
      "cell_type": "markdown",
      "source": [
        "## 1. Installation"
      ],
      "metadata": {
        "id": "afBKHWEBGtra"
      }
    },
    {
      "cell_type": "code",
      "execution_count": 2,
      "metadata": {
        "id": "vPbf5VVhlJI1",
        "colab": {
          "base_uri": "https://localhost:8080/"
        },
        "outputId": "955ab92b-9393-4c09-f832-4059ffee6636"
      },
      "outputs": [
        {
          "output_type": "stream",
          "name": "stdout",
          "text": [
            "Cloning into 'MIE1624'...\n",
            "remote: Enumerating objects: 39, done.\u001b[K\n",
            "remote: Counting objects: 100% (39/39), done.\u001b[K\n",
            "remote: Compressing objects: 100% (35/35), done.\u001b[K\n",
            "remote: Total 39 (delta 8), reused 11 (delta 2), pack-reused 0\u001b[K\n",
            "Unpacking objects: 100% (39/39), 156.78 KiB | 863.00 KiB/s, done.\n"
          ]
        }
      ],
      "source": [
        "!git clone https://github.com/farhanwadia/MIE1624.git"
      ]
    },
    {
      "cell_type": "code",
      "source": [
        "%cd MIE1624\n",
        "%cd 'Course Presentation'"
      ],
      "metadata": {
        "id": "8fU-LFYgqYmj",
        "colab": {
          "base_uri": "https://localhost:8080/"
        },
        "outputId": "9f69b7c8-7bde-4d62-e83d-61055b560fdf"
      },
      "execution_count": 3,
      "outputs": [
        {
          "output_type": "stream",
          "name": "stdout",
          "text": [
            "/content/MIE1624\n",
            "/content/MIE1624/Course Presentation\n"
          ]
        }
      ]
    },
    {
      "cell_type": "code",
      "source": [
        "!ls"
      ],
      "metadata": {
        "id": "QCVxisDlnBNU",
        "colab": {
          "base_uri": "https://localhost:8080/"
        },
        "outputId": "e0f59a4e-56df-46a8-d3d3-a62ca056a749"
      },
      "execution_count": 4,
      "outputs": [
        {
          "output_type": "stream",
          "name": "stdout",
          "text": [
            " GP.ipynb  'In-class presentation assignment - Group 14.pdf'   RSS.ipynb\n"
          ]
        }
      ]
    },
    {
      "cell_type": "code",
      "source": [
        "!pip install feedparser\n",
        "!pip install newspaper3k"
      ],
      "metadata": {
        "colab": {
          "base_uri": "https://localhost:8080/"
        },
        "id": "PkXjAYSzocN8",
        "outputId": "b52180eb-96a0-4ca6-8dea-7c6e2dce6ff2"
      },
      "execution_count": 5,
      "outputs": [
        {
          "output_type": "stream",
          "name": "stdout",
          "text": [
            "Looking in indexes: https://pypi.org/simple, https://us-python.pkg.dev/colab-wheels/public/simple/\n",
            "Collecting feedparser\n",
            "  Downloading feedparser-6.0.10-py3-none-any.whl (81 kB)\n",
            "\u001b[2K     \u001b[90m━━━━━━━━━━━━━━━━━━━━━━━━━━━━━━━━━━━━━━━━\u001b[0m \u001b[32m81.1/81.1 KB\u001b[0m \u001b[31m2.7 MB/s\u001b[0m eta \u001b[36m0:00:00\u001b[0m\n",
            "\u001b[?25hCollecting sgmllib3k\n",
            "  Downloading sgmllib3k-1.0.0.tar.gz (5.8 kB)\n",
            "  Preparing metadata (setup.py) ... \u001b[?25l\u001b[?25hdone\n",
            "Building wheels for collected packages: sgmllib3k\n",
            "  Building wheel for sgmllib3k (setup.py) ... \u001b[?25l\u001b[?25hdone\n",
            "  Created wheel for sgmllib3k: filename=sgmllib3k-1.0.0-py3-none-any.whl size=6066 sha256=caa2dfdde7071b047f5fdeb96250b1c18cdbc865598673a0bd9b58d5159ddbb7\n",
            "  Stored in directory: /root/.cache/pip/wheels/83/63/2f/117884c3b19d46b64d3d61690333aa80c88dc14050e269c546\n",
            "Successfully built sgmllib3k\n",
            "Installing collected packages: sgmllib3k, feedparser\n",
            "Successfully installed feedparser-6.0.10 sgmllib3k-1.0.0\n",
            "Looking in indexes: https://pypi.org/simple, https://us-python.pkg.dev/colab-wheels/public/simple/\n",
            "Collecting newspaper3k\n",
            "  Downloading newspaper3k-0.2.8-py3-none-any.whl (211 kB)\n",
            "\u001b[2K     \u001b[90m━━━━━━━━━━━━━━━━━━━━━━━━━━━━━━━━━━━━━━\u001b[0m \u001b[32m211.1/211.1 KB\u001b[0m \u001b[31m10.5 MB/s\u001b[0m eta \u001b[36m0:00:00\u001b[0m\n",
            "\u001b[?25hRequirement already satisfied: lxml>=3.6.0 in /usr/local/lib/python3.8/dist-packages (from newspaper3k) (4.9.2)\n",
            "Collecting cssselect>=0.9.2\n",
            "  Downloading cssselect-1.2.0-py2.py3-none-any.whl (18 kB)\n",
            "Collecting jieba3k>=0.35.1\n",
            "  Downloading jieba3k-0.35.1.zip (7.4 MB)\n",
            "\u001b[2K     \u001b[90m━━━━━━━━━━━━━━━━━━━━━━━━━━━━━━━━━━━━━━━━\u001b[0m \u001b[32m7.4/7.4 MB\u001b[0m \u001b[31m113.9 MB/s\u001b[0m eta \u001b[36m0:00:00\u001b[0m\n",
            "\u001b[?25h  Preparing metadata (setup.py) ... \u001b[?25l\u001b[?25hdone\n",
            "Requirement already satisfied: requests>=2.10.0 in /usr/local/lib/python3.8/dist-packages (from newspaper3k) (2.25.1)\n",
            "Requirement already satisfied: Pillow>=3.3.0 in /usr/local/lib/python3.8/dist-packages (from newspaper3k) (8.4.0)\n",
            "Collecting tinysegmenter==0.3\n",
            "  Downloading tinysegmenter-0.3.tar.gz (16 kB)\n",
            "  Preparing metadata (setup.py) ... \u001b[?25l\u001b[?25hdone\n",
            "Collecting tldextract>=2.0.1\n",
            "  Downloading tldextract-3.4.0-py3-none-any.whl (93 kB)\n",
            "\u001b[2K     \u001b[90m━━━━━━━━━━━━━━━━━━━━━━━━━━━━━━━━━━━━━━━━\u001b[0m \u001b[32m93.9/93.9 KB\u001b[0m \u001b[31m11.8 MB/s\u001b[0m eta \u001b[36m0:00:00\u001b[0m\n",
            "\u001b[?25hCollecting feedfinder2>=0.0.4\n",
            "  Downloading feedfinder2-0.0.4.tar.gz (3.3 kB)\n",
            "  Preparing metadata (setup.py) ... \u001b[?25l\u001b[?25hdone\n",
            "Requirement already satisfied: PyYAML>=3.11 in /usr/local/lib/python3.8/dist-packages (from newspaper3k) (6.0)\n",
            "Requirement already satisfied: feedparser>=5.2.1 in /usr/local/lib/python3.8/dist-packages (from newspaper3k) (6.0.10)\n",
            "Requirement already satisfied: python-dateutil>=2.5.3 in /usr/local/lib/python3.8/dist-packages (from newspaper3k) (2.8.2)\n",
            "Requirement already satisfied: nltk>=3.2.1 in /usr/local/lib/python3.8/dist-packages (from newspaper3k) (3.7)\n",
            "Requirement already satisfied: beautifulsoup4>=4.4.1 in /usr/local/lib/python3.8/dist-packages (from newspaper3k) (4.6.3)\n",
            "Requirement already satisfied: six in /usr/local/lib/python3.8/dist-packages (from feedfinder2>=0.0.4->newspaper3k) (1.15.0)\n",
            "Requirement already satisfied: sgmllib3k in /usr/local/lib/python3.8/dist-packages (from feedparser>=5.2.1->newspaper3k) (1.0.0)\n",
            "Requirement already satisfied: tqdm in /usr/local/lib/python3.8/dist-packages (from nltk>=3.2.1->newspaper3k) (4.64.1)\n",
            "Requirement already satisfied: joblib in /usr/local/lib/python3.8/dist-packages (from nltk>=3.2.1->newspaper3k) (1.2.0)\n",
            "Requirement already satisfied: regex>=2021.8.3 in /usr/local/lib/python3.8/dist-packages (from nltk>=3.2.1->newspaper3k) (2022.6.2)\n",
            "Requirement already satisfied: click in /usr/local/lib/python3.8/dist-packages (from nltk>=3.2.1->newspaper3k) (8.1.3)\n",
            "Requirement already satisfied: chardet<5,>=3.0.2 in /usr/local/lib/python3.8/dist-packages (from requests>=2.10.0->newspaper3k) (4.0.0)\n",
            "Requirement already satisfied: certifi>=2017.4.17 in /usr/local/lib/python3.8/dist-packages (from requests>=2.10.0->newspaper3k) (2022.12.7)\n",
            "Requirement already satisfied: urllib3<1.27,>=1.21.1 in /usr/local/lib/python3.8/dist-packages (from requests>=2.10.0->newspaper3k) (1.26.14)\n",
            "Requirement already satisfied: idna<3,>=2.5 in /usr/local/lib/python3.8/dist-packages (from requests>=2.10.0->newspaper3k) (2.10)\n",
            "Collecting requests-file>=1.4\n",
            "  Downloading requests_file-1.5.1-py2.py3-none-any.whl (3.7 kB)\n",
            "Requirement already satisfied: filelock>=3.0.8 in /usr/local/lib/python3.8/dist-packages (from tldextract>=2.0.1->newspaper3k) (3.9.0)\n",
            "Building wheels for collected packages: tinysegmenter, feedfinder2, jieba3k\n",
            "  Building wheel for tinysegmenter (setup.py) ... \u001b[?25l\u001b[?25hdone\n",
            "  Created wheel for tinysegmenter: filename=tinysegmenter-0.3-py3-none-any.whl size=13552 sha256=d2d3bb4d2ad117575fab23688ee9074afc2beaacc8e05c46029a8094a081e839\n",
            "  Stored in directory: /root/.cache/pip/wheels/99/74/83/8fac1c8d9c648cfabebbbffe97a889f6624817f3aa0bbe6c09\n",
            "  Building wheel for feedfinder2 (setup.py) ... \u001b[?25l\u001b[?25hdone\n",
            "  Created wheel for feedfinder2: filename=feedfinder2-0.0.4-py3-none-any.whl size=3354 sha256=55272ff5367427e6d8545e9cf401e0ed1f4b04c098b7b6845b680b0d884c828b\n",
            "  Stored in directory: /root/.cache/pip/wheels/b6/09/68/a9f15498ac02c23dde29f18745bc6a6f574ba4ab41861a3575\n",
            "  Building wheel for jieba3k (setup.py) ... \u001b[?25l\u001b[?25hdone\n",
            "  Created wheel for jieba3k: filename=jieba3k-0.35.1-py3-none-any.whl size=7398405 sha256=988a4c4a5124b205c3da1a0e08f0c287eebe63e12298d1036654d74c417f6faf\n",
            "  Stored in directory: /root/.cache/pip/wheels/1f/7e/0c/54f3b0f5164278677899f2db08f2b07943ce2d024a3c862afb\n",
            "Successfully built tinysegmenter feedfinder2 jieba3k\n",
            "Installing collected packages: tinysegmenter, jieba3k, cssselect, requests-file, feedfinder2, tldextract, newspaper3k\n",
            "Successfully installed cssselect-1.2.0 feedfinder2-0.0.4 jieba3k-0.35.1 newspaper3k-0.2.8 requests-file-1.5.1 tinysegmenter-0.3 tldextract-3.4.0\n"
          ]
        }
      ]
    },
    {
      "cell_type": "markdown",
      "source": [
        "## 2. Working with RSS Feeds"
      ],
      "metadata": {
        "id": "cpvppjDLHGbK"
      }
    },
    {
      "cell_type": "markdown",
      "source": [
        "### New York Times"
      ],
      "metadata": {
        "id": "jzkNAHj7IyP6"
      }
    },
    {
      "cell_type": "markdown",
      "source": [
        "A list of all RSS feeds from the New York Times can be accessed at https://www.nytimes.com/rss.\n",
        "\n",
        "Let's use the World feed from https://rss.nytimes.com/services/xml/rss/nyt/World.xml as an example:"
      ],
      "metadata": {
        "id": "JpFeGBqBn0eq"
      }
    },
    {
      "cell_type": "markdown",
      "source": [
        "#### Form the dataframe"
      ],
      "metadata": {
        "id": "v-nM_TMvHhiZ"
      }
    },
    {
      "cell_type": "code",
      "source": [
        "import feedparser\n",
        "\n",
        "d = feedparser.parse('https://rss.nytimes.com/services/xml/rss/nyt/World.xml')"
      ],
      "metadata": {
        "id": "ghRi7Db3obkC"
      },
      "execution_count": 6,
      "outputs": []
    },
    {
      "cell_type": "code",
      "source": [
        "# Get a list of all possible fields from the RSS\n",
        "all_fields = []\n",
        "for field in d.entries[0]:\n",
        "    all_fields.append(field)\n",
        "\n",
        "print(all_fields)"
      ],
      "metadata": {
        "id": "u8cuEPVdABx9",
        "outputId": "9d00b0b0-de53-42df-8a50-4f7af306e61f",
        "colab": {
          "base_uri": "https://localhost:8080/"
        }
      },
      "execution_count": 7,
      "outputs": [
        {
          "output_type": "stream",
          "name": "stdout",
          "text": [
            "['title', 'title_detail', 'links', 'link', 'id', 'guidislink', 'summary', 'summary_detail', 'authors', 'author', 'author_detail', 'published', 'published_parsed', 'tags', 'media_content', 'content']\n"
          ]
        }
      ]
    },
    {
      "cell_type": "code",
      "source": [
        "# Define the fields of interest that we want to obtain from the RSS\n",
        "fields = ['title', 'published', 'summary', 'author', 'link']"
      ],
      "metadata": {
        "id": "M4EwL-JFBahF"
      },
      "execution_count": 8,
      "outputs": []
    },
    {
      "cell_type": "code",
      "source": [
        "import pandas as pd\n",
        "\n",
        "# Create a list of lists to hold the required RSS data from each entry\n",
        "data = []\n",
        "for i, entry in enumerate(d.entries):\n",
        "    row = []\n",
        "    for field in fields:\n",
        "        row.append(d.entries[i][field])\n",
        "    data.append(row)\n",
        "\n",
        "# Convert the list of lists to a df\n",
        "df = pd.DataFrame(data, columns = fields)"
      ],
      "metadata": {
        "id": "TEM6wHwXCKeO"
      },
      "execution_count": 9,
      "outputs": []
    },
    {
      "cell_type": "code",
      "source": [
        "df.head()"
      ],
      "metadata": {
        "id": "D8yamIhIC2M2",
        "outputId": "89118d82-3520-4b5c-80a6-85be08c45599",
        "colab": {
          "base_uri": "https://localhost:8080/",
          "height": 204
        }
      },
      "execution_count": 10,
      "outputs": [
        {
          "output_type": "execute_result",
          "data": {
            "text/plain": [
              "                                               title  \\\n",
              "0  Ukrainian Soldiers, Nearly Encircled in Bakhmu...   \n",
              "1  Ukraine’s Top Generals Want to Keep Fighting f...   \n",
              "2  The Story of Multicultural Canada, Told in Hum...   \n",
              "3  Historical Disputes Kept Them at Odds. Can Seo...   \n",
              "4  Dalit Journalist Takes On India’s Caste Injust...   \n",
              "\n",
              "                         published  \\\n",
              "0  Mon, 06 Mar 2023 08:00:19 +0000   \n",
              "1  Mon, 06 Mar 2023 19:12:15 +0000   \n",
              "2  Sun, 05 Mar 2023 22:04:46 +0000   \n",
              "3  Mon, 06 Mar 2023 15:59:37 +0000   \n",
              "4  Mon, 06 Mar 2023 16:27:16 +0000   \n",
              "\n",
              "                                             summary  \\\n",
              "0  The battle for Bakhmut is not over — at least ...   \n",
              "1  Military commanders told President Volodymyr Z...   \n",
              "2  Some of Toronto’s best dining options are mom-...   \n",
              "3  Icy relations between the two have long been a...   \n",
              "4  Meena Kotwal started a news outlet focused on ...   \n",
              "\n",
              "                               author  \\\n",
              "0  Carlotta Gall and Daniel Berehulak   \n",
              "1                  The New York Times   \n",
              "2                    Norimitsu Onishi   \n",
              "3                       Choe Sang-Hun   \n",
              "4                    Karan Deep Singh   \n",
              "\n",
              "                                                link  \n",
              "0  https://www.nytimes.com/2023/03/06/world/europ...  \n",
              "1  https://www.nytimes.com/live/2023/03/06/world/...  \n",
              "2  https://www.nytimes.com/2023/03/05/world/canad...  \n",
              "3  https://www.nytimes.com/2023/03/05/world/asia/...  \n",
              "4  https://www.nytimes.com/2023/03/06/world/asia/...  "
            ],
            "text/html": [
              "\n",
              "  <div id=\"df-5d40b21d-4373-4adf-a07d-8be1b92bae66\">\n",
              "    <div class=\"colab-df-container\">\n",
              "      <div>\n",
              "<style scoped>\n",
              "    .dataframe tbody tr th:only-of-type {\n",
              "        vertical-align: middle;\n",
              "    }\n",
              "\n",
              "    .dataframe tbody tr th {\n",
              "        vertical-align: top;\n",
              "    }\n",
              "\n",
              "    .dataframe thead th {\n",
              "        text-align: right;\n",
              "    }\n",
              "</style>\n",
              "<table border=\"1\" class=\"dataframe\">\n",
              "  <thead>\n",
              "    <tr style=\"text-align: right;\">\n",
              "      <th></th>\n",
              "      <th>title</th>\n",
              "      <th>published</th>\n",
              "      <th>summary</th>\n",
              "      <th>author</th>\n",
              "      <th>link</th>\n",
              "    </tr>\n",
              "  </thead>\n",
              "  <tbody>\n",
              "    <tr>\n",
              "      <th>0</th>\n",
              "      <td>Ukrainian Soldiers, Nearly Encircled in Bakhmu...</td>\n",
              "      <td>Mon, 06 Mar 2023 08:00:19 +0000</td>\n",
              "      <td>The battle for Bakhmut is not over — at least ...</td>\n",
              "      <td>Carlotta Gall and Daniel Berehulak</td>\n",
              "      <td>https://www.nytimes.com/2023/03/06/world/europ...</td>\n",
              "    </tr>\n",
              "    <tr>\n",
              "      <th>1</th>\n",
              "      <td>Ukraine’s Top Generals Want to Keep Fighting f...</td>\n",
              "      <td>Mon, 06 Mar 2023 19:12:15 +0000</td>\n",
              "      <td>Military commanders told President Volodymyr Z...</td>\n",
              "      <td>The New York Times</td>\n",
              "      <td>https://www.nytimes.com/live/2023/03/06/world/...</td>\n",
              "    </tr>\n",
              "    <tr>\n",
              "      <th>2</th>\n",
              "      <td>The Story of Multicultural Canada, Told in Hum...</td>\n",
              "      <td>Sun, 05 Mar 2023 22:04:46 +0000</td>\n",
              "      <td>Some of Toronto’s best dining options are mom-...</td>\n",
              "      <td>Norimitsu Onishi</td>\n",
              "      <td>https://www.nytimes.com/2023/03/05/world/canad...</td>\n",
              "    </tr>\n",
              "    <tr>\n",
              "      <th>3</th>\n",
              "      <td>Historical Disputes Kept Them at Odds. Can Seo...</td>\n",
              "      <td>Mon, 06 Mar 2023 15:59:37 +0000</td>\n",
              "      <td>Icy relations between the two have long been a...</td>\n",
              "      <td>Choe Sang-Hun</td>\n",
              "      <td>https://www.nytimes.com/2023/03/05/world/asia/...</td>\n",
              "    </tr>\n",
              "    <tr>\n",
              "      <th>4</th>\n",
              "      <td>Dalit Journalist Takes On India’s Caste Injust...</td>\n",
              "      <td>Mon, 06 Mar 2023 16:27:16 +0000</td>\n",
              "      <td>Meena Kotwal started a news outlet focused on ...</td>\n",
              "      <td>Karan Deep Singh</td>\n",
              "      <td>https://www.nytimes.com/2023/03/06/world/asia/...</td>\n",
              "    </tr>\n",
              "  </tbody>\n",
              "</table>\n",
              "</div>\n",
              "      <button class=\"colab-df-convert\" onclick=\"convertToInteractive('df-5d40b21d-4373-4adf-a07d-8be1b92bae66')\"\n",
              "              title=\"Convert this dataframe to an interactive table.\"\n",
              "              style=\"display:none;\">\n",
              "        \n",
              "  <svg xmlns=\"http://www.w3.org/2000/svg\" height=\"24px\"viewBox=\"0 0 24 24\"\n",
              "       width=\"24px\">\n",
              "    <path d=\"M0 0h24v24H0V0z\" fill=\"none\"/>\n",
              "    <path d=\"M18.56 5.44l.94 2.06.94-2.06 2.06-.94-2.06-.94-.94-2.06-.94 2.06-2.06.94zm-11 1L8.5 8.5l.94-2.06 2.06-.94-2.06-.94L8.5 2.5l-.94 2.06-2.06.94zm10 10l.94 2.06.94-2.06 2.06-.94-2.06-.94-.94-2.06-.94 2.06-2.06.94z\"/><path d=\"M17.41 7.96l-1.37-1.37c-.4-.4-.92-.59-1.43-.59-.52 0-1.04.2-1.43.59L10.3 9.45l-7.72 7.72c-.78.78-.78 2.05 0 2.83L4 21.41c.39.39.9.59 1.41.59.51 0 1.02-.2 1.41-.59l7.78-7.78 2.81-2.81c.8-.78.8-2.07 0-2.86zM5.41 20L4 18.59l7.72-7.72 1.47 1.35L5.41 20z\"/>\n",
              "  </svg>\n",
              "      </button>\n",
              "      \n",
              "  <style>\n",
              "    .colab-df-container {\n",
              "      display:flex;\n",
              "      flex-wrap:wrap;\n",
              "      gap: 12px;\n",
              "    }\n",
              "\n",
              "    .colab-df-convert {\n",
              "      background-color: #E8F0FE;\n",
              "      border: none;\n",
              "      border-radius: 50%;\n",
              "      cursor: pointer;\n",
              "      display: none;\n",
              "      fill: #1967D2;\n",
              "      height: 32px;\n",
              "      padding: 0 0 0 0;\n",
              "      width: 32px;\n",
              "    }\n",
              "\n",
              "    .colab-df-convert:hover {\n",
              "      background-color: #E2EBFA;\n",
              "      box-shadow: 0px 1px 2px rgba(60, 64, 67, 0.3), 0px 1px 3px 1px rgba(60, 64, 67, 0.15);\n",
              "      fill: #174EA6;\n",
              "    }\n",
              "\n",
              "    [theme=dark] .colab-df-convert {\n",
              "      background-color: #3B4455;\n",
              "      fill: #D2E3FC;\n",
              "    }\n",
              "\n",
              "    [theme=dark] .colab-df-convert:hover {\n",
              "      background-color: #434B5C;\n",
              "      box-shadow: 0px 1px 3px 1px rgba(0, 0, 0, 0.15);\n",
              "      filter: drop-shadow(0px 1px 2px rgba(0, 0, 0, 0.3));\n",
              "      fill: #FFFFFF;\n",
              "    }\n",
              "  </style>\n",
              "\n",
              "      <script>\n",
              "        const buttonEl =\n",
              "          document.querySelector('#df-5d40b21d-4373-4adf-a07d-8be1b92bae66 button.colab-df-convert');\n",
              "        buttonEl.style.display =\n",
              "          google.colab.kernel.accessAllowed ? 'block' : 'none';\n",
              "\n",
              "        async function convertToInteractive(key) {\n",
              "          const element = document.querySelector('#df-5d40b21d-4373-4adf-a07d-8be1b92bae66');\n",
              "          const dataTable =\n",
              "            await google.colab.kernel.invokeFunction('convertToInteractive',\n",
              "                                                     [key], {});\n",
              "          if (!dataTable) return;\n",
              "\n",
              "          const docLinkHtml = 'Like what you see? Visit the ' +\n",
              "            '<a target=\"_blank\" href=https://colab.research.google.com/notebooks/data_table.ipynb>data table notebook</a>'\n",
              "            + ' to learn more about interactive tables.';\n",
              "          element.innerHTML = '';\n",
              "          dataTable['output_type'] = 'display_data';\n",
              "          await google.colab.output.renderOutput(dataTable, element);\n",
              "          const docLink = document.createElement('div');\n",
              "          docLink.innerHTML = docLinkHtml;\n",
              "          element.appendChild(docLink);\n",
              "        }\n",
              "      </script>\n",
              "    </div>\n",
              "  </div>\n",
              "  "
            ]
          },
          "metadata": {},
          "execution_count": 10
        }
      ]
    },
    {
      "cell_type": "code",
      "source": [
        "print(\"The shape of the dataframe is\", df.shape)"
      ],
      "metadata": {
        "id": "TarmjPabDaSO",
        "outputId": "bb38c5e9-0495-4932-8d0f-3cecdde9f149",
        "colab": {
          "base_uri": "https://localhost:8080/"
        }
      },
      "execution_count": 11,
      "outputs": [
        {
          "output_type": "stream",
          "name": "stdout",
          "text": [
            "The shape of the dataframe is (62, 5)\n"
          ]
        }
      ]
    },
    {
      "cell_type": "markdown",
      "source": [
        "#### Retrieving the texts for the corresponding articles to the Dataframe"
      ],
      "metadata": {
        "id": "nwEL8O2xZtU1"
      }
    },
    {
      "cell_type": "code",
      "source": [
        "import nltk\n",
        "nltk.download('punkt')"
      ],
      "metadata": {
        "id": "15GxUmL6bByw",
        "outputId": "0bb6b0f9-4d10-425b-e3d2-34323a519bec",
        "colab": {
          "base_uri": "https://localhost:8080/"
        }
      },
      "execution_count": 12,
      "outputs": [
        {
          "output_type": "stream",
          "name": "stderr",
          "text": [
            "[nltk_data] Downloading package punkt to /root/nltk_data...\n",
            "[nltk_data]   Unzipping tokenizers/punkt.zip.\n"
          ]
        },
        {
          "output_type": "execute_result",
          "data": {
            "text/plain": [
              "True"
            ]
          },
          "metadata": {},
          "execution_count": 12
        }
      ]
    },
    {
      "cell_type": "code",
      "source": [
        "from newspaper import Article\n",
        "\n",
        "links = df[\"link\"]\n",
        "\n",
        "article_text_dict = {}\n",
        "for link in links:\n",
        "  article = Article(link)\n",
        "  article.download()\n",
        "  article.parse()\n",
        "  article.nlp()\n",
        "  article_text_dict[link] = article.text\n",
        "  \n",
        "df['text'] = list(article_text_dict.values())"
      ],
      "metadata": {
        "id": "cpntE-BcZ3QU"
      },
      "execution_count": 13,
      "outputs": []
    },
    {
      "cell_type": "code",
      "source": [
        "df.head()"
      ],
      "metadata": {
        "id": "Tkabh3qca9Ud",
        "outputId": "204bdd65-bcf9-45da-a47b-11e767feb90c",
        "colab": {
          "base_uri": "https://localhost:8080/",
          "height": 333
        }
      },
      "execution_count": 14,
      "outputs": [
        {
          "output_type": "execute_result",
          "data": {
            "text/plain": [
              "                                               title  \\\n",
              "0  Ukrainian Soldiers, Nearly Encircled in Bakhmu...   \n",
              "1  Ukraine’s Top Generals Want to Keep Fighting f...   \n",
              "2  The Story of Multicultural Canada, Told in Hum...   \n",
              "3  Historical Disputes Kept Them at Odds. Can Seo...   \n",
              "4  Dalit Journalist Takes On India’s Caste Injust...   \n",
              "\n",
              "                         published  \\\n",
              "0  Mon, 06 Mar 2023 08:00:19 +0000   \n",
              "1  Mon, 06 Mar 2023 19:12:15 +0000   \n",
              "2  Sun, 05 Mar 2023 22:04:46 +0000   \n",
              "3  Mon, 06 Mar 2023 15:59:37 +0000   \n",
              "4  Mon, 06 Mar 2023 16:27:16 +0000   \n",
              "\n",
              "                                             summary  \\\n",
              "0  The battle for Bakhmut is not over — at least ...   \n",
              "1  Military commanders told President Volodymyr Z...   \n",
              "2  Some of Toronto’s best dining options are mom-...   \n",
              "3  Icy relations between the two have long been a...   \n",
              "4  Meena Kotwal started a news outlet focused on ...   \n",
              "\n",
              "                               author  \\\n",
              "0  Carlotta Gall and Daniel Berehulak   \n",
              "1                  The New York Times   \n",
              "2                    Norimitsu Onishi   \n",
              "3                       Choe Sang-Hun   \n",
              "4                    Karan Deep Singh   \n",
              "\n",
              "                                                link  \\\n",
              "0  https://www.nytimes.com/2023/03/06/world/europ...   \n",
              "1  https://www.nytimes.com/live/2023/03/06/world/...   \n",
              "2  https://www.nytimes.com/2023/03/05/world/canad...   \n",
              "3  https://www.nytimes.com/2023/03/05/world/asia/...   \n",
              "4  https://www.nytimes.com/2023/03/06/world/asia/...   \n",
              "\n",
              "                                                text  \n",
              "0  CHASIV YAR, Ukraine — Lined up in the dark in ...  \n",
              "1  Ukraine’s top generals want to bolster their f...  \n",
              "2  SCARBOROUGH, Ontario — At a tiny strip mall wh...  \n",
              "3  SEOUL — When it comes to South Korea and Japan...  \n",
              "4  After two years on the job, she filed an offic...  "
            ],
            "text/html": [
              "\n",
              "  <div id=\"df-bd180641-bf9a-41f5-8d58-9a25a6f86282\">\n",
              "    <div class=\"colab-df-container\">\n",
              "      <div>\n",
              "<style scoped>\n",
              "    .dataframe tbody tr th:only-of-type {\n",
              "        vertical-align: middle;\n",
              "    }\n",
              "\n",
              "    .dataframe tbody tr th {\n",
              "        vertical-align: top;\n",
              "    }\n",
              "\n",
              "    .dataframe thead th {\n",
              "        text-align: right;\n",
              "    }\n",
              "</style>\n",
              "<table border=\"1\" class=\"dataframe\">\n",
              "  <thead>\n",
              "    <tr style=\"text-align: right;\">\n",
              "      <th></th>\n",
              "      <th>title</th>\n",
              "      <th>published</th>\n",
              "      <th>summary</th>\n",
              "      <th>author</th>\n",
              "      <th>link</th>\n",
              "      <th>text</th>\n",
              "    </tr>\n",
              "  </thead>\n",
              "  <tbody>\n",
              "    <tr>\n",
              "      <th>0</th>\n",
              "      <td>Ukrainian Soldiers, Nearly Encircled in Bakhmu...</td>\n",
              "      <td>Mon, 06 Mar 2023 08:00:19 +0000</td>\n",
              "      <td>The battle for Bakhmut is not over — at least ...</td>\n",
              "      <td>Carlotta Gall and Daniel Berehulak</td>\n",
              "      <td>https://www.nytimes.com/2023/03/06/world/europ...</td>\n",
              "      <td>CHASIV YAR, Ukraine — Lined up in the dark in ...</td>\n",
              "    </tr>\n",
              "    <tr>\n",
              "      <th>1</th>\n",
              "      <td>Ukraine’s Top Generals Want to Keep Fighting f...</td>\n",
              "      <td>Mon, 06 Mar 2023 19:12:15 +0000</td>\n",
              "      <td>Military commanders told President Volodymyr Z...</td>\n",
              "      <td>The New York Times</td>\n",
              "      <td>https://www.nytimes.com/live/2023/03/06/world/...</td>\n",
              "      <td>Ukraine’s top generals want to bolster their f...</td>\n",
              "    </tr>\n",
              "    <tr>\n",
              "      <th>2</th>\n",
              "      <td>The Story of Multicultural Canada, Told in Hum...</td>\n",
              "      <td>Sun, 05 Mar 2023 22:04:46 +0000</td>\n",
              "      <td>Some of Toronto’s best dining options are mom-...</td>\n",
              "      <td>Norimitsu Onishi</td>\n",
              "      <td>https://www.nytimes.com/2023/03/05/world/canad...</td>\n",
              "      <td>SCARBOROUGH, Ontario — At a tiny strip mall wh...</td>\n",
              "    </tr>\n",
              "    <tr>\n",
              "      <th>3</th>\n",
              "      <td>Historical Disputes Kept Them at Odds. Can Seo...</td>\n",
              "      <td>Mon, 06 Mar 2023 15:59:37 +0000</td>\n",
              "      <td>Icy relations between the two have long been a...</td>\n",
              "      <td>Choe Sang-Hun</td>\n",
              "      <td>https://www.nytimes.com/2023/03/05/world/asia/...</td>\n",
              "      <td>SEOUL — When it comes to South Korea and Japan...</td>\n",
              "    </tr>\n",
              "    <tr>\n",
              "      <th>4</th>\n",
              "      <td>Dalit Journalist Takes On India’s Caste Injust...</td>\n",
              "      <td>Mon, 06 Mar 2023 16:27:16 +0000</td>\n",
              "      <td>Meena Kotwal started a news outlet focused on ...</td>\n",
              "      <td>Karan Deep Singh</td>\n",
              "      <td>https://www.nytimes.com/2023/03/06/world/asia/...</td>\n",
              "      <td>After two years on the job, she filed an offic...</td>\n",
              "    </tr>\n",
              "  </tbody>\n",
              "</table>\n",
              "</div>\n",
              "      <button class=\"colab-df-convert\" onclick=\"convertToInteractive('df-bd180641-bf9a-41f5-8d58-9a25a6f86282')\"\n",
              "              title=\"Convert this dataframe to an interactive table.\"\n",
              "              style=\"display:none;\">\n",
              "        \n",
              "  <svg xmlns=\"http://www.w3.org/2000/svg\" height=\"24px\"viewBox=\"0 0 24 24\"\n",
              "       width=\"24px\">\n",
              "    <path d=\"M0 0h24v24H0V0z\" fill=\"none\"/>\n",
              "    <path d=\"M18.56 5.44l.94 2.06.94-2.06 2.06-.94-2.06-.94-.94-2.06-.94 2.06-2.06.94zm-11 1L8.5 8.5l.94-2.06 2.06-.94-2.06-.94L8.5 2.5l-.94 2.06-2.06.94zm10 10l.94 2.06.94-2.06 2.06-.94-2.06-.94-.94-2.06-.94 2.06-2.06.94z\"/><path d=\"M17.41 7.96l-1.37-1.37c-.4-.4-.92-.59-1.43-.59-.52 0-1.04.2-1.43.59L10.3 9.45l-7.72 7.72c-.78.78-.78 2.05 0 2.83L4 21.41c.39.39.9.59 1.41.59.51 0 1.02-.2 1.41-.59l7.78-7.78 2.81-2.81c.8-.78.8-2.07 0-2.86zM5.41 20L4 18.59l7.72-7.72 1.47 1.35L5.41 20z\"/>\n",
              "  </svg>\n",
              "      </button>\n",
              "      \n",
              "  <style>\n",
              "    .colab-df-container {\n",
              "      display:flex;\n",
              "      flex-wrap:wrap;\n",
              "      gap: 12px;\n",
              "    }\n",
              "\n",
              "    .colab-df-convert {\n",
              "      background-color: #E8F0FE;\n",
              "      border: none;\n",
              "      border-radius: 50%;\n",
              "      cursor: pointer;\n",
              "      display: none;\n",
              "      fill: #1967D2;\n",
              "      height: 32px;\n",
              "      padding: 0 0 0 0;\n",
              "      width: 32px;\n",
              "    }\n",
              "\n",
              "    .colab-df-convert:hover {\n",
              "      background-color: #E2EBFA;\n",
              "      box-shadow: 0px 1px 2px rgba(60, 64, 67, 0.3), 0px 1px 3px 1px rgba(60, 64, 67, 0.15);\n",
              "      fill: #174EA6;\n",
              "    }\n",
              "\n",
              "    [theme=dark] .colab-df-convert {\n",
              "      background-color: #3B4455;\n",
              "      fill: #D2E3FC;\n",
              "    }\n",
              "\n",
              "    [theme=dark] .colab-df-convert:hover {\n",
              "      background-color: #434B5C;\n",
              "      box-shadow: 0px 1px 3px 1px rgba(0, 0, 0, 0.15);\n",
              "      filter: drop-shadow(0px 1px 2px rgba(0, 0, 0, 0.3));\n",
              "      fill: #FFFFFF;\n",
              "    }\n",
              "  </style>\n",
              "\n",
              "      <script>\n",
              "        const buttonEl =\n",
              "          document.querySelector('#df-bd180641-bf9a-41f5-8d58-9a25a6f86282 button.colab-df-convert');\n",
              "        buttonEl.style.display =\n",
              "          google.colab.kernel.accessAllowed ? 'block' : 'none';\n",
              "\n",
              "        async function convertToInteractive(key) {\n",
              "          const element = document.querySelector('#df-bd180641-bf9a-41f5-8d58-9a25a6f86282');\n",
              "          const dataTable =\n",
              "            await google.colab.kernel.invokeFunction('convertToInteractive',\n",
              "                                                     [key], {});\n",
              "          if (!dataTable) return;\n",
              "\n",
              "          const docLinkHtml = 'Like what you see? Visit the ' +\n",
              "            '<a target=\"_blank\" href=https://colab.research.google.com/notebooks/data_table.ipynb>data table notebook</a>'\n",
              "            + ' to learn more about interactive tables.';\n",
              "          element.innerHTML = '';\n",
              "          dataTable['output_type'] = 'display_data';\n",
              "          await google.colab.output.renderOutput(dataTable, element);\n",
              "          const docLink = document.createElement('div');\n",
              "          docLink.innerHTML = docLinkHtml;\n",
              "          element.appendChild(docLink);\n",
              "        }\n",
              "      </script>\n",
              "    </div>\n",
              "  </div>\n",
              "  "
            ]
          },
          "metadata": {},
          "execution_count": 14
        }
      ]
    },
    {
      "cell_type": "code",
      "source": [
        "df.to_csv(\"new_york_times.csv\", encoding='utf-8', index=False)"
      ],
      "metadata": {
        "id": "AmEL9DywITbT"
      },
      "execution_count": 15,
      "outputs": []
    },
    {
      "cell_type": "markdown",
      "source": [
        "### Toronto Star"
      ],
      "metadata": {
        "id": "790zR5n3I17x"
      }
    },
    {
      "cell_type": "markdown",
      "source": [
        "#### Function Development\n",
        "Create a function to assist with the scraping process"
      ],
      "metadata": {
        "id": "z7cVdObbI5SJ"
      }
    },
    {
      "cell_type": "code",
      "source": [
        "def print_RSS_fields(rss_link):\n",
        "    \n",
        "    d = feedparser.parse(rss_link)\n",
        "\n",
        "    all_fields = []\n",
        "    for field in d.entries[0]:\n",
        "        all_fields.append(field)\n",
        "    print(all_fields)\n",
        "\n",
        "def df_from_RSS(rss_link, fields):\n",
        "    \n",
        "    d = feedparser.parse(rss_link)\n",
        "    \n",
        "    # Create a list of lists to hold the required RSS data from each entry\n",
        "    data = []\n",
        "    for i, entry in enumerate(d.entries):\n",
        "        row = []\n",
        "        for field in fields:\n",
        "            row.append(d.entries[i][field])\n",
        "        data.append(row)\n",
        "\n",
        "    # Convert the list of lists to a df\n",
        "    df = pd.DataFrame(data, columns = fields)\n",
        "\n",
        "    links = df[\"link\"]\n",
        "\n",
        "    article_text_dict = {}\n",
        "    for link in links:\n",
        "        article = Article(link)\n",
        "        article.download()\n",
        "        article.parse()\n",
        "        article.nlp()\n",
        "        article_text_dict[link] = article.text\n",
        "    \n",
        "    df['text'] = list(article_text_dict.values())\n",
        "\n",
        "    return df"
      ],
      "metadata": {
        "id": "ceaIjELaI9YB"
      },
      "execution_count": 16,
      "outputs": []
    },
    {
      "cell_type": "markdown",
      "source": [
        "A list of RSS feeds for the Toronto Star can be found here: https://www.thestar.com/about/rssfeeds.html\n",
        "\n",
        "Let's use the Top Stories RSS feed."
      ],
      "metadata": {
        "id": "93GYkwB2LVSq"
      }
    },
    {
      "cell_type": "code",
      "source": [
        "print_RSS_fields('https://www.thestar.com/content/thestar/feed.RSSManagerServlet.articles.topstories.rss')"
      ],
      "metadata": {
        "id": "32dR0Pp-MzSK",
        "outputId": "7eef05f5-32c4-4fc8-ea17-00912faec0c2",
        "colab": {
          "base_uri": "https://localhost:8080/"
        }
      },
      "execution_count": 17,
      "outputs": [
        {
          "output_type": "stream",
          "name": "stdout",
          "text": [
            "['title', 'title_detail', 'links', 'link', 'id', 'guidislink', 'authors', 'author', 'author_detail', 'published', 'published_parsed', 'summary', 'summary_detail', 'media_content', 'media_thumbnail', 'href', 'content', 'media_credit', 'credit']\n"
          ]
        }
      ]
    },
    {
      "cell_type": "code",
      "source": [
        "fields = ['title', 'published', 'author', 'link']\n",
        "\n",
        "df = df_from_RSS('https://www.thestar.com/content/thestar/feed.RSSManagerServlet.articles.topstories.rss', fields)\n",
        "\n",
        "df.head()"
      ],
      "metadata": {
        "id": "S0lgrgZ0JnSq",
        "outputId": "13e973c5-66bb-43cd-d630-561cb09b9aeb",
        "colab": {
          "base_uri": "https://localhost:8080/",
          "height": 248
        }
      },
      "execution_count": 18,
      "outputs": [
        {
          "output_type": "execute_result",
          "data": {
            "text/plain": [
              "                                               title  \\\n",
              "0  These five cities have seen home prices fall b...   \n",
              "1  We asked the Ontario government about its cont...   \n",
              "2  Toronto’s deputy mayor renews plea for federal...   \n",
              "3  Even royals can face eviction. What to do when...   \n",
              "4  ‘Keto-like’ diet may be linked to increased ri...   \n",
              "\n",
              "                      published  \\\n",
              "0  Mon, 6 Mar 2023 06:00:00 EST   \n",
              "1  Mon, 6 Mar 2023 05:00:00 EST   \n",
              "2  Mon, 6 Mar 2023 10:22:49 EST   \n",
              "3  Mon, 6 Mar 2023 12:18:00 EST   \n",
              "4  Mon, 6 Mar 2023 10:52:49 EST   \n",
              "\n",
              "                                              author  \\\n",
              "0              Clarrie Feinstein - Business Reporter   \n",
              "1  Robert Cribb - Staff Reporter,Declan Keogh and...   \n",
              "2               David Rider - City Hall Bureau Chief   \n",
              "3                    Aisling Murphy - Staff Reporter   \n",
              "4                      Joshua Chong - Staff Reporter   \n",
              "\n",
              "                                                link  \\\n",
              "0  https://www.thestar.com/business/2023/03/06/th...   \n",
              "1  https://www.thestar.com/news/investigations/20...   \n",
              "2  https://www.thestar.com/news/city_hall/2023/03...   \n",
              "3  https://www.thestar.com/news/gta/2023/03/02/ev...   \n",
              "4  https://www.thestar.com/life/2023/03/06/keto-l...   \n",
              "\n",
              "                                                text  \n",
              "0  Some Ontario cities’ home prices have declined...  \n",
              "1  Transportation Minister Caroline Mulroney’s of...  \n",
              "2  Deputy Mayor Jennifer McKelvie is picking up w...  \n",
              "3  In the latest royal family drama, Prince Harry...  \n",
              "4  The ketogenic — or keto — diet has been all th...  "
            ],
            "text/html": [
              "\n",
              "  <div id=\"df-f50e0232-8189-437c-aed4-feabf1d8198b\">\n",
              "    <div class=\"colab-df-container\">\n",
              "      <div>\n",
              "<style scoped>\n",
              "    .dataframe tbody tr th:only-of-type {\n",
              "        vertical-align: middle;\n",
              "    }\n",
              "\n",
              "    .dataframe tbody tr th {\n",
              "        vertical-align: top;\n",
              "    }\n",
              "\n",
              "    .dataframe thead th {\n",
              "        text-align: right;\n",
              "    }\n",
              "</style>\n",
              "<table border=\"1\" class=\"dataframe\">\n",
              "  <thead>\n",
              "    <tr style=\"text-align: right;\">\n",
              "      <th></th>\n",
              "      <th>title</th>\n",
              "      <th>published</th>\n",
              "      <th>author</th>\n",
              "      <th>link</th>\n",
              "      <th>text</th>\n",
              "    </tr>\n",
              "  </thead>\n",
              "  <tbody>\n",
              "    <tr>\n",
              "      <th>0</th>\n",
              "      <td>These five cities have seen home prices fall b...</td>\n",
              "      <td>Mon, 6 Mar 2023 06:00:00 EST</td>\n",
              "      <td>Clarrie Feinstein - Business Reporter</td>\n",
              "      <td>https://www.thestar.com/business/2023/03/06/th...</td>\n",
              "      <td>Some Ontario cities’ home prices have declined...</td>\n",
              "    </tr>\n",
              "    <tr>\n",
              "      <th>1</th>\n",
              "      <td>We asked the Ontario government about its cont...</td>\n",
              "      <td>Mon, 6 Mar 2023 05:00:00 EST</td>\n",
              "      <td>Robert Cribb - Staff Reporter,Declan Keogh and...</td>\n",
              "      <td>https://www.thestar.com/news/investigations/20...</td>\n",
              "      <td>Transportation Minister Caroline Mulroney’s of...</td>\n",
              "    </tr>\n",
              "    <tr>\n",
              "      <th>2</th>\n",
              "      <td>Toronto’s deputy mayor renews plea for federal...</td>\n",
              "      <td>Mon, 6 Mar 2023 10:22:49 EST</td>\n",
              "      <td>David Rider - City Hall Bureau Chief</td>\n",
              "      <td>https://www.thestar.com/news/city_hall/2023/03...</td>\n",
              "      <td>Deputy Mayor Jennifer McKelvie is picking up w...</td>\n",
              "    </tr>\n",
              "    <tr>\n",
              "      <th>3</th>\n",
              "      <td>Even royals can face eviction. What to do when...</td>\n",
              "      <td>Mon, 6 Mar 2023 12:18:00 EST</td>\n",
              "      <td>Aisling Murphy - Staff Reporter</td>\n",
              "      <td>https://www.thestar.com/news/gta/2023/03/02/ev...</td>\n",
              "      <td>In the latest royal family drama, Prince Harry...</td>\n",
              "    </tr>\n",
              "    <tr>\n",
              "      <th>4</th>\n",
              "      <td>‘Keto-like’ diet may be linked to increased ri...</td>\n",
              "      <td>Mon, 6 Mar 2023 10:52:49 EST</td>\n",
              "      <td>Joshua Chong - Staff Reporter</td>\n",
              "      <td>https://www.thestar.com/life/2023/03/06/keto-l...</td>\n",
              "      <td>The ketogenic — or keto — diet has been all th...</td>\n",
              "    </tr>\n",
              "  </tbody>\n",
              "</table>\n",
              "</div>\n",
              "      <button class=\"colab-df-convert\" onclick=\"convertToInteractive('df-f50e0232-8189-437c-aed4-feabf1d8198b')\"\n",
              "              title=\"Convert this dataframe to an interactive table.\"\n",
              "              style=\"display:none;\">\n",
              "        \n",
              "  <svg xmlns=\"http://www.w3.org/2000/svg\" height=\"24px\"viewBox=\"0 0 24 24\"\n",
              "       width=\"24px\">\n",
              "    <path d=\"M0 0h24v24H0V0z\" fill=\"none\"/>\n",
              "    <path d=\"M18.56 5.44l.94 2.06.94-2.06 2.06-.94-2.06-.94-.94-2.06-.94 2.06-2.06.94zm-11 1L8.5 8.5l.94-2.06 2.06-.94-2.06-.94L8.5 2.5l-.94 2.06-2.06.94zm10 10l.94 2.06.94-2.06 2.06-.94-2.06-.94-.94-2.06-.94 2.06-2.06.94z\"/><path d=\"M17.41 7.96l-1.37-1.37c-.4-.4-.92-.59-1.43-.59-.52 0-1.04.2-1.43.59L10.3 9.45l-7.72 7.72c-.78.78-.78 2.05 0 2.83L4 21.41c.39.39.9.59 1.41.59.51 0 1.02-.2 1.41-.59l7.78-7.78 2.81-2.81c.8-.78.8-2.07 0-2.86zM5.41 20L4 18.59l7.72-7.72 1.47 1.35L5.41 20z\"/>\n",
              "  </svg>\n",
              "      </button>\n",
              "      \n",
              "  <style>\n",
              "    .colab-df-container {\n",
              "      display:flex;\n",
              "      flex-wrap:wrap;\n",
              "      gap: 12px;\n",
              "    }\n",
              "\n",
              "    .colab-df-convert {\n",
              "      background-color: #E8F0FE;\n",
              "      border: none;\n",
              "      border-radius: 50%;\n",
              "      cursor: pointer;\n",
              "      display: none;\n",
              "      fill: #1967D2;\n",
              "      height: 32px;\n",
              "      padding: 0 0 0 0;\n",
              "      width: 32px;\n",
              "    }\n",
              "\n",
              "    .colab-df-convert:hover {\n",
              "      background-color: #E2EBFA;\n",
              "      box-shadow: 0px 1px 2px rgba(60, 64, 67, 0.3), 0px 1px 3px 1px rgba(60, 64, 67, 0.15);\n",
              "      fill: #174EA6;\n",
              "    }\n",
              "\n",
              "    [theme=dark] .colab-df-convert {\n",
              "      background-color: #3B4455;\n",
              "      fill: #D2E3FC;\n",
              "    }\n",
              "\n",
              "    [theme=dark] .colab-df-convert:hover {\n",
              "      background-color: #434B5C;\n",
              "      box-shadow: 0px 1px 3px 1px rgba(0, 0, 0, 0.15);\n",
              "      filter: drop-shadow(0px 1px 2px rgba(0, 0, 0, 0.3));\n",
              "      fill: #FFFFFF;\n",
              "    }\n",
              "  </style>\n",
              "\n",
              "      <script>\n",
              "        const buttonEl =\n",
              "          document.querySelector('#df-f50e0232-8189-437c-aed4-feabf1d8198b button.colab-df-convert');\n",
              "        buttonEl.style.display =\n",
              "          google.colab.kernel.accessAllowed ? 'block' : 'none';\n",
              "\n",
              "        async function convertToInteractive(key) {\n",
              "          const element = document.querySelector('#df-f50e0232-8189-437c-aed4-feabf1d8198b');\n",
              "          const dataTable =\n",
              "            await google.colab.kernel.invokeFunction('convertToInteractive',\n",
              "                                                     [key], {});\n",
              "          if (!dataTable) return;\n",
              "\n",
              "          const docLinkHtml = 'Like what you see? Visit the ' +\n",
              "            '<a target=\"_blank\" href=https://colab.research.google.com/notebooks/data_table.ipynb>data table notebook</a>'\n",
              "            + ' to learn more about interactive tables.';\n",
              "          element.innerHTML = '';\n",
              "          dataTable['output_type'] = 'display_data';\n",
              "          await google.colab.output.renderOutput(dataTable, element);\n",
              "          const docLink = document.createElement('div');\n",
              "          docLink.innerHTML = docLinkHtml;\n",
              "          element.appendChild(docLink);\n",
              "        }\n",
              "      </script>\n",
              "    </div>\n",
              "  </div>\n",
              "  "
            ]
          },
          "metadata": {},
          "execution_count": 18
        }
      ]
    },
    {
      "cell_type": "code",
      "source": [
        "df.to_csv(\"toronto_star.csv\", encoding='utf-8', index=False)"
      ],
      "metadata": {
        "id": "ysphkXWCLBMd"
      },
      "execution_count": 19,
      "outputs": []
    },
    {
      "cell_type": "markdown",
      "source": [
        "### Le Devoir"
      ],
      "metadata": {
        "id": "uM9VGfkqLLMK"
      }
    },
    {
      "cell_type": "markdown",
      "source": [
        "A list of RSS feeds for Le Devoir can be found here: https://www.ledevoir.com/flux-rss\n",
        "\n",
        "Let's use the World (le Monde) RSS feed."
      ],
      "metadata": {
        "id": "PuWOBLUILiYK"
      }
    },
    {
      "cell_type": "code",
      "source": [
        "print_RSS_fields('https://www.ledevoir.com/rss/section/monde.xml?id=76')"
      ],
      "metadata": {
        "id": "Vo6mYJV6MopS",
        "outputId": "203a034c-f15a-4ca8-d941-7041c0070bac",
        "colab": {
          "base_uri": "https://localhost:8080/"
        }
      },
      "execution_count": 19,
      "outputs": [
        {
          "output_type": "stream",
          "name": "stdout",
          "text": [
            "['surtitle', 'title', 'title_detail', 'published', 'published_parsed', 'links', 'link', 'id', 'guidislink', 'tags', 'summary', 'summary_detail', 'authors', 'author', 'author_detail']\n"
          ]
        }
      ]
    },
    {
      "cell_type": "code",
      "source": [
        "fields = ['title', 'published', 'author', 'link']\n",
        "\n",
        "df = df_from_RSS('https://www.ledevoir.com/rss/section/monde.xml?id=76', fields)\n",
        "\n",
        "df.head()"
      ],
      "metadata": {
        "id": "Etk7Mpf2LOKb",
        "outputId": "8cf42914-d57b-48dc-c96d-3e003ec358da",
        "colab": {
          "base_uri": "https://localhost:8080/",
          "height": 744
        }
      },
      "execution_count": 20,
      "outputs": [
        {
          "output_type": "execute_result",
          "data": {
            "text/plain": [
              "                                               title  \\\n",
              "0                        Des histoires de sécheresse   \n",
              "1  Dernière ligne droite pour éviter un naufrage ...   \n",
              "2  Le Canada interpellé alors que le nombre de ré...   \n",
              "3  Combats acharnés à Bakhmout, visite du ministr...   \n",
              "4           La solidarité de l’OTAN mise à l’épreuve   \n",
              "\n",
              "                         published  \\\n",
              "0  Sat, 04 Mar 2023 15:15:23 -0500   \n",
              "1  Sat, 04 Mar 2023 15:01:55 -0500   \n",
              "2  Sat, 04 Mar 2023 12:29:47 -0500   \n",
              "3  Sat, 04 Mar 2023 10:33:26 -0500   \n",
              "4  Sat, 04 Mar 2023 04:09:41 -0500   \n",
              "\n",
              "                                              author  \\\n",
              "0         aprovost@ledevoir.com (Anne-Marie Provost)   \n",
              "1  webmestre@ledevoir.com (Amélie Bottollier-Depois)   \n",
              "2           webmestre@ledevoir.com (Dylan Robertson)   \n",
              "3      webmestre@ledevoir.com (Agence France-Presse)   \n",
              "4                mvastel@ledevoir.com (Marie Vastel)   \n",
              "\n",
              "                                                link  \\\n",
              "0  https://www.ledevoir.com/monde/afrique/784006/...   \n",
              "1  https://www.ledevoir.com/monde/784115/-dernier...   \n",
              "2  https://www.ledevoir.com/monde/784107/-le-cana...   \n",
              "3  https://www.ledevoir.com/monde/europe/784100/-...   \n",
              "4  https://www.ledevoir.com/monde/784053/un-an-de...   \n",
              "\n",
              "                                                text  \n",
              "0  6 Shake Guyo, 72 ans, Malabot | Les éleveurs p...  \n",
              "1  Les États membres de l’ONU tentaient toujours ...  \n",
              "2  Les Nations Unies se préparent à une nouvelle ...  \n",
              "3  Le ministre russe de la Défense a mené une ins...  \n",
              "4  Un an après que la Russie a lancé son invasion...  "
            ],
            "text/html": [
              "\n",
              "  <div id=\"df-84e3b0c8-c93d-4b0d-ad54-07263f431b99\">\n",
              "    <div class=\"colab-df-container\">\n",
              "      <div>\n",
              "<style scoped>\n",
              "    .dataframe tbody tr th:only-of-type {\n",
              "        vertical-align: middle;\n",
              "    }\n",
              "\n",
              "    .dataframe tbody tr th {\n",
              "        vertical-align: top;\n",
              "    }\n",
              "\n",
              "    .dataframe thead th {\n",
              "        text-align: right;\n",
              "    }\n",
              "</style>\n",
              "<table border=\"1\" class=\"dataframe\">\n",
              "  <thead>\n",
              "    <tr style=\"text-align: right;\">\n",
              "      <th></th>\n",
              "      <th>title</th>\n",
              "      <th>published</th>\n",
              "      <th>author</th>\n",
              "      <th>link</th>\n",
              "      <th>text</th>\n",
              "    </tr>\n",
              "  </thead>\n",
              "  <tbody>\n",
              "    <tr>\n",
              "      <th>0</th>\n",
              "      <td>Des histoires de sécheresse</td>\n",
              "      <td>Sat, 04 Mar 2023 15:15:23 -0500</td>\n",
              "      <td>aprovost@ledevoir.com (Anne-Marie Provost)</td>\n",
              "      <td>https://www.ledevoir.com/monde/afrique/784006/...</td>\n",
              "      <td>6 Shake Guyo, 72 ans, Malabot | Les éleveurs p...</td>\n",
              "    </tr>\n",
              "    <tr>\n",
              "      <th>1</th>\n",
              "      <td>Dernière ligne droite pour éviter un naufrage ...</td>\n",
              "      <td>Sat, 04 Mar 2023 15:01:55 -0500</td>\n",
              "      <td>webmestre@ledevoir.com (Amélie Bottollier-Depois)</td>\n",
              "      <td>https://www.ledevoir.com/monde/784115/-dernier...</td>\n",
              "      <td>Les États membres de l’ONU tentaient toujours ...</td>\n",
              "    </tr>\n",
              "    <tr>\n",
              "      <th>2</th>\n",
              "      <td>Le Canada interpellé alors que le nombre de ré...</td>\n",
              "      <td>Sat, 04 Mar 2023 12:29:47 -0500</td>\n",
              "      <td>webmestre@ledevoir.com (Dylan Robertson)</td>\n",
              "      <td>https://www.ledevoir.com/monde/784107/-le-cana...</td>\n",
              "      <td>Les Nations Unies se préparent à une nouvelle ...</td>\n",
              "    </tr>\n",
              "    <tr>\n",
              "      <th>3</th>\n",
              "      <td>Combats acharnés à Bakhmout, visite du ministr...</td>\n",
              "      <td>Sat, 04 Mar 2023 10:33:26 -0500</td>\n",
              "      <td>webmestre@ledevoir.com (Agence France-Presse)</td>\n",
              "      <td>https://www.ledevoir.com/monde/europe/784100/-...</td>\n",
              "      <td>Le ministre russe de la Défense a mené une ins...</td>\n",
              "    </tr>\n",
              "    <tr>\n",
              "      <th>4</th>\n",
              "      <td>La solidarité de l’OTAN mise à l’épreuve</td>\n",
              "      <td>Sat, 04 Mar 2023 04:09:41 -0500</td>\n",
              "      <td>mvastel@ledevoir.com (Marie Vastel)</td>\n",
              "      <td>https://www.ledevoir.com/monde/784053/un-an-de...</td>\n",
              "      <td>Un an après que la Russie a lancé son invasion...</td>\n",
              "    </tr>\n",
              "  </tbody>\n",
              "</table>\n",
              "</div>\n",
              "      <button class=\"colab-df-convert\" onclick=\"convertToInteractive('df-84e3b0c8-c93d-4b0d-ad54-07263f431b99')\"\n",
              "              title=\"Convert this dataframe to an interactive table.\"\n",
              "              style=\"display:none;\">\n",
              "        \n",
              "  <svg xmlns=\"http://www.w3.org/2000/svg\" height=\"24px\"viewBox=\"0 0 24 24\"\n",
              "       width=\"24px\">\n",
              "    <path d=\"M0 0h24v24H0V0z\" fill=\"none\"/>\n",
              "    <path d=\"M18.56 5.44l.94 2.06.94-2.06 2.06-.94-2.06-.94-.94-2.06-.94 2.06-2.06.94zm-11 1L8.5 8.5l.94-2.06 2.06-.94-2.06-.94L8.5 2.5l-.94 2.06-2.06.94zm10 10l.94 2.06.94-2.06 2.06-.94-2.06-.94-.94-2.06-.94 2.06-2.06.94z\"/><path d=\"M17.41 7.96l-1.37-1.37c-.4-.4-.92-.59-1.43-.59-.52 0-1.04.2-1.43.59L10.3 9.45l-7.72 7.72c-.78.78-.78 2.05 0 2.83L4 21.41c.39.39.9.59 1.41.59.51 0 1.02-.2 1.41-.59l7.78-7.78 2.81-2.81c.8-.78.8-2.07 0-2.86zM5.41 20L4 18.59l7.72-7.72 1.47 1.35L5.41 20z\"/>\n",
              "  </svg>\n",
              "      </button>\n",
              "      \n",
              "  <style>\n",
              "    .colab-df-container {\n",
              "      display:flex;\n",
              "      flex-wrap:wrap;\n",
              "      gap: 12px;\n",
              "    }\n",
              "\n",
              "    .colab-df-convert {\n",
              "      background-color: #E8F0FE;\n",
              "      border: none;\n",
              "      border-radius: 50%;\n",
              "      cursor: pointer;\n",
              "      display: none;\n",
              "      fill: #1967D2;\n",
              "      height: 32px;\n",
              "      padding: 0 0 0 0;\n",
              "      width: 32px;\n",
              "    }\n",
              "\n",
              "    .colab-df-convert:hover {\n",
              "      background-color: #E2EBFA;\n",
              "      box-shadow: 0px 1px 2px rgba(60, 64, 67, 0.3), 0px 1px 3px 1px rgba(60, 64, 67, 0.15);\n",
              "      fill: #174EA6;\n",
              "    }\n",
              "\n",
              "    [theme=dark] .colab-df-convert {\n",
              "      background-color: #3B4455;\n",
              "      fill: #D2E3FC;\n",
              "    }\n",
              "\n",
              "    [theme=dark] .colab-df-convert:hover {\n",
              "      background-color: #434B5C;\n",
              "      box-shadow: 0px 1px 3px 1px rgba(0, 0, 0, 0.15);\n",
              "      filter: drop-shadow(0px 1px 2px rgba(0, 0, 0, 0.3));\n",
              "      fill: #FFFFFF;\n",
              "    }\n",
              "  </style>\n",
              "\n",
              "      <script>\n",
              "        const buttonEl =\n",
              "          document.querySelector('#df-84e3b0c8-c93d-4b0d-ad54-07263f431b99 button.colab-df-convert');\n",
              "        buttonEl.style.display =\n",
              "          google.colab.kernel.accessAllowed ? 'block' : 'none';\n",
              "\n",
              "        async function convertToInteractive(key) {\n",
              "          const element = document.querySelector('#df-84e3b0c8-c93d-4b0d-ad54-07263f431b99');\n",
              "          const dataTable =\n",
              "            await google.colab.kernel.invokeFunction('convertToInteractive',\n",
              "                                                     [key], {});\n",
              "          if (!dataTable) return;\n",
              "\n",
              "          const docLinkHtml = 'Like what you see? Visit the ' +\n",
              "            '<a target=\"_blank\" href=https://colab.research.google.com/notebooks/data_table.ipynb>data table notebook</a>'\n",
              "            + ' to learn more about interactive tables.';\n",
              "          element.innerHTML = '';\n",
              "          dataTable['output_type'] = 'display_data';\n",
              "          await google.colab.output.renderOutput(dataTable, element);\n",
              "          const docLink = document.createElement('div');\n",
              "          docLink.innerHTML = docLinkHtml;\n",
              "          element.appendChild(docLink);\n",
              "        }\n",
              "      </script>\n",
              "    </div>\n",
              "  </div>\n",
              "  "
            ]
          },
          "metadata": {},
          "execution_count": 20
        }
      ]
    },
    {
      "cell_type": "code",
      "source": [
        "df.to_csv(\"le_devoir.csv\", encoding='utf-8-sig', index=False)"
      ],
      "metadata": {
        "id": "fldkt7rQOyYT"
      },
      "execution_count": 21,
      "outputs": []
    },
    {
      "cell_type": "markdown",
      "source": [
        "### CBC"
      ],
      "metadata": {
        "id": "XFBqhdKTO1Yb"
      }
    },
    {
      "cell_type": "markdown",
      "source": [
        "A list of RSS feeds for the CBCs can be found here: https://www.cbc.ca/rss/\n",
        "\n",
        "Let's use the World RSS feed."
      ],
      "metadata": {
        "id": "tYXETSS1O7Mj"
      }
    },
    {
      "cell_type": "code",
      "source": [
        "print_RSS_fields('https://rss.cbc.ca/lineup/world.xml')"
      ],
      "metadata": {
        "id": "FxSh5dlfPD3z",
        "outputId": "a4fb9bb9-9bfd-4981-d0b0-7f8a4f6465dc",
        "colab": {
          "base_uri": "https://localhost:8080/"
        }
      },
      "execution_count": 22,
      "outputs": [
        {
          "output_type": "stream",
          "name": "stdout",
          "text": [
            "['title', 'title_detail', 'links', 'link', 'id', 'guidislink', 'published', 'published_parsed', 'authors', 'author', 'author_detail', 'tags', 'summary', 'summary_detail']\n"
          ]
        }
      ]
    },
    {
      "cell_type": "code",
      "source": [
        "#### ROUGH\n",
        "d = feedparser.parse('https://rss.cbc.ca/lineup/world.xml')\n",
        "\n",
        "all_fields = []\n",
        "for field in d.entries[0]:\n",
        "    all_fields.append(field)\n",
        "\n",
        "print(all_fields)\n",
        "\n",
        "fields = ['title', 'published', 'summary', 'author', 'link']\n",
        "\n",
        "data = []\n",
        "for i, entry in enumerate(d.entries):\n",
        "    row = []\n",
        "    for field in fields:\n",
        "        row.append(d.entries[i][field])\n",
        "    data.append(row)\n",
        "\n",
        "df = pd.DataFrame(data, columns = fields)\n",
        "\n",
        "links = df[\"link\"]\n",
        "\n",
        "df.iloc[-1]"
      ],
      "metadata": {
        "colab": {
          "base_uri": "https://localhost:8080/"
        },
        "id": "-rSGIYudbRfI",
        "outputId": "29a3dc5f-ed87-498d-ffcb-70b74ce1d468"
      },
      "execution_count": 31,
      "outputs": [
        {
          "output_type": "stream",
          "name": "stdout",
          "text": [
            "['title', 'title_detail', 'links', 'link', 'id', 'guidislink', 'published', 'published_parsed', 'authors', 'author', 'author_detail', 'tags', 'summary', 'summary_detail']\n"
          ]
        },
        {
          "output_type": "execute_result",
          "data": {
            "text/plain": [
              "title        Movement out of India that 'disseminates hate'...\n",
              "published                         Wed, 1 Mar 2023 17:19:59 EST\n",
              "summary      <img alt=\"INDIA-RELIGION/\" height=\"259\" src=\"h...\n",
              "author                                               Lisa Xing\n",
              "link         https://www.cbc.ca/news/canada/rss-hindutva-in...\n",
              "Name: 19, dtype: object"
            ]
          },
          "metadata": {},
          "execution_count": 31
        }
      ]
    },
    {
      "cell_type": "code",
      "source": [
        "#### ROUGH\n",
        "links = df[\"link\"]\n",
        "\n",
        "article_text_dict = {}\n",
        "for link in links:\n",
        "  article = Article(link)\n",
        "  article.download()\n",
        "  article.parse()\n",
        "  article.nlp()\n",
        "  article_text_dict[link] = article.text\n",
        "  \n",
        "# df['text'] = list(article_text_dict.values())\n",
        "\n",
        "print(links.iloc[-1], article_text_dict[links.iloc[-1]])"
      ],
      "metadata": {
        "colab": {
          "base_uri": "https://localhost:8080/"
        },
        "id": "vwHblPhScXDe",
        "outputId": "a9f1356b-ccb5-41f0-a4b4-c1a395ef9b87"
      },
      "execution_count": 34,
      "outputs": [
        {
          "output_type": "stream",
          "name": "stdout",
          "text": [
            "https://www.cbc.ca/news/canada/rss-hindutva-india-report-1.6764114?cmp=rss Canada shouldn't allow a movement out of India that \"disseminates hate\" and victimizes religious minority groups to entrench itself in this country, according to a report released Wednesday by the National Council of Canadian Muslims and the World Sikh Organization of Canada.\n",
            "\n",
            "The report, called Rashtriya Swayamsevak Sangh (RSS) Network in Canada, documents the roots of the RSS movement in India and its extensive global reach, promoting far right views in various ways.\n",
            "\n",
            "\"It's one of the most influential organizations in the world,\" said Steven Zhou, a spokesperson for the National Council of Canadian Muslims.\n",
            "\n",
            "The council and the World Sikh Organization of Canada are trying to draw attention to what academics, including some in Canada, say they have witnessed for years — an increasing influence and threat from a movement closely linked to the government in New Delhi that they say promotes discrimination against minority religious groups at home and abroad.\n",
            "\n",
            "\"[The RSS] poses a major challenge to Canadian commitments to human rights, to tolerance and multiculturalism,\" said Zhou.\n",
            "\n",
            "According to the report, the RSS is at the core of a network of groups \"seeking to remake India into a country run by and for Hindus first at the expense of the country's dizzying slew of minority groups.\"\n",
            "\n",
            "\"It's ... vital to keep in mind that the ideal nationalism projected by the RSS network victimizes not just ethno-religious minorities like Muslims, Sikhs and Christians, but also members of India's lower caste Hindus.\"\n",
            "\n",
            "Sanjay Ruparelia, an associate professor of politics and Jarislowsky Democracy Chair at Toronto Metropolitan University, says the world needs to pay attention to India's human rights record. (Submitted by Sanjay Ruparelia)\n",
            "\n",
            "\"It has domestic and international organs that seize political power, perpetuate its supremacist ideologies and actively participate in communal violence,\" the report said.\n",
            "\n",
            "In a statement posted on its website, the Canadian branch of RSS, HSS Canada, responded to the report, saying that it is \"defamatory in nature and poorly researched.\"\n",
            "\n",
            "\"These attacks are intended to provoke anti-Hindu sentiments and further give rise to growing Hinduphobia in Canada,\" the statement said.\n",
            "\n",
            "HSS Canada says its mission is to \"preserve, protect and promote [Hinduism] through a variety of events and programs across Canada ... without discrimination of any kind.\"\n",
            "\n",
            "The RSS website quotes its founder, Keshav Baliram Hedgewar, saying it is \"the duty of every Hindu to do his best to consolidate the Hindu society\" and that its mission is to strive for \"national reconstruction.\"\n",
            "\n",
            "Researchers say the ideology espoused by RSS is commonly known as Hindutva.\n",
            "\n",
            "The Indian state has not always supported the RSS and Hindutva, banning it three times since its inception in 1925 as a paramilitary volunteer organization.\n",
            "\n",
            "In an interview with CBC News in April 2022, Franco-Indian journalist Ingrid Therwath said the RSS network was founded on the principles of Italian facism, is ideologically similar to Nazism and was exported abroad by some in the Indian diaspora, said Therwath.\n",
            "\n",
            "Therwath, who has been researching Hindu extremism for more than 20 years, said the first Canadian branch of the RSS's international organization was established in Toronto in the 1970s.\n",
            "\n",
            "Zhou, a former researcher with the Canadian Anti-Hate Network who has chronicled far right movements within diaspora groups, told CBC in a previous interview Hindutva is a superficial politicization of Hinduism and has led to discrimination and sectarian violence against minority groups in India like Muslims and Christians.\n",
            "\n",
            "Human Rights Watch has also attributed religious and ethnic violence to groups that espouse the Hindutva ideology.\n",
            "\n",
            "In December 2021, in the northern Indian city of Haridwar, Hindu religious leaders openly called for a genocide against Muslims at an event organized by right-wing and Hindutva-following leaders.\n",
            "\n",
            "Violence against other minority groups like Sikhs and Dalits has increased in India in recent years, say academics. Dalits are members of a caste who do not belong to the social order, according to the caste system.\n",
            "\n",
            "\"There's been an increase in different kinds of hate crimes,\" said Shivaji Mukherjee, an assistant professor specializing in South Asian political violence at the University of Toronto-Mississauga. He said those crimes are increasing at a time when the current government — with extensive links to the RSS — is enjoying an overwhelming majority.\n",
            "\n",
            "\"Now that the Bharatiya Janata Party (BJP) has come to power, it's easier for these groups to increase violence, to fulfil their political and social agendas.\"\n",
            "\n",
            "'This is not a fringe ideology'\n",
            "\n",
            "While the RSS has existed for decades, Mukherjee said it has been emboldened to take violent action based on its ideology in recent years by the election of Prime Minister Narendra Modi and the BJP with a majority in 2014.\n",
            "\n",
            "According to multiple media outlets, the RSS has an estimated membership of more than five million worldwide, including Modi and the majority of ministers in his government.\n",
            "\n",
            "\"This is not a fringe ideology. This is the state ideology, \" said Jaskaran Sandhu, a board member with the World Sikh Organization of Canada.\n",
            "\n",
            "Academics have documented and noticed an increased attempt to challenge and silence criticism by supporters of the BJP and the RSS and Hindutva movement since the party came into power.\n",
            "\n",
            "Jaskaran Sandhu, a board member with the World Sikh Organization, says the Canadian government is 'valuing trade deals and strategic relationships … rather than actually upholding values that are important to Canadians.' (Submitted by Jaskaran Sandhu)\n",
            "\n",
            "In December 2021, Sanjay Ruparelia, an associate professor of politics and Jarislowsky Democracy Chair at Toronto Metropolitan University, organized a talk by prominent Indian politics researcher Christophe Jaffrelot hosted by the Toronto Public Library.\n",
            "\n",
            "Ruparelia said he received hundreds of emails from individuals urging organizers to call it off and for the library to ban the event because it was \"anti-Hindu.\" Academics say this kind of action can be attributed to those who support the views of the RSS.\n",
            "\n",
            "\"It's an attempt to silence them, to undermine their legitimacy,\" Ruparelia said, pointing out anyone engaging in debate about the Indian government or its views is automatically labelled by these supporters as \"anti-Hindu\" or \"Hinduphobic.\"\n",
            "\n",
            "Ruparelia said he knows of many academics who have been harassed and intimidated online by these people based on articles they're writing and events they're organizing.\n",
            "\n",
            "\"It's trying to shut down debate. It's trying to curtail freedom of expression.\"\n",
            "\n",
            "RSS operations in Canada\n",
            "\n",
            "The report on RSS highlights how the movement is operating in Canada, including through political lobbying and through seemingly benign cultural organizations that have charitable status.\n",
            "\n",
            "In India, the report says, the RSS operates an India-based NGO called Seva Bharati, which operates health-care units, disaster relief efforts and education in the country's underserved areas.\n",
            "\n",
            "Overseas, Sewa International provides these services and fundraises for these services around the world, according to the report.\n",
            "\n",
            "It also says RSS operates overseas through an organization called Hindu Swayamsevak Sangh (HSS) that perpetuates Hindutva ideologies in the Indian diaspora, including in Canada, the U.S. and Europe. The report says HSS has held events on Hinduism in some Ontario public schools.\n",
            "\n",
            "Prime Minister Justin Trudeau, left, chats with Indian Prime Minister Narendra Modi during their bilateral meeting at the G20 summit in Hamburg, Germany, on July 7, 2017. (Ryan Remiorz/The Canadian Press)\n",
            "\n",
            "Through the report, the National Council of Canadian Muslims and the World Sikh Organization of Canada are urging the federal government to \"carefully study and track the growth of a movement that disseminates hate here in Canada.\"\n",
            "\n",
            "The report also calls for action from the Canadian government.\n",
            "\n",
            "\"Canadian leaders cannot allow individuals and [organizations] that push a Hindutva vision of India — a supremacist vision that discriminates against minorities and has led to mass bloodshed — [to] entrench themselves in this country, perpetuate their supremacist ideologies and radicalize relations between large faith-based communities,\" the report's authors wrote.\n",
            "\n",
            "However, critics say Ottawa has stayed largely silent and complacent as it attempts to foster an economic relationship with India as part of its Indo-Pacific strategy , launched in November 2022 to enhance trade and engagement in that region.\n",
            "\n",
            "\"They're valuing trade deals and strategic relationships … rather than actually upholding values that are important to Canadians,\" said Sandhu, with the World Sikh Organization of Canada.\n",
            "\n",
            "Several academics use Nepean MP Chandra Arya raising what appears to be the RSS flag on Parliament Hill during Hindu Heritage Month last November as an example of why they're concerned.\n",
            "\n",
            "Today I marked the historic beginning of Canada’s national Hindu Heritage Month by raising a flag with Hindu sacred symbol Aum🕉️on parliament hill<br>HHM provides opportunity to recognize the contributions of 830,000 Hindu-Canadians to our country & of Hindu Heritage to the mankind <a href=\"https://t.co/s6UMOLORLt\">pic.twitter.com/s6UMOLORLt</a> —@AryaCanada\n",
            "\n",
            "The event prompted professors from several Quebec universities to pen a letter to Prime Minister Justin Trudeau explaining why the flag was problematic. A separate letter was sent by community and cultural groups like Hindus for Human Rights and the Canadian Council of Muslim Women.\n",
            "\n",
            "In an emailed statement to CBC News on Wednesday, Arya said the flag raised on Parliament Hill \"represents the Hindu faith and does not represent, or indicate support for, any political organization or ideology.\"\n",
            "\n",
            "\"This auspicious symbol belongs to all Hindus, and no country or organization or individual can claim ownership or exclusivity to it,\" he said.\n",
            "\n",
            "As India is projected by the United Nations to be the most populous country in the world this year, and the fastest growing economy in the next two decades, the world needs to pay attention to its human rights record, said Ruparelia.\n",
            "\n",
            "\"What happens in India has a great impact in the world,\" he said. \"[That's why] the erosion of democracy that we've seen in India is deeply concerning.\"\n",
            "\n",
            "In a statement, a spokesperson for Global Affairs Canada told CBC News \"promoting human rights has always been at the core of our foreign policy\" especially as India is set to host the G20 in September.\n",
            "\n",
            "\"Canada will continue to engage with India on issues related to security, democracy, pluralism and human rights.\"\n"
          ]
        }
      ]
    },
    {
      "cell_type": "code",
      "source": [
        "fields = ['title', 'published', 'author', 'link']\n",
        "\n",
        "df = df_from_RSS('https://rss.cbc.ca/lineup/world.xml', fields)\n",
        "\n",
        "df.head()"
      ],
      "metadata": {
        "id": "oupaTMfEPMFD",
        "outputId": "36ea60f5-39b0-4641-aa4a-c7637308b416",
        "colab": {
          "base_uri": "https://localhost:8080/",
          "height": 851
        }
      },
      "execution_count": 23,
      "outputs": [
        {
          "output_type": "error",
          "ename": "ValueError",
          "evalue": "ignored",
          "traceback": [
            "\u001b[0;31m---------------------------------------------------------------------------\u001b[0m",
            "\u001b[0;31mValueError\u001b[0m                                Traceback (most recent call last)",
            "\u001b[0;32m<ipython-input-23-6e260a330b71>\u001b[0m in \u001b[0;36m<module>\u001b[0;34m\u001b[0m\n\u001b[1;32m      1\u001b[0m \u001b[0mfields\u001b[0m \u001b[0;34m=\u001b[0m \u001b[0;34m[\u001b[0m\u001b[0;34m'title'\u001b[0m\u001b[0;34m,\u001b[0m \u001b[0;34m'published'\u001b[0m\u001b[0;34m,\u001b[0m \u001b[0;34m'author'\u001b[0m\u001b[0;34m,\u001b[0m \u001b[0;34m'link'\u001b[0m\u001b[0;34m]\u001b[0m\u001b[0;34m\u001b[0m\u001b[0;34m\u001b[0m\u001b[0m\n\u001b[1;32m      2\u001b[0m \u001b[0;34m\u001b[0m\u001b[0m\n\u001b[0;32m----> 3\u001b[0;31m \u001b[0mdf\u001b[0m \u001b[0;34m=\u001b[0m \u001b[0mdf_from_RSS\u001b[0m\u001b[0;34m(\u001b[0m\u001b[0;34m'https://rss.cbc.ca/lineup/world.xml'\u001b[0m\u001b[0;34m,\u001b[0m \u001b[0mfields\u001b[0m\u001b[0;34m)\u001b[0m\u001b[0;34m\u001b[0m\u001b[0;34m\u001b[0m\u001b[0m\n\u001b[0m\u001b[1;32m      4\u001b[0m \u001b[0;34m\u001b[0m\u001b[0m\n\u001b[1;32m      5\u001b[0m \u001b[0mdf\u001b[0m\u001b[0;34m.\u001b[0m\u001b[0mhead\u001b[0m\u001b[0;34m(\u001b[0m\u001b[0;34m)\u001b[0m\u001b[0;34m\u001b[0m\u001b[0;34m\u001b[0m\u001b[0m\n",
            "\u001b[0;32m<ipython-input-15-b6666e352f2b>\u001b[0m in \u001b[0;36mdf_from_RSS\u001b[0;34m(rss_link, fields)\u001b[0m\n\u001b[1;32m     33\u001b[0m         \u001b[0marticle_text_dict\u001b[0m\u001b[0;34m[\u001b[0m\u001b[0mlink\u001b[0m\u001b[0;34m]\u001b[0m \u001b[0;34m=\u001b[0m \u001b[0marticle\u001b[0m\u001b[0;34m.\u001b[0m\u001b[0mtext\u001b[0m\u001b[0;34m\u001b[0m\u001b[0;34m\u001b[0m\u001b[0m\n\u001b[1;32m     34\u001b[0m \u001b[0;34m\u001b[0m\u001b[0m\n\u001b[0;32m---> 35\u001b[0;31m     \u001b[0mdf\u001b[0m\u001b[0;34m[\u001b[0m\u001b[0;34m'text'\u001b[0m\u001b[0;34m]\u001b[0m \u001b[0;34m=\u001b[0m \u001b[0mlist\u001b[0m\u001b[0;34m(\u001b[0m\u001b[0marticle_text_dict\u001b[0m\u001b[0;34m.\u001b[0m\u001b[0mvalues\u001b[0m\u001b[0;34m(\u001b[0m\u001b[0;34m)\u001b[0m\u001b[0;34m)\u001b[0m\u001b[0;34m\u001b[0m\u001b[0;34m\u001b[0m\u001b[0m\n\u001b[0m\u001b[1;32m     36\u001b[0m \u001b[0;34m\u001b[0m\u001b[0m\n\u001b[1;32m     37\u001b[0m     \u001b[0;32mreturn\u001b[0m \u001b[0mdf\u001b[0m\u001b[0;34m\u001b[0m\u001b[0;34m\u001b[0m\u001b[0m\n",
            "\u001b[0;32m/usr/local/lib/python3.8/dist-packages/pandas/core/frame.py\u001b[0m in \u001b[0;36m__setitem__\u001b[0;34m(self, key, value)\u001b[0m\n\u001b[1;32m   3610\u001b[0m         \u001b[0;32melse\u001b[0m\u001b[0;34m:\u001b[0m\u001b[0;34m\u001b[0m\u001b[0;34m\u001b[0m\u001b[0m\n\u001b[1;32m   3611\u001b[0m             \u001b[0;31m# set column\u001b[0m\u001b[0;34m\u001b[0m\u001b[0;34m\u001b[0m\u001b[0;34m\u001b[0m\u001b[0m\n\u001b[0;32m-> 3612\u001b[0;31m             \u001b[0mself\u001b[0m\u001b[0;34m.\u001b[0m\u001b[0m_set_item\u001b[0m\u001b[0;34m(\u001b[0m\u001b[0mkey\u001b[0m\u001b[0;34m,\u001b[0m \u001b[0mvalue\u001b[0m\u001b[0;34m)\u001b[0m\u001b[0;34m\u001b[0m\u001b[0;34m\u001b[0m\u001b[0m\n\u001b[0m\u001b[1;32m   3613\u001b[0m \u001b[0;34m\u001b[0m\u001b[0m\n\u001b[1;32m   3614\u001b[0m     \u001b[0;32mdef\u001b[0m \u001b[0m_setitem_slice\u001b[0m\u001b[0;34m(\u001b[0m\u001b[0mself\u001b[0m\u001b[0;34m,\u001b[0m \u001b[0mkey\u001b[0m\u001b[0;34m:\u001b[0m \u001b[0mslice\u001b[0m\u001b[0;34m,\u001b[0m \u001b[0mvalue\u001b[0m\u001b[0;34m)\u001b[0m\u001b[0;34m:\u001b[0m\u001b[0;34m\u001b[0m\u001b[0;34m\u001b[0m\u001b[0m\n",
            "\u001b[0;32m/usr/local/lib/python3.8/dist-packages/pandas/core/frame.py\u001b[0m in \u001b[0;36m_set_item\u001b[0;34m(self, key, value)\u001b[0m\n\u001b[1;32m   3782\u001b[0m         \u001b[0mensure\u001b[0m \u001b[0mhomogeneity\u001b[0m\u001b[0;34m.\u001b[0m\u001b[0;34m\u001b[0m\u001b[0;34m\u001b[0m\u001b[0m\n\u001b[1;32m   3783\u001b[0m         \"\"\"\n\u001b[0;32m-> 3784\u001b[0;31m         \u001b[0mvalue\u001b[0m \u001b[0;34m=\u001b[0m \u001b[0mself\u001b[0m\u001b[0;34m.\u001b[0m\u001b[0m_sanitize_column\u001b[0m\u001b[0;34m(\u001b[0m\u001b[0mvalue\u001b[0m\u001b[0;34m)\u001b[0m\u001b[0;34m\u001b[0m\u001b[0;34m\u001b[0m\u001b[0m\n\u001b[0m\u001b[1;32m   3785\u001b[0m \u001b[0;34m\u001b[0m\u001b[0m\n\u001b[1;32m   3786\u001b[0m         if (\n",
            "\u001b[0;32m/usr/local/lib/python3.8/dist-packages/pandas/core/frame.py\u001b[0m in \u001b[0;36m_sanitize_column\u001b[0;34m(self, value)\u001b[0m\n\u001b[1;32m   4507\u001b[0m \u001b[0;34m\u001b[0m\u001b[0m\n\u001b[1;32m   4508\u001b[0m         \u001b[0;32mif\u001b[0m \u001b[0mis_list_like\u001b[0m\u001b[0;34m(\u001b[0m\u001b[0mvalue\u001b[0m\u001b[0;34m)\u001b[0m\u001b[0;34m:\u001b[0m\u001b[0;34m\u001b[0m\u001b[0;34m\u001b[0m\u001b[0m\n\u001b[0;32m-> 4509\u001b[0;31m             \u001b[0mcom\u001b[0m\u001b[0;34m.\u001b[0m\u001b[0mrequire_length_match\u001b[0m\u001b[0;34m(\u001b[0m\u001b[0mvalue\u001b[0m\u001b[0;34m,\u001b[0m \u001b[0mself\u001b[0m\u001b[0;34m.\u001b[0m\u001b[0mindex\u001b[0m\u001b[0;34m)\u001b[0m\u001b[0;34m\u001b[0m\u001b[0;34m\u001b[0m\u001b[0m\n\u001b[0m\u001b[1;32m   4510\u001b[0m         \u001b[0;32mreturn\u001b[0m \u001b[0msanitize_array\u001b[0m\u001b[0;34m(\u001b[0m\u001b[0mvalue\u001b[0m\u001b[0;34m,\u001b[0m \u001b[0mself\u001b[0m\u001b[0;34m.\u001b[0m\u001b[0mindex\u001b[0m\u001b[0;34m,\u001b[0m \u001b[0mcopy\u001b[0m\u001b[0;34m=\u001b[0m\u001b[0;32mTrue\u001b[0m\u001b[0;34m,\u001b[0m \u001b[0mallow_2d\u001b[0m\u001b[0;34m=\u001b[0m\u001b[0;32mTrue\u001b[0m\u001b[0;34m)\u001b[0m\u001b[0;34m\u001b[0m\u001b[0;34m\u001b[0m\u001b[0m\n\u001b[1;32m   4511\u001b[0m \u001b[0;34m\u001b[0m\u001b[0m\n",
            "\u001b[0;32m/usr/local/lib/python3.8/dist-packages/pandas/core/common.py\u001b[0m in \u001b[0;36mrequire_length_match\u001b[0;34m(data, index)\u001b[0m\n\u001b[1;32m    529\u001b[0m     \"\"\"\n\u001b[1;32m    530\u001b[0m     \u001b[0;32mif\u001b[0m \u001b[0mlen\u001b[0m\u001b[0;34m(\u001b[0m\u001b[0mdata\u001b[0m\u001b[0;34m)\u001b[0m \u001b[0;34m!=\u001b[0m \u001b[0mlen\u001b[0m\u001b[0;34m(\u001b[0m\u001b[0mindex\u001b[0m\u001b[0;34m)\u001b[0m\u001b[0;34m:\u001b[0m\u001b[0;34m\u001b[0m\u001b[0;34m\u001b[0m\u001b[0m\n\u001b[0;32m--> 531\u001b[0;31m         raise ValueError(\n\u001b[0m\u001b[1;32m    532\u001b[0m             \u001b[0;34m\"Length of values \"\u001b[0m\u001b[0;34m\u001b[0m\u001b[0;34m\u001b[0m\u001b[0m\n\u001b[1;32m    533\u001b[0m             \u001b[0;34mf\"({len(data)}) \"\u001b[0m\u001b[0;34m\u001b[0m\u001b[0;34m\u001b[0m\u001b[0m\n",
            "\u001b[0;31mValueError\u001b[0m: Length of values (19) does not match length of index (20)"
          ]
        }
      ]
    },
    {
      "cell_type": "code",
      "source": [
        "df.to_csv(\"cbc.csv\", encoding='utf-8', index=False)"
      ],
      "metadata": {
        "id": "-SSqmuVcQHLs"
      },
      "execution_count": null,
      "outputs": []
    },
    {
      "cell_type": "markdown",
      "source": [
        "## 3. Text Processing"
      ],
      "metadata": {
        "id": "ce7yR5s9QjRi"
      }
    },
    {
      "cell_type": "code",
      "source": [
        "# For the purpose of demonstrating text processing techniques, we will be using\n",
        "# the New York Times dataset as created above, let's start be importing the dataset first\n",
        "\n",
        "nytimes_df = pd.read_csv(\"new_york_times.csv\", encoding='utf-8')\n",
        "nytimes_df.head()"
      ],
      "metadata": {
        "id": "nZ-dhGHiR7yd",
        "colab": {
          "base_uri": "https://localhost:8080/",
          "height": 333
        },
        "outputId": "7b76d7b8-6fac-4929-a401-e87febecf218"
      },
      "execution_count": 20,
      "outputs": [
        {
          "output_type": "execute_result",
          "data": {
            "text/plain": [
              "                                               title  \\\n",
              "0  Ukrainian Soldiers, Nearly Encircled in Bakhmu...   \n",
              "1  Ukraine’s Top Generals Want to Keep Fighting f...   \n",
              "2  The Story of Multicultural Canada, Told in Hum...   \n",
              "3  Historical Disputes Kept Them at Odds. Can Seo...   \n",
              "4  Dalit Journalist Takes On India’s Caste Injust...   \n",
              "\n",
              "                         published  \\\n",
              "0  Mon, 06 Mar 2023 08:00:19 +0000   \n",
              "1  Mon, 06 Mar 2023 19:12:15 +0000   \n",
              "2  Sun, 05 Mar 2023 22:04:46 +0000   \n",
              "3  Mon, 06 Mar 2023 15:59:37 +0000   \n",
              "4  Mon, 06 Mar 2023 16:27:16 +0000   \n",
              "\n",
              "                                             summary  \\\n",
              "0  The battle for Bakhmut is not over — at least ...   \n",
              "1  Military commanders told President Volodymyr Z...   \n",
              "2  Some of Toronto’s best dining options are mom-...   \n",
              "3  Icy relations between the two have long been a...   \n",
              "4  Meena Kotwal started a news outlet focused on ...   \n",
              "\n",
              "                               author  \\\n",
              "0  Carlotta Gall and Daniel Berehulak   \n",
              "1                  The New York Times   \n",
              "2                    Norimitsu Onishi   \n",
              "3                       Choe Sang-Hun   \n",
              "4                    Karan Deep Singh   \n",
              "\n",
              "                                                link  \\\n",
              "0  https://www.nytimes.com/2023/03/06/world/europ...   \n",
              "1  https://www.nytimes.com/live/2023/03/06/world/...   \n",
              "2  https://www.nytimes.com/2023/03/05/world/canad...   \n",
              "3  https://www.nytimes.com/2023/03/05/world/asia/...   \n",
              "4  https://www.nytimes.com/2023/03/06/world/asia/...   \n",
              "\n",
              "                                                text  \n",
              "0  CHASIV YAR, Ukraine — Lined up in the dark in ...  \n",
              "1  Ukraine’s top generals want to bolster their f...  \n",
              "2  SCARBOROUGH, Ontario — At a tiny strip mall wh...  \n",
              "3  SEOUL — When it comes to South Korea and Japan...  \n",
              "4  After two years on the job, she filed an offic...  "
            ],
            "text/html": [
              "\n",
              "  <div id=\"df-41b44d50-0c98-4df5-93cd-f55a40e7c9b2\">\n",
              "    <div class=\"colab-df-container\">\n",
              "      <div>\n",
              "<style scoped>\n",
              "    .dataframe tbody tr th:only-of-type {\n",
              "        vertical-align: middle;\n",
              "    }\n",
              "\n",
              "    .dataframe tbody tr th {\n",
              "        vertical-align: top;\n",
              "    }\n",
              "\n",
              "    .dataframe thead th {\n",
              "        text-align: right;\n",
              "    }\n",
              "</style>\n",
              "<table border=\"1\" class=\"dataframe\">\n",
              "  <thead>\n",
              "    <tr style=\"text-align: right;\">\n",
              "      <th></th>\n",
              "      <th>title</th>\n",
              "      <th>published</th>\n",
              "      <th>summary</th>\n",
              "      <th>author</th>\n",
              "      <th>link</th>\n",
              "      <th>text</th>\n",
              "    </tr>\n",
              "  </thead>\n",
              "  <tbody>\n",
              "    <tr>\n",
              "      <th>0</th>\n",
              "      <td>Ukrainian Soldiers, Nearly Encircled in Bakhmu...</td>\n",
              "      <td>Mon, 06 Mar 2023 08:00:19 +0000</td>\n",
              "      <td>The battle for Bakhmut is not over — at least ...</td>\n",
              "      <td>Carlotta Gall and Daniel Berehulak</td>\n",
              "      <td>https://www.nytimes.com/2023/03/06/world/europ...</td>\n",
              "      <td>CHASIV YAR, Ukraine — Lined up in the dark in ...</td>\n",
              "    </tr>\n",
              "    <tr>\n",
              "      <th>1</th>\n",
              "      <td>Ukraine’s Top Generals Want to Keep Fighting f...</td>\n",
              "      <td>Mon, 06 Mar 2023 19:12:15 +0000</td>\n",
              "      <td>Military commanders told President Volodymyr Z...</td>\n",
              "      <td>The New York Times</td>\n",
              "      <td>https://www.nytimes.com/live/2023/03/06/world/...</td>\n",
              "      <td>Ukraine’s top generals want to bolster their f...</td>\n",
              "    </tr>\n",
              "    <tr>\n",
              "      <th>2</th>\n",
              "      <td>The Story of Multicultural Canada, Told in Hum...</td>\n",
              "      <td>Sun, 05 Mar 2023 22:04:46 +0000</td>\n",
              "      <td>Some of Toronto’s best dining options are mom-...</td>\n",
              "      <td>Norimitsu Onishi</td>\n",
              "      <td>https://www.nytimes.com/2023/03/05/world/canad...</td>\n",
              "      <td>SCARBOROUGH, Ontario — At a tiny strip mall wh...</td>\n",
              "    </tr>\n",
              "    <tr>\n",
              "      <th>3</th>\n",
              "      <td>Historical Disputes Kept Them at Odds. Can Seo...</td>\n",
              "      <td>Mon, 06 Mar 2023 15:59:37 +0000</td>\n",
              "      <td>Icy relations between the two have long been a...</td>\n",
              "      <td>Choe Sang-Hun</td>\n",
              "      <td>https://www.nytimes.com/2023/03/05/world/asia/...</td>\n",
              "      <td>SEOUL — When it comes to South Korea and Japan...</td>\n",
              "    </tr>\n",
              "    <tr>\n",
              "      <th>4</th>\n",
              "      <td>Dalit Journalist Takes On India’s Caste Injust...</td>\n",
              "      <td>Mon, 06 Mar 2023 16:27:16 +0000</td>\n",
              "      <td>Meena Kotwal started a news outlet focused on ...</td>\n",
              "      <td>Karan Deep Singh</td>\n",
              "      <td>https://www.nytimes.com/2023/03/06/world/asia/...</td>\n",
              "      <td>After two years on the job, she filed an offic...</td>\n",
              "    </tr>\n",
              "  </tbody>\n",
              "</table>\n",
              "</div>\n",
              "      <button class=\"colab-df-convert\" onclick=\"convertToInteractive('df-41b44d50-0c98-4df5-93cd-f55a40e7c9b2')\"\n",
              "              title=\"Convert this dataframe to an interactive table.\"\n",
              "              style=\"display:none;\">\n",
              "        \n",
              "  <svg xmlns=\"http://www.w3.org/2000/svg\" height=\"24px\"viewBox=\"0 0 24 24\"\n",
              "       width=\"24px\">\n",
              "    <path d=\"M0 0h24v24H0V0z\" fill=\"none\"/>\n",
              "    <path d=\"M18.56 5.44l.94 2.06.94-2.06 2.06-.94-2.06-.94-.94-2.06-.94 2.06-2.06.94zm-11 1L8.5 8.5l.94-2.06 2.06-.94-2.06-.94L8.5 2.5l-.94 2.06-2.06.94zm10 10l.94 2.06.94-2.06 2.06-.94-2.06-.94-.94-2.06-.94 2.06-2.06.94z\"/><path d=\"M17.41 7.96l-1.37-1.37c-.4-.4-.92-.59-1.43-.59-.52 0-1.04.2-1.43.59L10.3 9.45l-7.72 7.72c-.78.78-.78 2.05 0 2.83L4 21.41c.39.39.9.59 1.41.59.51 0 1.02-.2 1.41-.59l7.78-7.78 2.81-2.81c.8-.78.8-2.07 0-2.86zM5.41 20L4 18.59l7.72-7.72 1.47 1.35L5.41 20z\"/>\n",
              "  </svg>\n",
              "      </button>\n",
              "      \n",
              "  <style>\n",
              "    .colab-df-container {\n",
              "      display:flex;\n",
              "      flex-wrap:wrap;\n",
              "      gap: 12px;\n",
              "    }\n",
              "\n",
              "    .colab-df-convert {\n",
              "      background-color: #E8F0FE;\n",
              "      border: none;\n",
              "      border-radius: 50%;\n",
              "      cursor: pointer;\n",
              "      display: none;\n",
              "      fill: #1967D2;\n",
              "      height: 32px;\n",
              "      padding: 0 0 0 0;\n",
              "      width: 32px;\n",
              "    }\n",
              "\n",
              "    .colab-df-convert:hover {\n",
              "      background-color: #E2EBFA;\n",
              "      box-shadow: 0px 1px 2px rgba(60, 64, 67, 0.3), 0px 1px 3px 1px rgba(60, 64, 67, 0.15);\n",
              "      fill: #174EA6;\n",
              "    }\n",
              "\n",
              "    [theme=dark] .colab-df-convert {\n",
              "      background-color: #3B4455;\n",
              "      fill: #D2E3FC;\n",
              "    }\n",
              "\n",
              "    [theme=dark] .colab-df-convert:hover {\n",
              "      background-color: #434B5C;\n",
              "      box-shadow: 0px 1px 3px 1px rgba(0, 0, 0, 0.15);\n",
              "      filter: drop-shadow(0px 1px 2px rgba(0, 0, 0, 0.3));\n",
              "      fill: #FFFFFF;\n",
              "    }\n",
              "  </style>\n",
              "\n",
              "      <script>\n",
              "        const buttonEl =\n",
              "          document.querySelector('#df-41b44d50-0c98-4df5-93cd-f55a40e7c9b2 button.colab-df-convert');\n",
              "        buttonEl.style.display =\n",
              "          google.colab.kernel.accessAllowed ? 'block' : 'none';\n",
              "\n",
              "        async function convertToInteractive(key) {\n",
              "          const element = document.querySelector('#df-41b44d50-0c98-4df5-93cd-f55a40e7c9b2');\n",
              "          const dataTable =\n",
              "            await google.colab.kernel.invokeFunction('convertToInteractive',\n",
              "                                                     [key], {});\n",
              "          if (!dataTable) return;\n",
              "\n",
              "          const docLinkHtml = 'Like what you see? Visit the ' +\n",
              "            '<a target=\"_blank\" href=https://colab.research.google.com/notebooks/data_table.ipynb>data table notebook</a>'\n",
              "            + ' to learn more about interactive tables.';\n",
              "          element.innerHTML = '';\n",
              "          dataTable['output_type'] = 'display_data';\n",
              "          await google.colab.output.renderOutput(dataTable, element);\n",
              "          const docLink = document.createElement('div');\n",
              "          docLink.innerHTML = docLinkHtml;\n",
              "          element.appendChild(docLink);\n",
              "        }\n",
              "      </script>\n",
              "    </div>\n",
              "  </div>\n",
              "  "
            ]
          },
          "metadata": {},
          "execution_count": 20
        }
      ]
    },
    {
      "cell_type": "code",
      "source": [
        "import nltk\n",
        "from nltk.corpus import stopwords\n",
        "nltk.download('stopwords')\n",
        "from nltk.stem import PorterStemmer\n",
        "from nltk.stem import WordNetLemmatizer\n",
        "nltk.download('wordnet')\n",
        "nltk.download('omw-1.4')\n",
        "from nltk.util import ngrams\n",
        "from nltk.probability import ConditionalFreqDist\n",
        "from collections import defaultdict\n",
        "import string\n",
        "import random"
      ],
      "metadata": {
        "colab": {
          "base_uri": "https://localhost:8080/"
        },
        "id": "QnZLdQTcmph5",
        "outputId": "feda60b0-d951-4150-cb07-8899f6bd0301"
      },
      "execution_count": 65,
      "outputs": [
        {
          "output_type": "stream",
          "name": "stderr",
          "text": [
            "[nltk_data] Downloading package stopwords to /root/nltk_data...\n",
            "[nltk_data]   Package stopwords is already up-to-date!\n",
            "[nltk_data] Downloading package wordnet to /root/nltk_data...\n",
            "[nltk_data]   Package wordnet is already up-to-date!\n",
            "[nltk_data] Downloading package omw-1.4 to /root/nltk_data...\n",
            "[nltk_data]   Package omw-1.4 is already up-to-date!\n"
          ]
        }
      ]
    },
    {
      "cell_type": "code",
      "source": [
        "# defining all the text processing techniques discussed in the presentation as \n",
        "# functions\n",
        "\n",
        "def number_of_words(text):\n",
        "  \"\"\"\n",
        "  Counts the total number of words in a text\n",
        "\n",
        "  'text': This argument strictly needs to be of type \"string\"\n",
        "  \"\"\"\n",
        "  return len(text.split())\n",
        "\n",
        "def number_of_characters(text):\n",
        "  \"\"\"\n",
        "  Counts the total number of characters in a text\n",
        "  \n",
        "  'text': This argument strictly needs to be of type \"string\"\n",
        "  \"\"\"\n",
        "  return len(text)\n",
        "\n",
        "def average_word_length(text):\n",
        "  \"\"\"\n",
        "  Returns the average word length of a text\n",
        "\n",
        "  'text': This argument strictly needs to be of type \"string\"\n",
        "  \"\"\"\n",
        "  words = text.split()\n",
        "  avg_word_len = sum(len(word) for word in words) / len(words)\n",
        "  return int(avg_word_len)\n",
        "\n",
        "def change_case(text, case_ = 'lower'):\n",
        "  \"\"\"\n",
        "  Returns the transformed text as specified by the case arguement\n",
        "\n",
        "  'text': This argument strictly needs to be of type \"string\"\n",
        "  'case_': can either be 'lower' or 'upper'\n",
        "  \"\"\"\n",
        "  if case_ == 'lower':\n",
        "    return text.lower()\n",
        "  elif case_ == 'upper':\n",
        "    return text.upper()\n",
        "\n",
        "def count_stopwords(text):\n",
        "  \"\"\"\n",
        "  Returns the total number of stopwords in a text.\n",
        "  Vocabulary for stopwords is from nltk module,\n",
        "\n",
        "  'text': This argument strictly needs to be of type \"string\"\n",
        "  \"\"\"\n",
        "  stop_words = set(stopwords.words('english'))\n",
        "  num_of_stopwords = len([word for word in text.split() if word.lower() in stop_words])\n",
        "  return num_of_stopwords\n",
        "\n",
        "\n",
        "def tokenize(text, how = 'word'):\n",
        "  \"\"\"\n",
        "  Tokenizes the text based on nltk module's basic tokenization techniques\n",
        "\n",
        "  'text': This argument strictly needs to be of type \"string\"\n",
        "  'how': This arguement caan be one of ['word', 'sentence', 'whitespace']\n",
        "         indicting the strategy for tokenizing\n",
        "  \"\"\"\n",
        "  if how == 'word':\n",
        "    return nltk.word_tokenize(text)\n",
        "  elif how == 'sentence':\n",
        "    return nltk.sent_tokenize(text)\n",
        "  elif how == 'whitespace':\n",
        "    return nltk.WhitespaceTokenizer(text)\n",
        "\n",
        "def remove_punct(text):\n",
        "  \"\"\"\n",
        "  Removes punctuation marks from a specified text\n",
        "\n",
        "  'text': This argument strictly needs to be of type \"string\"\n",
        "  \"\"\"\n",
        "  \n",
        "  # Tokenize the text into individual words\n",
        "  tokens = tokenize(text)\n",
        "\n",
        "  # Remove punctuation marks from each word\n",
        "  table = str.maketrans('', '', string.punctuation)\n",
        "  words = [word.translate(table) for word in tokens]\n",
        "\n",
        "  # Combine the words back into a single string\n",
        "  cleaned_text = ' '.join(words)\n",
        "\n",
        "  return cleaned_text\n",
        "\n",
        "def remove_stopwords(text):\n",
        "  \"\"\"\n",
        "  Performs stopwords removal on the specified text\n",
        "\n",
        "  'text': This argument strictly needs to be of type \"string\"\n",
        "  \"\"\"\n",
        "\n",
        "  # Tokenize the text\n",
        "  tokens = tokenize(text, how = 'word')\n",
        "    \n",
        "  # Remove stopwords\n",
        "  stopwords_list = stopwords.words('english')\n",
        "  filtered_tokens = [token for token in tokens if token.lower() not in stopwords_list]\n",
        "    \n",
        "  # Join the filtered tokens back into a string\n",
        "  filtered_text = ' '.join(filtered_tokens)\n",
        "    \n",
        "  return filtered_text\n",
        "\n",
        "def stem_text(text):\n",
        "  \"\"\"\n",
        "  Returns the stemmed text based on the \"PorterStemmer\" stemming strategy of\n",
        "  the nltk module. This is a widely used stemming algorithm that removes common \n",
        "  suffixes from English words. It is implemented in nltk as the PorterStemmer \n",
        "  class.\n",
        "\n",
        "  'text': This argument strictly needs to be of type \"string\"\n",
        "  \"\"\"\n",
        "  stemmer = PorterStemmer()\n",
        "  tokens = text.split()\n",
        "  stemmed_tokens = [stemmer.stem(token) for token in tokens]\n",
        "  stemmed_text = ' '.join(stemmed_tokens)\n",
        "  return stemmed_text\n",
        "\n",
        "def lemmatize_text(text):\n",
        "  \"\"\"\n",
        "  Lemmatizes text using the WordNetLemmatizer class from the nltk.stem module.\n",
        "\n",
        "  'text': This argument strictly needs to be of type \"string\"\n",
        "  \"\"\"\n",
        "  tokens = tokenize(text, how = 'word')\n",
        "  lemmatizer = WordNetLemmatizer()\n",
        "\n",
        "  lemmatized_tokens = []\n",
        "  for word in tokens:\n",
        "    lemmatized_tokens.append(lemmatizer.lemmatize(word))\n",
        "  \n",
        "  lemmatized_text = ''.join(lemmatized_tokens)\n",
        "  \n",
        "  return lemmatized_text\n",
        "\n",
        "def normalize_text(text):\n",
        "  \"\"\"\n",
        "  This function acts like a pipeline for the function defined above, for the\n",
        "  purpose of normalizing the text\n",
        "\n",
        "  'text': This argument strictly needs to be of type \"string\"\n",
        "  \"\"\"\n",
        "  normalized_text = change_case(text, case_ = 'lower')\n",
        "  normalized_text = remove_punct(normalized_text)\n",
        "  # normalized_text = remove_stopwords(normalized_text)\n",
        "  normalized_text = lemmatize_text(normalized_text)\n",
        "\n",
        "  return normalized_text"
      ],
      "metadata": {
        "id": "VXpHTpY_fj8I"
      },
      "execution_count": 76,
      "outputs": []
    },
    {
      "cell_type": "code",
      "source": [
        "sample_text = \"\"\" The quick brown fox jumps over the lazy dog. The dog is not actually lazy, \n",
        "                  but rather quite active. He loves to run and play all day long, chasing after squirrels \n",
        "                  and rabbits in the park. Unfortunately, he sometimes gets into fights with other dogs, \n",
        "                  which can be quite dangerous. As his owner, it's my job to make sure he stays safe and healthy, \n",
        "                  both physically and emotionally.\n",
        "              \"\"\"\n",
        "\n",
        "print('# of Words:', number_of_words(sample_text), '\\n')\n",
        "print('# of Characters:', number_of_characters(sample_text), '\\n')\n",
        "print('Avg. word length:', average_word_length(sample_text), '\\n')"
      ],
      "metadata": {
        "colab": {
          "base_uri": "https://localhost:8080/"
        },
        "id": "jViyWkF6cFy8",
        "outputId": "f4a72c53-3fa1-480e-887f-8078bda2ab5c"
      },
      "execution_count": 77,
      "outputs": [
        {
          "output_type": "stream",
          "name": "stdout",
          "text": [
            "# of Words: 68 \n",
            "\n",
            "# of Characters: 470 \n",
            "\n",
            "Avg. word length: 4 \n",
            "\n"
          ]
        }
      ]
    },
    {
      "cell_type": "code",
      "source": [
        "print('Normalized text:', normalize_text(sample_text), '\\n')"
      ],
      "metadata": {
        "colab": {
          "base_uri": "https://localhost:8080/"
        },
        "id": "7AR26DwvnPLS",
        "outputId": "176b4f68-2230-4520-b6a0-620effa902b9"
      },
      "execution_count": 78,
      "outputs": [
        {
          "output_type": "stream",
          "name": "stdout",
          "text": [
            "Normalized text: the quick brown fox jump over the lazy dog the dog is not actually lazy but rather quite active he love to run and play all day long chasing after squirrel and rabbit in the park unfortunately he sometimes get into fight with other dog which can be quite dangerous a his owner it s my job to make sure he stay safe and healthy both physically and emotionally \n",
            "\n"
          ]
        }
      ]
    },
    {
      "cell_type": "markdown",
      "source": [
        "### Predicting the next word in a sentence using the N-grams model"
      ],
      "metadata": {
        "id": "6sCwc9RgVlIz"
      }
    },
    {
      "cell_type": "code",
      "source": [
        "def n_gram_model(text):\n",
        "  trigrams = list(nltk.ngrams(list(text.split()), 3, pad_left=True, pad_right=True, left_pad_symbol='<s>', right_pad_symbol='</s>'))\n",
        "\n",
        "  # make conditional frequencies dictionary  \n",
        "  cfdist = ConditionalFreqDist()\n",
        "  for w1, w2, w3 in trigrams:\n",
        "    cfdist[(w1, w2)][w3] += 1\n",
        "\n",
        "  # transform frequencies to probabilities\n",
        "  for w1_w2 in cfdist:\n",
        "    total_count = float(sum(cfdist[w1_w2].values()))\n",
        "    for w3 in cfdist[w1_w2]:\n",
        "      cfdist[w1_w2][w3] /= total_count\n",
        "\n",
        "  return cfdist\n",
        "\n",
        "def predict(model, user_input):\n",
        "  user_input = normalize_text(user_input)\n",
        "  user_input = user_input.split()\n",
        "\n",
        "  w1 = len(user_input) - 2\n",
        "  w2 = len(user_input)\n",
        "  prev_words = user_input[w1:w2]\n",
        "\n",
        "  # display prediction from highest to lowest maximum likelihood\n",
        "  prediction = sorted(dict(model[prev_words[0], prev_words[1]]), key=lambda x: dict(model[prev_words[0], prev_words[1]])[x], reverse=True)\n",
        "  print(\"Trigram model predictions: \", prediction)\n",
        "\n",
        "  word = []\n",
        "  weight = []\n",
        "  for key, prob in dict(model[prev_words[0], prev_words[1]]).items():\n",
        "    word.append(key)\n",
        "    weight.append(prob)\n",
        "\n",
        "  # pick from a weighted random probability of predictions\n",
        "  next_word = random.choices(word, weights=weight, k=1)\n",
        "  \n",
        "  # add predicted word to user input\n",
        "  user_input.append(next_word[0])\n",
        "  print(' '.join(user_input))\n",
        "\n",
        "  ask = input(\"Do you want to generate another word? (type 'y' for yes or 'n' for no): \")\n",
        "  if ask.lower() == 'y':\n",
        "        predict(model, str(user_input))\n",
        "  elif ask.lower() == 'n':\n",
        "        print(\"done\")"
      ],
      "metadata": {
        "id": "A59jjDUJlDho"
      },
      "execution_count": 79,
      "outputs": []
    },
    {
      "cell_type": "code",
      "source": [
        "normalized_text = normalize_text(sample_text)\n",
        "model = n_gram_model(normalized_text)\n",
        "predict(model, \"quick brown fox\")"
      ],
      "metadata": {
        "colab": {
          "base_uri": "https://localhost:8080/"
        },
        "id": "raav5TP7rGaG",
        "outputId": "1efb7e4d-a55b-4653-aae0-6e1eccdd7f42"
      },
      "execution_count": 80,
      "outputs": [
        {
          "output_type": "stream",
          "name": "stdout",
          "text": [
            "Trigram model predictions:  ['jump']\n",
            "quick brown fox jump\n",
            "Do you want to generate another word? (type 'y' for yes or 'n' for no): y\n",
            "Trigram model predictions:  ['over']\n",
            "quick brown fox jump over\n",
            "Do you want to generate another word? (type 'y' for yes or 'n' for no): y\n",
            "Trigram model predictions:  ['the']\n",
            "quick brown fox jump over the\n",
            "Do you want to generate another word? (type 'y' for yes or 'n' for no): n\n",
            "done\n"
          ]
        }
      ]
    },
    {
      "cell_type": "code",
      "source": [
        "# using the New York Times data\n",
        "text = nytimes_df.loc[0, 'text']\n",
        "print(text, '\\n')"
      ],
      "metadata": {
        "colab": {
          "base_uri": "https://localhost:8080/"
        },
        "id": "P32TzEU0uAb9",
        "outputId": "c46c5b1b-bac4-4851-85a5-d214c34c2468"
      },
      "execution_count": 81,
      "outputs": [
        {
          "output_type": "stream",
          "name": "stdout",
          "text": [
            "CHASIV YAR, Ukraine — Lined up in the dark in civilian vehicles, lights dimmed, a company of soldiers waited silently at the side of a road. Farther behind, a second company was parked, an occasional light inside a car revealing the face of a soldier. Still farther back, a third company was moving into place.\n",
            "\n",
            "After months of epic struggle, the fight over the Ukrainian city of Bakhmut had seemed in recent days to be reaching a climax, with Russian forces close to encircling the city and some Ukrainian units pulling out.\n",
            "\n",
            "Then, early Saturday, Ukrainian assault brigades went on the attack. Over the weekend, hundreds of troops joined the counteroffensive, mounting assaults from the ground and pounding Russian positions with artillery from the surrounding hills.\n",
            "\n",
            "Ukrainian commanders acknowledged that their forces in Bakhmut still faced the risk of encirclement, but the fighting over the weekend showed that a military that has surprised the world with its doggedness was not yet ready to give up on Bakhmut. How holding the city might fit in with its broader plans was less clear. \n",
            "\n"
          ]
        }
      ]
    },
    {
      "cell_type": "code",
      "source": [
        "normalized_text = normalize_text(text)\n",
        "model = n_gram_model(normalized_text)\n",
        "predict(model, \"with Russian forces\")"
      ],
      "metadata": {
        "colab": {
          "base_uri": "https://localhost:8080/"
        },
        "id": "KtPx8KpIub_Q",
        "outputId": "c9a8b0d4-8da5-48b4-f322-8b21038ce64a"
      },
      "execution_count": 83,
      "outputs": [
        {
          "output_type": "stream",
          "name": "stdout",
          "text": [
            "Trigram model predictions:  ['close']\n",
            "with russian force close\n",
            "Do you want to generate another word? (type 'y' for yes or 'n' for no): y\n",
            "Trigram model predictions:  ['to']\n",
            "with russian force close to\n",
            "Do you want to generate another word? (type 'y' for yes or 'n' for no): y\n",
            "Trigram model predictions:  ['encircling']\n",
            "with russian force close to encircling\n",
            "Do you want to generate another word? (type 'y' for yes or 'n' for no): y\n",
            "Trigram model predictions:  ['the']\n",
            "with russian force close to encircling the\n",
            "Do you want to generate another word? (type 'y' for yes or 'n' for no): n\n",
            "done\n"
          ]
        }
      ]
    },
    {
      "cell_type": "markdown",
      "source": [
        "### \"Bag of Words\" Document Representation using Term Frequency (TF)"
      ],
      "metadata": {
        "id": "fQCBzIbItmsi"
      }
    },
    {
      "cell_type": "markdown",
      "source": [
        "Bag of Words is a document representation technique used in natural language processing to convert a text document into a numerical vector that can be used for various machine learning tasks. In this technique, the text of a document is first preprocessed by tokenizing the words and removing any stop words and punctuation marks. The resulting set of words is then used to create a vocabulary, where each word is represented by a unique index.\n",
        "\n",
        "The Bag of Words model can then be represented using two methods: Term Frequency (TF) and Term Frequency-Inverse Document Frequency (TF-IDF).\n",
        "\n",
        "In the TF method, each document is represented by a vector where each entry corresponds to the frequency of the corresponding word in the document. For example, consider the following two sentences:\n",
        "\n",
        "The quick brown fox jumps over the lazy dog.\n",
        "\n",
        "The lazy dog sleeps all day.\n",
        "\n",
        "The corresponding Bag of Words representation using the TF method would be:\n",
        "\n",
        "```\n",
        "            quick brown fox  jumps over the   lazy  dog   sleeps all   day\n",
        "Sentence 1: 0.11  0.11  0.11 0.11  0.11 0.22  0.11  0.11  0      0     0  \n",
        "Sentence 2: 0     0     0    0     0    0.167 0.167 0.167 0.167  0.167 0.167  \n",
        "```\n",
        "The entry in each vector corresponds to the frequency of the corresponding word in the document. For example, the first sentence has a 1 in the \"quick\" column because the word \"quick\" appears once in the sentence.\n",
        "\n",
        "Sci-Kit Learn's TfidfVectorizer Class implements the above explained 'Bag of Words' representation, the only modification that needs to be made is setting the boolean arguement `use_idf` to **False**, which caan be seen below"
      ],
      "metadata": {
        "id": "Np03ghoHJwYG"
      }
    },
    {
      "cell_type": "code",
      "source": [
        "from sklearn.feature_extraction.text import TfidfVectorizer\n",
        "\n",
        "# Create a list of all articles\n",
        "texts = [article for article in nytimes_df['text'].to_list()]\n",
        "\n",
        "# Create an instance of the TfidfVectorizer class\n",
        "vectorizer = TfidfVectorizer(use_idf = False)\n",
        "\n",
        "# Fit the vectorizer on the documents\n",
        "vectorizer.fit(texts)\n",
        "\n",
        "# Transform the articles into a TF-IDF matrix\n",
        "tf_matrix = vectorizer.transform(texts)\n",
        "tf_matrix = tf_matrix.toarray()\n",
        "\n",
        "print(tf_matrix)"
      ],
      "metadata": {
        "colab": {
          "base_uri": "https://localhost:8080/"
        },
        "id": "8K0KgsHctJV6",
        "outputId": "ec6991d1-dc65-4ca5-b0d7-5198f5c1bb71"
      },
      "execution_count": 96,
      "outputs": [
        {
          "output_type": "stream",
          "name": "stdout",
          "text": [
            "[[0.         0.         0.         ... 0.         0.         0.        ]\n",
            " [0.         0.         0.         ... 0.04649626 0.         0.        ]\n",
            " [0.         0.         0.         ... 0.         0.         0.        ]\n",
            " ...\n",
            " [0.         0.04822428 0.         ... 0.         0.         0.        ]\n",
            " [0.         0.         0.         ... 0.         0.         0.        ]\n",
            " [0.         0.         0.         ... 0.05735393 0.         0.        ]]\n"
          ]
        }
      ]
    },
    {
      "cell_type": "code",
      "source": [
        "tf_matrix.shape"
      ],
      "metadata": {
        "colab": {
          "base_uri": "https://localhost:8080/"
        },
        "id": "8vyY2WqDNDs8",
        "outputId": "82384d65-79ce-41d7-a3ff-d54cc3706a05"
      },
      "execution_count": 100,
      "outputs": [
        {
          "output_type": "execute_result",
          "data": {
            "text/plain": [
              "(62, 3674)"
            ]
          },
          "metadata": {},
          "execution_count": 100
        }
      ]
    },
    {
      "cell_type": "markdown",
      "source": [
        "This matrix is the **term frequency 'bag of words' representation** of the new york times articles, the shape of this matrix is (62, 3674) which means the total number of unique words (vocabulary) in our collections of article texts (corpus) are 3674, with 62 different articles. Let's add a column `bow_tf` to our new york times dataframe, which has the term frequency bag of words representation of the corresponding article,"
      ],
      "metadata": {
        "id": "EYP00bENMus8"
      }
    },
    {
      "cell_type": "code",
      "source": [
        "nytimes_df['bow_tf'] = pd.Series(list(tf_matrix))"
      ],
      "metadata": {
        "id": "Z1GcPt0hFxvM"
      },
      "execution_count": 97,
      "outputs": []
    },
    {
      "cell_type": "markdown",
      "source": [
        "### \"Bag of Words\" Document Representation using Term Frequency and Inverse Document Frequency (TF_IDF)"
      ],
      "metadata": {
        "id": "kykQJTy4IfLL"
      }
    },
    {
      "cell_type": "markdown",
      "source": [
        "In the TF-IDF method, each entry in the vector is the product of the term frequency and inverse document frequency of the corresponding word. This method gives more weight to words that are rare in the corpus and less weight to words that are common. The formula for calculating the TF-IDF weight of a word is:\n",
        "```\n",
        "TF-IDF(w, d) = TF(w, d) * IDF(w)\n",
        "```\n",
        "where TF(w, d) is the term frequency of word w in document d and IDF(w) is the inverse document frequency of word w across all documents in the corpus.\n",
        "\n",
        "Continuing with the same example, \n",
        "\n",
        "The quick brown fox jumps over the lazy dog.\n",
        "\n",
        "The lazy dog sleeps all day.\n",
        "\n",
        "the corresponding Bag of Words representation using the TF-IDF method would be:\n",
        "```\n",
        "            quick brown fox jumps over the   lazy  dog   sleeps all day\n",
        "Sentence 1: 0     0     0   0     0    0.089 0.045 0.045 0      0   0   \n",
        "Sentence 2: 0     0     0   0     0    0.067 0.067 0.067 0      0   0 \n",
        "```\n",
        "The entry in each vector corresponds to the TF-IDF weight of the corresponding word in the document. For example, the first sentence has a TF-IDF weight of 0.045 in the \"dog\" column because the word \"dog\" appears once in the sentence and has a relatively low IDF value."
      ],
      "metadata": {
        "id": "U707eqh4N4UD"
      }
    },
    {
      "cell_type": "code",
      "source": [
        "from sklearn.feature_extraction.text import TfidfVectorizer\n",
        "\n",
        "# Create a list of all articles\n",
        "texts = [article for article in nytimes_df['text'].to_list()]\n",
        "\n",
        "# Create an instance of the TfidfVectorizer class\n",
        "vectorizer = TfidfVectorizer(use_idf = True)\n",
        "\n",
        "# Fit the vectorizer on the documents\n",
        "vectorizer.fit(texts)\n",
        "\n",
        "# Transform the articles into a TF-IDF matrix\n",
        "tfidf_matrix = vectorizer.transform(texts)\n",
        "tfidf_matrix = tfidf_matrix.toarray()\n",
        "\n",
        "print(tfidf_matrix)"
      ],
      "metadata": {
        "colab": {
          "base_uri": "https://localhost:8080/"
        },
        "id": "w6dJjHpuHYEN",
        "outputId": "4b8332e9-a4cd-4926-ea41-66b7c62b3cb9"
      },
      "execution_count": 98,
      "outputs": [
        {
          "output_type": "stream",
          "name": "stdout",
          "text": [
            "[[0.         0.         0.         ... 0.         0.         0.        ]\n",
            " [0.         0.         0.         ... 0.09319666 0.         0.        ]\n",
            " [0.         0.         0.         ... 0.         0.         0.        ]\n",
            " ...\n",
            " [0.         0.09181915 0.         ... 0.         0.         0.        ]\n",
            " [0.         0.         0.         ... 0.         0.         0.        ]\n",
            " [0.         0.         0.         ... 0.08804082 0.         0.        ]]\n"
          ]
        }
      ]
    },
    {
      "cell_type": "markdown",
      "source": [
        "The column `bow-tfidf' is added to the new york times dataframe to show the **term frequency - inverse document frequency 'bag of words' representation** of the corresponding articles"
      ],
      "metadata": {
        "id": "SzJiwuECRn6f"
      }
    },
    {
      "cell_type": "code",
      "source": [
        "nytimes_df['bow_tfidf'] = pd.Series(list(tfidf_matrix))"
      ],
      "metadata": {
        "id": "JhOFVMSxIB1U"
      },
      "execution_count": 99,
      "outputs": []
    },
    {
      "cell_type": "markdown",
      "source": [
        "In summary, the Bag of Words model with the TF and TF-IDF methods represents a document as a numerical vector where each entry corresponds to the frequency or importance of the corresponding word in the document. These representations can then be used in various machine learning tasks such as classification, clustering, and information retrieval."
      ],
      "metadata": {
        "id": "p0kt9L5kRjR9"
      }
    },
    {
      "cell_type": "markdown",
      "source": [
        "## Word Embeddings\n",
        "\n",
        "Word embeddings are a type of vector representation used in natural language processing to capture the meaning of words in a way that can be easily processed by machine learning algorithms. Unlike Bag of Words representations, word embeddings are able to capture the semantic relationships between words and can represent the meaning of a word based on its context.\n",
        "\n",
        "Word embeddings are typically created using a technique called word2vec, which is a neural network-based approach. The basic idea behind word2vec is to train a neural network to predict the context of a word given its surrounding words. The context of a word refers to the words that appear in its vicinity, such as the words that come before and after it in a sentence or paragraph.\n",
        "\n",
        "The word2vec model consists of a shallow neural network with one input layer, one hidden layer, and one output layer. The input layer corresponds to the words in the vocabulary, and each word is represented by an embedding vector whose dimension can be a user-defined parameter. The output layer consists of a set of softmax nodes, each representing a word in the vocabulary. The objective of the network is to predict the probability distribution of the words in the vocabulary given the input word.\n",
        "\n",
        "During training, the network is fed with pairs of words and their context words, and the objective is to minimize the cross-entropy loss between the predicted probability distribution and the actual context words. The weights of the hidden layer are then used as the word embeddings for the corresponding words in the vocabulary.\n",
        "\n",
        "The resulting word embeddings are typically dense vectors of fixed dimensionality, where each element represents a latent feature or aspect of the corresponding word. These vectors can be used as input to various machine learning algorithms for various NLP tasks such as sentiment analysis, named entity recognition, and machine translation.\n",
        "\n",
        "For the purpose of this presentation, instead of writing the whole neural metwork model for implementing word2vec, we are using the `gensim.sklearn_api` module's `W2VTransformer` class, as shown below,"
      ],
      "metadata": {
        "id": "Mk061GaTTBlY"
      }
    },
    {
      "cell_type": "code",
      "source": [
        "from gensim.sklearn_api import W2VTransformer\n",
        "\n",
        "# creating a model to represent each word by a 10 dimensional embedding vector\n",
        "word2vec = W2VTransformer(size=10, min_count=1, seed=1)\n",
        "\n",
        "# transforming the collections of articel text to be compatible feeding into the model\n",
        "corpus = []\n",
        "for text in nytimes_df['text'].to_list():\n",
        "  corpus.append(list(text.split()))\n",
        "\n",
        "word2vec.fit(corpus)"
      ],
      "metadata": {
        "id": "dfWXQhmWRl_1"
      },
      "execution_count": null,
      "outputs": []
    },
    {
      "cell_type": "code",
      "source": [
        "## word embedding for the word \"country\"\n",
        "country_vec = word2vec.transform(\"country\")\n",
        "print(country_vec, '\\n', country_vec.shape)"
      ],
      "metadata": {
        "colab": {
          "base_uri": "https://localhost:8080/"
        },
        "id": "8g-7oHa8Zy9D",
        "outputId": "8192f519-4b7c-4edb-915a-381aff33b99b"
      },
      "execution_count": 112,
      "outputs": [
        {
          "output_type": "stream",
          "name": "stdout",
          "text": [
            "[[-0.02184694  0.03425032 -0.03293595 -0.08557533  0.00280237  0.0948814\n",
            "   0.06911288  0.0607648   0.0174236   0.02138556]] \n",
            " (1, 10)\n"
          ]
        }
      ]
    },
    {
      "cell_type": "markdown",
      "source": [
        "Since we initialized the model with size = 10, word embedding or word vector for every word will be of dimension 10"
      ],
      "metadata": {
        "id": "Z4bcbnTVb4nL"
      }
    },
    {
      "cell_type": "code",
      "source": [
        "## word embedding for the word \"company\"\n",
        "country_vec = word2vec.transform(\"company\")\n",
        "print(country_vec, '\\n', country_vec.shape)"
      ],
      "metadata": {
        "colab": {
          "base_uri": "https://localhost:8080/"
        },
        "id": "TrECW5gdbKii",
        "outputId": "34e9862a-85f4-49ab-f6c0-49900a0f4862"
      },
      "execution_count": 114,
      "outputs": [
        {
          "output_type": "stream",
          "name": "stdout",
          "text": [
            "[[-0.0598026   0.02213237  0.00524647 -0.07460058 -0.01489155  0.06536892\n",
            "   0.07121351  0.01691799  0.00978078  0.02069317]] \n",
            " (1, 10)\n"
          ]
        }
      ]
    }
  ]
}