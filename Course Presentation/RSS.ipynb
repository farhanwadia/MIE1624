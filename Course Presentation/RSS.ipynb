{
  "nbformat": 4,
  "nbformat_minor": 0,
  "metadata": {
    "colab": {
      "provenance": []
    },
    "kernelspec": {
      "name": "python3",
      "display_name": "Python 3"
    },
    "language_info": {
      "name": "python"
    }
  },
  "cells": [
    {
      "cell_type": "code",
      "execution_count": null,
      "metadata": {
        "colab": {
          "base_uri": "https://localhost:8080/"
        },
        "id": "vPbf5VVhlJI1",
        "outputId": "624af592-6a0d-4842-a5fd-28bb4907ef88"
      },
      "outputs": [
        {
          "output_type": "stream",
          "name": "stdout",
          "text": [
            "Cloning into 'MIE1624'...\n",
            "remote: Enumerating objects: 21, done.\u001b[K\n",
            "remote: Counting objects: 100% (21/21), done.\u001b[K\n",
            "remote: Compressing objects: 100% (18/18), done.\u001b[K\n",
            "remote: Total 21 (delta 4), reused 7 (delta 1), pack-reused 0\u001b[K\n",
            "Unpacking objects: 100% (21/21), 91.54 KiB | 2.69 MiB/s, done.\n"
          ]
        }
      ],
      "source": [
        "# !git clone https://github.com/farhanwadia/MIE1624.git"
      ]
    },
    {
      "cell_type": "code",
      "source": [
        "# %cd MIE1624\n",
        "# %cd 'Course Presentation'"
      ],
      "metadata": {
        "colab": {
          "base_uri": "https://localhost:8080/"
        },
        "id": "8fU-LFYgqYmj",
        "outputId": "865eea7b-d953-449c-daf2-73147c774e82"
      },
      "execution_count": null,
      "outputs": [
        {
          "output_type": "stream",
          "name": "stdout",
          "text": [
            "/content/MIE1624\n",
            "/content/MIE1624/Course Presentation\n"
          ]
        }
      ]
    },
    {
      "cell_type": "code",
      "source": [
        "# !ls"
      ],
      "metadata": {
        "colab": {
          "base_uri": "https://localhost:8080/"
        },
        "id": "QCVxisDlnBNU",
        "outputId": "9d5772ec-171c-456f-b8bc-0a4b740c78ce"
      },
      "execution_count": null,
      "outputs": [
        {
          "output_type": "stream",
          "name": "stdout",
          "text": [
            "'In-class presentation assignment - Group 14.pdf'   RSS.ipynb\n"
          ]
        }
      ]
    },
    {
      "cell_type": "code",
      "source": [
        "!pip install feedparser"
      ],
      "metadata": {
        "colab": {
          "base_uri": "https://localhost:8080/"
        },
        "id": "PkXjAYSzocN8",
        "outputId": "cd7caa03-586d-4b3a-9a69-1334a7028bf9"
      },
      "execution_count": null,
      "outputs": [
        {
          "output_type": "stream",
          "name": "stdout",
          "text": [
            "Looking in indexes: https://pypi.org/simple, https://us-python.pkg.dev/colab-wheels/public/simple/\n",
            "Collecting feedparser\n",
            "  Downloading feedparser-6.0.10-py3-none-any.whl (81 kB)\n",
            "\u001b[2K     \u001b[90m━━━━━━━━━━━━━━━━━━━━━━━━━━━━━━━━━━━━━━━━\u001b[0m \u001b[32m81.1/81.1 KB\u001b[0m \u001b[31m2.3 MB/s\u001b[0m eta \u001b[36m0:00:00\u001b[0m\n",
            "\u001b[?25hCollecting sgmllib3k\n",
            "  Downloading sgmllib3k-1.0.0.tar.gz (5.8 kB)\n",
            "  Preparing metadata (setup.py) ... \u001b[?25l\u001b[?25hdone\n",
            "Building wheels for collected packages: sgmllib3k\n",
            "  Building wheel for sgmllib3k (setup.py) ... \u001b[?25l\u001b[?25hdone\n",
            "  Created wheel for sgmllib3k: filename=sgmllib3k-1.0.0-py3-none-any.whl size=6066 sha256=d0d224814116b970d4ac08cad3be742ae0dee6421711ad7144c2c31bd3d0fa81\n",
            "  Stored in directory: /root/.cache/pip/wheels/83/63/2f/117884c3b19d46b64d3d61690333aa80c88dc14050e269c546\n",
            "Successfully built sgmllib3k\n",
            "Installing collected packages: sgmllib3k, feedparser\n",
            "Successfully installed feedparser-6.0.10 sgmllib3k-1.0.0\n"
          ]
        }
      ]
    },
    {
      "cell_type": "markdown",
      "source": [
        "A list of all RSS feeds from the New York Times can be accessed at https://www.nytimes.com/rss.\n",
        "\n",
        "Let's use the World feed from https://rss.nytimes.com/services/xml/rss/nyt/World.xml as an example:"
      ],
      "metadata": {
        "id": "JpFeGBqBn0eq"
      }
    },
    {
      "cell_type": "code",
      "source": [
        "import feedparser\n",
        "\n",
        "d = feedparser.parse('https://rss.nytimes.com/services/xml/rss/nyt/World.xml')"
      ],
      "metadata": {
        "id": "ghRi7Db3obkC"
      },
      "execution_count": null,
      "outputs": []
    },
    {
      "cell_type": "code",
      "source": [
        "# Get a list of all possible fields from the RSS\n",
        "all_fields = []\n",
        "for field in d.entries[0]:\n",
        "    all_fields.append(field)\n",
        "\n",
        "print(all_fields)"
      ],
      "metadata": {
        "id": "u8cuEPVdABx9",
        "outputId": "c4042639-ab10-4d8d-d082-69a2f633bcfd",
        "colab": {
          "base_uri": "https://localhost:8080/"
        }
      },
      "execution_count": null,
      "outputs": [
        {
          "output_type": "stream",
          "name": "stdout",
          "text": [
            "['title', 'title_detail', 'links', 'link', 'id', 'guidislink', 'summary', 'summary_detail', 'authors', 'author', 'author_detail', 'published', 'published_parsed', 'media_content', 'media_credit', 'credit']\n"
          ]
        }
      ]
    },
    {
      "cell_type": "code",
      "source": [
        "# Define the fields of interest that we want to obtain from the RSS\n",
        "fields = ['title', 'published', 'summary', 'author', 'link']"
      ],
      "metadata": {
        "id": "M4EwL-JFBahF"
      },
      "execution_count": null,
      "outputs": []
    },
    {
      "cell_type": "code",
      "source": [
        "import pandas as pd\n",
        "\n",
        "# Create a list of lists to hold the required RSS data from each entry\n",
        "data = []\n",
        "for i, entry in enumerate(d.entries):\n",
        "    row = []\n",
        "    for field in fields:\n",
        "        row.append(d.entries[i][field])\n",
        "    data.append(row)\n",
        "\n",
        "# Convert the list of lists to a df\n",
        "df = pd.DataFrame(data, columns = fields)"
      ],
      "metadata": {
        "id": "TEM6wHwXCKeO"
      },
      "execution_count": null,
      "outputs": []
    },
    {
      "cell_type": "code",
      "source": [
        "df.head()"
      ],
      "metadata": {
        "id": "D8yamIhIC2M2",
        "outputId": "d05c20a7-b68c-4cc5-cf0d-0040a092ffa5",
        "colab": {
          "base_uri": "https://localhost:8080/",
          "height": 333
        }
      },
      "execution_count": null,
      "outputs": [
        {
          "output_type": "execute_result",
          "data": {
            "text/plain": [
              "                                               title  \\\n",
              "0  Live Updates: Top U.S. and Russian Diplomats M...   \n",
              "1  A Ukrainian Mayor Disappeared, but Questions o...   \n",
              "2  Anger Grows in Greece After Train Crash Kills ...   \n",
              "3   Canadians Fume as Migrants Surge at Their Border   \n",
              "4  As France Faces Backlash in Africa, Macron Tri...   \n",
              "\n",
              "                         published  \\\n",
              "0  Thu, 02 Mar 2023 17:31:51 +0000   \n",
              "1  Thu, 02 Mar 2023 11:55:50 +0000   \n",
              "2  Thu, 02 Mar 2023 17:22:08 +0000   \n",
              "3  Thu, 02 Mar 2023 12:20:27 +0000   \n",
              "4  Thu, 02 Mar 2023 15:31:22 +0000   \n",
              "\n",
              "                                             summary  \\\n",
              "0  The American secretary of state and the Russia...   \n",
              "1  Traitor or hero? A decision by the former mayo...   \n",
              "2  As the death toll rose to 57, protesters clash...   \n",
              "3  A surge in illegal crossings from the United S...   \n",
              "4  President Emmanuel Macron has embarked on a fo...   \n",
              "\n",
              "                                           author  \\\n",
              "0                              The New York Times   \n",
              "1              Michael Schwirtz and Ivor Prickett   \n",
              "2  Emma Bubola, Iliana Magra and Niki Kitsantonis   \n",
              "3                                Norimitsu Onishi   \n",
              "4                                     Roger Cohen   \n",
              "\n",
              "                                                link  \n",
              "0  https://www.nytimes.com/live/2023/03/02/world/...  \n",
              "1  https://www.nytimes.com/2023/03/02/world/europ...  \n",
              "2  https://www.nytimes.com/2023/03/02/world/europ...  \n",
              "3  https://www.nytimes.com/2023/03/02/world/canad...  \n",
              "4  https://www.nytimes.com/2023/03/02/world/afric...  "
            ],
            "text/html": [
              "\n",
              "  <div id=\"df-d55a4b40-c678-427e-a6ed-e517985cd75d\">\n",
              "    <div class=\"colab-df-container\">\n",
              "      <div>\n",
              "<style scoped>\n",
              "    .dataframe tbody tr th:only-of-type {\n",
              "        vertical-align: middle;\n",
              "    }\n",
              "\n",
              "    .dataframe tbody tr th {\n",
              "        vertical-align: top;\n",
              "    }\n",
              "\n",
              "    .dataframe thead th {\n",
              "        text-align: right;\n",
              "    }\n",
              "</style>\n",
              "<table border=\"1\" class=\"dataframe\">\n",
              "  <thead>\n",
              "    <tr style=\"text-align: right;\">\n",
              "      <th></th>\n",
              "      <th>title</th>\n",
              "      <th>published</th>\n",
              "      <th>summary</th>\n",
              "      <th>author</th>\n",
              "      <th>link</th>\n",
              "    </tr>\n",
              "  </thead>\n",
              "  <tbody>\n",
              "    <tr>\n",
              "      <th>0</th>\n",
              "      <td>Live Updates: Top U.S. and Russian Diplomats M...</td>\n",
              "      <td>Thu, 02 Mar 2023 17:31:51 +0000</td>\n",
              "      <td>The American secretary of state and the Russia...</td>\n",
              "      <td>The New York Times</td>\n",
              "      <td>https://www.nytimes.com/live/2023/03/02/world/...</td>\n",
              "    </tr>\n",
              "    <tr>\n",
              "      <th>1</th>\n",
              "      <td>A Ukrainian Mayor Disappeared, but Questions o...</td>\n",
              "      <td>Thu, 02 Mar 2023 11:55:50 +0000</td>\n",
              "      <td>Traitor or hero? A decision by the former mayo...</td>\n",
              "      <td>Michael Schwirtz and Ivor Prickett</td>\n",
              "      <td>https://www.nytimes.com/2023/03/02/world/europ...</td>\n",
              "    </tr>\n",
              "    <tr>\n",
              "      <th>2</th>\n",
              "      <td>Anger Grows in Greece After Train Crash Kills ...</td>\n",
              "      <td>Thu, 02 Mar 2023 17:22:08 +0000</td>\n",
              "      <td>As the death toll rose to 57, protesters clash...</td>\n",
              "      <td>Emma Bubola, Iliana Magra and Niki Kitsantonis</td>\n",
              "      <td>https://www.nytimes.com/2023/03/02/world/europ...</td>\n",
              "    </tr>\n",
              "    <tr>\n",
              "      <th>3</th>\n",
              "      <td>Canadians Fume as Migrants Surge at Their Border</td>\n",
              "      <td>Thu, 02 Mar 2023 12:20:27 +0000</td>\n",
              "      <td>A surge in illegal crossings from the United S...</td>\n",
              "      <td>Norimitsu Onishi</td>\n",
              "      <td>https://www.nytimes.com/2023/03/02/world/canad...</td>\n",
              "    </tr>\n",
              "    <tr>\n",
              "      <th>4</th>\n",
              "      <td>As France Faces Backlash in Africa, Macron Tri...</td>\n",
              "      <td>Thu, 02 Mar 2023 15:31:22 +0000</td>\n",
              "      <td>President Emmanuel Macron has embarked on a fo...</td>\n",
              "      <td>Roger Cohen</td>\n",
              "      <td>https://www.nytimes.com/2023/03/02/world/afric...</td>\n",
              "    </tr>\n",
              "  </tbody>\n",
              "</table>\n",
              "</div>\n",
              "      <button class=\"colab-df-convert\" onclick=\"convertToInteractive('df-d55a4b40-c678-427e-a6ed-e517985cd75d')\"\n",
              "              title=\"Convert this dataframe to an interactive table.\"\n",
              "              style=\"display:none;\">\n",
              "        \n",
              "  <svg xmlns=\"http://www.w3.org/2000/svg\" height=\"24px\"viewBox=\"0 0 24 24\"\n",
              "       width=\"24px\">\n",
              "    <path d=\"M0 0h24v24H0V0z\" fill=\"none\"/>\n",
              "    <path d=\"M18.56 5.44l.94 2.06.94-2.06 2.06-.94-2.06-.94-.94-2.06-.94 2.06-2.06.94zm-11 1L8.5 8.5l.94-2.06 2.06-.94-2.06-.94L8.5 2.5l-.94 2.06-2.06.94zm10 10l.94 2.06.94-2.06 2.06-.94-2.06-.94-.94-2.06-.94 2.06-2.06.94z\"/><path d=\"M17.41 7.96l-1.37-1.37c-.4-.4-.92-.59-1.43-.59-.52 0-1.04.2-1.43.59L10.3 9.45l-7.72 7.72c-.78.78-.78 2.05 0 2.83L4 21.41c.39.39.9.59 1.41.59.51 0 1.02-.2 1.41-.59l7.78-7.78 2.81-2.81c.8-.78.8-2.07 0-2.86zM5.41 20L4 18.59l7.72-7.72 1.47 1.35L5.41 20z\"/>\n",
              "  </svg>\n",
              "      </button>\n",
              "      \n",
              "  <style>\n",
              "    .colab-df-container {\n",
              "      display:flex;\n",
              "      flex-wrap:wrap;\n",
              "      gap: 12px;\n",
              "    }\n",
              "\n",
              "    .colab-df-convert {\n",
              "      background-color: #E8F0FE;\n",
              "      border: none;\n",
              "      border-radius: 50%;\n",
              "      cursor: pointer;\n",
              "      display: none;\n",
              "      fill: #1967D2;\n",
              "      height: 32px;\n",
              "      padding: 0 0 0 0;\n",
              "      width: 32px;\n",
              "    }\n",
              "\n",
              "    .colab-df-convert:hover {\n",
              "      background-color: #E2EBFA;\n",
              "      box-shadow: 0px 1px 2px rgba(60, 64, 67, 0.3), 0px 1px 3px 1px rgba(60, 64, 67, 0.15);\n",
              "      fill: #174EA6;\n",
              "    }\n",
              "\n",
              "    [theme=dark] .colab-df-convert {\n",
              "      background-color: #3B4455;\n",
              "      fill: #D2E3FC;\n",
              "    }\n",
              "\n",
              "    [theme=dark] .colab-df-convert:hover {\n",
              "      background-color: #434B5C;\n",
              "      box-shadow: 0px 1px 3px 1px rgba(0, 0, 0, 0.15);\n",
              "      filter: drop-shadow(0px 1px 2px rgba(0, 0, 0, 0.3));\n",
              "      fill: #FFFFFF;\n",
              "    }\n",
              "  </style>\n",
              "\n",
              "      <script>\n",
              "        const buttonEl =\n",
              "          document.querySelector('#df-d55a4b40-c678-427e-a6ed-e517985cd75d button.colab-df-convert');\n",
              "        buttonEl.style.display =\n",
              "          google.colab.kernel.accessAllowed ? 'block' : 'none';\n",
              "\n",
              "        async function convertToInteractive(key) {\n",
              "          const element = document.querySelector('#df-d55a4b40-c678-427e-a6ed-e517985cd75d');\n",
              "          const dataTable =\n",
              "            await google.colab.kernel.invokeFunction('convertToInteractive',\n",
              "                                                     [key], {});\n",
              "          if (!dataTable) return;\n",
              "\n",
              "          const docLinkHtml = 'Like what you see? Visit the ' +\n",
              "            '<a target=\"_blank\" href=https://colab.research.google.com/notebooks/data_table.ipynb>data table notebook</a>'\n",
              "            + ' to learn more about interactive tables.';\n",
              "          element.innerHTML = '';\n",
              "          dataTable['output_type'] = 'display_data';\n",
              "          await google.colab.output.renderOutput(dataTable, element);\n",
              "          const docLink = document.createElement('div');\n",
              "          docLink.innerHTML = docLinkHtml;\n",
              "          element.appendChild(docLink);\n",
              "        }\n",
              "      </script>\n",
              "    </div>\n",
              "  </div>\n",
              "  "
            ]
          },
          "metadata": {},
          "execution_count": 9
        }
      ]
    },
    {
      "cell_type": "code",
      "source": [
        "print(\"The shape of the dataframe is\", df.shape)"
      ],
      "metadata": {
        "id": "TarmjPabDaSO",
        "outputId": "113a9eae-1756-4a84-d6df-d51060f35d4b",
        "colab": {
          "base_uri": "https://localhost:8080/"
        }
      },
      "execution_count": null,
      "outputs": [
        {
          "output_type": "stream",
          "name": "stdout",
          "text": [
            "The shape of the dataframe is (59, 5)\n"
          ]
        }
      ]
    },
    {
      "cell_type": "code",
      "source": [
        "#To-do: obtain an API key from NYT to scrape the articles to get their fulltext"
      ],
      "metadata": {
        "id": "HEMOC-fAKx7o"
      },
      "execution_count": null,
      "outputs": []
    },
    {
      "cell_type": "code",
      "source": [
        "import requests\n",
        "from bs4 import BeautifulSoup\n",
        "\n",
        "links = df[\"link\"]\n",
        "\n",
        "URL = links[0]\n",
        "page = requests.get(URL)\n",
        "\n",
        "soup = BeautifulSoup(page.content, \"html.parser\")"
      ],
      "metadata": {
        "id": "nnsN-TG1EYin"
      },
      "execution_count": null,
      "outputs": []
    },
    {
      "cell_type": "code",
      "source": [
        "import requests\n",
        "from bs4 import BeautifulSoup\n",
        "\n",
        "# https://proxiesapi-com.medium.com/scraping-the-new-york-times-with-python-and-beautiful-soup-6e5f3bc58e39\n",
        "headers = {'User-Agent':'Mozilla/5.0 (Macintosh; Intel Mac OS X 10_11_2) AppleWebKit/601.3.9 (KHTML, like Gecko) Version/9.0.2 Safari/601.3.9'}\n",
        "URL = links[0]\n",
        "response = requests.get(URL, headers=headers)\n",
        "\n",
        "soup = BeautifulSoup(response.content, \"html.parser\")\n",
        "soup\n",
        "\n"
      ],
      "metadata": {
        "id": "qVPjQwJQGYVX",
        "outputId": "35a0f086-b8c9-44ff-da81-6aab5724e6a1",
        "colab": {
          "base_uri": "https://localhost:8080/"
        }
      },
      "execution_count": null,
      "outputs": [
        {
          "output_type": "execute_result",
          "data": {
            "text/plain": [
              "<html><head><title>nytimes.com</title><style>#cmsg{animation: A 1.5s;}@keyframes A{0%{opacity:0;}99%{opacity:0;}100%{opacity:1;}}</style></head><body style=\"margin:0\"><p id=\"cmsg\">Please enable JS and disable any ad blocker</p><script data-cfasync=\"false\">var dd={'rt':'c','cid':'AHrlqAAAAAMAQ2fiYQQ5e-0AIkn2OA==','hsh':'499AE34129FA4E4FABC31582C3075D','t':'fe','s':17439,'e':'21a5f1236abf529315e88fa86146e0937a3547cc8f28055d8318b5ce915e69f5','host':'geo.captcha-delivery.com'}</script><script data-cfasync=\"false\" src=\"https://ct.captcha-delivery.com/c.js\"></script></body></html>"
            ]
          },
          "metadata": {},
          "execution_count": 13
        }
      ]
    },
    {
      "cell_type": "code",
      "source": [
        "page.content"
      ],
      "metadata": {
        "id": "7_GnuDy6Enl8",
        "outputId": "e849254b-5583-44d3-8d2e-0245430a6ed4",
        "colab": {
          "base_uri": "https://localhost:8080/"
        }
      },
      "execution_count": null,
      "outputs": [
        {
          "output_type": "execute_result",
          "data": {
            "text/plain": [
              "b'<html><head><title>nytimes.com</title><style>#cmsg{animation: A 1.5s;}@keyframes A{0%{opacity:0;}99%{opacity:0;}100%{opacity:1;}}</style></head><body style=\"margin:0\"><p id=\"cmsg\">Please enable JS and disable any ad blocker</p><script data-cfasync=\"false\">var dd={\\'rt\\':\\'c\\',\\'cid\\':\\'AHrlqAAAAAMA2HIPuncDiQwAIkn2OA==\\',\\'hsh\\':\\'499AE34129FA4E4FABC31582C3075D\\',\\'t\\':\\'bv\\',\\'s\\':17439,\\'e\\':\\'72278b859eae44b7b69e189be47a29452c61a6e5a833090f6b7b4e5c08578d9a\\',\\'host\\':\\'geo.captcha-delivery.com\\'}</script><script data-cfasync=\"false\" src=\"https://ct.captcha-delivery.com/c.js\"></script></body></html>\\n'"
            ]
          },
          "metadata": {},
          "execution_count": 14
        }
      ]
    },
    {
      "cell_type": "code",
      "source": [
        "# Obtain fulltext for each article\n",
        "\n",
        "for link in links:\n",
        "    print(link)"
      ],
      "metadata": {
        "id": "k8b1-msTDrUM",
        "outputId": "e77be46a-2d1e-476a-a8fb-dfbbb7027753",
        "colab": {
          "base_uri": "https://localhost:8080/"
        }
      },
      "execution_count": null,
      "outputs": [
        {
          "output_type": "stream",
          "name": "stdout",
          "text": [
            "https://www.nytimes.com/live/2023/03/02/world/russia-ukraine-news\n",
            "https://www.nytimes.com/2023/03/02/world/europe/ukraine-kherson-mayor-russia.html\n",
            "https://www.nytimes.com/2023/03/02/world/europe/greece-train-crash.html\n",
            "https://www.nytimes.com/2023/03/02/world/canada/canada-migrants-immigration.html\n",
            "https://www.nytimes.com/2023/03/02/world/africa/france-macron-africa.html\n",
            "https://www.nytimes.com/2023/03/02/world/middleeast/tunisia-president-migrants-africa.html\n",
            "https://www.nytimes.com/2023/03/02/world/europe/manchester-arena-bombing-report-ariana-grande.html\n",
            "https://www.nytimes.com/2023/03/01/world/europe/ukraine-russia-tanks.html\n",
            "https://www.nytimes.com/2023/03/01/world/africa/nigeria-president-election-tinubu.html\n",
            "https://www.nytimes.com/2023/03/02/world/europe/harry-meghan-frogmore-cottage-uk-home.html\n",
            "https://www.nytimes.com/article/nigeria-election.html\n",
            "https://www.nytimes.com/2023/03/01/world/middleeast/iran-schoolgirls-poison.html\n",
            "https://www.nytimes.com/2023/03/01/world/europe/uk-northern-ireland.html\n",
            "https://www.nytimes.com/2023/03/01/world/africa/eritrea-ethiopia-tigray-war.html\n",
            "https://www.nytimes.com/2023/03/02/science/hubble-spacex-starlink.html\n",
            "https://www.nytimes.com/2023/03/02/world/europe/russia-ukraine-group-village-control.html\n",
            "https://www.nytimes.com/2023/03/02/briefing/chatgpt-ai.html\n",
            "https://www.nytimes.com/2023/03/02/business/intimacy-coordinator-sex-scenes-film-jessica-steinrock.html\n",
            "https://www.nytimes.com/2023/03/02/world/europe/in-the-ukraine-war-talking-about-peace-is-a-fight-of-its-own.html\n",
            "https://www.nytimes.com/2023/03/02/briefing/nigeria-president-brexit-ukraine.html\n",
            "https://www.nytimes.com/2023/03/02/business/russia-companies-exit.html\n",
            "https://www.nytimes.com/2023/03/01/us/politics/ukraine-russia-war-support-biden.html\n",
            "https://www.nytimes.com/2023/03/01/world/europe/ukraine-russia-bakhmut-reinforcements.html\n",
            "https://www.nytimes.com/2023/03/01/world/europe/blinken-g20-central-asia-trip.html\n",
            "https://www.nytimes.com/2023/03/01/world/europe/maurizio-costanzo-dead.html\n",
            "https://www.nytimes.com/2023/03/01/briefing/nigeria-tinubu-ukraine-greece-trainwreck.html\n",
            "https://www.nytimes.com/2023/03/01/world/europe/finland-nato-sweden.html\n",
            "https://www.nytimes.com/2023/03/01/world/middleeast/turkey-earthquake-elections.html\n",
            "https://www.nytimes.com/2023/02/28/world/africa/peter-obi-nigeria-election.html\n",
            "https://www.nytimes.com/2023/03/01/world/middleeast/israel-protests-police.html\n",
            "https://www.nytimes.com/2023/03/01/us/politics/havana-syndrome-intelligence-report.html\n",
            "https://www.nytimes.com/2023/03/01/world/europe/brexit-immigration-eu.html\n",
            "https://www.nytimes.com/2023/03/01/world/africa/david-mabuza-resignation-south-africa.html\n",
            "https://www.nytimes.com/2023/03/01/world/europe/ukraine-bakhmut.html\n",
            "https://www.nytimes.com/2023/03/01/world/europe/denmark-great-prayer-day-military-nato.html\n",
            "https://www.nytimes.com/2023/03/01/business/china-factories-economy.html\n",
            "https://www.nytimes.com/2023/03/01/briefing/chicago-mayor-election.html\n",
            "https://www.nytimes.com/2023/03/01/world/europe/15-minute-city-conspiracy.html\n",
            "https://www.nytimes.com/2023/03/01/world/europe/turkey-quake-cruise-ship.html\n",
            "https://www.nytimes.com/2023/03/01/world/europe/greece-train-crash.html\n",
            "https://www.nytimes.com/2023/03/01/world/europe/us-fears-lukashenkos-visit-to-china-is-strengthening-ties-between-russias-closest-allies.html\n",
            "https://www.nytimes.com/2023/03/01/briefing/spending-ukraine-nigeria-election-israel.html\n",
            "https://www.nytimes.com/2023/03/01/world/middleeast/israel-palestinian-safe-house-raid.html\n",
            "https://www.nytimes.com/2023/02/28/world/africa/nigeria-election-bola-tinubu.html\n",
            "https://www.nytimes.com/2023/02/28/world/canada/canada-elections-foreign-interference.html\n",
            "https://www.nytimes.com/2023/02/28/world/europe/train-crash-greece.html\n",
            "https://www.nytimes.com/2023/02/28/world/asia/blinken-russia.html\n",
            "https://www.nytimes.com/2023/02/28/world/europe/russia-ukraine-drone-strikes.html\n",
            "https://www.nytimes.com/2023/02/28/world/middleeast/israel-netanyahu-government.html\n",
            "https://www.nytimes.com/2023/02/28/climate/esg-climate-backlash.html\n",
            "https://www.nytimes.com/2023/02/28/business/economy/biden-chips-semiconductor-subsidies-aid.html\n",
            "https://www.nytimes.com/2023/02/28/briefing/russia-china-covid-nigeria-election.html\n",
            "https://www.nytimes.com/2023/02/28/world/europe/uk-king-charles-northern-ireland.html\n",
            "https://www.nytimes.com/2023/02/28/world/europe/russian-plane-belarus-damage.html\n",
            "https://www.nytimes.com/2023/02/28/world/asia/china-russia-belarus.html\n",
            "https://www.nytimes.com/2023/02/28/world/africa/nigeria-election-challenges.html\n",
            "https://www.nytimes.com/2023/02/28/world/europe/ukraine-bakhmut-zelensky.html\n",
            "https://www.nytimes.com/2023/02/28/briefing/supreme-court-student-debt.html\n",
            "https://www.nytimes.com/2023/02/28/world/europe/uk-eu-sunak-brexit.html\n"
          ]
        }
      ]
    },
    {
      "cell_type": "markdown",
      "source": [
        "**Extract most commonly used elements in RSS feeds such as “title”,\n",
        "“link”, “description”, “publication date”, “entry ID”, etc. Follow “links” in the RSS feed and\n",
        "extract text of news articles using web scraping in Python or other Python methods. You can use\n",
        "BeautifulSoup library in Python for pulling data out of HTML and XML files. In your IPython\n",
        "example, use a news web-site of your choice and create a Pandas dataframe from your RSS parsing\n",
        "results representing fields of metadata from that article, e.g., title, date, link, author, etc., as well\n",
        "as text of the news article. Print a table with your results and export those as a csv file with each\n",
        "row as an article and columns as article’s metadata (including full text of each article).**"
      ],
      "metadata": {
        "id": "tXZRnjqiphIM"
      }
    },
    {
      "cell_type": "markdown",
      "source": [
        "### Adding full texts for the corresponding articles,"
      ],
      "metadata": {
        "id": "nwEL8O2xZtU1"
      }
    },
    {
      "cell_type": "code",
      "source": [
        "!pip install newspaper3k"
      ],
      "metadata": {
        "id": "alMsZ3NnZ0VD",
        "outputId": "3f0f5642-71f4-4599-e121-037539617104",
        "colab": {
          "base_uri": "https://localhost:8080/"
        }
      },
      "execution_count": null,
      "outputs": [
        {
          "output_type": "stream",
          "name": "stdout",
          "text": [
            "Looking in indexes: https://pypi.org/simple, https://us-python.pkg.dev/colab-wheels/public/simple/\n",
            "Collecting newspaper3k\n",
            "  Downloading newspaper3k-0.2.8-py3-none-any.whl (211 kB)\n",
            "\u001b[2K     \u001b[90m━━━━━━━━━━━━━━━━━━━━━━━━━━━━━━━━━━━━━━━\u001b[0m \u001b[32m211.1/211.1 KB\u001b[0m \u001b[31m5.1 MB/s\u001b[0m eta \u001b[36m0:00:00\u001b[0m\n",
            "\u001b[?25hCollecting tldextract>=2.0.1\n",
            "  Downloading tldextract-3.4.0-py3-none-any.whl (93 kB)\n",
            "\u001b[2K     \u001b[90m━━━━━━━━━━━━━━━━━━━━━━━━━━━━━━━━━━━━━━━━\u001b[0m \u001b[32m93.9/93.9 KB\u001b[0m \u001b[31m9.1 MB/s\u001b[0m eta \u001b[36m0:00:00\u001b[0m\n",
            "\u001b[?25hRequirement already satisfied: nltk>=3.2.1 in /usr/local/lib/python3.8/dist-packages (from newspaper3k) (3.7)\n",
            "Requirement already satisfied: python-dateutil>=2.5.3 in /usr/local/lib/python3.8/dist-packages (from newspaper3k) (2.8.2)\n",
            "Requirement already satisfied: Pillow>=3.3.0 in /usr/local/lib/python3.8/dist-packages (from newspaper3k) (8.4.0)\n",
            "Collecting cssselect>=0.9.2\n",
            "  Downloading cssselect-1.2.0-py2.py3-none-any.whl (18 kB)\n",
            "Requirement already satisfied: lxml>=3.6.0 in /usr/local/lib/python3.8/dist-packages (from newspaper3k) (4.9.2)\n",
            "Requirement already satisfied: beautifulsoup4>=4.4.1 in /usr/local/lib/python3.8/dist-packages (from newspaper3k) (4.6.3)\n",
            "Collecting feedfinder2>=0.0.4\n",
            "  Downloading feedfinder2-0.0.4.tar.gz (3.3 kB)\n",
            "  Preparing metadata (setup.py) ... \u001b[?25l\u001b[?25hdone\n",
            "Collecting jieba3k>=0.35.1\n",
            "  Downloading jieba3k-0.35.1.zip (7.4 MB)\n",
            "\u001b[2K     \u001b[90m━━━━━━━━━━━━━━━━━━━━━━━━━━━━━━━━━━━━━━━━\u001b[0m \u001b[32m7.4/7.4 MB\u001b[0m \u001b[31m53.7 MB/s\u001b[0m eta \u001b[36m0:00:00\u001b[0m\n",
            "\u001b[?25h  Preparing metadata (setup.py) ... \u001b[?25l\u001b[?25hdone\n",
            "Collecting tinysegmenter==0.3\n",
            "  Downloading tinysegmenter-0.3.tar.gz (16 kB)\n",
            "  Preparing metadata (setup.py) ... \u001b[?25l\u001b[?25hdone\n",
            "Requirement already satisfied: requests>=2.10.0 in /usr/local/lib/python3.8/dist-packages (from newspaper3k) (2.25.1)\n",
            "Requirement already satisfied: feedparser>=5.2.1 in /usr/local/lib/python3.8/dist-packages (from newspaper3k) (6.0.10)\n",
            "Requirement already satisfied: PyYAML>=3.11 in /usr/local/lib/python3.8/dist-packages (from newspaper3k) (6.0)\n",
            "Requirement already satisfied: six in /usr/local/lib/python3.8/dist-packages (from feedfinder2>=0.0.4->newspaper3k) (1.15.0)\n",
            "Requirement already satisfied: sgmllib3k in /usr/local/lib/python3.8/dist-packages (from feedparser>=5.2.1->newspaper3k) (1.0.0)\n",
            "Requirement already satisfied: joblib in /usr/local/lib/python3.8/dist-packages (from nltk>=3.2.1->newspaper3k) (1.2.0)\n",
            "Requirement already satisfied: click in /usr/local/lib/python3.8/dist-packages (from nltk>=3.2.1->newspaper3k) (8.1.3)\n",
            "Requirement already satisfied: tqdm in /usr/local/lib/python3.8/dist-packages (from nltk>=3.2.1->newspaper3k) (4.64.1)\n",
            "Requirement already satisfied: regex>=2021.8.3 in /usr/local/lib/python3.8/dist-packages (from nltk>=3.2.1->newspaper3k) (2022.6.2)\n",
            "Requirement already satisfied: idna<3,>=2.5 in /usr/local/lib/python3.8/dist-packages (from requests>=2.10.0->newspaper3k) (2.10)\n",
            "Requirement already satisfied: urllib3<1.27,>=1.21.1 in /usr/local/lib/python3.8/dist-packages (from requests>=2.10.0->newspaper3k) (1.26.14)\n",
            "Requirement already satisfied: certifi>=2017.4.17 in /usr/local/lib/python3.8/dist-packages (from requests>=2.10.0->newspaper3k) (2022.12.7)\n",
            "Requirement already satisfied: chardet<5,>=3.0.2 in /usr/local/lib/python3.8/dist-packages (from requests>=2.10.0->newspaper3k) (4.0.0)\n",
            "Collecting requests-file>=1.4\n",
            "  Downloading requests_file-1.5.1-py2.py3-none-any.whl (3.7 kB)\n",
            "Requirement already satisfied: filelock>=3.0.8 in /usr/local/lib/python3.8/dist-packages (from tldextract>=2.0.1->newspaper3k) (3.9.0)\n",
            "Building wheels for collected packages: tinysegmenter, feedfinder2, jieba3k\n",
            "  Building wheel for tinysegmenter (setup.py) ... \u001b[?25l\u001b[?25hdone\n",
            "  Created wheel for tinysegmenter: filename=tinysegmenter-0.3-py3-none-any.whl size=13552 sha256=a0f6a97221005710d2998a0e86fd6fc7b5da28216493131f4df1f713b5f9c793\n",
            "  Stored in directory: /root/.cache/pip/wheels/99/74/83/8fac1c8d9c648cfabebbbffe97a889f6624817f3aa0bbe6c09\n",
            "  Building wheel for feedfinder2 (setup.py) ... \u001b[?25l\u001b[?25hdone\n",
            "  Created wheel for feedfinder2: filename=feedfinder2-0.0.4-py3-none-any.whl size=3354 sha256=a8625db33ea454c92d2f95ab643aceae1b439c1092210d06cb80db66a696373d\n",
            "  Stored in directory: /root/.cache/pip/wheels/b6/09/68/a9f15498ac02c23dde29f18745bc6a6f574ba4ab41861a3575\n",
            "  Building wheel for jieba3k (setup.py) ... \u001b[?25l\u001b[?25hdone\n",
            "  Created wheel for jieba3k: filename=jieba3k-0.35.1-py3-none-any.whl size=7398405 sha256=64befc320efc5e79b9b3348222aea64639216483d0a18e2647e9c551bcc7a431\n",
            "  Stored in directory: /root/.cache/pip/wheels/1f/7e/0c/54f3b0f5164278677899f2db08f2b07943ce2d024a3c862afb\n",
            "Successfully built tinysegmenter feedfinder2 jieba3k\n",
            "Installing collected packages: tinysegmenter, jieba3k, cssselect, requests-file, feedfinder2, tldextract, newspaper3k\n",
            "Successfully installed cssselect-1.2.0 feedfinder2-0.0.4 jieba3k-0.35.1 newspaper3k-0.2.8 requests-file-1.5.1 tinysegmenter-0.3 tldextract-3.4.0\n"
          ]
        }
      ]
    },
    {
      "cell_type": "code",
      "source": [
        "import nltk\n",
        "nltk.download('punkt')"
      ],
      "metadata": {
        "id": "15GxUmL6bByw",
        "outputId": "d42da071-fd5f-40ab-ca4d-0d23212b9c23",
        "colab": {
          "base_uri": "https://localhost:8080/"
        }
      },
      "execution_count": null,
      "outputs": [
        {
          "output_type": "stream",
          "name": "stderr",
          "text": [
            "[nltk_data] Downloading package punkt to /root/nltk_data...\n",
            "[nltk_data]   Unzipping tokenizers/punkt.zip.\n"
          ]
        },
        {
          "output_type": "execute_result",
          "data": {
            "text/plain": [
              "True"
            ]
          },
          "metadata": {},
          "execution_count": 20
        }
      ]
    },
    {
      "cell_type": "code",
      "source": [
        "from newspaper import Article\n",
        "article_text_dict = {}\n",
        "for link in links:\n",
        "  article = Article(link)\n",
        "  article.download()\n",
        "  article.parse()\n",
        "  article.nlp()\n",
        "  article_text_dict[link] = article.text"
      ],
      "metadata": {
        "id": "cpntE-BcZ3QU"
      },
      "execution_count": null,
      "outputs": []
    },
    {
      "cell_type": "code",
      "source": [
        "article_text_dict"
      ],
      "metadata": {
        "id": "xXSfWW_8d9wS",
        "outputId": "6c8126cb-7b1f-4b18-e9eb-013591abaf73",
        "colab": {
          "base_uri": "https://localhost:8080/"
        }
      },
      "execution_count": null,
      "outputs": [
        {
          "output_type": "execute_result",
          "data": {
            "text/plain": [
              "{'https://www.nytimes.com/live/2023/03/02/world/russia-ukraine-news': 'Secretary of State Antony J. Blinken met briefly on Thursday with his Russian counterpart, Sergey V. Lavrov, on the sidelines of a Group of 20 meeting, the first one-on-one meeting between the two top diplomats since Russia began its full-scale invasion of Ukraine more than a year ago.\\n\\nThe unexpected encounter came as the Russian government used the meeting of G20 foreign ministers in New Delhi, the Indian capital, accused Western nations of “blackmail and threats.”\\n\\nIn their meeting, Mr. Blinken made three points to Mr. Lavrov, a senior State Department official told reporters: the United States would continue to support Ukraine in its defense against Russia “for as long as it takes”; Russia should rejoin the New START nuclear arms control treaty from which it recently withdrew and abide by the terms; and that Russia should release Paul Whelan, an American citizen whom the U.S. says is wrongfully imprisoned.\\n\\nThe official did not say who initiated the encounter between the two diplomats.\\n\\nEarlier on Thursday, Mr. Blinken used the G20 meeting in to call on Russia to withdraw from Ukraine for the sake of international peace and stability.\\n\\nAnd he held one-on-one talks with top diplomats from the G20 nations, with the aim of rallying greater support for Ukraine as it tries to repel an onslaught of Russian troops and braces for a potential new Russian offensive this spring.\\n\\n“We must continue to call on Russia to end its war of aggression and withdraw from Ukraine for the sake of international peace and economic stability,” Mr. Blinken said in a closed-door group meeting in the morning, according to a text of his remarks released to reporters by the State Department. “Unfortunately, this meeting has again been marred by Russia’s unprovoked and unjustified war against Ukraine,” he added.\\n\\nMr. Blinken said Wednesday before flying from Uzbekistan to India that he had no plans to meet with Sergey V. Lavrov, the foreign minister of Russia, or Qin Gang, the foreign minister of China. Mr. Blinken and Mr. Lavrov have avoided direct confrontation since the war began in February last year.\\n\\nFollowing a meeting between Mr. Lavrov and Chinese counterpart Mr. Qin on the sidelines, the Russian foreign ministry issued a strongly worded statement saying Western nations were meddling in “the internal affairs of other countries, to impose unilateral approaches through blackmail and threats, and to oppose the democratization of international relations.”\\n\\nEarlier on Thursday, Russian state media played down the chances of a meeting between Mr. Blinken and Mr. Lavrov. The two men “sat far apart” from each other at the first plenary session of the G20 meeting, Russian state media reported. A spokeswoman for the Russian Foreign Ministry, Maria Zakharova, said that a meeting between the two would not take place because “destruction is part of the logic of U.S. foreign policy in general,” the state-run Tass news agency reported.\\n\\nMr. Lavrov said the meeting would not end in the customary joint communiqué due to disagreements on the war in Ukraine.\\n\\nPrime Minister Narendra Modi of India said in an opening video address to the diplomats that, while he understood that discussions “are affected by the geopolitical tensions of the day” — a clear reference to the Ukraine war — he hoped they would keep the focus on global crises affecting the many developing nations of the world. He cited economic issues, climate change and the pandemic.\\n\\nBut the war in Ukraine nevertheless dominated the morning group session and other parts of the meeting. Mr. Blinken met one-on-one with Subrahmanyam Jaishankar, the Indian foreign minister, and the two “discussed how to mitigate the global impacts of Russia’s illegal war in Ukraine” and “the United States and India’s cooperation in the Indo-Pacific,” the State Department said in a readout. The second phrase is a reference to strategic efforts in Asia, including military coordination, to counter China.\\n\\nOn Wednesday in Uzbekistan, his second stop on a two-day trip to Central Asia, Mr. Blinken said that the Biden administration saw “zero evidence” that President Vladimir V. Putin of Russia was prepared to engage in serious peace talks.\\n\\nMujib Mashal contributed reporting.',\n",
              " 'https://www.nytimes.com/2023/03/02/world/europe/ukraine-kherson-mayor-russia.html': 'KHERSON, Ukraine — The jailhouse near the Dnipro River where the Russians imprisoned and tortured hundreds of Ukrainians sits empty now. Many of its inmates were freed when Ukraine’s forces liberated the city more than three months ago.\\n\\nBut one prominent prisoner is still missing: the city’s former mayor, Ihor Kolykhaev.\\n\\nThe mayor, who refused to flee and for a while remained at his post after Russian forces swept into Kherson, was arrested in June and put in solitary confinement. In the fall, as Ukrainian forces advanced on the city, Mr. Kolykhaev’s jailers moved him deeper inside Russian-held territory, according to witnesses.\\n\\nHe has not been heard from since.\\n\\nThe disappearance has deepened questions swirling around Mr. Kolykhaev and the role he tried to play. Though he refused to acknowledge the Russians’ authority or swear fealty to them, he remained at his desk, working to keep the lights on and the buses running. The decision helped to ensure a livable city but also smoothed the way for Russian forces to create an occupation government.',\n",
              " 'https://www.nytimes.com/2023/03/02/world/europe/greece-train-crash.html': 'The station manager in Larissa, about 12 miles from the crash site, was taken into custody on Wednesday and faced an investigating magistrate, where he was given an extension until Saturday to prepare his defense.\\n\\nThe station manager, 59, has not been publicly identified. He faces charges of manslaughter through neglect and of disrupting the safety of public transport, amid news reports in Greece that he had directed the two trains onto their collision course.\\n\\nThe Greek health minister, Thanos Plevris, said that many of the passengers were young people or college students who had possibly been taking advantage of a three-day holiday weekend to celebrate carnival, the period of revelry just before Lent. Thessaloniki, the train’s destination, is Greece’s second-largest city, and it is known as a university city hosting tens of thousands of students.\\n\\nImage Vaios Vlachos and Daphne Brella. He was still missing as of Wednesday night, and she was in an intensive care unit. Credit... Evangelos Vlachos\\n\\nOn Wednesday night, Georgios Smirnopoulos, a taxi driver in Thessaloniki, drove by Aristotle University, the largest in Greece, and pointed at it, wondering if any of the crash victims had studied there.\\n\\n“It was a lot of students, of young people,” he said. “Today is a tragic day.”\\n\\nAnastasia Papaggeli, 18, a student of agriculture at Aristotle University, is among those missing after the crash. Her sister, Urania, 20, said that Anastasia had gone to the city of Patras, near Athens, for carnival celebrations, where she dressed up as an elf.\\n\\nAnastasia called Urania at about 11 p.m. on Tuesday to say that she was fine and making her way back to Thessaloniki on a night train. A couple of hours later, Urania read the news about the deadly crash. She called her sister, who had been traveling on the train’s third carriage, but there was no answer.',\n",
              " 'https://www.nytimes.com/2023/03/02/world/canada/canada-migrants-immigration.html': '“The fact that Biden is getting tougher reinforces the argument that the United States is not a safe country for asylum-seekers and that it doesn’t meet its international legal obligations regarding human rights and the reception of asylum-seekers,’’ said France-Isabelle Langlois, the director general of Amnesty International for francophone Canada.\\n\\nAmid the focus on the treaty, Ms. Langlois said, “We’re losing sight of the fact that these are human beings who are fleeing very, very difficult situations.” She added: “These are not bad people, even those whose applications are ultimately rejected. We can’t forget that, basically, these people are seeking to improve their lot, as we would all do.”\\n\\nAs the Supreme Court weighs the fate of the treaty, migrants continue to flow through the Roxham Road crossing, intensifying demands that it be closed.\\n\\nBut simply shutting it down, experts said, would likely push migrants to try to cross into Canada through more dangerous points along the country’s 5,500-mile border with the United States.\\n\\n“It’s very unclear,’’ said Laura Macdonald, a political scientist at Carleton University, “how you would keep out tens of thousands of asylum claimants who think they have the right to cross the border from doing so.’’\\n\\nNasuna Stuart-Ulin contributed reporting from Saint-Bernard-de-Lacolle.',\n",
              " 'https://www.nytimes.com/2023/03/02/world/africa/france-macron-africa.html': 'President Emmanuel Macron of France has embarked on a quest to win favor across Africa on the basis of a policy of “profound humility,” chastened by a decade-long frustrated military intervention and a wave of anti-French sentiment in France’s former African colonies.\\n\\nIn practice, as he outlined in a speech this week, this reset will mean a much-reduced military presence at six bases that will be converted into academies or hubs of new partnerships. He said it would involve “balanced, reciprocal and responsible” relations, respectful of African needs at a time of intense competition for influence and profit across the continent from Russia and China.\\n\\n“Macron wants to salvage what he can,” said Thierry Vircoulon, a research associate at the French Institute of International Relations. “His first term was a failure, both in terms of the war on terrorism and the attempt to maintain French influence.”\\n\\nAn era is coming to an end. France left its colonies decades ago, but old habits and presumptions about French power and dominance across a swath of Africa have endured, symbolized by a significant military presence and the continued use of the colonial-era C.F.A. franc currency. French nostalgia for the zenith of their geostrategic influence sustained these tendencies.',\n",
              " 'https://www.nytimes.com/2023/03/02/world/middleeast/tunisia-president-migrants-africa.html': 'Moussa Osman had been in hiding — his family panicked, his appetite gone — since Tunisia’s president declared migrants from other parts of Africa pawns in a “criminal plot” to make his predominantly Arab and Muslim nation “a purely African country.”\\n\\nThe next day, Mr. Osman, a 35-year-old former car salesman supporting two children back home in violence-wracked northern Nigeria, lost his construction job after the company said it could no longer employ migrants who had come to Tunisia illegally. Then, he said, his landlord started talking about evicting him, worried he would be penalized for having migrants on the property.\\n\\nOn Sunday, a group of Tunisians broke into Mr. Osman’s apartment, beat up the migrants he was living with and stole their passports and cellphones. By Monday afternoon, he felt he had no choice but to risk a taxi ride to the Nigerian Embassy in Tunis, the capital, hoping to secure some thin protection from a campaign of arrests that migrant associations and Tunisian rights groups say has swept up hundreds of Black foreigners over the last month.\\n\\n“I am a poor person, a poor migrant living here in peace,” he said outside the embassy, where other Nigerians had begun camping, fearing for their safety. “I left my children in a very difficult situation, and here I find myself in another critical situation.”',\n",
              " 'https://www.nytimes.com/2023/03/02/world/europe/manchester-arena-bombing-report-ariana-grande.html': 'An inquiry into the 2017 Manchester Arena bombing concluded on Thursday that there had been a “significant missed opportunity” by Britain’s domestic intelligence agency to take action that might have prevented the attack, which killed 22 people and injured hundreds more after an Ariana Grande concert.\\n\\nThe final, 226-page report said that the spy agency, MI5, had failed to act on two key pieces of intelligence about Salman Abedi, the 22-year-old suicide bomber, in the months leading to the attack. Although the report did not specify what the intelligence was, it rejected earlier claims by MI5 that the information was related to “nonterrorist criminality.”\\n\\nHad MI5 acted on the intelligence, there would have been a “realistic possibility” it would have taken actions to thwart the attack, the report outlined. However, Sir John Saunders, the chairman of the Manchester Arena inquiry, said that it nonetheless remained “impossible” to reach a firm conclusion on whether or not the bombing could have been prevented — an assessment that drew anger from some of the victim’s families.\\n\\n“As a result of these failures, at the very least, a real possibility of preventing this attack was lost,” said Richard Scorer, a lawyer representing 11 victims’ families as they stood outside a court on Thursday.',\n",
              " 'https://www.nytimes.com/2023/03/01/world/europe/ukraine-russia-tanks.html': 'KURAKHOVE, Ukraine — Before driving into battle in their mud-spattered war machine, a T-64 tank, the three-man Ukrainian crew performs a ritual.\\n\\nThe commander, Pvt. Dmytro Hrebenok, recites the Lord’s Prayer. Then, the men walk around the tank, patting its chunky green armor.\\n\\n“We say, ‘Please, don’t let us down in battle,’” said Sgt. Artyom Knignitsky, the mechanic. “‘Bring us in and bring us out.’”\\n\\nTheir respect for their tank is understandable. Perhaps no weapon symbolizes the ferocious violence of war more than the main battle tank. Tanks have loomed over the conflict in Ukraine in recent months — militarily and diplomatically — as both sides prepared for offensives. Russia pulled reserves of tanks from Cold War-era storage, and Ukraine prodded Western governments to supply American Abrams and German Leopard 2 tanks.',\n",
              " 'https://www.nytimes.com/2023/03/01/world/africa/nigeria-president-election-tinubu.html': 'In the run-up to Nigeria’s presidential election on Saturday, the ruling party candidate’s best-known slogan was “Emi lo kan,” a phrase in the Yoruba language meaning “It’s my turn.”\\n\\nBy Wednesday morning, his turn had finally come. Bola Tinubu, a former state governor and one of the most powerful political kingmakers in Nigeria, was declared the West African nation’s next president by election officials in the capital at around 4 a.m., after the most closely fought contest in years.\\n\\nWhile opposition parties dismissed the election as a “sham,” alleging widespread fraud and violence and vowing to challenge the outcome in court, many Nigerians were trying to come to terms with the prospect of four years under one of the country’s most contentious figures.\\n\\nWidely perceived as corrupt, in poor health, and a stalwart of the old guard, Mr. Tinubu may struggle to unite a country with a huge population of young people — particularly those plugged into social media — who are increasingly trying to make themselves heard, and fighting against old ways of governing.',\n",
              " 'https://www.nytimes.com/2023/03/02/world/europe/harry-meghan-frogmore-cottage-uk-home.html': 'Prince Harry and his wife, Meghan, have been asked to move out of Frogmore Cottage, their five-bedroom Georgian house on the grounds of Windsor Castle, the couple’s press secretary said, in a further sign of the bitter rupture between them and the British royal family since they withdrew from royal duties and left Britain.\\n\\nQueen Elizabeth II offered the house to the couple, known as the Duke and Duchess of Sussex, at the time of their wedding in 2018. It has served as their home base on infrequent visits to Britain since they relocated to Montecito, Calif.\\n\\n“We can confirm the Duke and Duchess of Sussex have been requested to vacate their residence at Frogmore Cottage,” said the press secretary, Ashley Hansen, who is head of communications for the couple’s foundation, Archewell.\\n\\nMs. Hansen did not provide further details about the reasons for or timing of the eviction, which was first reported on Wednesday by The Sun, a British tabloid. The Sun said that King Charles III had made the decision shortly after the publication of Harry’s memoir, “Spare,” which is replete with scorching accounts of Harry’s dysfunctional relationship with Charles, his father; and with his brother, Prince William.',\n",
              " 'https://www.nytimes.com/article/nigeria-election.html': 'Bola Tinubu, a perennial political kingmaker in Nigeria’s politics, was declared the winner of the presidential election on Wednesday after a tight race marred by accusations of vote rigging and the lowest turnout ever recorded in a presidential contest in the country.\\n\\nNigeria is home to about 220 million people, and what happens there reverberates across Africa and the globe. More than 87 million people were eligible to vote, the election commission said — the most ever.\\n\\nThe Giant of Africa, as Nigeria is known, is at an inflection point. During nearly eight years of rule by an ailing president, Muhammadu Buhari — a military dictator turned reformed democrat — the country has lurched from one economic shock to the next. Mr. Buhari has reached his two-term limit and did not run for re-election. Over 60 percent of the population lives in poverty, while security crises — including kidnapping, terrorism, militancy in oil-rich areas and clashes between herders and farmers — have multiplied.\\n\\nFinal results showed Mr. Tinubu winning the election with 8.7 million votes, or about 36 percent of the vote, avoiding a runoff. Atiku Abubakar of the main opposition People’s Democratic Party got 6.9 million votes, and Peter Obi took 6.1 million. Under Nigerian law, to win, a candidate must win the most votes, as well as at least 25 percent of the vote in two-thirds of the nation’s 36 states.',\n",
              " 'https://www.nytimes.com/2023/03/01/world/middleeast/iran-schoolgirls-poison.html': 'Hundreds of schoolgirls in Iran have been hospitalized in over 10 cities after falling sick with respiratory, cardiac and neurological symptoms, and senior officials said they might have been deliberately poisoned.\\n\\nInterior Minister Ahmad Vahidi said at a news conference on Wednesday that the motive behind what some officials called school attacks remained unclear and that no arrests had been made. But the government held an emergency meeting on Wednesday with officials from the health and education ministries, he said, and teams from the Intelligence Ministry and security forces began an investigation.\\n\\n“The topic of the poisoning of our dear ones was discussed,” Mr. Vahidi said, according to a video of his comments carried by state news media. He attributed some of the girls’ symptoms to stress and anxiety and blamed Iran’s enemies and foreign news outlets for causing public alarm.\\n\\nThe first reports of girls’ falling sick emerged three months ago in the religious city of Qom, which is about 80 miles southwest of the capital, Tehran. Students reported smelling mysterious odors like tangerine and chlorides and were hospitalized after having difficulty breathing and experiencing heart palpitations, nausea and numbness in their limbs.',\n",
              " 'https://www.nytimes.com/2023/03/01/world/europe/uk-northern-ireland.html': 'LONDON — President Biden heaped praise on it, as did the prime minister of Ireland, Leo Varadkar. Britain’s Labour Party threw its support behind it. Even hard-line Brexiteers in the British Conservative Party, who were expected to revolt against the agreement, swiftly fell into line.\\n\\nOnly one group has so far refused to support the trade deal for Northern Ireland that Prime Minister Rishi Sunak and the European Union announced on Monday: the Democratic Unionist Party, or D.U.P., which represents unionist voters in the North, who seek to remain part of the United Kingdom.\\n\\nThe D.U.P.’s lonely reluctance speaks not only to the devilishly complex nature of trade in the post-Brexit era but also to the deeper dysfunction of politics in Northern Ireland, which has not had a functioning government since early last year, when its fragile experiment in power-sharing last fell apart.\\n\\nThe Democratic Unionists say they need time to study the fine print of Mr. Sunak’s deal, known as the Windsor Framework, before they render a verdict. The D.U.P. has no legal power to hold up the agreement. But if the party rejects it, it could sabotage efforts to restart Northern Ireland’s government, one of Mr. Sunak’s key objectives in settling the trade dispute with the European Union.',\n",
              " 'https://www.nytimes.com/2023/03/01/world/africa/eritrea-ethiopia-tigray-war.html': 'Just before the peace agreement to end Ethiopia’s civil war, troops from neighboring Eritrea massacred hundreds of civilians, looted businesses and arbitrarily detained civilians already facing extraordinary suffering, according to rights groups, aid workers and news outlets.\\n\\nThe Eritrean soldiers were fighting on the side of the Ethiopian government, which was waging a two-year civil war against the leadership of the northern Tigray region.\\n\\nThe gruesome accounts underscore the ugly nature of a conflict that killed hundreds of thousands of people, displaced millions and upended life in Africa’s second most populous nation. The violence reached a climax last fall, after a five-month truce was shattered in August and before the beginning of the formal peace talks in South Africa in late October that led, within days, to the end of the war.\\n\\nOn Tuesday, The Washington Post reported that Eritrean forces killed hundreds of people, including teachers and farmers, at the very end of that period, just days before the warring parties agreed to end the hostilities. Relatives of those killed described horrific scenes, including parents being shot in front of their children.',\n",
              " 'https://www.nytimes.com/2023/03/02/science/hubble-spacex-starlink.html': 'The Hubble Space Telescope, known for recording awe-inspiring images of the cosmos while advancing the field of astronomy, is under threat.\\n\\nPrivate companies are launching thousands of satellites that are photobombing the telescope — producing long bright streaks and curves of light that can be impossible to remove. And the problem is only getting worse.\\n\\nA study, published Thursday in the journal Nature Astronomy, reveals an increase in the percentage of images recorded by the Hubble that are spoiled by passing satellites. And the data goes only through 2021. Thousands more satellites have been launched since then by SpaceX and other companies, and many more are expected to go to orbit in the years ahead, affecting the Hubble and potentially other telescopes in space.\\n\\n“We’re going to be living with this problem. And astronomy will be impacted,” said Jonathan McDowell, an astronomer at the Harvard-Smithsonian Center for Astrophysics who was not involved in the study. “There will be science that can’t be done. There will be science that’s significantly more expensive to do. There will be things that we miss.”',\n",
              " 'https://www.nytimes.com/2023/03/02/world/europe/russia-ukraine-group-village-control.html': 'A Russian partisan group with ties to the Ukrainian military claimed on Thursday that it had briefly taken control of a small border village, in what would represent a rare known example of saboteurs crossing into Russia to carry out an operation.\\n\\nPresident Vladimir V. Putin canceled a scheduled trip to the Caucasus region to be briefed on the incursion, the Kremlin said. He denounced the episode as a “terrorist” attack, a label Russia frequently applies to military setbacks in the war in Ukraine.\\n\\nIt remained unclear what happened in the village, although the incursion appeared to be over by Thursday afternoon. The group that claimed responsibility, the Russian Volunteer Corps, is led by a Russian nationalist in exile who opposes Mr. Putin’s rule and has been fighting for the Ukrainian cause.\\n\\nIt is unclear whether the group operates with the assent of the Ukrainian government, as it claims.\\n\\nThe group posted a video on Thursday of two armed men outside what appeared to be a medical building in the village of Lyubichane, in the Russian region of Bryansk, near the Ukrainian border.',\n",
              " 'https://www.nytimes.com/2023/03/02/briefing/chatgpt-ai.html': 'Eli Snyder, a special-education teacher in Colorado, wanted to play basketball with his students. He had questions: How could he adapt the game for a child with cerebral palsy? And how could he help his students with autism play a highly stimulating activity?\\n\\nChatGPT had answers.\\n\\nThe artificial intelligence chatbot had analyzed the internet’s vast amount of data, including information about disabilities and basketball. It used patterns it found in all that text to generate recommendations: Shrink the court size to reduce the distance players need to travel in wheelchairs. Lower the hoop and install a ramp leading up to it so students can roll the basketball into the net. Pair up players so each person has a buddy for support.\\n\\nSnyder could have found this information through a simple Google search. He turned to ChatGPT because it produced complete paragraphs instead of delivering links that would have left him with more clicking and synthesizing to do. The chatbot’s response helped him quickly write adapted lesson plans for each of his students.\\n\\n“It’s been revolutionary,” Snyder, 30, said. “What used to take me an hour now takes me five minutes.”',\n",
              " 'https://www.nytimes.com/2023/03/02/business/intimacy-coordinator-sex-scenes-film-jessica-steinrock.html': 'It takes a lot of people to make a movie. You’ve got the director for overall vision, the gaffer on the lights, the set decorators to add texture to the film’s world, and the costume designers to envision the actors’ looks.\\n\\nAnd when those costumes come off and things start to get a bit steamy? That’s where Jessica Steinrock comes in.\\n\\nMs. Steinrock is an intimacy coordinator — or intimacy director, when she’s working on theater and live performance — who facilitates the production of scenes involving nudity, simulated sex or hyper exposure, which she defines as “something someone might not otherwise uncover in public, even if it’s not legally nudity.” Much like a stunt coordinator or a fight director, she makes sure that the actors are safe throughout the process, and that the scene looks believable.\\n\\nThe role has come to prominence in the last five years. As the entertainment industry reeled from the litany of abuses brought to light by the #MeToo movement, many productions were eager to publicly demonstrate their commitment to safety. Hiring an intimacy coordinator was one way to do that.',\n",
              " 'https://www.nytimes.com/2023/03/02/world/europe/in-the-ukraine-war-talking-about-peace-is-a-fight-of-its-own.html': 'WASHINGTON — As the fight in Ukraine has dragged on for the past year, another battle has unfolded in parallel: a war of words between Russia and the West over who is more interested in ending the conflict peacefully.\\n\\nFor now, analysts and Western officials say, serious peace talks are extremely difficult to envision. Both sides have set conditions for negotiations that cannot be met anytime soon, and have vowed to fight until victory.\\n\\nAnd Ukraine’s president has ruled out dealing directly with Russian President Vladimir V. Putin because of atrocities committed by his military forces.',\n",
              " 'https://www.nytimes.com/2023/03/02/briefing/nigeria-president-brexit-ukraine.html': 'The challenges facing Nigeria’s new leader\\n\\nBola Tinubu, a former state governor and a powerful political kingmaker in Nigeria, was declared the West African nation’s next president yesterday after a closely fought contest. Tinubu won about 8.8 million votes, according to electoral officials, trailed by the opposition candidates Atiku Abubakar, with about seven million, and Peter Obi, with about 6.1 million.\\n\\nFor many Nigerians, Tinubu’s victory is a daunting prospect. He is a contentious figure who is widely perceived as corrupt, in poor health and a stalwart of the old guard. (He says he is 70, but some Nigerians think he is much older.) Others see him as a capable pair of hands who turned around Nigeria’s biggest city, Lagos, when he served as governor of Lagos State from 1999 to 2007.\\n\\nA country of immense natural riches, bursting with talent — with big technology, music and film industries — Nigeria is also a nation where over 60 percent of the people live in poverty, millions of children are out of school and kidnapping is a daily risk. The country is also facing a major cash crisis after a poorly managed currency redesign.\\n\\nNicknames: Tinubu is often called Jagaban by his supporters. Meaning “big boss” or “boss of bosses,” it captures the power he wields and the deference he is often treated with as a result. Others refer to him as Balablu — a reference to a speech in which he tried and failed to say the word “hullabaloo,” and a form of shorthand to imply that he is inadequate for the job.',\n",
              " 'https://www.nytimes.com/2023/03/02/business/russia-companies-exit.html': 'When Russia invaded Ukraine, a phalanx of Western companies pledged to get out fast from what had once been an important market. McDonald’s dismantled its golden arches after 32 years. The oil giant BP moved to divest its mammoth Russian investments. The French automaker Renault sold its factories for the symbolic sum of one ruble.\\n\\nBut a year into the war, hundreds of Western businesses are still in Russia, including blue-chip and midsize companies from Europe and the United States. They are doing business despite Western sanctions and boisterous boycott campaigns pressed by Ukrainian officials, consumers and human rights groups.\\n\\nSome companies, facing accusations that they are helping finance Russia’s aggression, say they are staying because their customers need them. Among them is Auchan, one of France’s largest supermarket chains, which has kept its 230 stores in Russia open and says it intends to stay. The retailer has drawn the ire of the Ukrainian president, Volodymyr Zelensky, and recently faced fresh calls for a boycott after a report that Auchan’s Russian subsidiary supplied donated food to the country’s military.\\n\\nAuchan has denied those allegations, but is unapologetic about remaining in Russia and Ukraine, where it also has stores, to “meet the essential food needs of the civilian populations.”',\n",
              " 'https://www.nytimes.com/2023/03/01/us/politics/ukraine-russia-war-support-biden.html': 'While she and her allies have been on the margins of the Republican Party on Ukraine, the center of gravity may be shifting. Mr. Trump lashed out at Mr. Biden last week for visiting Kyiv instead of East Palestine, Ohio, the site of a recent toxic train derailment. In a fund-raising video, Mr. Trump said, “we’re teetering on the brink of World War III” thanks to Mr. Biden and promised to “end the Ukraine conflict in 24 hours.”\\n\\nHow Times reporters cover politics. We rely on our journalists to be independent observers. So while Times staff members may vote, they are not allowed to endorse or campaign for candidates or political causes. This includes participating in marches or rallies in support of a movement or giving money to, or raising money for, any political candidate or election cause. Learn more about our process.\\n\\nGov. Ron DeSantis of Florida, his most formidable potential challenger for the 2024 nomination, sought to match Mr. Trump, criticizing what he called the “open-ended blank check” for Ukraine and saying “I don’t think it’s in our interest” to be involved in the fight for territory seized by Russia.\\n\\nBy contrast, the announced and unannounced Republican presidential candidates who do support aid to Ukraine, like former Vice President Mike Pence and Nikki Haley, the former ambassador to the United Nations, trail far behind those two front-runners.\\n\\nMr. Surabian said a rematch between Mr. Biden and Mr. Trump would sharpen the nation’s debate over Ukraine. “If Donald Trump is the nominee, I 100 percent expect him to prosecute the case against Biden directly on the Ukraine issue,” he said. “I think this will become a centerpiece issue between him and Biden.”\\n\\nSo far, Congress has approved $113 billion in military, economic, humanitarian and other aid for Ukraine, not all of which has been spent yet. Anticipating trouble from the new Republican House, the White House and lame-duck Democratic majority last winter pushed through an aid package large enough to last until summer. At the current rate of spending, it would run out by mid-July, according to the Center for Strategic and International Studies.\\n\\nA House Democrat who asked not to be identified speaking critically of the White House expressed concern that the president’s team did not fully grasp how Americans viewed the aid. While they support Ukraine in principle, this Democrat said, the way the aid has been doled out through a steady drumbeat of announcements of another $500 million or $1 billion every week or two exacerbates the sense that endless funds are heading out of the country.\\n\\nPhilip D. Zelikow, a University of Virginia scholar and former State Department counselor, said military aid was more popular than economic aid because much of it is actually spent on arms produced by American defense firms. But he said that economic aid was critical to rebuilding Ukraine, and he argued that seizing $300 billion in Russian assets in the West for reconstruction would ease the burden on the American taxpayer.',\n",
              " 'https://www.nytimes.com/2023/03/01/world/europe/ukraine-russia-bakhmut-reinforcements.html': 'Ukraine is sending reinforcements to the devastated eastern city of Bakhmut, leading more troops into a bloody crucible that has already cost both sides staggering losses, and where Russian forces have gradually tightened their grip.\\n\\nA Ukrainian deputy defense minister, Hanna Maliar, said Wednesday that her government had begun deploying new fighters to Bakhmut, site of the most protracted battle of the war, but she did not say how many were being sent. More critically, Ms. Maliar, speaking on Ukrainian television, did not say what their role would be, in a battle that has left the ravaged Bakhmut a city in name only.\\n\\nThe new forces could be used to dig in and try to hold onto the territory, exacting the maximum casualties on the Russians, who have lost thousands of troops in repeated, futile assaults on Ukrainian positions. They might be used to tie down Russian forces so they cannot redeploy to other battles. Or they might be there to offer logistical support for Ukraine’s long-rumored withdrawal from Bakhmut.\\n\\nThat last explanation seemed to gain some ground this week when another Ukrainian official, the economic adviser Alexander Rodnyansky, laid out the challenges in an interview with CNN.',\n",
              " 'https://www.nytimes.com/2023/03/01/world/europe/blinken-g20-central-asia-trip.html': 'TASHKENT, Uzbekistan — Secretary of State Antony J. Blinken, preparing for confrontations over the war in Ukraine at a meeting of top diplomats from the Group of 20 nations, said Wednesday that the Biden administration saw “zero evidence” that President Vladimir V. Putin of Russia was prepared to engage in serious peace talks.\\n\\n“To the contrary, the evidence is all in the other direction,” Mr. Blinken said at a news conference during a visit to the Central Asian nation of Uzbekistan. He said, “The real question is whether Russia will get to a point where it is genuinely prepared to end its aggression.”\\n\\nWith Russia and China sending their foreign ministers to the Group of 20 conference in Delhi, India, Mr. Blinken was laying out the American position ahead of an expected push by China, Russia’s strongest strategic partner, for the warring sides to engage in peace talks.\\n\\nAmerican officials say they view China’s move as a smoke screen that allows Russia and its partners to cast themselves as the reasonable parties in Mr. Putin’s unprovoked war. Mr. Blinken said he had no plans to meet with his Russian or Chinese counterparts on the sidelines of the G20 gathering, whose main sessions are taking place Thursday.',\n",
              " 'https://www.nytimes.com/2023/03/01/world/europe/maurizio-costanzo-dead.html': 'Italy’s prime minister, Giorgia Meloni, saluted Mr. Costanzo on Twitter as an “icon of journalism and television, who was able to narrate difficult years with courage and professionalism.”\\n\\nIn 1993, Mr. Costanzo was nearly killed after leading a campaign against the Sicilian Mafia on his show. He and a colleague who worked for the national broadcaster RAI had broadcast a series of episodes about the mafia during which Mr. Costanzo burned a T-shirt that said “Mafia, Made in Italy.” He interviewed the sister-in-law of a mobster to persuade her to renounce the Mafia.\\n\\nHe later said he was told by prosecutors that the campaign had angered Salvatore Riina, then the head of the Sicilian Cosa Nostra, who ordered Mr. Costanzo’s murder, directing minions to plant a car-bomb near the theater where he worked in 1993.\\n\\nBut that night, by pure luck, he hired a different car to pick him up from the Parioli theater in Rome, where the show was broadcast. The mobsters, confused by the different car, took an extra second to detonate the 70 kilos of explosives packed in a nearby car and missed them.\\n\\n“It was a miracle,” Mr. Costanzo said in a TV interview years later. “Nobody got killed.”\\n\\nSince that incident, he said, he had been living under constant police protection.\\n\\nMaurizio Costanzo was born in Rome on Aug. 28, 1938, the only child of Ugo Costanzo, an employee at the Transportation Ministry, and Jole De Toni, a homemaker. His father died when Maurizio was 16. He considered his father’s death a “theft,” he said, adding that he kept a picture of him next to his bed and thought about him every day.\\n\\nAs a reporter for his high school newspaper in Rome, he once sneaked out of school to meet with Indro Montanelli, a journalist from Corriere della Sera whom Mr. Costanzo considered a mentor.',\n",
              " 'https://www.nytimes.com/2023/03/01/briefing/nigeria-tinubu-ukraine-greece-trainwreck.html': 'Victory for a Nigerian political ‘big boss’\\n\\nBola Tinubu was declared the winner of Nigeria’s presidential election on Wednesday, extending the governing All Progressives Congress party’s rule in Africa’s largest nation.\\n\\nTinubu won about 36 percent of the vote, enough to avoid a runoff. But only 27 percent of voters participated, the lowest turnout in the country’s history.\\n\\nA political insider who ran on the slogan “It’s my turn,” Tinubu is a divisive figure. Some revere him for turning around the fortunes of Lagos during his eight years as governor; others deride him as a corrupt stalwart of the old guard.\\n\\nA multimillionaire, Tinubu made his money in real estate, but has faced questions over his wealth. His supporters call him “big boss,” while many detractors call him “balablu,” a reference to a speech in which he failed to pronounce the word “hullabaloo” and a shorthand to imply that he is too old to lead.',\n",
              " 'https://www.nytimes.com/2023/03/01/world/europe/finland-nato-sweden.html': 'He said they were worried that the admission of Finland would increase the risk of conflict by creating a new NATO border with Russia stretching more than 800 miles, far longer than Russia’s short borders with the alliance members Estonia, Latvia and Poland.\\n\\nHungary has a long record of leveraging its veto power within the European Union over sanctions against Russia to try to secure concessions on other issues, primarily those involving money, and it now seems to be doing the same thing over the accession of Finland and Sweden to NATO.\\n\\nMr. Orban has combined his own tentative support for the admission of Finland and Sweden with angry complaints that the two would-be members — which, like many others in the European Union, have criticized Hungary’s drift into authoritarianism — have been “spreading blatant lies about us.” Mr. Orban asked last week: “How does someone want to be our ally in a military regime if they are unscrupulously spreading lies about Hungary?”\\n\\nHungarian politicians complain that Sweden and Finland have been openly critical of Hungary’s abuses of the rule of law. Concerns over the rule of law and corruption have led Brussels to hold up about 6.3 billion euros, about $6.7 billion, in European funds due to Hungary.\\n\\nMr. Orban has also been eager to keep close ties to Russia, on which Hungary depends for energy, and he has worked to water down some E.U. sanctions aimed at the Kremlin and its cronies.',\n",
              " 'https://www.nytimes.com/2023/03/01/world/middleeast/turkey-earthquake-elections.html': 'ADANA, Turkey — President Recep Tayyip Erdogan made clear on Wednesday that he does not intend to delay crucial elections in Turkey because of last month’s devastating earthquake, saying they would go ahead as previously announced on May 14.\\n\\nIt was the first time the Turkish leader has publicly mentioned a polling date since the catastrophic quake on Feb. 6, which raised questions over whether he would seek to delay the presidential and parliamentary vote. The quake ravaged a large area of southern Turkey and northern Syria, killing more than 51,000 people so far. The number is rising daily.\\n\\n“This nation — the time is coming on May 14 — will do what is necessary, God willing,” Mr. Erdogan told members of his ruling Justice and Development Party. He had announced the same date before the quake hit.\\n\\nThe vast destruction caused by the 7.8-magnitude temblor and a powerful aftershock have posed a new political challenge for Mr. Erdogan, Turkey’s paramount politician for two decades, while drastically complicating the logistics of holding elections with so many communities in ruins.',\n",
              " 'https://www.nytimes.com/2023/02/28/world/africa/peter-obi-nigeria-election.html': 'Nine months ago, Peter Obi was a member of Nigeria’s main opposition party, the People’s Democratic Party, and one of the 15 presidential aspirants cleared for its ticket. As a former state governor, he stood solidly in the ranks of the political establishment.\\n\\nOn Wednesday, after a remarkable transformation into an outsider candidate running for the little-known Labour Party, he came in third in the race for the presidency, according to election officials.\\n\\nMr. Obi’s running mate, Yusuf Datti Baba-Ahmed, vowed on Wednesday that the party would contest the election results, saying the ballot was tainted by violence, voter intimidation and suppression. He said his team would make its challenge against the declared victory of Bola Tinubu of the governing party, through “all legal and peaceful means.”\\n\\nA former governor of southeastern Anambra state with a reputation for frugality, Mr. Obi left the People’s Democratic Party the day before Atiku Abubakar, a former vice president who was one of his main rivals, became its presidential candidate.',\n",
              " 'https://www.nytimes.com/2023/03/01/world/middleeast/israel-protests-police.html': 'The Israeli police deployed water cannons and stun grenades on Wednesday against thousands of protesters blocking a main road in Tel Aviv, a significant escalation of the confrontation between the political leadership and opponents of the government’s plan to rein in the powers of the country’s judiciary.\\n\\nThe rare use of force by the police against Israeli citizens came as groups of protesters carrying Israeli flags blocked roads, bridges and busy intersections around the country in what organizers called a “day of national disruption.” These actions followed regular protests that began eight weeks ago and have at times disrupted life in Israel’s major cities.\\n\\nOn Wednesday, a few dozen protesters were arrested and a few people were injured. Images on social media and news outlets showed one man who had been hit by a stun grenade with a mangled ear and blood pouring down his neck.\\n\\nPolice videos showed some demonstrators throwing empty plastic water bottles at officers mounted on horseback during the confrontation. Some protesters chanted “shame, shame shame” and “democracy, democracy, democracy.”',\n",
              " 'https://www.nytimes.com/2023/03/01/us/politics/havana-syndrome-intelligence-report.html': 'Many patients who worked for the C.I.A. and the State Department complained that their ailments were not taken seriously for much of the Trump administration.\\n\\nThat began to change in 2020 — toward the end of the Trump administration — when officials expanded efforts to collect information about suspected Havana syndrome cases, and the C.I.A., the State Department and other agencies asked their employees to report any such incidents.\\n\\nThat led to an explosion in the number of possible cases, from dozens to some 1500.\\n\\nIn 2021, under the Biden administration, the C.I.A. began increasing the resources that went into health care for its personnel, and helped more officers reporting symptoms see brain injury specialists. The C.I.A. and other intelligence agencies also put more resources into investigating what might have caused the syndrome, raising the hopes of patients that the perpetrator or perpetrators would be identified. Yet as officials investigated the hundreds of reports that came in, it became clear that there was not a single set of symptoms, but rather an array of ailments that clinically looked very different.\\n\\nWednesday’s announcement was upsetting news for many patients, because they believe it cast doubt on the legitimacy of their injuries. Years later some of the affected people are still dealing with serious health problems that have prevented them from returning to work.\\n\\nMark Zaid, a lawyer who represents several patients with Havana syndrome, said that the assessment would undermine morale and that the intelligence agencies needed to provide more details about their work.\\n\\n“The latest U.S. intelligence assessment lacks transparency, and we continue to question the accuracy of the alleged findings,” Mr. Zaid said.\\n\\nIntelligence officials insisted their investigation over the past two years has been deep and rigorous, spending months hunting down individual leads — all to come up empty in finding any sort of global explanation that explained multiple incidents.',\n",
              " 'https://www.nytimes.com/2023/03/01/world/europe/brexit-immigration-eu.html': 'The appeal to fears of uncontrolled immigration worked. In the week before the 2016 referendum, polling found that immigration was voters’ most important issue, ultimately powering “leave” to a slim victory.\\n\\nBy contrast, the remain camp, which focused on economic arguments for staying in the E.U., struggled to convince voters that Brexit would have a personal or economic effect on their lives, Gideon Skinner, the head of political research for Ipsos, a polling firm, wrote shortly before the referendum.\\n\\nLosing political potency\\n\\nNow, however, immigration is a far less potent political issue, even among those who voted to leave.\\n\\nAccording to a long-running Ipsos survey, in 2015, 81 percent of “leave” voters wanted immigration to be reduced. Now, only 64 percent of them do. And overall support for increased immigration is now the highest the survey has ever measured. The World Values Survey, a long-running academic study, found that in 2022 58 percent of Britons thought that the government should let anyone into the country as long as there were jobs available, with a further 10 percent saying there shouldn’t be any restrictions.\\n\\nThat’s all the more remarkable because immigration numbers are actually much higher now than when Britain left the European Union in 2020. Net migration (the number of immigrants arriving, minus the number of people who left the country) has been especially high in the last year because people arriving from Ukraine and Hong Kong under special visa programs.\\n\\nThere are some political reasons that hasn’t provoked a backlash. As I’ve written in the past, Ukrainians have a lot of public support because of a sense that Russia is a shared threat, and that helping Ukrainian refugees helps the Ukrainian war effort.\\n\\nBut the bigger difference seems to be that the era of free (and therefore uncontrolled-seeming) European immigration ended when Britain left the European Union in 2020. Ukrainian refugees and people fleeing China’s security crackdown in Hong Kong have had access to special visa programs that allow them to enter the country via normal channels. Only a tiny fraction of migrants arrive without prior permission, and nearly all of those apply for asylum.',\n",
              " 'https://www.nytimes.com/2023/03/01/world/africa/david-mabuza-resignation-south-africa.html': 'JOHANNESBURG — David Mabuza, the deputy president of South Africa whose political rise became emblematic of the scandals and leadership crises that have eroded the credibility of the governing African National Congress party, has resigned.\\n\\nMr. Mabuza was sworn in as deputy president in 2019. Despite longtime accusations of financial misdeeds against Mr. Mabuza, his enduring presence alongside Mr. Ramaphosa cast doubt on the president’s ability to root out corruption and restore the reputation of the governing party.\\n\\nIn a statement on Wednesday, Mr. Ramaphosa thanked Mr. Mabuza for his “exceptional service to the country over the last five years.”\\n\\nMr. Ramaphosa is set to reshuffle his cabinet soon, moving around lawmakers to reflect shifts within the A.N.C. He will also appoint a minister of electricity, a new position announced last month to steer the country out of a “state of disaster” caused by prolonged, daily power outages.',\n",
              " 'https://www.nytimes.com/2023/03/01/world/europe/ukraine-bakhmut.html': 'Ukraine has sent reinforcements to Bakhmut, a senior Ukrainian official said on Wednesday, signaling the intensity of fighting in a city that has become a crucible in the east of the country as Russian forces gradually tighten their grip.\\n\\nSpeaking on Ukrainian television, the official, Deputy Defense Minister Hanna Maliar, did not say how many troops were being sent or for what purpose. It is unclear if the reinforcements could be needed for cover or logistical support in case of a Ukrainian withdrawal, or whether they could be part of an effort to continue to defend Bakhmut and possibly to keep Russian forces tied up so they cannot redeploy to other battles.\\n\\nUkrainian soldiers have for months held out in Bakhmut, where the death toll has been staggering on both sides. Russian forces, including large numbers of newly mobilized recruits, have been rushed to the front line in the east, giving Ukraine opportunity to inflict thousands of casualties, even at a high cost to its own fighters.\\n\\nRussia has sustained more combat deaths in the war’s first year than in all the conflicts it has fought since World War II combined, including Chechnya and Afghanistan, according to the Center for Strategic and International Studies, a research organization based in Washington.',\n",
              " 'https://www.nytimes.com/2023/03/01/world/europe/denmark-great-prayer-day-military-nato.html': 'Lawmakers in Denmark have voted to eliminate Great Prayer Day, a religious holiday that dates back more than three centuries, so that workers can produce extra tax revenue that could be used for military spending as the country aims to meet its NATO target.\\n\\nThe government estimated that scrapping the public holiday, one of 11 in the country, and keeping businesses open would provide an additional three billion Danish kroner, about $430 million, that could be added to the military budget. Prime Minister Mette Frederiksen cited the war in Ukraine as an argument for needing the extra funds.\\n\\nBut the effort to scrap the holiday starting next year, as first proposed by Ms. Frederiksen in December, has proved unpopular with the public, drawing criticism from trade unions, clergy members and opposition parties. Asking people to forgo the holiday, which comes with its own rituals but is treated by many Danes as just another day off, set off a national debate about work, religion, tradition and war.\\n\\nLizette Risgaard, the president of the Danish Confederation of Trade Unions, said on Twitter that there were “massive problems with the government’s proposal,” calling it a de facto wage reduction for employees and lamenting the loss of free time.',\n",
              " 'https://www.nytimes.com/2023/03/01/business/china-factories-economy.html': 'After being brutally battered by the coronavirus pandemic last year, Chinese factories bounced back with unexpected vigor last month.\\n\\nThe official index of manufacturing activity, based on surveys of purchasing managers at companies in China, shot up in February from the month before to its highest level in more than a decade. The index of service sector activity also rose. Both measures suggested that business had expanded for a second straight month, after contracting during the Covid restrictions.\\n\\nAfter a year of unrelenting lockdowns, quarantines and coronavirus testing that paralyzed much of the country, Beijing lifted restrictions without warning in early December. The abrupt reversal in policy resulted in a rampage of infections, and rough estimates suggest that up to 1.5 million people have died in the Covid wave. But it also freed the economy to begin a revival.\\n\\n“Overnight we’ve seen a decent change in momentum for risk as upbeat China data has revived optimism for the reopening trade that has been flagging of late,” analysts at Deutsche Bank wrote after the statistics were released. The Hang Seng stock index in Hong Kong rose more than 4 percent on Wednesday.',\n",
              " 'https://www.nytimes.com/2023/03/01/briefing/chicago-mayor-election.html': 'Progressives have struggled to develop a persuasive response. Some have suggested that the crime increase is mostly a right-wing talking point, but the statistics say otherwise. And voters evidently agree with the statistics:\\n\\nIn New York City, Eric Adams won the mayor’s race in 2021 by focusing his campaign on crime. In the Democratic primary, he lost only one of the city’s five boroughs: Manhattan, the wealthiest.\\n\\nIn New York State last year, Republican candidates in the midterms focused on crime and did much better than usual. Democratic candidates often tried to change the subject. “I think those who stated, ‘Don’t talk about crime,’ it was an insult to Black and brown communities where a lot of this crime was playing out,” Adams said after the election. Nancy Pelosi told The Times’s Maureen Dowd that Democrats might have maintained control of the House of Representatives if the party’s candidates in New York had taken crime more seriously.\\n\\nRepublicans also fared well last year in Oregon, where the largest city — Portland — has become a symbol of post-pandemic disorder. Between 2019 and 2022, murders nearly tripled, vandalism incidents nearly doubled and car thefts rose 69 percent.\\n\\nThe Bass model\\n\\nKaren Bass, the recently elected mayor of Los Angeles, has developed arguably the most successful progressive message on crime. A former community organizer who spent 12 years in the House of Representatives, Bass defeated a more conservative candidate not by downplaying crime concerns but by talking about them frequently. Bass herself was a burglary victim last year.\\n\\nShe has tried to strike a balance by calling for both the hiring of hundreds of additional police officers and tougher punishments for abusive officers. “We must stop crimes in progress and hold people accountable,” she said in her inaugural address. “Let me be so bold as to add that we can prevent crime and community violence by addressing the social, the health and the economic conditions that compromise a safe environment.”\\n\\nThe Chicago runoff will become the next test of whether a progressive message on crime can win in an overwhelmingly Democratic city. As was the case in Los Angeles, the more progressive candidate — Johnson — is Black, while the more conservative one — Vallas — is white.\\n\\nIn the past, Johnson supported calls to defund the police but he has tried to avoid the subject during the mayoral campaign. He has instead emphasized his plans to build more housing, expand pre-K and increase funding for social services. He is likely to portray Vallas as a conservative who is out of touch with Chicago. The local police union, whose top official is a Donald Trump supporter, has endorsed Vallas.\\n\\n“No matter where you live, no matter what you look like, you deserve to have a better, stronger, safer Chicago,” Johnson said at his election night party last night.\\n\\nAs the chief executive of the Chicago schools, Vallas expanded the number of charter schools. As a mayoral candidate, he has focused overwhelmingly on public safety, calling it “a basic human right for Chicagoans,” and promising an expansion of the police force, and described the city as being in disarray. He is likely to emphasize Johnson’s previous support for defunding the police.\\n\\n“We will make Chicago the safest city in America,” Vallas said last night.\\n\\nRelated: Read The Times’s coverage of the election, and see the results for all nine candidates.',\n",
              " 'https://www.nytimes.com/2023/03/01/world/europe/15-minute-city-conspiracy.html': 'LONDON — It is an old, seemingly innocuous idea among city planners: The closer you live to your workplace, shops, schools and other amenities, the better your quality of life will be.\\n\\nBut the concept of so-called 15-minute cities, in which life’s necessities are only a short walk or bike ride from home, does not sound utopian to everyone. To some, it sounds like a restriction on the routine act of driving a car. To others, especially on the far right, it sounds like the first step to draconian government lockdowns that will confine people in their homes.\\n\\nRegardless, it has become a source of widespread confusion, disinformation and conspiracy theories.\\n\\nA quick history of the 15-minute city.\\n\\nThe idea behind 15-minute cities is not a new one, and is familiar to anyone who has strolled around the historic villages of Europe or remembers bustling Main Streets in the United States before the postwar sprawl that arrived with the Interstate System.\\n\\nMore recently, developments that market themselves as places to live, work and play have helped breathe new life into America’s inner cities. In 2012, Portland, Ore., adopted a plan for “20-minute neighborhoods,” in which residents could live within a half-mile of amenities such as grocery stores, parks and elementary schools.',\n",
              " 'https://www.nytimes.com/2023/03/01/world/europe/turkey-quake-cruise-ship.html': 'The dinner theater is now a day care center, where children rifle through boxes of donated toys. The beauty salon has turned into a one-man barbershop.\\n\\nOn a recent afternoon, young boys raced across the wide decks that run the length of the Gemini, a cruise ship floating off the coast of southern Turkey. Families drank tea and peered at an amphitheater of mountains encompassing the lives they had lost beneath the rubble of two earthquakes that decimated a wide section of Turkey and western Syria.\\n\\n“We’re in a strange dream — it is haunting,” said Basak Atay, a 30-year-old nurse. She has spent the past several days living with her family on the 538-foot luxury ship, which has become a shelter for some of the estimated 1.7 million Turks displaced by the quakes and their aftershocks.\\n\\n“I would never have guessed that I would be on a cruise to nowhere at a moment like this,” said Ms. Atay, who lost family and friends in the quakes.',\n",
              " 'https://www.nytimes.com/2023/03/01/world/europe/greece-train-crash.html': 'Rescue workers in Greece frantically searched for survivors through flattened carriages and smoking wreckage on Wednesday after a high-speed, head-on collision between a freight train and a passenger train killed at least 38 people and injured scores of others in what appeared to be the country’s deadliest rail accident.\\n\\nKostas A. Karamanlis, the Greek transport minister, announced hours after the crash that he would resign, saying in a statement that “when something so tragic happens, it’s impossible to continue as if nothing had happened.”\\n\\n“It’s a fact that we inherited the Greek railway in a state that is not fitting for the 21st century,” he added. “In those three and a half years we made every effort to improve this reality. Unfortunately, those efforts were not adequate to avert such a tragedy.”\\n\\nIt was not immediately clear what led to the crash, which happened as the passenger train traveled from Athens to the northern city of Thessaloniki just before midnight on Tuesday. Prime Minister Kyriakos Mitsotakis told reporters after visiting the crash site that “tragic human error” had led to the crash, but gave no further details.',\n",
              " 'https://www.nytimes.com/2023/03/01/world/europe/us-fears-lukashenkos-visit-to-china-is-strengthening-ties-between-russias-closest-allies.html': 'The United States is framing a visit to China by President Aleksandr G. Lukashenko of Belarus as a sign of Beijing’s support for the war in Ukraine and an attempt by two of Russia’s closest allies to strengthen ties.\\n\\nThe three-day trip, during which Mr. Lukashenko is expected to meet with China’s leader, Xi Jinping, “is just another element of the P.R.C.’s deepening engagement with Russia, with all of those who are engaged with and supporting Russia’s brutal war against Ukraine,” Ned Price, the State Department spokesman, said on Monday, using an abbreviation for the People’s Republic of China.\\n\\nChina is trying to present itself as a neutral observer in the war while maintaining close strategic ties to Russia, part of a desire to be a global counterweight to Washington. Just before President Vladimir V. Putin of Russia invaded Ukraine last year, Moscow and Beijing declared a “no limits” partnership.\\n\\nBelarus is one of Russia’s staunchest allies. Mr. Lukashenko allowed Russian forces to use Belarus as a staging ground for assaults against Ukraine at the start of the war last year. Analysts say that economic support will be a priority for Mr. Lukashenko’s China visit, with Belarus becoming more isolated by sanctions.',\n",
              " 'https://www.nytimes.com/2023/03/01/briefing/spending-ukraine-nigeria-election-israel.html': 'Questions over U.S. spending in Ukraine\\n\\nRepublicans in Congress sharply questioned senior Pentagon officials about the tens of billions of dollars in aid the U.S. has sent to Ukraine, casting fresh doubt on whether they would embrace future spending as Democrats pleaded for a cleareyed assessment of how much more money would be needed.\\n\\nConcerns about the high cost of sending weapons to Kyiv have intensified on Capitol Hill, threatening what has been a strong bipartisan consensus in favor of the aid. It could in turn make it more difficult for the Biden administration to win congressional approval of funds to replenish its military assistance accounts.\\n\\nThe criticisms came as Antony Blinken, the U.S. secretary of state, traveled to Central Asia to press his case that the region should hold the line against Russian efforts to seek economic aid as Moscow grapples with Western sanctions. He was warmly met in Kazakhstan, where the president, Kassym-Jomart Tokayev, thanked the U.S. for its support.\\n\\nCentral Asia: Kazakhstan, Kyrgyzstan, Tajikistan, Turkmenistan and Uzbekistan maintain close diplomatic, security and economic ties to Russia and China. The U.S. hopes to encourage the countries to resist pressure from Russia to provide it with support as it struggles on the battlefield.',\n",
              " 'https://www.nytimes.com/2023/03/01/world/middleeast/israel-palestinian-safe-house-raid.html': 'When Israeli forces entered the city of Nablus in the occupied West Bank on the morning of Feb. 22, their goal was to apprehend three members of an armed Palestinian group in a single safe house. But after a firefight broke out with the three gunmen, chaos and violence spread well beyond the stated targets and into the busy surrounding streets.\\n\\nMinutes after the rare and risky daytime raid began, additional support vehicles from Israel’s military and the police entered Nablus, establishing a perimeter around the old city, and blocking entry and exit points. Traveling in armored vehicles, the security forces were pelted with stones and oranges, and in some cases fired upon by other Palestinian gunmen.\\n\\nThe three men in the safe house and another gunman were killed. But in other cases, videos show that Israeli soldiers used deadly force against unarmed Palestinians, killing at least four people who did not appear to pose a threat.\\n\\nIn total, 11 people were killed and over 100 wounded, according to the Palestinian Health Ministry. The Israel Defense Forces reported no injuries.\\n\\nThe operation came at a time when the situation in the West Bank has been rapidly deteriorating. One act of violence is typically responded to by another, accelerating a cycle of bloodshed. Palestinian officials said this was the deadliest start to a year there since 2000. Sixty-four Palestinians have been killed over the last two months, and at least 13 Israelis have been killed in the territory and Jerusalem.\\n\\nThe Times obtained security camera footage, witness video and testimony from multiple locations in Nablus, and reviewed posts and live streams from social media that captured the operation to establish where and when the raid and ensuing lethal action played out.\\n\\nIn response to questions from The Times, the I.D.F. said that “the circumstances” of the raid were under examination.',\n",
              " 'https://www.nytimes.com/2023/02/28/world/africa/nigeria-election-bola-tinubu.html': 'This is a real concern in Nigeria, where several leaders have died in office, and where the current president, Muhammadu Buhari, spent a large chunk of his first term absent, receiving medical treatment in London, for an illness he refused to discuss.\\n\\nMany Nigerians believe that their country, as Africa’s biggest economy, needs an energetic leader.\\n\\nMr. Tinubu ran Lagos as governor for eight years, and then mentored his successors, giving him a reputation as a political “godfather,” able to ensure that some people’s careers took off while others’ sank.\\n\\nHe has also claimed that without his influence, Mr. Buhari, who lost the presidential elections several times before winning his first term in 2015, would never have become president.\\n\\nIn the run-up to this election, Mr. Tinubu used the slogan, “It’s my turn” — flaunting his role as kingmaker, but also alienating many voters.\\n\\nA Muslim from Nigeria’s southwest, Mr. Tinubu may struggle to unite Nigeria’s diverse population. He ran for president with another Muslim on the ticket — Kashim Shettima, a former governor of Borno state in the northeast, which has been the epicenter of Boko Haram’s campaign of terrorism for over a decade.',\n",
              " 'https://www.nytimes.com/2023/02/28/world/canada/canada-elections-foreign-interference.html': 'OTTAWA — Foreign governments tried to interfere with the last two federal elections in Canada, but they did not succeed in “impacting” the voting results, according to an independent review released on Tuesday.\\n\\nThat conclusion comes as opposition politicians and others are pressing Prime Minister Justin Trudeau to open a separate, public inquiry into allegations of election interference by Chinese diplomats based in Canada, as well as by informal agents of the Chinese government — a move that Mr. Trudeau has rejected.\\n\\nThe report released on Tuesday was a review of the work of a special panel of five senior public servants, created to work with intelligence and law enforcement agencies to alert the public to any “incidents that threaten the integrity of a federal election.”\\n\\nMorris Rosenberg, the former deputy justice minister who wrote the report, said the panel had “determined that the government of Canada did not detect foreign interference that threatened Canada’s ability to have free and fair elections,” adding: “National security agencies saw attempts at foreign interference, but not enough to have met the threshold of impacting electoral integrity.”',\n",
              " 'https://www.nytimes.com/2023/02/28/world/europe/train-crash-greece.html': 'Hospital units used to treat burn victims had been alerted in the area, Mr. Varthakoyiannis said, adding that dozens of ambulances were involved in the rescue effort. The fire service said 85 people had been injured, 53 of whom were still hospitalized.\\n\\nSurvivors said several passengers were thrown through the windows of the train cars. They said others fought to free themselves after the passenger train buckled, slamming into a field next to the tracks.\\n\\nRescuers wearing head lamps worked in thick smoke, pulling pieces of mangled sheet metal from the crashed rail cars to search for trapped people.\\n\\n“It was a very powerful collision. This is a terrible night,” Costas Agorastos, the regional governor of the central Thessaly area, told state-run television. “The front section of the train was smashed.”\\n\\nThe governor added that cranes and “special lifting equipment” were coming in to clear the debris and lift the rail cars. “There’s debris flung all around the crash site,” he said.',\n",
              " 'https://www.nytimes.com/2023/02/28/world/asia/blinken-russia.html': 'ASTANA, Kazakhstan — Secretary of State Antony J. Blinken came to Central Asia to press his case that the region should hold the line against Russian efforts to seek economic aid as Moscow grapples with Western sanctions.\\n\\nWithin hours of landing in Astana, the snow-draped capital of Kazakhstan, he received a sign that the United States had some leverage. The Kazakh president stood next to Mr. Blinken in the blue-domed presidential palace and thanked the Americans for their support of his nation’s “independence, territorial integrity and sovereignty.”\\n\\nThe president, Kassym-Jomart Tokayev, has not criticized Russia’s war, and neither have leaders of the four other Central Asian nations, former Soviet republics with decades-long ties with Moscow. But his pointed statement suggested that, after the invasion of Ukraine, also a former Soviet republic, there was concern that President Vladimir V. Putin of Russia could try to seize parts of their own nations or encourage separatists.\\n\\nParts of northern Kazakhstan are inhabited largely by ethnic Russians and are viewed by Russian nationalists as territory that should belong to Russia. So there is concern that those Kazakh residents could fall victim to Mr. Putin’s logic that Moscow has a duty to “protect” ethnic kin wherever they are.',\n",
              " 'https://www.nytimes.com/2023/02/28/world/europe/russia-ukraine-drone-strikes.html': 'Russian officials accused Ukraine on Tuesday of deploying attack drones over Russian territory, a salvo that highlights Russia’s vulnerability within its borders.\\n\\nThe attacks, as described by Russian officials, pierced a vast swath of Russian airspace, from Krasnodar in the country’s south to within about 60 miles of Moscow, the capital, in the west, on Monday night and Tuesday morning. The Ukrainian government publicly follows a policy of deliberate ambiguity about strikes on Russian territory.\\n\\nAndrei Vorobyov, the governor of the Moscow region, said on the social messaging platform Telegram that a drone had crashed near the village of Gubastovo, about 60 miles from Moscow and 280 miles from the country’s border with Ukraine. Mr. Vorobyov did not specify that the drone was Ukrainian, but he said that the Federal Security Service — Russia’s military and primary security service — had responded to the site of the crash.\\n\\nAleksandr Bogomaz, the governor of Bryansk region, said on Telegram on Tuesday that in another incident, Russian forces had shot down a Ukrainian drone over the Surazhsky district, about 50 miles from the border with Ukraine. He added that the drone did not appear to cause any damage.',\n",
              " 'https://www.nytimes.com/2023/02/28/world/middleeast/israel-netanyahu-government.html': 'JERUSALEM — When Benjamin Netanyahu returned to power late last year, he repeatedly reassured skeptics that he would be able to maintain Israeli stability, despite governing in coalition with far-right settler activists and ultraconservative religious leaders.\\n\\nBut while Mr. Netanyahu’s juggling act initially seemed to succeed, there are now signs that his control over his country’s security situation and his own coalition is ebbing. Amid social turmoil in Israel and unusually intense violence in the occupied territories, Mr. Netanyahu’s efforts to balance the interests of his extremist allies with the demands of more moderate Israelis and foreign allies have begun to falter.\\n\\nOn Monday, a day after Israeli settlers rampaged largely unchecked through several Palestinian villages in the West Bank to avenge the killing of two Jews, setting fires to homes and businesses, Israel’s political divisions were on clear display.\\n\\nA far-right party in the coalition, led by Mr. Netanyahu’s national security minister, boycotted a session in Parliament at which the prime minister spoke out against the arson attacks. An ultra-Orthodox party also stayed away for most of the session. Then another far-right ally resigned as a deputy minister, complaining that Mr. Netanyahu had reneged on their coalition agreement.',\n",
              " 'https://www.nytimes.com/2023/02/28/climate/esg-climate-backlash.html': 'It’s been a widely accepted trend in financial circles for nearly two decades. But suddenly, Republicans have launched an assault on a philosophy that says that companies should be concerned with not just profits but also how their businesses affect the environment and society.\\n\\nMore than $18 trillion is held in investment funds that follow the investing principle known as E.S.G. — shorthand for prioritizing environmental, social and governance factors — a strategy that has been adopted by major corporations around the globe.\\n\\nNow, Republicans around the country say Wall Street has taken a sharp left turn, attacking what they term “woke capitalism” and dragging businesses, their onetime allies, into the culture wars.\\n\\nThe rancor escalated this week as Congress entered the fray. Republicans used their new majority in the House on Tuesday to vote, 216 to 204, to overturn a Department of Labor rule that allows retirement funds to consider climate change and other factors when choosing companies in which to invest. The Senate followed on Wednesday, as two Democrats, Senators Joe Manchin III of West Virginia and Jon Tester of Montana, joined Republicans in a 50-to-46 vote to send the resolution to President Biden’s desk.',\n",
              " 'https://www.nytimes.com/2023/02/28/business/economy/biden-chips-semiconductor-subsidies-aid.html': 'WASHINGTON — President Biden’s plan to plow billions of dollars into semiconductor manufacturing represents a sharp turn in American economic policy, one aimed at countering China by building up a single, critical industry. But Mr. Biden is going even further. He is using the money to change how corporations behave.\\n\\nIf semiconductor manufacturers want a piece of the nearly $40 billion in aid that Mr. Biden’s administration began the process of handing out on Tuesday, they will need to provide child care for employees, run their plants on low-emission sources of energy, pay union wages for construction workers, shun stock buybacks and potentially share certain profits with the government.\\n\\nThat decision is a bet on the power of the federal government to transform private industry. But it is also a distinct break from how the United States has traditionally engaged with corporate America. The president is essentially incorporating disparate policy objectives into a big spending bill that was sold as an effort to shore up a supply of semiconductors critical for the economy and national security.\\n\\nThe approach could amplify the effects of the CHIPS Act and other economic bills Mr. Biden has signed into law over the past two years, by accomplishing multiple goals at the same time. Administration officials say the money and the guidelines will drive American industry toward Mr. Biden’s vision of an economy with more U.S. production, better conditions for workers and fewer of the fossil fuel emissions driving climate change.',\n",
              " 'https://www.nytimes.com/2023/02/28/briefing/russia-china-covid-nigeria-election.html': 'A U.S. push in Central Asia\\n\\nThe U.S. secretary of state met with the president of Kazakhstan in Astana at the start of a new effort to isolate Russia as Belarus’s leader began a state visit to China — the latest examples of dueling diplomacy related to the war in Ukraine.\\n\\nAntony Blinken, the top U.S. diplomat, is urging five Central Asian countries that were part of the former Soviet Union — Kazakhstan, Kyrgyzstan, Tajikistan, Turkmenistan and Uzbekistan — not to help Russia evade sanctions imposed by the West over its invasion of Ukraine. The countries have strong ties to Russia, but leaders there have made comments reflecting concerns about maintaining their sovereignty.\\n\\nOne of Russia’s staunchest allies, President Aleksandr Lukashenko of Belarus, arrived in Beijing for talks with China’s leader, Xi Jinping. The U.S. has suggested that China was preparing to supply military aid to Russia, a claim rejected by the Chinese government.\\n\\nU.S. officials said they viewed Lukashenko’s visit as another sign of China’s growing engagement with Russia. Blinken’s trip to Central Asia follows recent visits to Kyiv by President Biden and U.S. Treasury Secretary Janet Yellen that were intended to shore up support for Ukraine.',\n",
              " 'https://www.nytimes.com/2023/02/28/world/europe/uk-king-charles-northern-ireland.html': 'LONDON — King Charles III had nothing to do with the Northern Ireland trade agreement unveiled on Monday by Britain and the European Union. But one could be forgiven for thinking that he had put his royal imprimatur on the deal.\\n\\nIt is called the Windsor Framework, which happens to be the king’s family name. It was sealed at a luxury hotel in Windsor, west of London, where he has a castle. And it was there, at Windsor Castle, that Charles welcomed one of the negotiators, Ursula von der Leyen, the president of the European Commission, for tea just minutes after she and Prime Minister Rishi Sunak presented the deal to the world.\\n\\nThat courtesy call, and the resulting photo of a smiling king appearing to celebrate his guest, prompted angry recrimination from critics, who said the government improperly recruited King Charles to be an ally in one of the most divisive issues in British politics. By tradition, Britain’s constitutional monarch steers clear of politics, to say nothing of the noxious crosswinds of Brexit.\\n\\nBuckingham Palace and Downing Street appeared at odds over who had initiated the meeting with Ms. von der Leyen. The palace said the king was acting on the “government’s advice,” while a spokesman for the prime minister said Mr. Sunak “firmly believes it’s for the king to make those decisions.”',\n",
              " 'https://www.nytimes.com/2023/02/28/world/europe/russian-plane-belarus-damage.html': 'A Belarusian opposition group said that an attack seriously damaged a Russian military aircraft at a Belarusian air base over the weekend and rendered it unable to operate. Satellite images collected on Tuesday showed possible damage, but could not confirm the extent.\\n\\nThe images clearly show the plane, an A-50 early warning and control aircraft, is structurally intact. However, they also show a new dark spot on the plane’s large radar disc, indicating possible damage. The satellite images do not conclusively show whether the plane was still functional.\\n\\nThe A-50 aircraft is a critical asset in Russia’s air operations against Ukraine. The opposition group, Bypol — formed after a disputed presidential election in 2020 — said on Sunday that the Russian military surveillance aircraft was attacked with drones at the Machulishchy air base south of the capital, Minsk. It hinted that “Belarusian partisans” were responsible, but did not elaborate.\\n\\nThe British Ministry of Defense tweeted on Tuesday that if the airplane were confirmed lost, it “would be significant as it is critical to Russian air operations for providing an air battle space picture.” It said Russia would likely only have six of such planes left.',\n",
              " 'https://www.nytimes.com/2023/02/28/world/asia/china-russia-belarus.html': 'President Aleksandr G. Lukashenko of Belarus arrived in Beijing on Tuesday for a three-day visit in which China’s top leader, Xi Jinping, is expected to meet with him, lending support to one of Russia’s staunchest allies amid growing concerns in the United States and Europe about China’s position on the war in Ukraine.\\n\\nMr. Lukashenko, who has led Belarus since 1994, allowed Russia to use his country as a staging ground to invade Ukraine more than a year ago, which resulted in Western sanctions against Minsk. A 68-year-old authoritarian, Mr. Lukashenko has been wholly reliant on President Vladimir V. Putin of Russia since the Kremlin helped him crush antigovernment protests in Belarus in 2020.\\n\\nThe United States said it viewed the visit by the leader of one of Moscow’s client states as another sign of China’s growing ties with the Kremlin and its support for Russia’s side in the conflict in Ukraine, which has grown into another major flash point between the world’s two superpowers.\\n\\n“The fact that the P.R.C. is now engaging with Lukashenko, who has, in effect, ceded his own sovereignty to Russia, is just another element of the P.R.C.’s deepening engagement with Russia, with all of those who are engaged with and supporting Russia’s brutal war against Ukraine,” Ned Price, the State Department spokesman, said on Monday, referring to the People’s Republic of China.',\n",
              " 'https://www.nytimes.com/2023/02/28/world/africa/nigeria-election-challenges.html': 'Follow our live coverage of Nigeria’s presidential election.\\n\\nNigeria’s two major opposition parties on Tuesday called for the presidential election to be canceled and rerun, saying that it had been compromised by vote rigging and widespread violence.\\n\\nThe election over the weekend in the West African nation — the most populous on the continent, with 220 million people — was the most wide open in years, with a surprise third-party candidate putting up an assertive challenge.\\n\\nOn Tuesday, the chairmen of the two major opposition parties — the People’s Democratic Party and the Labour Party — called for the head of the government’s electoral commission to resign, even as the commission continued to release results.\\n\\nWith more than two-thirds of the 36 states reporting results, by Tuesday evening, Bola Tinubu, the candidate of the governing All Progressives Congress party appeared some distance ahead of his rivals in the count, with 39 percent of the vote. To win, a candidate needs the most votes, plus 25 percent of the vote in two-thirds of the nation’s 36 states.',\n",
              " 'https://www.nytimes.com/2023/02/28/world/europe/ukraine-bakhmut-zelensky.html': 'President Volodymyr Zelensky of Ukraine has issued a stark warning about the battle for the eastern city of Bakhmut, saying in an overnight speech that Russian forces were shattering anything that could be used to shield Ukrainian defenders from Moscow’s onslaught.\\n\\n“The situation is getting more and more difficult,” Mr. Zelensky said late Monday night. “The enemy is constantly destroying everything that can be used to protect our positions, to gain a foothold and ensure defense.”\\n\\nBakhmut, which had a prewar population of around 70,000 people, has become a focus of the fighting in Ukraine. Much of the city has been battered, though little ground has changed hands recently even as both sides pour in troops and take significant losses.\\n\\nThe commander of Ukraine’s ground forces, Col. Gen. Oleksandr Syrsky, on Tuesday described the situation around the city as “extremely tense” in a post on the Telegram messaging app.',\n",
              " 'https://www.nytimes.com/2023/02/28/briefing/supreme-court-student-debt.html': '“I’ll be interested in whether the administration’s statement that the pandemic emergency will end in May makes some of the justices skeptical about whether the loan forgiveness program is warranted,” my colleague Adam Liptak, who covers the court, said.\\n\\nWhat is Biden’s response?\\n\\nThe administration argues that the program is tailored to help Americans who could be left worse off by the pandemic.\\n\\nTo the extent those people are doing better now than they were before the pandemic, it is largely because the federal government provided so much help, including the student debt reprieve, the administration argues. And the economic effects of Covid linger.\\n\\nA political reality is also clear, though White House officials typically won’t acknowledge it publicly: This approach is the best they could come up with so long as Congress doesn’t act on student debt.\\n\\nIt is a pattern that has persisted over the past couple of decades. When Congress is gridlocked, presidents often try to act unilaterally. But presidents have limited latitude for new policies without new legislation, so their unilateral actions are more vulnerable to legal challenges — putting the courts at the center of major political battles. “The courts are powerful in the U.S. because the legislature is broken,” Kim Lane Scheppele, a legal expert at Princeton University, said.\\n\\nWhat could the court do?\\n\\nThe court case itself is not about the merits of the program, but about the president’s powers in the absence of a mandate from Congress.\\n\\nIf the Supreme Court agrees with Biden’s critics that the loan forgiveness plan is presidential overreach, the court could end the program entirely. It could also further limit presidential powers beyond debt relief, potentially restraining executive actions on other fraught political and economic issues. Given the court’s 6-3 conservative majority, that outcome is plausible.',\n",
              " 'https://www.nytimes.com/2023/02/28/world/europe/uk-eu-sunak-brexit.html': 'It remains to be seen whether the agreement will clear the way for Northern Ireland to form a government after months of paralysis in Belfast. That will depend on whether the Democratic Unionists can be coaxed back into a power-sharing arrangement with the Irish nationalist party, Sinn Fein.\\n\\nUnderstand the Deal Over the Northern Ireland Protocol Card 1 of 6 Healing a Brexit wound. Britain and the European Union struck a landmark agreement to end a festering dispute over post-Brexit trade rules known as the Northern Ireland Protocol, potentially resolving one of the most poisonous legacies of Britain’s exit from Europe’s trade bloc in 2020. Here’s what to know about the dispute and the renegotiated agreement: What is at issue? Northern Ireland is part of the United Kingdom, but it shares a land border with Ireland, an E.U. member. Negotiators have struggled to find a way to allow goods to move smoothly between Northern Ireland and the rest of the United Kingdom, without threatening the open border between Northern Ireland and Ireland. What is the Northern Ireland Protocol? The original protocol, signed in 2020, effectively left Northern Ireland half inside the European system and half inside the British one. The Irish border remained open, but that meant that to enforce differing customs rules, goods had to be checked when they crossed between Northern Ireland and the rest of the United Kingdom. Why was this a problem? The system of customs checks effectively created a trade border inside of Britain, down the Irish Sea. Some British companies stopped shipping goods to Northern Ireland, blaming the added paperwork. The situation enraged some Conservative Party lawmakers and many of Northern Ireland’s unionists — the largely Protestant part of the territory that wants to remain in Britain. How does the new deal address this? The latest agreement, called the Windsor Framework, looks to smooth over some of the original protocol’s contradictions. One way is by creating a “green lane” with little bureaucracy for goods traveling from Britain to Northern Ireland that are destined to stay there. Goods headed on to Ireland will use a “red lane,” with full checks. What is at stake? Some in Brussels have spoken of a threat to the integrity of the E.U.’s single economic market, while some in London and Belfast have warned of a threat to the coherence of the United Kingdom. There are also concerns about the fragility of peace in Northern Ireland, a region where decades of sectarian violence left thousands dead.\\n\\n\\n\\n\\n\\n\\n\\n\\n\\n\\n\\nSome unionists expressed anger at what they said was the government’s improper use of King Charles III, who is supposed to be above politics, to sell the deal. It is called the Windsor Framework, which happens to be the king’s family name. It was sealed at a hotel in Windsor, west of London, where the king has a castle. And Charles welcomed one of the signatories, Ursula von der Leyen, president of the European Commission, for tea shortly after she and Mr. Sunak announced the deal.\\n\\nStill, the generally positive reaction to the agreement, analysts said, is a tribute to Mr. Sunak’s negotiating skills. On the issues that matter to the Brexiteers, like the jurisdiction of European Union law over Northern Ireland, he extracted significant concessions from Brussels. Under the terms of the deal, the territory’s elected assembly will have a lever to reject the imposition of new E.U. laws.\\n\\nMr. Sunak was able to obtain such compromises, they said, because his counterparts in Brussels viewed him as a good-faith negotiator, who earnestly sought a deal to reset relations between London and Brussels.\\n\\nThat is a stark contrast to his predecessors, Liz Truss and Boris Johnson. Mr. Johnson is viewed with suspicion in many European capitals as the man who reneged on his own Northern Ireland trade deal with Brussels. As foreign secretary, Ms. Truss proposed legislation — which Mr. Sunak has now scrapped — that would unilaterally discard parts of that agreement.\\n\\n“Sunak’s agreement significantly improves upon the deal Johnson did,” said Mujtaba Rahman, a former European Commission official who is now an analyst at the political risk consultancy, Eurasia Group. “He’s not instrumentalizing Northern Ireland in the way that Johnson and Truss did for their own domestic political purposes.”\\n\\nBeyond the fine print in the deal, which covers issues like the customs paperwork needed to mail packages, Mr. Sunak also benefited from the passage of time. Nearly seven years after the referendum that set Brexit in motion, the country has grown weary of ceaseless debates about it.'}"
            ]
          },
          "metadata": {},
          "execution_count": 30
        }
      ]
    },
    {
      "cell_type": "code",
      "source": [
        "df['text'] = list(article_text_dict.values())\n",
        "df.head()"
      ],
      "metadata": {
        "id": "Tkabh3qca9Ud",
        "outputId": "1716e020-9849-4367-e871-69fd2c92d3ab",
        "colab": {
          "base_uri": "https://localhost:8080/",
          "height": 520
        }
      },
      "execution_count": null,
      "outputs": [
        {
          "output_type": "execute_result",
          "data": {
            "text/plain": [
              "                                               title  \\\n",
              "0  Live Updates: Top U.S. and Russian Diplomats M...   \n",
              "1  A Ukrainian Mayor Disappeared, but Questions o...   \n",
              "2  Anger Grows in Greece After Train Crash Kills ...   \n",
              "3   Canadians Fume as Migrants Surge at Their Border   \n",
              "4  As France Faces Backlash in Africa, Macron Tri...   \n",
              "\n",
              "                         published  \\\n",
              "0  Thu, 02 Mar 2023 17:31:51 +0000   \n",
              "1  Thu, 02 Mar 2023 11:55:50 +0000   \n",
              "2  Thu, 02 Mar 2023 17:22:08 +0000   \n",
              "3  Thu, 02 Mar 2023 12:20:27 +0000   \n",
              "4  Thu, 02 Mar 2023 15:31:22 +0000   \n",
              "\n",
              "                                             summary  \\\n",
              "0  The American secretary of state and the Russia...   \n",
              "1  Traitor or hero? A decision by the former mayo...   \n",
              "2  As the death toll rose to 57, protesters clash...   \n",
              "3  A surge in illegal crossings from the United S...   \n",
              "4  President Emmanuel Macron has embarked on a fo...   \n",
              "\n",
              "                                           author  \\\n",
              "0                              The New York Times   \n",
              "1              Michael Schwirtz and Ivor Prickett   \n",
              "2  Emma Bubola, Iliana Magra and Niki Kitsantonis   \n",
              "3                                Norimitsu Onishi   \n",
              "4                                     Roger Cohen   \n",
              "\n",
              "                                                link  \\\n",
              "0  https://www.nytimes.com/live/2023/03/02/world/...   \n",
              "1  https://www.nytimes.com/2023/03/02/world/europ...   \n",
              "2  https://www.nytimes.com/2023/03/02/world/europ...   \n",
              "3  https://www.nytimes.com/2023/03/02/world/canad...   \n",
              "4  https://www.nytimes.com/2023/03/02/world/afric...   \n",
              "\n",
              "                                                text  \n",
              "0  Secretary of State Antony J. Blinken met brief...  \n",
              "1  KHERSON, Ukraine — The jailhouse near the Dnip...  \n",
              "2  The station manager in Larissa, about 12 miles...  \n",
              "3  “The fact that Biden is getting tougher reinfo...  \n",
              "4  President Emmanuel Macron of France has embark...  "
            ],
            "text/html": [
              "\n",
              "  <div id=\"df-a82a5fac-0ff7-4a1f-99cc-40217ae6ad86\">\n",
              "    <div class=\"colab-df-container\">\n",
              "      <div>\n",
              "<style scoped>\n",
              "    .dataframe tbody tr th:only-of-type {\n",
              "        vertical-align: middle;\n",
              "    }\n",
              "\n",
              "    .dataframe tbody tr th {\n",
              "        vertical-align: top;\n",
              "    }\n",
              "\n",
              "    .dataframe thead th {\n",
              "        text-align: right;\n",
              "    }\n",
              "</style>\n",
              "<table border=\"1\" class=\"dataframe\">\n",
              "  <thead>\n",
              "    <tr style=\"text-align: right;\">\n",
              "      <th></th>\n",
              "      <th>title</th>\n",
              "      <th>published</th>\n",
              "      <th>summary</th>\n",
              "      <th>author</th>\n",
              "      <th>link</th>\n",
              "      <th>text</th>\n",
              "    </tr>\n",
              "  </thead>\n",
              "  <tbody>\n",
              "    <tr>\n",
              "      <th>0</th>\n",
              "      <td>Live Updates: Top U.S. and Russian Diplomats M...</td>\n",
              "      <td>Thu, 02 Mar 2023 17:31:51 +0000</td>\n",
              "      <td>The American secretary of state and the Russia...</td>\n",
              "      <td>The New York Times</td>\n",
              "      <td>https://www.nytimes.com/live/2023/03/02/world/...</td>\n",
              "      <td>Secretary of State Antony J. Blinken met brief...</td>\n",
              "    </tr>\n",
              "    <tr>\n",
              "      <th>1</th>\n",
              "      <td>A Ukrainian Mayor Disappeared, but Questions o...</td>\n",
              "      <td>Thu, 02 Mar 2023 11:55:50 +0000</td>\n",
              "      <td>Traitor or hero? A decision by the former mayo...</td>\n",
              "      <td>Michael Schwirtz and Ivor Prickett</td>\n",
              "      <td>https://www.nytimes.com/2023/03/02/world/europ...</td>\n",
              "      <td>KHERSON, Ukraine — The jailhouse near the Dnip...</td>\n",
              "    </tr>\n",
              "    <tr>\n",
              "      <th>2</th>\n",
              "      <td>Anger Grows in Greece After Train Crash Kills ...</td>\n",
              "      <td>Thu, 02 Mar 2023 17:22:08 +0000</td>\n",
              "      <td>As the death toll rose to 57, protesters clash...</td>\n",
              "      <td>Emma Bubola, Iliana Magra and Niki Kitsantonis</td>\n",
              "      <td>https://www.nytimes.com/2023/03/02/world/europ...</td>\n",
              "      <td>The station manager in Larissa, about 12 miles...</td>\n",
              "    </tr>\n",
              "    <tr>\n",
              "      <th>3</th>\n",
              "      <td>Canadians Fume as Migrants Surge at Their Border</td>\n",
              "      <td>Thu, 02 Mar 2023 12:20:27 +0000</td>\n",
              "      <td>A surge in illegal crossings from the United S...</td>\n",
              "      <td>Norimitsu Onishi</td>\n",
              "      <td>https://www.nytimes.com/2023/03/02/world/canad...</td>\n",
              "      <td>“The fact that Biden is getting tougher reinfo...</td>\n",
              "    </tr>\n",
              "    <tr>\n",
              "      <th>4</th>\n",
              "      <td>As France Faces Backlash in Africa, Macron Tri...</td>\n",
              "      <td>Thu, 02 Mar 2023 15:31:22 +0000</td>\n",
              "      <td>President Emmanuel Macron has embarked on a fo...</td>\n",
              "      <td>Roger Cohen</td>\n",
              "      <td>https://www.nytimes.com/2023/03/02/world/afric...</td>\n",
              "      <td>President Emmanuel Macron of France has embark...</td>\n",
              "    </tr>\n",
              "  </tbody>\n",
              "</table>\n",
              "</div>\n",
              "      <button class=\"colab-df-convert\" onclick=\"convertToInteractive('df-a82a5fac-0ff7-4a1f-99cc-40217ae6ad86')\"\n",
              "              title=\"Convert this dataframe to an interactive table.\"\n",
              "              style=\"display:none;\">\n",
              "        \n",
              "  <svg xmlns=\"http://www.w3.org/2000/svg\" height=\"24px\"viewBox=\"0 0 24 24\"\n",
              "       width=\"24px\">\n",
              "    <path d=\"M0 0h24v24H0V0z\" fill=\"none\"/>\n",
              "    <path d=\"M18.56 5.44l.94 2.06.94-2.06 2.06-.94-2.06-.94-.94-2.06-.94 2.06-2.06.94zm-11 1L8.5 8.5l.94-2.06 2.06-.94-2.06-.94L8.5 2.5l-.94 2.06-2.06.94zm10 10l.94 2.06.94-2.06 2.06-.94-2.06-.94-.94-2.06-.94 2.06-2.06.94z\"/><path d=\"M17.41 7.96l-1.37-1.37c-.4-.4-.92-.59-1.43-.59-.52 0-1.04.2-1.43.59L10.3 9.45l-7.72 7.72c-.78.78-.78 2.05 0 2.83L4 21.41c.39.39.9.59 1.41.59.51 0 1.02-.2 1.41-.59l7.78-7.78 2.81-2.81c.8-.78.8-2.07 0-2.86zM5.41 20L4 18.59l7.72-7.72 1.47 1.35L5.41 20z\"/>\n",
              "  </svg>\n",
              "      </button>\n",
              "      \n",
              "  <style>\n",
              "    .colab-df-container {\n",
              "      display:flex;\n",
              "      flex-wrap:wrap;\n",
              "      gap: 12px;\n",
              "    }\n",
              "\n",
              "    .colab-df-convert {\n",
              "      background-color: #E8F0FE;\n",
              "      border: none;\n",
              "      border-radius: 50%;\n",
              "      cursor: pointer;\n",
              "      display: none;\n",
              "      fill: #1967D2;\n",
              "      height: 32px;\n",
              "      padding: 0 0 0 0;\n",
              "      width: 32px;\n",
              "    }\n",
              "\n",
              "    .colab-df-convert:hover {\n",
              "      background-color: #E2EBFA;\n",
              "      box-shadow: 0px 1px 2px rgba(60, 64, 67, 0.3), 0px 1px 3px 1px rgba(60, 64, 67, 0.15);\n",
              "      fill: #174EA6;\n",
              "    }\n",
              "\n",
              "    [theme=dark] .colab-df-convert {\n",
              "      background-color: #3B4455;\n",
              "      fill: #D2E3FC;\n",
              "    }\n",
              "\n",
              "    [theme=dark] .colab-df-convert:hover {\n",
              "      background-color: #434B5C;\n",
              "      box-shadow: 0px 1px 3px 1px rgba(0, 0, 0, 0.15);\n",
              "      filter: drop-shadow(0px 1px 2px rgba(0, 0, 0, 0.3));\n",
              "      fill: #FFFFFF;\n",
              "    }\n",
              "  </style>\n",
              "\n",
              "      <script>\n",
              "        const buttonEl =\n",
              "          document.querySelector('#df-a82a5fac-0ff7-4a1f-99cc-40217ae6ad86 button.colab-df-convert');\n",
              "        buttonEl.style.display =\n",
              "          google.colab.kernel.accessAllowed ? 'block' : 'none';\n",
              "\n",
              "        async function convertToInteractive(key) {\n",
              "          const element = document.querySelector('#df-a82a5fac-0ff7-4a1f-99cc-40217ae6ad86');\n",
              "          const dataTable =\n",
              "            await google.colab.kernel.invokeFunction('convertToInteractive',\n",
              "                                                     [key], {});\n",
              "          if (!dataTable) return;\n",
              "\n",
              "          const docLinkHtml = 'Like what you see? Visit the ' +\n",
              "            '<a target=\"_blank\" href=https://colab.research.google.com/notebooks/data_table.ipynb>data table notebook</a>'\n",
              "            + ' to learn more about interactive tables.';\n",
              "          element.innerHTML = '';\n",
              "          dataTable['output_type'] = 'display_data';\n",
              "          await google.colab.output.renderOutput(dataTable, element);\n",
              "          const docLink = document.createElement('div');\n",
              "          docLink.innerHTML = docLinkHtml;\n",
              "          element.appendChild(docLink);\n",
              "        }\n",
              "      </script>\n",
              "    </div>\n",
              "  </div>\n",
              "  "
            ]
          },
          "metadata": {},
          "execution_count": 29
        }
      ]
    }
  ]
}