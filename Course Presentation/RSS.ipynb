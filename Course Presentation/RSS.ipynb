{
  "nbformat": 4,
  "nbformat_minor": 0,
  "metadata": {
    "colab": {
      "provenance": [],
      "authorship_tag": "ABX9TyODUB0qgRlniwnYoKL0zKKX",
      "include_colab_link": true
    },
    "kernelspec": {
      "name": "python3",
      "display_name": "Python 3"
    },
    "language_info": {
      "name": "python"
    }
  },
  "cells": [
    {
      "cell_type": "markdown",
      "metadata": {
        "id": "view-in-github",
        "colab_type": "text"
      },
      "source": [
        "<a href=\"https://colab.research.google.com/github/farhanwadia/MIE1624/blob/master/Course%20Presentation/RSS.ipynb\" target=\"_parent\"><img src=\"https://colab.research.google.com/assets/colab-badge.svg\" alt=\"Open In Colab\"/></a>"
      ]
    },
    {
      "cell_type": "code",
      "execution_count": null,
      "metadata": {
        "colab": {
          "base_uri": "https://localhost:8080/"
        },
        "id": "vPbf5VVhlJI1",
        "outputId": "da6f1ae0-9d06-4982-87df-0db24404d06a"
      },
      "outputs": [
        {
          "output_type": "stream",
          "name": "stdout",
          "text": [
            "Cloning into 'MIE1624'...\n",
            "remote: Enumerating objects: 10, done.\u001b[K\n",
            "remote: Counting objects: 100% (10/10), done.\u001b[K\n",
            "remote: Compressing objects: 100% (8/8), done.\u001b[K\n",
            "remote: Total 10 (delta 0), reused 4 (delta 0), pack-reused 0\u001b[K\n",
            "Unpacking objects: 100% (10/10), 58.88 KiB | 494.00 KiB/s, done.\n"
          ]
        }
      ],
      "source": [
        "#!git clone https://github.com/farhanwadia/MIE1624.git"
      ]
    },
    {
      "cell_type": "code",
      "source": [
        "#%cd MIE1624\n",
        "#%cd 'Course Presentation'"
      ],
      "metadata": {
        "colab": {
          "base_uri": "https://localhost:8080/"
        },
        "id": "8fU-LFYgqYmj",
        "outputId": "2a69a6c1-1970-4502-bd77-d5c9d6483600"
      },
      "execution_count": null,
      "outputs": [
        {
          "output_type": "stream",
          "name": "stdout",
          "text": [
            "/content/MIE1624\n",
            "/content/MIE1624/Course Presentation\n"
          ]
        }
      ]
    },
    {
      "cell_type": "code",
      "source": [
        "#!ls"
      ],
      "metadata": {
        "colab": {
          "base_uri": "https://localhost:8080/"
        },
        "id": "QCVxisDlnBNU",
        "outputId": "452d37cf-4662-4afd-a9a3-3b56119ee3ac"
      },
      "execution_count": null,
      "outputs": [
        {
          "output_type": "stream",
          "name": "stdout",
          "text": [
            "'In-class presentation assignment - Group 14.pdf'   presentation.ipynb\n"
          ]
        }
      ]
    },
    {
      "cell_type": "code",
      "source": [
        "!pip install feedparser"
      ],
      "metadata": {
        "colab": {
          "base_uri": "https://localhost:8080/"
        },
        "id": "PkXjAYSzocN8",
        "outputId": "89fdc4d0-a9dd-4f85-efab-70f015604cc2"
      },
      "execution_count": 1,
      "outputs": [
        {
          "output_type": "stream",
          "name": "stdout",
          "text": [
            "Looking in indexes: https://pypi.org/simple, https://us-python.pkg.dev/colab-wheels/public/simple/\n",
            "Collecting feedparser\n",
            "  Downloading feedparser-6.0.10-py3-none-any.whl (81 kB)\n",
            "\u001b[2K     \u001b[90m━━━━━━━━━━━━━━━━━━━━━━━━━━━━━━━━━━━━━━━━\u001b[0m \u001b[32m81.1/81.1 KB\u001b[0m \u001b[31m1.6 MB/s\u001b[0m eta \u001b[36m0:00:00\u001b[0m\n",
            "\u001b[?25hCollecting sgmllib3k\n",
            "  Downloading sgmllib3k-1.0.0.tar.gz (5.8 kB)\n",
            "  Preparing metadata (setup.py) ... \u001b[?25l\u001b[?25hdone\n",
            "Building wheels for collected packages: sgmllib3k\n",
            "  Building wheel for sgmllib3k (setup.py) ... \u001b[?25l\u001b[?25hdone\n",
            "  Created wheel for sgmllib3k: filename=sgmllib3k-1.0.0-py3-none-any.whl size=6066 sha256=49be95cbc14def59ff45524f51ba9bc1c5b5ea2a1b43756be39d60ffb4b8da53\n",
            "  Stored in directory: /root/.cache/pip/wheels/83/63/2f/117884c3b19d46b64d3d61690333aa80c88dc14050e269c546\n",
            "Successfully built sgmllib3k\n",
            "Installing collected packages: sgmllib3k, feedparser\n",
            "Successfully installed feedparser-6.0.10 sgmllib3k-1.0.0\n"
          ]
        }
      ]
    },
    {
      "cell_type": "markdown",
      "source": [
        "A list of all RSS feeds from the New York Times can be accessed at https://www.nytimes.com/rss.\n",
        "\n",
        "Let's use the World feed from https://rss.nytimes.com/services/xml/rss/nyt/World.xml as an example:"
      ],
      "metadata": {
        "id": "JpFeGBqBn0eq"
      }
    },
    {
      "cell_type": "code",
      "source": [
        "import feedparser\n",
        "\n",
        "d = feedparser.parse('https://rss.nytimes.com/services/xml/rss/nyt/World.xml')"
      ],
      "metadata": {
        "id": "ghRi7Db3obkC"
      },
      "execution_count": 3,
      "outputs": []
    },
    {
      "cell_type": "code",
      "source": [
        "# Get a list of all possible fields from the RSS\n",
        "all_fields = []\n",
        "for field in d.entries[0]:\n",
        "    all_fields.append(field)\n",
        "\n",
        "print(all_fields)"
      ],
      "metadata": {
        "id": "u8cuEPVdABx9",
        "outputId": "803bb37d-26de-4d13-b9c4-908681b2fbb1",
        "colab": {
          "base_uri": "https://localhost:8080/"
        }
      },
      "execution_count": 13,
      "outputs": [
        {
          "output_type": "stream",
          "name": "stdout",
          "text": [
            "['title', 'title_detail', 'links', 'link', 'id', 'guidislink', 'summary', 'summary_detail', 'authors', 'author', 'author_detail', 'published', 'published_parsed', 'tags', 'media_content', 'media_credit', 'credit', 'content']\n"
          ]
        }
      ]
    },
    {
      "cell_type": "code",
      "source": [
        "# Define the fields of interest that we want to obtain from the RSS\n",
        "fields = ['title', 'published', 'summary', 'author', 'link']"
      ],
      "metadata": {
        "id": "M4EwL-JFBahF"
      },
      "execution_count": 14,
      "outputs": []
    },
    {
      "cell_type": "code",
      "source": [
        "import pandas as pd\n",
        "\n",
        "# Create a list of lists to hold the required RSS data from each entry\n",
        "data = []\n",
        "for i, entry in enumerate(d.entries):\n",
        "    row = []\n",
        "    for field in fields:\n",
        "        row.append(d.entries[i][field])\n",
        "    data.append(row)\n",
        "\n",
        "# Convert the list of lists to a df\n",
        "df = pd.DataFrame(data, columns = fields)"
      ],
      "metadata": {
        "id": "TEM6wHwXCKeO"
      },
      "execution_count": 18,
      "outputs": []
    },
    {
      "cell_type": "code",
      "source": [
        "df.head()"
      ],
      "metadata": {
        "id": "D8yamIhIC2M2",
        "outputId": "97396946-e1c4-4350-e9a4-874699f996fb",
        "colab": {
          "base_uri": "https://localhost:8080/",
          "height": 250
        }
      },
      "execution_count": 19,
      "outputs": [
        {
          "output_type": "execute_result",
          "data": {
            "text/plain": [
              "                                               title  \\\n",
              "0  How Russia Lost an Epic Tank Battle, Repeating...   \n",
              "1      Kyiv Sends Reinforcements to Besieged Bakhmut   \n",
              "2  Bola Tinubu Elected to Be Nigeria’s Next Presi...   \n",
              "3  Video: How an Israeli Raid on a Safe House End...   \n",
              "4  Bola Tinubu’s Victory Extends His Party’s Time...   \n",
              "\n",
              "                         published  \\\n",
              "0  Wed, 01 Mar 2023 18:52:21 +0000   \n",
              "1  Thu, 02 Mar 2023 00:38:27 +0000   \n",
              "2  Wed, 01 Mar 2023 20:54:06 +0000   \n",
              "3  Wed, 01 Mar 2023 15:41:10 +0000   \n",
              "4  Wed, 01 Mar 2023 22:02:46 +0000   \n",
              "\n",
              "                                             summary  \\\n",
              "0  A three-week fight in the town of Vuhledar in ...   \n",
              "1  The battle for the eastern city has become a c...   \n",
              "2  Bola Tinubu, declared the winner on Wednesday ...   \n",
              "3  A New York Times analysis of videos shows how ...   \n",
              "4  Mr. Tinubu asked the opposition to work with h...   \n",
              "\n",
              "                                              author  \\\n",
              "0                                   Andrew E. Kramer   \n",
              "1                                 The New York Times   \n",
              "2                     Ruth Maclean and Elian Peltier   \n",
              "3  Haley Willis, Christiaan Triebert, Hiba Yazbek...   \n",
              "4                                 The New York Times   \n",
              "\n",
              "                                                link  \n",
              "0  https://www.nytimes.com/2023/03/01/world/europ...  \n",
              "1  https://www.nytimes.com/live/2023/03/01/world/...  \n",
              "2  https://www.nytimes.com/2023/03/01/world/afric...  \n",
              "3  https://www.nytimes.com/2023/03/01/world/middl...  \n",
              "4  https://www.nytimes.com/live/2023/02/28/world/...  "
            ],
            "text/html": [
              "\n",
              "  <div id=\"df-f6016e21-5593-4bde-abcc-4595a2485ea2\">\n",
              "    <div class=\"colab-df-container\">\n",
              "      <div>\n",
              "<style scoped>\n",
              "    .dataframe tbody tr th:only-of-type {\n",
              "        vertical-align: middle;\n",
              "    }\n",
              "\n",
              "    .dataframe tbody tr th {\n",
              "        vertical-align: top;\n",
              "    }\n",
              "\n",
              "    .dataframe thead th {\n",
              "        text-align: right;\n",
              "    }\n",
              "</style>\n",
              "<table border=\"1\" class=\"dataframe\">\n",
              "  <thead>\n",
              "    <tr style=\"text-align: right;\">\n",
              "      <th></th>\n",
              "      <th>title</th>\n",
              "      <th>published</th>\n",
              "      <th>summary</th>\n",
              "      <th>author</th>\n",
              "      <th>link</th>\n",
              "    </tr>\n",
              "  </thead>\n",
              "  <tbody>\n",
              "    <tr>\n",
              "      <th>0</th>\n",
              "      <td>How Russia Lost an Epic Tank Battle, Repeating...</td>\n",
              "      <td>Wed, 01 Mar 2023 18:52:21 +0000</td>\n",
              "      <td>A three-week fight in the town of Vuhledar in ...</td>\n",
              "      <td>Andrew E. Kramer</td>\n",
              "      <td>https://www.nytimes.com/2023/03/01/world/europ...</td>\n",
              "    </tr>\n",
              "    <tr>\n",
              "      <th>1</th>\n",
              "      <td>Kyiv Sends Reinforcements to Besieged Bakhmut</td>\n",
              "      <td>Thu, 02 Mar 2023 00:38:27 +0000</td>\n",
              "      <td>The battle for the eastern city has become a c...</td>\n",
              "      <td>The New York Times</td>\n",
              "      <td>https://www.nytimes.com/live/2023/03/01/world/...</td>\n",
              "    </tr>\n",
              "    <tr>\n",
              "      <th>2</th>\n",
              "      <td>Bola Tinubu Elected to Be Nigeria’s Next Presi...</td>\n",
              "      <td>Wed, 01 Mar 2023 20:54:06 +0000</td>\n",
              "      <td>Bola Tinubu, declared the winner on Wednesday ...</td>\n",
              "      <td>Ruth Maclean and Elian Peltier</td>\n",
              "      <td>https://www.nytimes.com/2023/03/01/world/afric...</td>\n",
              "    </tr>\n",
              "    <tr>\n",
              "      <th>3</th>\n",
              "      <td>Video: How an Israeli Raid on a Safe House End...</td>\n",
              "      <td>Wed, 01 Mar 2023 15:41:10 +0000</td>\n",
              "      <td>A New York Times analysis of videos shows how ...</td>\n",
              "      <td>Haley Willis, Christiaan Triebert, Hiba Yazbek...</td>\n",
              "      <td>https://www.nytimes.com/2023/03/01/world/middl...</td>\n",
              "    </tr>\n",
              "    <tr>\n",
              "      <th>4</th>\n",
              "      <td>Bola Tinubu’s Victory Extends His Party’s Time...</td>\n",
              "      <td>Wed, 01 Mar 2023 22:02:46 +0000</td>\n",
              "      <td>Mr. Tinubu asked the opposition to work with h...</td>\n",
              "      <td>The New York Times</td>\n",
              "      <td>https://www.nytimes.com/live/2023/02/28/world/...</td>\n",
              "    </tr>\n",
              "  </tbody>\n",
              "</table>\n",
              "</div>\n",
              "      <button class=\"colab-df-convert\" onclick=\"convertToInteractive('df-f6016e21-5593-4bde-abcc-4595a2485ea2')\"\n",
              "              title=\"Convert this dataframe to an interactive table.\"\n",
              "              style=\"display:none;\">\n",
              "        \n",
              "  <svg xmlns=\"http://www.w3.org/2000/svg\" height=\"24px\"viewBox=\"0 0 24 24\"\n",
              "       width=\"24px\">\n",
              "    <path d=\"M0 0h24v24H0V0z\" fill=\"none\"/>\n",
              "    <path d=\"M18.56 5.44l.94 2.06.94-2.06 2.06-.94-2.06-.94-.94-2.06-.94 2.06-2.06.94zm-11 1L8.5 8.5l.94-2.06 2.06-.94-2.06-.94L8.5 2.5l-.94 2.06-2.06.94zm10 10l.94 2.06.94-2.06 2.06-.94-2.06-.94-.94-2.06-.94 2.06-2.06.94z\"/><path d=\"M17.41 7.96l-1.37-1.37c-.4-.4-.92-.59-1.43-.59-.52 0-1.04.2-1.43.59L10.3 9.45l-7.72 7.72c-.78.78-.78 2.05 0 2.83L4 21.41c.39.39.9.59 1.41.59.51 0 1.02-.2 1.41-.59l7.78-7.78 2.81-2.81c.8-.78.8-2.07 0-2.86zM5.41 20L4 18.59l7.72-7.72 1.47 1.35L5.41 20z\"/>\n",
              "  </svg>\n",
              "      </button>\n",
              "      \n",
              "  <style>\n",
              "    .colab-df-container {\n",
              "      display:flex;\n",
              "      flex-wrap:wrap;\n",
              "      gap: 12px;\n",
              "    }\n",
              "\n",
              "    .colab-df-convert {\n",
              "      background-color: #E8F0FE;\n",
              "      border: none;\n",
              "      border-radius: 50%;\n",
              "      cursor: pointer;\n",
              "      display: none;\n",
              "      fill: #1967D2;\n",
              "      height: 32px;\n",
              "      padding: 0 0 0 0;\n",
              "      width: 32px;\n",
              "    }\n",
              "\n",
              "    .colab-df-convert:hover {\n",
              "      background-color: #E2EBFA;\n",
              "      box-shadow: 0px 1px 2px rgba(60, 64, 67, 0.3), 0px 1px 3px 1px rgba(60, 64, 67, 0.15);\n",
              "      fill: #174EA6;\n",
              "    }\n",
              "\n",
              "    [theme=dark] .colab-df-convert {\n",
              "      background-color: #3B4455;\n",
              "      fill: #D2E3FC;\n",
              "    }\n",
              "\n",
              "    [theme=dark] .colab-df-convert:hover {\n",
              "      background-color: #434B5C;\n",
              "      box-shadow: 0px 1px 3px 1px rgba(0, 0, 0, 0.15);\n",
              "      filter: drop-shadow(0px 1px 2px rgba(0, 0, 0, 0.3));\n",
              "      fill: #FFFFFF;\n",
              "    }\n",
              "  </style>\n",
              "\n",
              "      <script>\n",
              "        const buttonEl =\n",
              "          document.querySelector('#df-f6016e21-5593-4bde-abcc-4595a2485ea2 button.colab-df-convert');\n",
              "        buttonEl.style.display =\n",
              "          google.colab.kernel.accessAllowed ? 'block' : 'none';\n",
              "\n",
              "        async function convertToInteractive(key) {\n",
              "          const element = document.querySelector('#df-f6016e21-5593-4bde-abcc-4595a2485ea2');\n",
              "          const dataTable =\n",
              "            await google.colab.kernel.invokeFunction('convertToInteractive',\n",
              "                                                     [key], {});\n",
              "          if (!dataTable) return;\n",
              "\n",
              "          const docLinkHtml = 'Like what you see? Visit the ' +\n",
              "            '<a target=\"_blank\" href=https://colab.research.google.com/notebooks/data_table.ipynb>data table notebook</a>'\n",
              "            + ' to learn more about interactive tables.';\n",
              "          element.innerHTML = '';\n",
              "          dataTable['output_type'] = 'display_data';\n",
              "          await google.colab.output.renderOutput(dataTable, element);\n",
              "          const docLink = document.createElement('div');\n",
              "          docLink.innerHTML = docLinkHtml;\n",
              "          element.appendChild(docLink);\n",
              "        }\n",
              "      </script>\n",
              "    </div>\n",
              "  </div>\n",
              "  "
            ]
          },
          "metadata": {},
          "execution_count": 19
        }
      ]
    },
    {
      "cell_type": "code",
      "source": [
        "print(\"The shape of the dataframe is\", df.shape)"
      ],
      "metadata": {
        "id": "TarmjPabDaSO",
        "outputId": "fb2ce81c-4af6-4ce0-c233-8c86f113ffe2",
        "colab": {
          "base_uri": "https://localhost:8080/"
        }
      },
      "execution_count": 21,
      "outputs": [
        {
          "output_type": "stream",
          "name": "stdout",
          "text": [
            "The shape of the dataframe is (59, 5)\n"
          ]
        }
      ]
    },
    {
      "cell_type": "code",
      "source": [
        "#To-do: obtain an API key from NYT to scrape the articles to get their fulltext"
      ],
      "metadata": {
        "id": "HEMOC-fAKx7o"
      },
      "execution_count": null,
      "outputs": []
    },
    {
      "cell_type": "code",
      "source": [
        "import requests\n",
        "from bs4 import BeautifulSoup\n",
        "\n",
        "links = df[\"link\"]\n",
        "\n",
        "URL = links[0]\n",
        "page = requests.get(URL)\n",
        "\n",
        "soup = BeautifulSoup(page.content, \"html.parser\")"
      ],
      "metadata": {
        "id": "nnsN-TG1EYin"
      },
      "execution_count": 28,
      "outputs": []
    },
    {
      "cell_type": "code",
      "source": [
        "import requests\n",
        "from bs4 import BeautifulSoup\n",
        "\n",
        "# https://proxiesapi-com.medium.com/scraping-the-new-york-times-with-python-and-beautiful-soup-6e5f3bc58e39\n",
        "headers = {'User-Agent':'Mozilla/5.0 (Macintosh; Intel Mac OS X 10_11_2) AppleWebKit/601.3.9 (KHTML, like Gecko) Version/9.0.2 Safari/601.3.9'}\n",
        "URL = links[0]\n",
        "response = requests.get(URL, headers=headers)\n",
        "\n",
        "soup = BeautifulSoup(response.content, \"html.parser\")\n",
        "soup\n",
        "\n"
      ],
      "metadata": {
        "id": "qVPjQwJQGYVX",
        "outputId": "d7177ff3-e906-40b0-f8e0-e3cfc05ceac2",
        "colab": {
          "base_uri": "https://localhost:8080/"
        }
      },
      "execution_count": 39,
      "outputs": [
        {
          "output_type": "execute_result",
          "data": {
            "text/plain": [
              "<html><head><title>nytimes.com</title><style>#cmsg{animation: A 1.5s;}@keyframes A{0%{opacity:0;}99%{opacity:0;}100%{opacity:1;}}</style></head><body style=\"margin:0\"><p id=\"cmsg\">Please enable JS and disable any ad blocker</p><script data-cfasync=\"false\">var dd={'rt':'c','cid':'AHrlqAAAAAMAZdEJnxtF_xgAI-c9lQ==','hsh':'499AE34129FA4E4FABC31582C3075D','t':'fe','s':17439,'e':'927e161e30ea23df8fa7f15729bbedc12a8579129d539068f2931da388893edc','host':'geo.captcha-delivery.com'}</script><script data-cfasync=\"false\" src=\"https://ct.captcha-delivery.com/c.js\"></script></body></html>"
            ]
          },
          "metadata": {},
          "execution_count": 39
        }
      ]
    },
    {
      "cell_type": "code",
      "source": [
        "page.content"
      ],
      "metadata": {
        "id": "7_GnuDy6Enl8",
        "outputId": "77c31230-d347-4d2d-c680-e39382aed497",
        "colab": {
          "base_uri": "https://localhost:8080/"
        }
      },
      "execution_count": 32,
      "outputs": [
        {
          "output_type": "execute_result",
          "data": {
            "text/plain": [
              "b'<html><head><title>nytimes.com</title><style>#cmsg{animation: A 1.5s;}@keyframes A{0%{opacity:0;}99%{opacity:0;}100%{opacity:1;}}</style></head><body style=\"margin:0\"><p id=\"cmsg\">Please enable JS and disable any ad blocker</p><script data-cfasync=\"false\">var dd={\\'rt\\':\\'c\\',\\'cid\\':\\'AHrlqAAAAAMA7SNpIkbvJC0AI-c9lQ==\\',\\'hsh\\':\\'499AE34129FA4E4FABC31582C3075D\\',\\'t\\':\\'bv\\',\\'s\\':17439,\\'e\\':\\'64c618d6d97419dcd0abd239528cc7b3e345df010ad407e60c110deda4319565\\',\\'host\\':\\'geo.captcha-delivery.com\\'}</script><script data-cfasync=\"false\" src=\"https://ct.captcha-delivery.com/c.js\"></script></body></html>\\n'"
            ]
          },
          "metadata": {},
          "execution_count": 32
        }
      ]
    },
    {
      "cell_type": "code",
      "source": [
        "# Obtain fulltext for each article\n",
        "\n",
        "for link in links:\n",
        "    print(link)"
      ],
      "metadata": {
        "id": "k8b1-msTDrUM",
        "outputId": "45fc0d93-75ee-4239-c193-b2efa1f9d904",
        "colab": {
          "base_uri": "https://localhost:8080/"
        }
      },
      "execution_count": 24,
      "outputs": [
        {
          "output_type": "stream",
          "name": "stdout",
          "text": [
            "https://www.nytimes.com/2023/03/01/world/europe/ukraine-russia-tanks.html\n",
            "https://www.nytimes.com/live/2023/03/01/world/russia-ukraine-news\n",
            "https://www.nytimes.com/2023/03/01/world/africa/nigeria-president-election-tinubu.html\n",
            "https://www.nytimes.com/2023/03/01/world/middleeast/israel-palestinian-safe-house-raid.html\n",
            "https://www.nytimes.com/live/2023/02/28/world/nigeria-election-news\n",
            "https://www.nytimes.com/article/nigeria-election.html\n",
            "https://www.nytimes.com/2023/03/01/world/europe/greece-train-crash.html\n",
            "https://www.nytimes.com/2023/03/01/world/africa/eritrea-ethiopia-tigray-war.html\n",
            "https://www.nytimes.com/2023/03/01/world/europe/finland-nato-sweden.html\n",
            "https://www.nytimes.com/2023/03/01/world/middleeast/israel-protests-police.html\n",
            "https://www.nytimes.com/2023/03/01/world/middleeast/turkey-earthquake-elections.html\n",
            "https://www.nytimes.com/2023/03/01/world/africa/david-mabuza-resignation-south-africa.html\n",
            "https://www.nytimes.com/article/northern-ireland-protocol-brexit.html\n",
            "https://www.nytimes.com/2023/03/01/business/uk-fruits-vegetables-shortage.html\n",
            "https://www.nytimes.com/2023/03/01/us/politics/ukraine-russia-war-support-biden.html\n",
            "https://www.nytimes.com/2023/03/01/world/europe/ukraine-russia-bakhmut-reinforcements.html\n",
            "https://www.nytimes.com/2023/03/01/world/middleeast/iran-schoolgirls-poison.html\n",
            "https://www.nytimes.com/2023/03/01/world/europe/blinken-g20-central-asia-trip.html\n",
            "https://www.nytimes.com/2023/03/01/world/europe/uk-northern-ireland.html\n",
            "https://www.nytimes.com/2023/03/01/world/europe/maurizio-costanzo-dead.html\n",
            "https://www.nytimes.com/2023/03/01/briefing/nigeria-tinubu-ukraine-greece-trainwreck.html\n",
            "https://www.nytimes.com/2023/02/28/world/africa/peter-obi-nigeria-election.html\n",
            "https://www.nytimes.com/2023/03/01/us/politics/havana-syndrome-intelligence-report.html\n",
            "https://www.nytimes.com/2023/03/01/world/europe/brexit-immigration-eu.html\n",
            "https://www.nytimes.com/2023/03/01/world/europe/ukraine-bakhmut.html\n",
            "https://www.nytimes.com/2023/03/01/world/europe/denmark-great-prayer-day-military-nato.html\n",
            "https://www.nytimes.com/2023/03/01/business/china-factories-economy.html\n",
            "https://www.nytimes.com/2023/03/01/briefing/chicago-mayor-election.html\n",
            "https://www.nytimes.com/2023/03/01/world/europe/15-minute-city-conspiracy.html\n",
            "https://www.nytimes.com/2023/03/01/world/europe/turkey-quake-cruise-ship.html\n",
            "https://www.nytimes.com/2023/03/01/world/europe/us-fears-lukashenkos-visit-to-china-is-strengthening-ties-between-russias-closest-allies.html\n",
            "https://www.nytimes.com/2023/03/01/briefing/spending-ukraine-nigeria-election-israel.html\n",
            "https://www.nytimes.com/2023/02/28/world/africa/nigeria-election-bola-tinubu.html\n",
            "https://www.nytimes.com/2023/02/28/world/canada/canada-elections-foreign-interference.html\n",
            "https://www.nytimes.com/2023/02/28/world/europe/train-crash-greece.html\n",
            "https://www.nytimes.com/2023/02/28/world/asia/blinken-russia.html\n",
            "https://www.nytimes.com/2023/02/28/world/europe/russia-ukraine-drone-strikes.html\n",
            "https://www.nytimes.com/2023/02/28/world/middleeast/israel-netanyahu-government.html\n",
            "https://www.nytimes.com/2023/02/28/climate/esg-climate-backlash.html\n",
            "https://www.nytimes.com/2023/02/28/business/economy/biden-chips-semiconductor-subsidies-aid.html\n",
            "https://www.nytimes.com/2023/02/28/briefing/russia-china-covid-nigeria-election.html\n",
            "https://www.nytimes.com/2023/02/28/world/europe/uk-king-charles-northern-ireland.html\n",
            "https://www.nytimes.com/2023/02/28/world/europe/russian-plane-belarus-damage.html\n",
            "https://www.nytimes.com/2023/02/28/world/asia/china-russia-belarus.html\n",
            "https://www.nytimes.com/2023/02/28/world/africa/nigeria-election-challenges.html\n",
            "https://www.nytimes.com/2023/02/28/world/europe/ukraine-bakhmut-zelensky.html\n",
            "https://www.nytimes.com/2023/02/28/briefing/supreme-court-student-debt.html\n",
            "https://www.nytimes.com/2023/02/28/world/europe/uk-eu-sunak-brexit.html\n",
            "https://www.nytimes.com/2023/02/28/world/europe/ukraine-tanks.html\n",
            "https://www.nytimes.com/2023/02/28/world/asia/china-covid-lab-leak.html\n",
            "https://www.nytimes.com/2023/02/28/travel/cs-lewis-oxford-narnia.html\n",
            "https://www.nytimes.com/2023/02/28/world/australia/wendys-expansion-name.html\n",
            "https://www.nytimes.com/2023/02/28/briefing/trade-deal-brexit-ukraine-west-bank.html\n",
            "https://www.nytimes.com/2023/02/27/world/asia/hong-kong-mask-mandate.html\n",
            "https://www.nytimes.com/2023/02/27/us/politics/covid-origin-lab-leak-china.html\n",
            "https://www.nytimes.com/2023/02/27/world/middleeast/ahmed-qurei-dead.html\n",
            "https://www.nytimes.com/2023/02/27/world/europe/uk-eu-northern-ireland.html\n",
            "https://www.nytimes.com/2023/02/27/briefing/kyiv-treasury-secretary-yellen-britain-eu-trade.html\n",
            "https://www.nytimes.com/2023/02/27/world/europe/ukraine-yellen-blinken-russia.html\n"
          ]
        }
      ]
    },
    {
      "cell_type": "markdown",
      "source": [
        "**Extract most commonly used elements in RSS feeds such as “title”,\n",
        "“link”, “description”, “publication date”, “entry ID”, etc. Follow “links” in the RSS feed and\n",
        "extract text of news articles using web scraping in Python or other Python methods. You can use\n",
        "BeautifulSoup library in Python for pulling data out of HTML and XML files. In your IPython\n",
        "example, use a news web-site of your choice and create a Pandas dataframe from your RSS parsing\n",
        "results representing fields of metadata from that article, e.g., title, date, link, author, etc., as well\n",
        "as text of the news article. Print a table with your results and export those as a csv file with each\n",
        "row as an article and columns as article’s metadata (including full text of each article).**"
      ],
      "metadata": {
        "id": "tXZRnjqiphIM"
      }
    }
  ]
}